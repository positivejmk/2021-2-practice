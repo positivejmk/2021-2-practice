{
  "nbformat": 4,
  "nbformat_minor": 0,
  "metadata": {
    "colab": {
      "name": "Kmeans Clustering_3.ipynb",
      "provenance": [],
      "toc_visible": true,
      "collapsed_sections": [],
      "mount_file_id": "1MBPnann1pIHmViVvowzJ7a1iyxSaJ8uv",
      "authorship_tag": "ABX9TyOp8VfjolXP5ImkKo/WE7AX",
      "include_colab_link": true
    },
    "kernelspec": {
      "name": "python3",
      "display_name": "Python 3"
    },
    "language_info": {
      "name": "python"
    }
  },
  "cells": [
    {
      "cell_type": "markdown",
      "metadata": {
        "id": "view-in-github",
        "colab_type": "text"
      },
      "source": [
        "<a href=\"https://colab.research.google.com/github/positivejmk/2021-2-practice/blob/master/Kmeans_Clustering.ipynb\" target=\"_parent\"><img src=\"https://colab.research.google.com/assets/colab-badge.svg\" alt=\"Open In Colab\"/></a>"
      ]
    },
    {
      "cell_type": "code",
      "execution_count": 58,
      "metadata": {
        "id": "CPSCjjuW201O"
      },
      "outputs": [],
      "source": [
        "%matplotlib inline\n",
        "import matplotlib.pyplot as plt\n",
        "import pandas as pd\n",
        "import numpy as np"
      ]
    },
    {
      "cell_type": "markdown",
      "source": [
        "#1. Load Data"
      ],
      "metadata": {
        "id": "Zl7YPaa33CQJ"
      }
    },
    {
      "cell_type": "code",
      "source": [
        "from google.colab import drive\n",
        "drive.mount('/content/drive')"
      ],
      "metadata": {
        "colab": {
          "base_uri": "https://localhost:8080/"
        },
        "id": "JabSLV296xWH",
        "outputId": "2fd2df9c-f656-4f60-8650-86cd4ccbb0f5"
      },
      "execution_count": 59,
      "outputs": [
        {
          "output_type": "stream",
          "name": "stdout",
          "text": [
            "Drive already mounted at /content/drive; to attempt to forcibly remount, call drive.mount(\"/content/drive\", force_remount=True).\n"
          ]
        }
      ]
    },
    {
      "cell_type": "code",
      "source": [
        "df = pd.read_csv(\"/content/drive/MyDrive/BA team proj/공모전/nh_merge_final.csv\")"
      ],
      "metadata": {
        "colab": {
          "base_uri": "https://localhost:8080/"
        },
        "id": "a0QgxHfK6469",
        "outputId": "0cdb6a3b-6d01-4d91-a549-12b134795581"
      },
      "execution_count": 60,
      "outputs": [
        {
          "output_type": "stream",
          "name": "stderr",
          "text": [
            "/usr/local/lib/python3.7/dist-packages/IPython/core/interactiveshell.py:2718: DtypeWarning: Columns (39,40) have mixed types.Specify dtype option on import or set low_memory=False.\n",
            "  interactivity=interactivity, compiler=compiler, result=result)\n"
          ]
        }
      ]
    },
    {
      "cell_type": "code",
      "source": [
        "df.shape"
      ],
      "metadata": {
        "colab": {
          "base_uri": "https://localhost:8080/"
        },
        "id": "ZPP2X65X69TA",
        "outputId": "ab57dedd-dfb7-40b9-f90b-d026328bd1ba"
      },
      "execution_count": 61,
      "outputs": [
        {
          "output_type": "execute_result",
          "data": {
            "text/plain": [
              "(681472, 49)"
            ]
          },
          "metadata": {},
          "execution_count": 61
        }
      ]
    },
    {
      "cell_type": "code",
      "source": [
        "df.head()"
      ],
      "metadata": {
        "colab": {
          "base_uri": "https://localhost:8080/",
          "height": 451
        },
        "id": "RNldqQTu7Cj8",
        "outputId": "3efafa2f-a3ec-4001-b76a-0b847b6aefb5"
      },
      "execution_count": 62,
      "outputs": [
        {
          "output_type": "execute_result",
          "data": {
            "text/html": [
              "<div>\n",
              "<style scoped>\n",
              "    .dataframe tbody tr th:only-of-type {\n",
              "        vertical-align: middle;\n",
              "    }\n",
              "\n",
              "    .dataframe tbody tr th {\n",
              "        vertical-align: top;\n",
              "    }\n",
              "\n",
              "    .dataframe thead th {\n",
              "        text-align: right;\n",
              "    }\n",
              "</style>\n",
              "<table border=\"1\" class=\"dataframe\">\n",
              "  <thead>\n",
              "    <tr style=\"text-align: right;\">\n",
              "      <th></th>\n",
              "      <th>Unnamed: 0</th>\n",
              "      <th>Unnamed: 0.1</th>\n",
              "      <th>act_id</th>\n",
              "      <th>iem_cd</th>\n",
              "      <th>byn_dt</th>\n",
              "      <th>hold_d</th>\n",
              "      <th>sex_dit_cd</th>\n",
              "      <th>cus_age_stn_cd</th>\n",
              "      <th>ivs_icn_cd</th>\n",
              "      <th>cus_aet_stn_cd</th>\n",
              "      <th>mrz_pdt_tp_sgm_cd</th>\n",
              "      <th>lsg_sgm_cd</th>\n",
              "      <th>tco_cus_grd_cd</th>\n",
              "      <th>tot_ivs_te_sgm_cd</th>\n",
              "      <th>mrz_btp_dit_cd</th>\n",
              "      <th>iem_krl_nm</th>\n",
              "      <th>btp_cfc_cd</th>\n",
              "      <th>mkt_pr_tal_scl_tp_cd</th>\n",
              "      <th>stk_dit_cd</th>\n",
              "      <th>bse_dt</th>\n",
              "      <th>bnc_qty</th>\n",
              "      <th>tot_aet_amt</th>\n",
              "      <th>stk_par_pr</th>\n",
              "      <th>stk_p</th>\n",
              "      <th>weekday</th>\n",
              "      <th>weekday_vc</th>\n",
              "      <th>holdday_category_mean</th>\n",
              "      <th>holdday_category_sum</th>\n",
              "      <th>min</th>\n",
              "      <th>max</th>\n",
              "      <th>duration</th>\n",
              "      <th>TotalSales</th>\n",
              "      <th>OrderCount</th>\n",
              "      <th>AvgOrderValue</th>\n",
              "      <th>sales_intervaldays</th>\n",
              "      <th>price_perstock_mean</th>\n",
              "      <th>금가격</th>\n",
              "      <th>원달러환율</th>\n",
              "      <th>KOSPI지수 (1980.01.04=100)</th>\n",
              "      <th>거래량(주식시장, 잠정치) (만주)</th>\n",
              "      <th>거래대금(주식시장 , 잠정치) (억원)</th>\n",
              "      <th>외국인 순매수(주식시장, 잠정치) (억원)</th>\n",
              "      <th>주식시장-거래량(만주, 시간외거래분 포함) (만주)</th>\n",
              "      <th>주식시장-거래대금(억원, 시간외거래분 포함) (억원)</th>\n",
              "      <th>시가총액(주식시장, 잠정치) (억원)</th>\n",
              "      <th>KOSDAQ지수 (1996.07.01=1000)</th>\n",
              "      <th>거래량(만주 : 코스닥시장, 잠정치) (만주)</th>\n",
              "      <th>거래대금(억원 : 코스닥시장, 잠정치) (억원)</th>\n",
              "      <th>외국인 순매수(코스닥시장, 잠정치) (억원)</th>\n",
              "    </tr>\n",
              "  </thead>\n",
              "  <tbody>\n",
              "    <tr>\n",
              "      <th>0</th>\n",
              "      <td>0</td>\n",
              "      <td>0</td>\n",
              "      <td>0ad104dbed99be0cd858aa772765ddedade554601a981b...</td>\n",
              "      <td>A006360</td>\n",
              "      <td>2018-07-26</td>\n",
              "      <td>11</td>\n",
              "      <td>1</td>\n",
              "      <td>9</td>\n",
              "      <td>3</td>\n",
              "      <td>2</td>\n",
              "      <td>2</td>\n",
              "      <td>9</td>\n",
              "      <td>5</td>\n",
              "      <td>5</td>\n",
              "      <td>8</td>\n",
              "      <td>101</td>\n",
              "      <td>1</td>\n",
              "      <td>1</td>\n",
              "      <td>1</td>\n",
              "      <td>20180726</td>\n",
              "      <td>274.0</td>\n",
              "      <td>11782000.0</td>\n",
              "      <td>5000.0</td>\n",
              "      <td>43000.0</td>\n",
              "      <td>3</td>\n",
              "      <td>140505</td>\n",
              "      <td>23.279391</td>\n",
              "      <td>267713</td>\n",
              "      <td>2016-01-04</td>\n",
              "      <td>2020-11-12</td>\n",
              "      <td>1774</td>\n",
              "      <td>36209.0</td>\n",
              "      <td>76</td>\n",
              "      <td>476.434211</td>\n",
              "      <td>23.342105</td>\n",
              "      <td>2.325581e-05</td>\n",
              "      <td>1228.59</td>\n",
              "      <td>1120.0</td>\n",
              "      <td>2289.06</td>\n",
              "      <td>29532</td>\n",
              "      <td>61114</td>\n",
              "      <td>1285</td>\n",
              "      <td>30333</td>\n",
              "      <td>63571</td>\n",
              "      <td>15309140</td>\n",
              "      <td>765.15</td>\n",
              "      <td>53644</td>\n",
              "      <td>35128</td>\n",
              "      <td>591</td>\n",
              "    </tr>\n",
              "    <tr>\n",
              "      <th>1</th>\n",
              "      <td>1</td>\n",
              "      <td>6</td>\n",
              "      <td>0ad104dbed99be0cd858aa772765ddedade554601a981b...</td>\n",
              "      <td>A005930</td>\n",
              "      <td>2018-01-31</td>\n",
              "      <td>80</td>\n",
              "      <td>1</td>\n",
              "      <td>9</td>\n",
              "      <td>3</td>\n",
              "      <td>2</td>\n",
              "      <td>2</td>\n",
              "      <td>9</td>\n",
              "      <td>5</td>\n",
              "      <td>5</td>\n",
              "      <td>8</td>\n",
              "      <td>1361</td>\n",
              "      <td>9</td>\n",
              "      <td>1</td>\n",
              "      <td>1</td>\n",
              "      <td>20180131</td>\n",
              "      <td>2.0</td>\n",
              "      <td>4990000.0</td>\n",
              "      <td>5000.0</td>\n",
              "      <td>2495000.0</td>\n",
              "      <td>2</td>\n",
              "      <td>134947</td>\n",
              "      <td>25.139455</td>\n",
              "      <td>1301721</td>\n",
              "      <td>2016-01-04</td>\n",
              "      <td>2020-11-12</td>\n",
              "      <td>1774</td>\n",
              "      <td>36209.0</td>\n",
              "      <td>76</td>\n",
              "      <td>476.434211</td>\n",
              "      <td>23.342105</td>\n",
              "      <td>4.008016e-07</td>\n",
              "      <td>1342.10</td>\n",
              "      <td>1067.0</td>\n",
              "      <td>2566.46</td>\n",
              "      <td>39690</td>\n",
              "      <td>107348</td>\n",
              "      <td>-6630</td>\n",
              "      <td>40305</td>\n",
              "      <td>108426</td>\n",
              "      <td>16685790</td>\n",
              "      <td>913.57</td>\n",
              "      <td>119526</td>\n",
              "      <td>75432</td>\n",
              "      <td>-1782</td>\n",
              "    </tr>\n",
              "    <tr>\n",
              "      <th>2</th>\n",
              "      <td>2</td>\n",
              "      <td>15</td>\n",
              "      <td>0ad104dbed99be0cd858aa772765ddedade554601a981b...</td>\n",
              "      <td>A005070</td>\n",
              "      <td>2018-05-17</td>\n",
              "      <td>5</td>\n",
              "      <td>1</td>\n",
              "      <td>9</td>\n",
              "      <td>3</td>\n",
              "      <td>2</td>\n",
              "      <td>2</td>\n",
              "      <td>9</td>\n",
              "      <td>5</td>\n",
              "      <td>5</td>\n",
              "      <td>8</td>\n",
              "      <td>2530</td>\n",
              "      <td>12</td>\n",
              "      <td>2</td>\n",
              "      <td>99</td>\n",
              "      <td>20180517</td>\n",
              "      <td>786.0</td>\n",
              "      <td>14619600.0</td>\n",
              "      <td>1000.0</td>\n",
              "      <td>18600.0</td>\n",
              "      <td>3</td>\n",
              "      <td>140505</td>\n",
              "      <td>21.796607</td>\n",
              "      <td>760658</td>\n",
              "      <td>2016-01-04</td>\n",
              "      <td>2020-11-12</td>\n",
              "      <td>1774</td>\n",
              "      <td>36209.0</td>\n",
              "      <td>76</td>\n",
              "      <td>476.434211</td>\n",
              "      <td>23.342105</td>\n",
              "      <td>5.376344e-05</td>\n",
              "      <td>1287.43</td>\n",
              "      <td>1081.5</td>\n",
              "      <td>2448.45</td>\n",
              "      <td>58898</td>\n",
              "      <td>80783</td>\n",
              "      <td>-2708</td>\n",
              "      <td>59677</td>\n",
              "      <td>81905</td>\n",
              "      <td>16345480</td>\n",
              "      <td>855.62</td>\n",
              "      <td>103744</td>\n",
              "      <td>54606</td>\n",
              "      <td>729</td>\n",
              "    </tr>\n",
              "    <tr>\n",
              "      <th>3</th>\n",
              "      <td>3</td>\n",
              "      <td>18</td>\n",
              "      <td>0ad104dbed99be0cd858aa772765ddedade554601a981b...</td>\n",
              "      <td>A003520</td>\n",
              "      <td>2020-11-12</td>\n",
              "      <td>22</td>\n",
              "      <td>1</td>\n",
              "      <td>9</td>\n",
              "      <td>3</td>\n",
              "      <td>2</td>\n",
              "      <td>2</td>\n",
              "      <td>9</td>\n",
              "      <td>5</td>\n",
              "      <td>5</td>\n",
              "      <td>8</td>\n",
              "      <td>1969</td>\n",
              "      <td>8</td>\n",
              "      <td>2</td>\n",
              "      <td>1</td>\n",
              "      <td>20201112</td>\n",
              "      <td>60.0</td>\n",
              "      <td>462000.0</td>\n",
              "      <td>500.0</td>\n",
              "      <td>7700.0</td>\n",
              "      <td>3</td>\n",
              "      <td>140505</td>\n",
              "      <td>17.620062</td>\n",
              "      <td>618147</td>\n",
              "      <td>2016-01-04</td>\n",
              "      <td>2020-11-12</td>\n",
              "      <td>1774</td>\n",
              "      <td>36209.0</td>\n",
              "      <td>76</td>\n",
              "      <td>476.434211</td>\n",
              "      <td>23.342105</td>\n",
              "      <td>1.298701e-04</td>\n",
              "      <td>1867.50</td>\n",
              "      <td>1115.5</td>\n",
              "      <td>2475.62</td>\n",
              "      <td>125045</td>\n",
              "      <td>157200</td>\n",
              "      <td>4898</td>\n",
              "      <td>127869</td>\n",
              "      <td>164200</td>\n",
              "      <td>16983290</td>\n",
              "      <td>840.08</td>\n",
              "      <td>206889</td>\n",
              "      <td>110048</td>\n",
              "      <td>63</td>\n",
              "    </tr>\n",
              "    <tr>\n",
              "      <th>4</th>\n",
              "      <td>4</td>\n",
              "      <td>20</td>\n",
              "      <td>0ad104dbed99be0cd858aa772765ddedade554601a981b...</td>\n",
              "      <td>A002310</td>\n",
              "      <td>2018-09-05</td>\n",
              "      <td>324</td>\n",
              "      <td>1</td>\n",
              "      <td>9</td>\n",
              "      <td>3</td>\n",
              "      <td>2</td>\n",
              "      <td>2</td>\n",
              "      <td>9</td>\n",
              "      <td>5</td>\n",
              "      <td>5</td>\n",
              "      <td>8</td>\n",
              "      <td>1696</td>\n",
              "      <td>10</td>\n",
              "      <td>3</td>\n",
              "      <td>99</td>\n",
              "      <td>20180905</td>\n",
              "      <td>183.0</td>\n",
              "      <td>8125200.0</td>\n",
              "      <td>5000.0</td>\n",
              "      <td>44400.0</td>\n",
              "      <td>2</td>\n",
              "      <td>134947</td>\n",
              "      <td>16.920504</td>\n",
              "      <td>2991782</td>\n",
              "      <td>2016-01-04</td>\n",
              "      <td>2020-11-12</td>\n",
              "      <td>1774</td>\n",
              "      <td>36209.0</td>\n",
              "      <td>76</td>\n",
              "      <td>476.434211</td>\n",
              "      <td>23.342105</td>\n",
              "      <td>2.252252e-05</td>\n",
              "      <td>1195.25</td>\n",
              "      <td>1123.5</td>\n",
              "      <td>2291.77</td>\n",
              "      <td>35203</td>\n",
              "      <td>52202</td>\n",
              "      <td>-980</td>\n",
              "      <td>35819</td>\n",
              "      <td>53905</td>\n",
              "      <td>15333130</td>\n",
              "      <td>820.00</td>\n",
              "      <td>66369</td>\n",
              "      <td>43497</td>\n",
              "      <td>256</td>\n",
              "    </tr>\n",
              "  </tbody>\n",
              "</table>\n",
              "</div>"
            ],
            "text/plain": [
              "   Unnamed: 0  ...  외국인 순매수(코스닥시장, 잠정치) (억원)\n",
              "0           0  ...                       591\n",
              "1           1  ...                     -1782\n",
              "2           2  ...                       729\n",
              "3           3  ...                        63\n",
              "4           4  ...                       256\n",
              "\n",
              "[5 rows x 49 columns]"
            ]
          },
          "metadata": {},
          "execution_count": 62
        }
      ]
    },
    {
      "cell_type": "markdown",
      "source": [
        "#Per act_id Data"
      ],
      "metadata": {
        "id": "qeWaFy8Q7EW9"
      }
    },
    {
      "cell_type": "code",
      "source": [
        "id_df = df.groupby('act_id').agg({\n",
        "    'sales_intervaldays': min,\n",
        "    'bnc_qty' : sum,\n",
        "    'byn_dt' : lambda x: x.nunique()\n",
        "})\n",
        "\n",
        "id_df.columns = ['Intervaldays', 'TotalSales', 'OrderCount']\n",
        "\n",
        "id_df"
      ],
      "metadata": {
        "colab": {
          "base_uri": "https://localhost:8080/",
          "height": 454
        },
        "id": "k7xaSdpa7tJI",
        "outputId": "b5d7b5c9-0e1c-487a-8d23-22362bd436a1"
      },
      "execution_count": 63,
      "outputs": [
        {
          "output_type": "execute_result",
          "data": {
            "text/html": [
              "<div>\n",
              "<style scoped>\n",
              "    .dataframe tbody tr th:only-of-type {\n",
              "        vertical-align: middle;\n",
              "    }\n",
              "\n",
              "    .dataframe tbody tr th {\n",
              "        vertical-align: top;\n",
              "    }\n",
              "\n",
              "    .dataframe thead th {\n",
              "        text-align: right;\n",
              "    }\n",
              "</style>\n",
              "<table border=\"1\" class=\"dataframe\">\n",
              "  <thead>\n",
              "    <tr style=\"text-align: right;\">\n",
              "      <th></th>\n",
              "      <th>Intervaldays</th>\n",
              "      <th>TotalSales</th>\n",
              "      <th>OrderCount</th>\n",
              "    </tr>\n",
              "    <tr>\n",
              "      <th>act_id</th>\n",
              "      <th></th>\n",
              "      <th></th>\n",
              "      <th></th>\n",
              "    </tr>\n",
              "  </thead>\n",
              "  <tbody>\n",
              "    <tr>\n",
              "      <th>0000c7a5a5a1db9c7e890da984b20d544c09cb6f51c5467ece45d5b35e99912a</th>\n",
              "      <td>34.875000</td>\n",
              "      <td>517.0</td>\n",
              "      <td>16</td>\n",
              "    </tr>\n",
              "    <tr>\n",
              "      <th>0007f3d10282e6f9de1eb445a64eb1f13e9ed2308cfbfa9b6e6efa399d0bdf31</th>\n",
              "      <td>8.964286</td>\n",
              "      <td>11925.0</td>\n",
              "      <td>28</td>\n",
              "    </tr>\n",
              "    <tr>\n",
              "      <th>0008d1bfac569bdb998897e2eb8519dec06b9277a686f4c6e06de582c9791b35</th>\n",
              "      <td>13.000000</td>\n",
              "      <td>33085.0</td>\n",
              "      <td>51</td>\n",
              "    </tr>\n",
              "    <tr>\n",
              "      <th>000a83a961cbcbce40673aed998effbd462fb10dcac8e64c6fa720f2150d3f5a</th>\n",
              "      <td>160.666667</td>\n",
              "      <td>3.0</td>\n",
              "      <td>3</td>\n",
              "    </tr>\n",
              "    <tr>\n",
              "      <th>000b92ca83a96312a0909b1f489340f4d399c86555012ffe2c41952ae43dc741</th>\n",
              "      <td>36.666667</td>\n",
              "      <td>4.0</td>\n",
              "      <td>3</td>\n",
              "    </tr>\n",
              "    <tr>\n",
              "      <th>...</th>\n",
              "      <td>...</td>\n",
              "      <td>...</td>\n",
              "      <td>...</td>\n",
              "    </tr>\n",
              "    <tr>\n",
              "      <th>ffdccfb9dc24cf41843f6e7f34704ccb73ac81acc29aa39b043fe7f90959e5f3</th>\n",
              "      <td>2.689286</td>\n",
              "      <td>812033.0</td>\n",
              "      <td>280</td>\n",
              "    </tr>\n",
              "    <tr>\n",
              "      <th>ffecc8e2823943ef1a7b0d9c6512f716a88032a1bdf7bace472b4365f5028535</th>\n",
              "      <td>9.795918</td>\n",
              "      <td>63726.0</td>\n",
              "      <td>49</td>\n",
              "    </tr>\n",
              "    <tr>\n",
              "      <th>ffee399294db1c721e010cbf3dae5c8a1f140dbaf2dcae96e7cd290e431aee0a</th>\n",
              "      <td>30.315789</td>\n",
              "      <td>4483.0</td>\n",
              "      <td>19</td>\n",
              "    </tr>\n",
              "    <tr>\n",
              "      <th>fff7d563e388744fdc1ca90153ec0161d1345511cb9070f7ba250b774c4fe60f</th>\n",
              "      <td>6.178571</td>\n",
              "      <td>67149.0</td>\n",
              "      <td>28</td>\n",
              "    </tr>\n",
              "    <tr>\n",
              "      <th>fff9cf3aaffd32dcbf70dce8e5216411f9d38537b477d6bc012f43564f626533</th>\n",
              "      <td>19.869565</td>\n",
              "      <td>300.0</td>\n",
              "      <td>23</td>\n",
              "    </tr>\n",
              "  </tbody>\n",
              "</table>\n",
              "<p>9337 rows × 3 columns</p>\n",
              "</div>"
            ],
            "text/plain": [
              "                                                    Intervaldays  ...  OrderCount\n",
              "act_id                                                            ...            \n",
              "0000c7a5a5a1db9c7e890da984b20d544c09cb6f51c5467...     34.875000  ...          16\n",
              "0007f3d10282e6f9de1eb445a64eb1f13e9ed2308cfbfa9...      8.964286  ...          28\n",
              "0008d1bfac569bdb998897e2eb8519dec06b9277a686f4c...     13.000000  ...          51\n",
              "000a83a961cbcbce40673aed998effbd462fb10dcac8e64...    160.666667  ...           3\n",
              "000b92ca83a96312a0909b1f489340f4d399c86555012ff...     36.666667  ...           3\n",
              "...                                                          ...  ...         ...\n",
              "ffdccfb9dc24cf41843f6e7f34704ccb73ac81acc29aa39...      2.689286  ...         280\n",
              "ffecc8e2823943ef1a7b0d9c6512f716a88032a1bdf7bac...      9.795918  ...          49\n",
              "ffee399294db1c721e010cbf3dae5c8a1f140dbaf2dcae9...     30.315789  ...          19\n",
              "fff7d563e388744fdc1ca90153ec0161d1345511cb9070f...      6.178571  ...          28\n",
              "fff9cf3aaffd32dcbf70dce8e5216411f9d38537b477d6b...     19.869565  ...          23\n",
              "\n",
              "[9337 rows x 3 columns]"
            ]
          },
          "metadata": {},
          "execution_count": 63
        }
      ]
    },
    {
      "cell_type": "code",
      "source": [
        "id_df.describe()"
      ],
      "metadata": {
        "colab": {
          "base_uri": "https://localhost:8080/",
          "height": 300
        },
        "id": "eWDoW_rb_MDW",
        "outputId": "46ae8872-aa8a-465a-f6ff-02e8978b5454"
      },
      "execution_count": 64,
      "outputs": [
        {
          "output_type": "execute_result",
          "data": {
            "text/html": [
              "<div>\n",
              "<style scoped>\n",
              "    .dataframe tbody tr th:only-of-type {\n",
              "        vertical-align: middle;\n",
              "    }\n",
              "\n",
              "    .dataframe tbody tr th {\n",
              "        vertical-align: top;\n",
              "    }\n",
              "\n",
              "    .dataframe thead th {\n",
              "        text-align: right;\n",
              "    }\n",
              "</style>\n",
              "<table border=\"1\" class=\"dataframe\">\n",
              "  <thead>\n",
              "    <tr style=\"text-align: right;\">\n",
              "      <th></th>\n",
              "      <th>Intervaldays</th>\n",
              "      <th>TotalSales</th>\n",
              "      <th>OrderCount</th>\n",
              "    </tr>\n",
              "  </thead>\n",
              "  <tbody>\n",
              "    <tr>\n",
              "      <th>count</th>\n",
              "      <td>9337.000000</td>\n",
              "      <td>9.337000e+03</td>\n",
              "      <td>9337.000000</td>\n",
              "    </tr>\n",
              "    <tr>\n",
              "      <th>mean</th>\n",
              "      <td>25.897282</td>\n",
              "      <td>3.635851e+04</td>\n",
              "      <td>44.962515</td>\n",
              "    </tr>\n",
              "    <tr>\n",
              "      <th>std</th>\n",
              "      <td>39.633256</td>\n",
              "      <td>1.417177e+05</td>\n",
              "      <td>64.143509</td>\n",
              "    </tr>\n",
              "    <tr>\n",
              "      <th>min</th>\n",
              "      <td>0.000000</td>\n",
              "      <td>1.000000e+00</td>\n",
              "      <td>1.000000</td>\n",
              "    </tr>\n",
              "    <tr>\n",
              "      <th>25%</th>\n",
              "      <td>5.711111</td>\n",
              "      <td>5.030000e+02</td>\n",
              "      <td>8.000000</td>\n",
              "    </tr>\n",
              "    <tr>\n",
              "      <th>50%</th>\n",
              "      <td>12.800000</td>\n",
              "      <td>3.500000e+03</td>\n",
              "      <td>22.000000</td>\n",
              "    </tr>\n",
              "    <tr>\n",
              "      <th>75%</th>\n",
              "      <td>29.315789</td>\n",
              "      <td>1.981700e+04</td>\n",
              "      <td>55.000000</td>\n",
              "    </tr>\n",
              "    <tr>\n",
              "      <th>max</th>\n",
              "      <td>551.000000</td>\n",
              "      <td>4.093110e+06</td>\n",
              "      <td>738.000000</td>\n",
              "    </tr>\n",
              "  </tbody>\n",
              "</table>\n",
              "</div>"
            ],
            "text/plain": [
              "       Intervaldays    TotalSales   OrderCount\n",
              "count   9337.000000  9.337000e+03  9337.000000\n",
              "mean      25.897282  3.635851e+04    44.962515\n",
              "std       39.633256  1.417177e+05    64.143509\n",
              "min        0.000000  1.000000e+00     1.000000\n",
              "25%        5.711111  5.030000e+02     8.000000\n",
              "50%       12.800000  3.500000e+03    22.000000\n",
              "75%       29.315789  1.981700e+04    55.000000\n",
              "max      551.000000  4.093110e+06   738.000000"
            ]
          },
          "metadata": {},
          "execution_count": 64
        }
      ]
    },
    {
      "cell_type": "code",
      "source": [
        "# rank(): 각 열마다 순위 값을 반환, index 축을 기준으로 보여줌\n",
        "# 아무것도 지정하지 않으면 기본값인 오름 차순으로 순위를 정함 (낮은 숫자에서 높은 순으로)\n",
        "# method: 동일값의 경우 순위 지정하는 방법 \n",
        "#         average: average rank of the group (default)\n",
        "#         min: lowest rank in the group\n",
        "#         max: highest rank in the group\n",
        "#         first: ranks assigned in order they appear in the array\n",
        "#         dense: like ‘min’, but rank always increases by 1 between groups.\n",
        "\n",
        "rank_df = id_df.rank(method='first')"
      ],
      "metadata": {
        "id": "wngiGan28SK8"
      },
      "execution_count": 65,
      "outputs": []
    },
    {
      "cell_type": "code",
      "source": [
        "rank_df.head()"
      ],
      "metadata": {
        "colab": {
          "base_uri": "https://localhost:8080/",
          "height": 237
        },
        "id": "fHsu1QK483C4",
        "outputId": "272b512e-c250-477e-f4a7-9c744b048339"
      },
      "execution_count": 66,
      "outputs": [
        {
          "output_type": "execute_result",
          "data": {
            "text/html": [
              "<div>\n",
              "<style scoped>\n",
              "    .dataframe tbody tr th:only-of-type {\n",
              "        vertical-align: middle;\n",
              "    }\n",
              "\n",
              "    .dataframe tbody tr th {\n",
              "        vertical-align: top;\n",
              "    }\n",
              "\n",
              "    .dataframe thead th {\n",
              "        text-align: right;\n",
              "    }\n",
              "</style>\n",
              "<table border=\"1\" class=\"dataframe\">\n",
              "  <thead>\n",
              "    <tr style=\"text-align: right;\">\n",
              "      <th></th>\n",
              "      <th>Intervaldays</th>\n",
              "      <th>TotalSales</th>\n",
              "      <th>OrderCount</th>\n",
              "    </tr>\n",
              "    <tr>\n",
              "      <th>act_id</th>\n",
              "      <th></th>\n",
              "      <th></th>\n",
              "      <th></th>\n",
              "    </tr>\n",
              "  </thead>\n",
              "  <tbody>\n",
              "    <tr>\n",
              "      <th>0000c7a5a5a1db9c7e890da984b20d544c09cb6f51c5467ece45d5b35e99912a</th>\n",
              "      <td>7419.0</td>\n",
              "      <td>2363.0</td>\n",
              "      <td>3776.0</td>\n",
              "    </tr>\n",
              "    <tr>\n",
              "      <th>0007f3d10282e6f9de1eb445a64eb1f13e9ed2308cfbfa9b6e6efa399d0bdf31</th>\n",
              "      <td>3587.0</td>\n",
              "      <td>6361.0</td>\n",
              "      <td>5260.0</td>\n",
              "    </tr>\n",
              "    <tr>\n",
              "      <th>0008d1bfac569bdb998897e2eb8519dec06b9277a686f4c6e06de582c9791b35</th>\n",
              "      <td>4708.0</td>\n",
              "      <td>7659.0</td>\n",
              "      <td>6797.0</td>\n",
              "    </tr>\n",
              "    <tr>\n",
              "      <th>000a83a961cbcbce40673aed998effbd462fb10dcac8e64c6fa720f2150d3f5a</th>\n",
              "      <td>9171.0</td>\n",
              "      <td>76.0</td>\n",
              "      <td>892.0</td>\n",
              "    </tr>\n",
              "    <tr>\n",
              "      <th>000b92ca83a96312a0909b1f489340f4d399c86555012ffe2c41952ae43dc741</th>\n",
              "      <td>7524.0</td>\n",
              "      <td>100.0</td>\n",
              "      <td>893.0</td>\n",
              "    </tr>\n",
              "  </tbody>\n",
              "</table>\n",
              "</div>"
            ],
            "text/plain": [
              "                                                    Intervaldays  ...  OrderCount\n",
              "act_id                                                            ...            \n",
              "0000c7a5a5a1db9c7e890da984b20d544c09cb6f51c5467...        7419.0  ...      3776.0\n",
              "0007f3d10282e6f9de1eb445a64eb1f13e9ed2308cfbfa9...        3587.0  ...      5260.0\n",
              "0008d1bfac569bdb998897e2eb8519dec06b9277a686f4c...        4708.0  ...      6797.0\n",
              "000a83a961cbcbce40673aed998effbd462fb10dcac8e64...        9171.0  ...       892.0\n",
              "000b92ca83a96312a0909b1f489340f4d399c86555012ff...        7524.0  ...       893.0\n",
              "\n",
              "[5 rows x 3 columns]"
            ]
          },
          "metadata": {},
          "execution_count": 66
        }
      ]
    },
    {
      "cell_type": "code",
      "source": [
        "rank_df.describe()"
      ],
      "metadata": {
        "colab": {
          "base_uri": "https://localhost:8080/",
          "height": 300
        },
        "id": "ALiU-3JD_XKS",
        "outputId": "9c9131d3-aefc-481d-8ab6-52ac9856a4d9"
      },
      "execution_count": 67,
      "outputs": [
        {
          "output_type": "execute_result",
          "data": {
            "text/html": [
              "<div>\n",
              "<style scoped>\n",
              "    .dataframe tbody tr th:only-of-type {\n",
              "        vertical-align: middle;\n",
              "    }\n",
              "\n",
              "    .dataframe tbody tr th {\n",
              "        vertical-align: top;\n",
              "    }\n",
              "\n",
              "    .dataframe thead th {\n",
              "        text-align: right;\n",
              "    }\n",
              "</style>\n",
              "<table border=\"1\" class=\"dataframe\">\n",
              "  <thead>\n",
              "    <tr style=\"text-align: right;\">\n",
              "      <th></th>\n",
              "      <th>Intervaldays</th>\n",
              "      <th>TotalSales</th>\n",
              "      <th>OrderCount</th>\n",
              "    </tr>\n",
              "  </thead>\n",
              "  <tbody>\n",
              "    <tr>\n",
              "      <th>count</th>\n",
              "      <td>9337.000000</td>\n",
              "      <td>9337.000000</td>\n",
              "      <td>9337.000000</td>\n",
              "    </tr>\n",
              "    <tr>\n",
              "      <th>mean</th>\n",
              "      <td>4669.000000</td>\n",
              "      <td>4669.000000</td>\n",
              "      <td>4669.000000</td>\n",
              "    </tr>\n",
              "    <tr>\n",
              "      <th>std</th>\n",
              "      <td>2695.504065</td>\n",
              "      <td>2695.504065</td>\n",
              "      <td>2695.504065</td>\n",
              "    </tr>\n",
              "    <tr>\n",
              "      <th>min</th>\n",
              "      <td>1.000000</td>\n",
              "      <td>1.000000</td>\n",
              "      <td>1.000000</td>\n",
              "    </tr>\n",
              "    <tr>\n",
              "      <th>25%</th>\n",
              "      <td>2335.000000</td>\n",
              "      <td>2335.000000</td>\n",
              "      <td>2335.000000</td>\n",
              "    </tr>\n",
              "    <tr>\n",
              "      <th>50%</th>\n",
              "      <td>4669.000000</td>\n",
              "      <td>4669.000000</td>\n",
              "      <td>4669.000000</td>\n",
              "    </tr>\n",
              "    <tr>\n",
              "      <th>75%</th>\n",
              "      <td>7003.000000</td>\n",
              "      <td>7003.000000</td>\n",
              "      <td>7003.000000</td>\n",
              "    </tr>\n",
              "    <tr>\n",
              "      <th>max</th>\n",
              "      <td>9337.000000</td>\n",
              "      <td>9337.000000</td>\n",
              "      <td>9337.000000</td>\n",
              "    </tr>\n",
              "  </tbody>\n",
              "</table>\n",
              "</div>"
            ],
            "text/plain": [
              "       Intervaldays   TotalSales   OrderCount\n",
              "count   9337.000000  9337.000000  9337.000000\n",
              "mean    4669.000000  4669.000000  4669.000000\n",
              "std     2695.504065  2695.504065  2695.504065\n",
              "min        1.000000     1.000000     1.000000\n",
              "25%     2335.000000  2335.000000  2335.000000\n",
              "50%     4669.000000  4669.000000  4669.000000\n",
              "75%     7003.000000  7003.000000  7003.000000\n",
              "max     9337.000000  9337.000000  9337.000000"
            ]
          },
          "metadata": {},
          "execution_count": 67
        }
      ]
    },
    {
      "cell_type": "code",
      "source": [
        "# 군집분석 전 데이터 스케일 표준화 \n",
        "scaled_df = (rank_df - rank_df.mean()) / rank_df.std()\n",
        "\n",
        "from sklearn.preprocessing import StandardScaler\n",
        "scaler = StandardScaler()\n",
        "scaled_data = scaler.fit_transform(rank_df)"
      ],
      "metadata": {
        "id": "UvkN5Mb0_aME"
      },
      "execution_count": 103,
      "outputs": []
    },
    {
      "cell_type": "code",
      "source": [
        "scaled_df"
      ],
      "metadata": {
        "colab": {
          "base_uri": "https://localhost:8080/",
          "height": 454
        },
        "id": "4wkDiwp__jMz",
        "outputId": "3f6bb1f7-199b-42dc-f440-be4c80a6873f"
      },
      "execution_count": 104,
      "outputs": [
        {
          "output_type": "execute_result",
          "data": {
            "text/html": [
              "<div>\n",
              "<style scoped>\n",
              "    .dataframe tbody tr th:only-of-type {\n",
              "        vertical-align: middle;\n",
              "    }\n",
              "\n",
              "    .dataframe tbody tr th {\n",
              "        vertical-align: top;\n",
              "    }\n",
              "\n",
              "    .dataframe thead th {\n",
              "        text-align: right;\n",
              "    }\n",
              "</style>\n",
              "<table border=\"1\" class=\"dataframe\">\n",
              "  <thead>\n",
              "    <tr style=\"text-align: right;\">\n",
              "      <th></th>\n",
              "      <th>Intervaldays</th>\n",
              "      <th>TotalSales</th>\n",
              "      <th>OrderCount</th>\n",
              "    </tr>\n",
              "    <tr>\n",
              "      <th>act_id</th>\n",
              "      <th></th>\n",
              "      <th></th>\n",
              "      <th></th>\n",
              "    </tr>\n",
              "  </thead>\n",
              "  <tbody>\n",
              "    <tr>\n",
              "      <th>0000c7a5a5a1db9c7e890da984b20d544c09cb6f51c5467ece45d5b35e99912a</th>\n",
              "      <td>1.020217</td>\n",
              "      <td>-0.855499</td>\n",
              "      <td>-0.331292</td>\n",
              "    </tr>\n",
              "    <tr>\n",
              "      <th>0007f3d10282e6f9de1eb445a64eb1f13e9ed2308cfbfa9b6e6efa399d0bdf31</th>\n",
              "      <td>-0.401409</td>\n",
              "      <td>0.627712</td>\n",
              "      <td>0.219254</td>\n",
              "    </tr>\n",
              "    <tr>\n",
              "      <th>0008d1bfac569bdb998897e2eb8519dec06b9277a686f4c6e06de582c9791b35</th>\n",
              "      <td>0.014469</td>\n",
              "      <td>1.109254</td>\n",
              "      <td>0.789463</td>\n",
              "    </tr>\n",
              "    <tr>\n",
              "      <th>000a83a961cbcbce40673aed998effbd462fb10dcac8e64c6fa720f2150d3f5a</th>\n",
              "      <td>1.670189</td>\n",
              "      <td>-1.703948</td>\n",
              "      <td>-1.401222</td>\n",
              "    </tr>\n",
              "    <tr>\n",
              "      <th>000b92ca83a96312a0909b1f489340f4d399c86555012ffe2c41952ae43dc741</th>\n",
              "      <td>1.059171</td>\n",
              "      <td>-1.695045</td>\n",
              "      <td>-1.400851</td>\n",
              "    </tr>\n",
              "    <tr>\n",
              "      <th>...</th>\n",
              "      <td>...</td>\n",
              "      <td>...</td>\n",
              "      <td>...</td>\n",
              "    </tr>\n",
              "    <tr>\n",
              "      <th>ffdccfb9dc24cf41843f6e7f34704ccb73ac81acc29aa39b043fe7f90959e5f3</th>\n",
              "      <td>-1.406416</td>\n",
              "      <td>1.712110</td>\n",
              "      <td>1.682060</td>\n",
              "    </tr>\n",
              "    <tr>\n",
              "      <th>ffecc8e2823943ef1a7b0d9c6512f716a88032a1bdf7bace472b4365f5028535</th>\n",
              "      <td>-0.304952</td>\n",
              "      <td>1.331105</td>\n",
              "      <td>0.774252</td>\n",
              "    </tr>\n",
              "    <tr>\n",
              "      <th>ffee399294db1c721e010cbf3dae5c8a1f140dbaf2dcae96e7cd290e431aee0a</th>\n",
              "      <td>0.898533</td>\n",
              "      <td>0.121684</td>\n",
              "      <td>-0.113522</td>\n",
              "    </tr>\n",
              "    <tr>\n",
              "      <th>fff7d563e388744fdc1ca90153ec0161d1345511cb9070f7ba250b774c4fe60f</th>\n",
              "      <td>-0.794286</td>\n",
              "      <td>1.351881</td>\n",
              "      <td>0.256724</td>\n",
              "    </tr>\n",
              "    <tr>\n",
              "      <th>fff9cf3aaffd32dcbf70dce8e5216411f9d38537b477d6bc012f43564f626533</th>\n",
              "      <td>0.487849</td>\n",
              "      <td>-1.033202</td>\n",
              "      <td>0.056761</td>\n",
              "    </tr>\n",
              "  </tbody>\n",
              "</table>\n",
              "<p>9337 rows × 3 columns</p>\n",
              "</div>"
            ],
            "text/plain": [
              "                                                    Intervaldays  ...  OrderCount\n",
              "act_id                                                            ...            \n",
              "0000c7a5a5a1db9c7e890da984b20d544c09cb6f51c5467...      1.020217  ...   -0.331292\n",
              "0007f3d10282e6f9de1eb445a64eb1f13e9ed2308cfbfa9...     -0.401409  ...    0.219254\n",
              "0008d1bfac569bdb998897e2eb8519dec06b9277a686f4c...      0.014469  ...    0.789463\n",
              "000a83a961cbcbce40673aed998effbd462fb10dcac8e64...      1.670189  ...   -1.401222\n",
              "000b92ca83a96312a0909b1f489340f4d399c86555012ff...      1.059171  ...   -1.400851\n",
              "...                                                          ...  ...         ...\n",
              "ffdccfb9dc24cf41843f6e7f34704ccb73ac81acc29aa39...     -1.406416  ...    1.682060\n",
              "ffecc8e2823943ef1a7b0d9c6512f716a88032a1bdf7bac...     -0.304952  ...    0.774252\n",
              "ffee399294db1c721e010cbf3dae5c8a1f140dbaf2dcae9...      0.898533  ...   -0.113522\n",
              "fff7d563e388744fdc1ca90153ec0161d1345511cb9070f...     -0.794286  ...    0.256724\n",
              "fff9cf3aaffd32dcbf70dce8e5216411f9d38537b477d6b...      0.487849  ...    0.056761\n",
              "\n",
              "[9337 rows x 3 columns]"
            ]
          },
          "metadata": {},
          "execution_count": 104
        }
      ]
    },
    {
      "cell_type": "code",
      "source": [
        "scaled_data"
      ],
      "metadata": {
        "colab": {
          "base_uri": "https://localhost:8080/"
        },
        "id": "4WYL02iXUEOS",
        "outputId": "614a73b1-d38e-49ff-c1bf-714dcce39407"
      },
      "execution_count": 105,
      "outputs": [
        {
          "output_type": "execute_result",
          "data": {
            "text/plain": [
              "array([[ 1.02027198, -0.85554443, -0.33131014],\n",
              "       [-0.40143065,  0.62774552,  0.21926572],\n",
              "       [ 0.01446931,  1.1093139 ,  0.78950501],\n",
              "       ...,\n",
              "       [ 0.89858136,  0.12169062, -0.11352845],\n",
              "       [-0.79432811,  1.35195313,  0.25673753],\n",
              "       [ 0.48787551, -1.03325726,  0.05676422]])"
            ]
          },
          "metadata": {},
          "execution_count": 105
        }
      ]
    },
    {
      "cell_type": "markdown",
      "source": [
        "#2. Customer Segmentation via K-Means Clustering"
      ],
      "metadata": {
        "id": "ChE1J1uq_0zb"
      }
    },
    {
      "cell_type": "code",
      "source": [
        "from sklearn.cluster import KMeans"
      ],
      "metadata": {
        "id": "xu8efqkw__wC"
      },
      "execution_count": 106,
      "outputs": []
    },
    {
      "cell_type": "markdown",
      "source": [
        "###-K-Means Clustering"
      ],
      "metadata": {
        "id": "cJweu4KcAKjl"
      }
    },
    {
      "cell_type": "code",
      "source": [
        "kmeans = KMeans(n_clusters = 3, random_state = 10).fit(scaled_df[['Intervaldays', 'TotalSales', 'OrderCount']])"
      ],
      "metadata": {
        "id": "Y8WVqZ3zANIQ"
      },
      "execution_count": 107,
      "outputs": []
    },
    {
      "cell_type": "code",
      "source": [
        "kmeans.labels_"
      ],
      "metadata": {
        "colab": {
          "base_uri": "https://localhost:8080/"
        },
        "id": "3qIyJSjwAW8L",
        "outputId": "dfc58480-c38e-4d5f-aaa1-40ba16b8b2ae"
      },
      "execution_count": 108,
      "outputs": [
        {
          "output_type": "execute_result",
          "data": {
            "text/plain": [
              "array([1, 0, 0, ..., 1, 0, 1], dtype=int32)"
            ]
          },
          "metadata": {},
          "execution_count": 108
        }
      ]
    },
    {
      "cell_type": "code",
      "source": [
        "kmeans.cluster_centers_"
      ],
      "metadata": {
        "colab": {
          "base_uri": "https://localhost:8080/"
        },
        "id": "SnVbM6nQBtuw",
        "outputId": "e2efb13f-ed6a-4357-e2f9-f23b318439e6"
      },
      "execution_count": 109,
      "outputs": [
        {
          "output_type": "execute_result",
          "data": {
            "text/plain": [
              "array([[-0.54266734,  0.81789741,  0.91964887],\n",
              "       [ 0.9372993 , -0.48763854, -0.60426963],\n",
              "       [-1.04560353, -1.10718839, -1.08259912]])"
            ]
          },
          "metadata": {},
          "execution_count": 109
        }
      ]
    },
    {
      "cell_type": "code",
      "source": [
        "# copy: deep=True (default, 사본을 생성하하는데 원본 값이 바뀌어도 반영되지 않음) \n",
        "three_cluster_df = scaled_df[['Intervaldays', 'TotalSales', 'OrderCount']].copy(deep=True)\n",
        "three_cluster_df['Cluster'] = kmeans.labels_"
      ],
      "metadata": {
        "id": "cTf3TNvQBwll"
      },
      "execution_count": 110,
      "outputs": []
    },
    {
      "cell_type": "code",
      "source": [
        "three_cluster_df.head()"
      ],
      "metadata": {
        "colab": {
          "base_uri": "https://localhost:8080/",
          "height": 237
        },
        "id": "obFn8m6xB8-j",
        "outputId": "2a881697-f2f0-439b-d778-9dba8af9c096"
      },
      "execution_count": 112,
      "outputs": [
        {
          "output_type": "execute_result",
          "data": {
            "text/html": [
              "<div>\n",
              "<style scoped>\n",
              "    .dataframe tbody tr th:only-of-type {\n",
              "        vertical-align: middle;\n",
              "    }\n",
              "\n",
              "    .dataframe tbody tr th {\n",
              "        vertical-align: top;\n",
              "    }\n",
              "\n",
              "    .dataframe thead th {\n",
              "        text-align: right;\n",
              "    }\n",
              "</style>\n",
              "<table border=\"1\" class=\"dataframe\">\n",
              "  <thead>\n",
              "    <tr style=\"text-align: right;\">\n",
              "      <th></th>\n",
              "      <th>Intervaldays</th>\n",
              "      <th>TotalSales</th>\n",
              "      <th>OrderCount</th>\n",
              "      <th>Cluster</th>\n",
              "    </tr>\n",
              "    <tr>\n",
              "      <th>act_id</th>\n",
              "      <th></th>\n",
              "      <th></th>\n",
              "      <th></th>\n",
              "      <th></th>\n",
              "    </tr>\n",
              "  </thead>\n",
              "  <tbody>\n",
              "    <tr>\n",
              "      <th>0000c7a5a5a1db9c7e890da984b20d544c09cb6f51c5467ece45d5b35e99912a</th>\n",
              "      <td>1.020217</td>\n",
              "      <td>-0.855499</td>\n",
              "      <td>-0.331292</td>\n",
              "      <td>1</td>\n",
              "    </tr>\n",
              "    <tr>\n",
              "      <th>0007f3d10282e6f9de1eb445a64eb1f13e9ed2308cfbfa9b6e6efa399d0bdf31</th>\n",
              "      <td>-0.401409</td>\n",
              "      <td>0.627712</td>\n",
              "      <td>0.219254</td>\n",
              "      <td>0</td>\n",
              "    </tr>\n",
              "    <tr>\n",
              "      <th>0008d1bfac569bdb998897e2eb8519dec06b9277a686f4c6e06de582c9791b35</th>\n",
              "      <td>0.014469</td>\n",
              "      <td>1.109254</td>\n",
              "      <td>0.789463</td>\n",
              "      <td>0</td>\n",
              "    </tr>\n",
              "    <tr>\n",
              "      <th>000a83a961cbcbce40673aed998effbd462fb10dcac8e64c6fa720f2150d3f5a</th>\n",
              "      <td>1.670189</td>\n",
              "      <td>-1.703948</td>\n",
              "      <td>-1.401222</td>\n",
              "      <td>1</td>\n",
              "    </tr>\n",
              "    <tr>\n",
              "      <th>000b92ca83a96312a0909b1f489340f4d399c86555012ffe2c41952ae43dc741</th>\n",
              "      <td>1.059171</td>\n",
              "      <td>-1.695045</td>\n",
              "      <td>-1.400851</td>\n",
              "      <td>1</td>\n",
              "    </tr>\n",
              "  </tbody>\n",
              "</table>\n",
              "</div>"
            ],
            "text/plain": [
              "                                                    Intervaldays  ...  Cluster\n",
              "act_id                                                            ...         \n",
              "0000c7a5a5a1db9c7e890da984b20d544c09cb6f51c5467...      1.020217  ...        1\n",
              "0007f3d10282e6f9de1eb445a64eb1f13e9ed2308cfbfa9...     -0.401409  ...        0\n",
              "0008d1bfac569bdb998897e2eb8519dec06b9277a686f4c...      0.014469  ...        0\n",
              "000a83a961cbcbce40673aed998effbd462fb10dcac8e64...      1.670189  ...        1\n",
              "000b92ca83a96312a0909b1f489340f4d399c86555012ff...      1.059171  ...        1\n",
              "\n",
              "[5 rows x 4 columns]"
            ]
          },
          "metadata": {},
          "execution_count": 112
        }
      ]
    },
    {
      "cell_type": "code",
      "source": [
        "# Cluster별 고객수 \n",
        "three_cluster_df.groupby('Cluster').count()['TotalSales']"
      ],
      "metadata": {
        "colab": {
          "base_uri": "https://localhost:8080/"
        },
        "id": "Wxkab8slB_Jc",
        "outputId": "e8e51f56-c9a0-43df-a887-93870a1a29a3"
      },
      "execution_count": 113,
      "outputs": [
        {
          "output_type": "execute_result",
          "data": {
            "text/plain": [
              "Cluster\n",
              "0    4116\n",
              "1    3882\n",
              "2    1339\n",
              "Name: TotalSales, dtype: int64"
            ]
          },
          "metadata": {},
          "execution_count": 113
        }
      ]
    },
    {
      "cell_type": "code",
      "source": [
        "plt.scatter(\n",
        "    three_cluster_df.loc[three_cluster_df['Cluster'] == 0]['OrderCount'], \n",
        "    three_cluster_df.loc[three_cluster_df['Cluster'] == 0]['TotalSales'],\n",
        "    c='blue'\n",
        ")\n",
        "\n",
        "plt.scatter(\n",
        "    three_cluster_df.loc[three_cluster_df['Cluster'] == 1]['OrderCount'], \n",
        "    three_cluster_df.loc[three_cluster_df['Cluster'] == 1]['TotalSales'],\n",
        "    c='red'\n",
        ")\n",
        "\n",
        "plt.scatter(\n",
        "    three_cluster_df.loc[three_cluster_df['Cluster'] == 2]['OrderCount'], \n",
        "    three_cluster_df.loc[three_cluster_df['Cluster'] == 2]['TotalSales'],\n",
        "    c='orange'\n",
        ")\n",
        "\n",
        "plt.scatter(\n",
        "    three_cluster_df.loc[three_cluster_df['Cluster'] == 3]['OrderCount'], \n",
        "    three_cluster_df.loc[three_cluster_df['Cluster'] == 3]['TotalSales'],\n",
        "    c='green'\n",
        ")\n",
        "\n",
        "plt.title('TotalSales vs. OrderCount Clusters')\n",
        "plt.xlabel('Order Count')\n",
        "plt.ylabel('Total Sales')\n",
        "\n",
        "plt.grid()\n",
        "plt.show()\n",
        "\n",
        "\n",
        "plt.scatter(\n",
        "    three_cluster_df.loc[three_cluster_df['Cluster'] == 0]['OrderCount'], \n",
        "    three_cluster_df.loc[three_cluster_df['Cluster'] == 0]['Intervaldays'],\n",
        "    c='blue'\n",
        ")\n",
        "\n",
        "plt.scatter(\n",
        "    three_cluster_df.loc[three_cluster_df['Cluster'] == 1]['OrderCount'], \n",
        "    three_cluster_df.loc[three_cluster_df['Cluster'] == 1]['Intervaldays'],\n",
        "    c='red'\n",
        ")\n",
        "\n",
        "plt.scatter(\n",
        "    three_cluster_df.loc[three_cluster_df['Cluster'] == 2]['OrderCount'], \n",
        "    three_cluster_df.loc[three_cluster_df['Cluster'] == 2]['Intervaldays'],\n",
        "    c='orange'\n",
        ")\n",
        "\n",
        "plt.scatter(\n",
        "    three_cluster_df.loc[three_cluster_df['Cluster'] == 3]['OrderCount'], \n",
        "    three_cluster_df.loc[three_cluster_df['Cluster'] == 3]['Intervaldays'],\n",
        "    c='green'\n",
        ")\n",
        "\n",
        "plt.title('Intervaldays vs. OrderCount Clusters')\n",
        "plt.xlabel('Order Count')\n",
        "plt.ylabel('Intervaldays')\n",
        "\n",
        "plt.grid()\n",
        "plt.show()\n",
        "\n",
        "plt.scatter(\n",
        "    three_cluster_df.loc[three_cluster_df['Cluster'] == 0]['TotalSales'], \n",
        "    three_cluster_df.loc[three_cluster_df['Cluster'] == 0]['Intervaldays'],\n",
        "    c='blue'\n",
        ")\n",
        "\n",
        "plt.scatter(\n",
        "    three_cluster_df.loc[three_cluster_df['Cluster'] == 1]['TotalSales'], \n",
        "    three_cluster_df.loc[three_cluster_df['Cluster'] == 1]['Intervaldays'],\n",
        "    c='red'\n",
        ")\n",
        "\n",
        "plt.scatter(\n",
        "    three_cluster_df.loc[three_cluster_df['Cluster'] == 2]['TotalSales'], \n",
        "    three_cluster_df.loc[three_cluster_df['Cluster'] == 2]['Intervaldays'],\n",
        "    c='orange'\n",
        ")\n",
        "\n",
        "plt.scatter(\n",
        "    three_cluster_df.loc[three_cluster_df['Cluster'] == 3]['TotalSales'], \n",
        "    three_cluster_df.loc[three_cluster_df['Cluster'] == 3]['Intervaldays'],\n",
        "    c='green'\n",
        ")\n",
        "\n",
        "plt.title('Intervaldays vs. TotalSales Clusters')\n",
        "plt.xlabel('Total Sales')\n",
        "plt.ylabel('Intervaldays')\n",
        "\n",
        "plt.grid()\n",
        "plt.show()"
      ],
      "metadata": {
        "colab": {
          "base_uri": "https://localhost:8080/",
          "height": 851
        },
        "id": "JAwrNe9BC6ap",
        "outputId": "07cbc595-485a-44cd-e1b7-815eb73e5442"
      },
      "execution_count": 114,
      "outputs": [
        {
          "output_type": "display_data",
          "data": {
            "image/png": "[encoded data removed]",
            "text/plain": [
              "<Figure size 432x288 with 1 Axes>"
            ]
          },
          "metadata": {
            "needs_background": "light"
          }
        },
        {
          "output_type": "display_data",
          "data": {
            "image/png": "[encoded data removed]",
            "text/plain": [
              "<Figure size 432x288 with 1 Axes>"
            ]
          },
          "metadata": {
            "needs_background": "light"
          }
        },
        {
          "output_type": "display_data",
          "data": {
            "image/png": "[encoded data removed]",
            "text/plain": [
              "<Figure size 432x288 with 1 Axes>"
            ]
          },
          "metadata": {
            "needs_background": "light"
          }
        }
      ]
    },
    {
      "cell_type": "code",
      "source": [
        "# 모델 평가: 데이비스-볼딘 지수\n",
        "# 군집 내의 분리도와 군집 간의 분리도의 비율\n",
        "# 지수값이 작을수록 좋은 군집 결과임 (군집 내의 분리도는 낮고 군집간의 분리도는 높음)\n",
        "\n",
        "from sklearn.metrics import davies_bouldin_score\n",
        "\n",
        "# kmeans = KMeans(n_clusters=3, random_state=10).fit(scaled_df[['TotalSales', 'OrderCount', 'Intervaldays']])\n",
        "# labels = kmeans.labels_\n",
        "davies_bouldin_score(scaled_df[['TotalSales', 'OrderCount', 'Intervaldays']], three_cluster_df['Cluster'])"
      ],
      "metadata": {
        "colab": {
          "base_uri": "https://localhost:8080/"
        },
        "id": "row35yzyFE_P",
        "outputId": "4f3ab407-7a12-4cdb-f5df-9e5f5161ea4b"
      },
      "execution_count": 123,
      "outputs": [
        {
          "output_type": "execute_result",
          "data": {
            "text/plain": [
              "0.8786119383694224"
            ]
          },
          "metadata": {},
          "execution_count": 123
        }
      ]
    },
    {
      "cell_type": "markdown",
      "source": [
        "###-Interpreting Customer Segments"
      ],
      "metadata": {
        "id": "vv-Q-lyKFzZt"
      }
    },
    {
      "cell_type": "code",
      "source": [
        "high_value_cluster = four_cluster_df.loc[four_cluster_df['Cluster'] == 2]\n",
        "high_value_cluster.head()"
      ],
      "metadata": {
        "colab": {
          "base_uri": "https://localhost:8080/",
          "height": 237
        },
        "id": "lOeJhjhyF4Jl",
        "outputId": "618d3640-f439-4f9c-8a1f-c3b71913ee4d"
      },
      "execution_count": null,
      "outputs": [
        {
          "output_type": "execute_result",
          "data": {
            "text/html": [
              "<div>\n",
              "<style scoped>\n",
              "    .dataframe tbody tr th:only-of-type {\n",
              "        vertical-align: middle;\n",
              "    }\n",
              "\n",
              "    .dataframe tbody tr th {\n",
              "        vertical-align: top;\n",
              "    }\n",
              "\n",
              "    .dataframe thead th {\n",
              "        text-align: right;\n",
              "    }\n",
              "</style>\n",
              "<table border=\"1\" class=\"dataframe\">\n",
              "  <thead>\n",
              "    <tr style=\"text-align: right;\">\n",
              "      <th></th>\n",
              "      <th>Intervaldays</th>\n",
              "      <th>TotalSales</th>\n",
              "      <th>OrderCount</th>\n",
              "      <th>Cluster</th>\n",
              "    </tr>\n",
              "    <tr>\n",
              "      <th>act_id</th>\n",
              "      <th></th>\n",
              "      <th></th>\n",
              "      <th></th>\n",
              "      <th></th>\n",
              "    </tr>\n",
              "  </thead>\n",
              "  <tbody>\n",
              "    <tr>\n",
              "      <th>00c87db0131a6286b48168ee95a318bf4b5c8ca1da3b32f139e25d49ba00a2aa</th>\n",
              "      <td>-0.321276</td>\n",
              "      <td>-1.230568</td>\n",
              "      <td>0.057132</td>\n",
              "      <td>2</td>\n",
              "    </tr>\n",
              "    <tr>\n",
              "      <th>00d5497ed7d096412d728282259df6788c0c06ef4f3708d87c24d8ccf27dc3b9</th>\n",
              "      <td>-1.731773</td>\n",
              "      <td>-1.715078</td>\n",
              "      <td>-1.731773</td>\n",
              "      <td>2</td>\n",
              "    </tr>\n",
              "    <tr>\n",
              "      <th>00e42e18f5cfaaaf235eee3af478012eda0455ccf3112c4510faf1dd06271ebf</th>\n",
              "      <td>-1.166387</td>\n",
              "      <td>-0.722314</td>\n",
              "      <td>0.502689</td>\n",
              "      <td>2</td>\n",
              "    </tr>\n",
              "    <tr>\n",
              "      <th>0104522fc596334fec689cdce04fdd3bdbc7f96b0974a2fa6b1cced066a93044</th>\n",
              "      <td>-1.731402</td>\n",
              "      <td>-1.239842</td>\n",
              "      <td>-1.731402</td>\n",
              "      <td>2</td>\n",
              "    </tr>\n",
              "    <tr>\n",
              "      <th>0125eb711033c269fa3c64473c2284a013df6b64886cd988e422b41334565003</th>\n",
              "      <td>-1.428675</td>\n",
              "      <td>-1.242439</td>\n",
              "      <td>-0.724540</td>\n",
              "      <td>2</td>\n",
              "    </tr>\n",
              "  </tbody>\n",
              "</table>\n",
              "</div>"
            ],
            "text/plain": [
              "                                                    Intervaldays  ...  Cluster\n",
              "act_id                                                            ...         \n",
              "00c87db0131a6286b48168ee95a318bf4b5c8ca1da3b32f...     -0.321276  ...        2\n",
              "00d5497ed7d096412d728282259df6788c0c06ef4f3708d...     -1.731773  ...        2\n",
              "00e42e18f5cfaaaf235eee3af478012eda0455ccf3112c4...     -1.166387  ...        2\n",
              "0104522fc596334fec689cdce04fdd3bdbc7f96b0974a2f...     -1.731402  ...        2\n",
              "0125eb711033c269fa3c64473c2284a013df6b64886cd98...     -1.428675  ...        2\n",
              "\n",
              "[5 rows x 4 columns]"
            ]
          },
          "metadata": {},
          "execution_count": 46
        }
      ]
    },
    {
      "cell_type": "code",
      "source": [
        "id_df.loc[high_value_cluster.index].describe()"
      ],
      "metadata": {
        "colab": {
          "base_uri": "https://localhost:8080/",
          "height": 300
        },
        "id": "xUhpESPGF7C8",
        "outputId": "369a682d-cad8-4a5e-f226-45a22857b9ab"
      },
      "execution_count": null,
      "outputs": [
        {
          "output_type": "execute_result",
          "data": {
            "text/html": [
              "<div>\n",
              "<style scoped>\n",
              "    .dataframe tbody tr th:only-of-type {\n",
              "        vertical-align: middle;\n",
              "    }\n",
              "\n",
              "    .dataframe tbody tr th {\n",
              "        vertical-align: top;\n",
              "    }\n",
              "\n",
              "    .dataframe thead th {\n",
              "        text-align: right;\n",
              "    }\n",
              "</style>\n",
              "<table border=\"1\" class=\"dataframe\">\n",
              "  <thead>\n",
              "    <tr style=\"text-align: right;\">\n",
              "      <th></th>\n",
              "      <th>Intervaldays</th>\n",
              "      <th>TotalSales</th>\n",
              "      <th>OrderCount</th>\n",
              "    </tr>\n",
              "  </thead>\n",
              "  <tbody>\n",
              "    <tr>\n",
              "      <th>count</th>\n",
              "      <td>1153.000000</td>\n",
              "      <td>1153.000000</td>\n",
              "      <td>1153.000000</td>\n",
              "    </tr>\n",
              "    <tr>\n",
              "      <th>mean</th>\n",
              "      <td>3.752681</td>\n",
              "      <td>713.465742</td>\n",
              "      <td>5.574154</td>\n",
              "    </tr>\n",
              "    <tr>\n",
              "      <th>std</th>\n",
              "      <td>4.026285</td>\n",
              "      <td>4331.187496</td>\n",
              "      <td>7.479132</td>\n",
              "    </tr>\n",
              "    <tr>\n",
              "      <th>min</th>\n",
              "      <td>0.000000</td>\n",
              "      <td>1.000000</td>\n",
              "      <td>1.000000</td>\n",
              "    </tr>\n",
              "    <tr>\n",
              "      <th>25%</th>\n",
              "      <td>0.000000</td>\n",
              "      <td>20.000000</td>\n",
              "      <td>1.000000</td>\n",
              "    </tr>\n",
              "    <tr>\n",
              "      <th>50%</th>\n",
              "      <td>2.666667</td>\n",
              "      <td>114.000000</td>\n",
              "      <td>2.000000</td>\n",
              "    </tr>\n",
              "    <tr>\n",
              "      <th>75%</th>\n",
              "      <td>7.000000</td>\n",
              "      <td>500.000000</td>\n",
              "      <td>7.000000</td>\n",
              "    </tr>\n",
              "    <tr>\n",
              "      <th>max</th>\n",
              "      <td>14.000000</td>\n",
              "      <td>104042.000000</td>\n",
              "      <td>55.000000</td>\n",
              "    </tr>\n",
              "  </tbody>\n",
              "</table>\n",
              "</div>"
            ],
            "text/plain": [
              "       Intervaldays     TotalSales   OrderCount\n",
              "count   1153.000000    1153.000000  1153.000000\n",
              "mean       3.752681     713.465742     5.574154\n",
              "std        4.026285    4331.187496     7.479132\n",
              "min        0.000000       1.000000     1.000000\n",
              "25%        0.000000      20.000000     1.000000\n",
              "50%        2.666667     114.000000     2.000000\n",
              "75%        7.000000     500.000000     7.000000\n",
              "max       14.000000  104042.000000    55.000000"
            ]
          },
          "metadata": {},
          "execution_count": 48
        }
      ]
    },
    {
      "cell_type": "code",
      "source": [
        "from sklearn.preprocessing import RobustScaler\n",
        "\n",
        "# 변형 객체 생성\n",
        "robust_scaler = RobustScaler()\n",
        "\n",
        "# 훈련데이터의 모수 분포 저장\n",
        "robust_scaler.fit(id_df)\n",
        "scaled_data = robust_scaler.transform(id_df)"
      ],
      "metadata": {
        "id": "NSeBQ7GeW43W"
      },
      "execution_count": 141,
      "outputs": []
    },
    {
      "cell_type": "code",
      "source": [
        "km = KMeans(n_clusters = 3, random_state = 10).fit(scaled_data)"
      ],
      "metadata": {
        "id": "NHa5A3L9Zqwx"
      },
      "execution_count": 142,
      "outputs": []
    },
    {
      "cell_type": "code",
      "source": [
        "centroid = km.cluster_centers_"
      ],
      "metadata": {
        "id": "vODnMRhlZt3E"
      },
      "execution_count": 143,
      "outputs": []
    },
    {
      "cell_type": "code",
      "source": [
        "print(\"표준화 군집중심 : \\n\", centroid)"
      ],
      "metadata": {
        "colab": {
          "base_uri": "https://localhost:8080/"
        },
        "id": "hAA7pC3kaI-7",
        "outputId": "7c170ab3-f5d5-42f4-c5ff-f1fc59efbd0e"
      },
      "execution_count": 144,
      "outputs": [
        {
          "output_type": "stream",
          "name": "stdout",
          "text": [
            "표준화 군집중심 : \n",
            " [[  0.57555259   0.83029922   0.41024675]\n",
            " [ -0.20227102  28.6322275    3.24204401]\n",
            " [ -0.35776948 136.38797418   6.12765957]]\n"
          ]
        }
      ]
    },
    {
      "cell_type": "code",
      "source": [
        "# 스케일링 된 결과 값으로 본래 값을 구할 수도 있다.\n",
        "origin = robust_scaler.inverse_transform(centroid)"
      ],
      "metadata": {
        "id": "PAYACfZ0Y1zz"
      },
      "execution_count": 139,
      "outputs": []
    },
    {
      "cell_type": "code",
      "source": [
        "Original_centroid = robust_scaler.inverse_transform(centroid)\n",
        "print(\"표준화 군집중심 : \\n\", Original_centroid)"
      ],
      "metadata": {
        "colab": {
          "base_uri": "https://localhost:8080/"
        },
        "id": "hRjWLW72ZGVU",
        "outputId": "4afcffd4-f76c-4915-ccf9-092fc368ade7"
      },
      "execution_count": 145,
      "outputs": [
        {
          "output_type": "stream",
          "name": "stdout",
          "text": [
            "표준화 군집중심 : \n",
            " [[2.63857337e+01 1.95363991e+04 4.12815972e+01]\n",
            " [8.02545757e+00 5.56502842e+05 1.74376068e+02]\n",
            " [4.35496640e+00 2.63769733e+06 3.10000000e+02]]\n"
          ]
        }
      ]
    },
    {
      "cell_type": "code",
      "source": [
        "centroid_df = pd.DataFrame(Original_centroid, columns = id_df.columns)\n",
        "id_df_mean = id_df.mean()\n",
        "centroid_df.loc['average'] = id_df_mean\n",
        "display(centroid_df)"
      ],
      "metadata": {
        "colab": {
          "base_uri": "https://localhost:8080/",
          "height": 174
        },
        "id": "s8SEzqp5ZJb6",
        "outputId": "56496316-805b-4ffd-988d-63ecc260bb8d"
      },
      "execution_count": 146,
      "outputs": [
        {
          "output_type": "display_data",
          "data": {
            "text/html": [
              "<div>\n",
              "<style scoped>\n",
              "    .dataframe tbody tr th:only-of-type {\n",
              "        vertical-align: middle;\n",
              "    }\n",
              "\n",
              "    .dataframe tbody tr th {\n",
              "        vertical-align: top;\n",
              "    }\n",
              "\n",
              "    .dataframe thead th {\n",
              "        text-align: right;\n",
              "    }\n",
              "</style>\n",
              "<table border=\"1\" class=\"dataframe\">\n",
              "  <thead>\n",
              "    <tr style=\"text-align: right;\">\n",
              "      <th></th>\n",
              "      <th>Intervaldays</th>\n",
              "      <th>TotalSales</th>\n",
              "      <th>OrderCount</th>\n",
              "    </tr>\n",
              "  </thead>\n",
              "  <tbody>\n",
              "    <tr>\n",
              "      <th>0</th>\n",
              "      <td>26.385734</td>\n",
              "      <td>1.953640e+04</td>\n",
              "      <td>41.281597</td>\n",
              "    </tr>\n",
              "    <tr>\n",
              "      <th>1</th>\n",
              "      <td>8.025458</td>\n",
              "      <td>5.565028e+05</td>\n",
              "      <td>174.376068</td>\n",
              "    </tr>\n",
              "    <tr>\n",
              "      <th>2</th>\n",
              "      <td>4.354966</td>\n",
              "      <td>2.637697e+06</td>\n",
              "      <td>310.000000</td>\n",
              "    </tr>\n",
              "    <tr>\n",
              "      <th>average</th>\n",
              "      <td>25.897282</td>\n",
              "      <td>3.635851e+04</td>\n",
              "      <td>44.962515</td>\n",
              "    </tr>\n",
              "  </tbody>\n",
              "</table>\n",
              "</div>"
            ],
            "text/plain": [
              "         Intervaldays    TotalSales  OrderCount\n",
              "0           26.385734  1.953640e+04   41.281597\n",
              "1            8.025458  5.565028e+05  174.376068\n",
              "2            4.354966  2.637697e+06  310.000000\n",
              "average     25.897282  3.635851e+04   44.962515"
            ]
          },
          "metadata": {}
        }
      ]
    }
  ]
}