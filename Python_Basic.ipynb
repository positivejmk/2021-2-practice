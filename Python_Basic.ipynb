{
  "nbformat": 4,
  "nbformat_minor": 0,
  "metadata": {
    "colab": {
      "name": "Python_Basic.ipynb",
      "provenance": [],
      "collapsed_sections": [],
      "toc_visible": true,
      "authorship_tag": "ABX9TyOde1dfl/hBxSZiBlsqGaz7",
      "include_colab_link": true
    },
    "kernelspec": {
      "name": "python3",
      "display_name": "Python 3"
    },
    "language_info": {
      "name": "python"
    }
  },
  "cells": [
    {
      "cell_type": "markdown",
      "metadata": {
        "id": "view-in-github",
        "colab_type": "text"
      },
      "source": [
        "<a href=\"https://colab.research.google.com/github/positivejmk/2021-2-practice/blob/master/Python_Basic.ipynb\" target=\"_parent\"><img src=\"https://colab.research.google.com/assets/colab-badge.svg\" alt=\"Open In Colab\"/></a>"
      ]
    },
    {
      "cell_type": "markdown",
      "source": [
        "# 데이터 타입과 컬렉션"
      ],
      "metadata": {
        "id": "Px68tN0GhUHQ"
      }
    },
    {
      "cell_type": "markdown",
      "source": [
        "### Print 함수"
      ],
      "metadata": {
        "id": "q0PZU0srhZLu"
      }
    },
    {
      "cell_type": "code",
      "execution_count": 1,
      "metadata": {
        "colab": {
          "base_uri": "https://localhost:8080/"
        },
        "id": "pCJSwSvbcoZr",
        "outputId": "404f2d65-fe60-4775-a68c-8b4a6faa0cb7"
      },
      "outputs": [
        {
          "output_type": "stream",
          "name": "stdout",
          "text": [
            "10,100,11.4!!"
          ]
        }
      ],
      "source": [
        "# Print -- sep = ' ', end = \\n 이 디폴트 값이다. \n",
        "print(10, 100, 11.4, sep = ',', end ='!!')"
      ]
    },
    {
      "cell_type": "markdown",
      "source": [
        "### 변수명 설정"
      ],
      "metadata": {
        "id": "Ut_e6tqYhcIQ"
      }
    },
    {
      "cell_type": "code",
      "source": [
        "# 예약어 : 파이썬에서 미리 선점해서 사용중인 키워드 (for, while, if, elif, else, class, try, except, ...)\n",
        "# 예약어는 변수명으로 사용 불가, 숫자로 시작하는 변수명은 사용 불가. \n",
        "# 두 경우 모두 앞에 언더바 붙이면 사용 가능\n",
        "\n",
        "_class = 1\n",
        "print(_class)"
      ],
      "metadata": {
        "colab": {
          "base_uri": "https://localhost:8080/"
        },
        "id": "VKuYDq3FdNr4",
        "outputId": "12111c9a-9767-4890-c65a-19560ea35315"
      },
      "execution_count": 2,
      "outputs": [
        {
          "output_type": "stream",
          "name": "stdout",
          "text": [
            "1\n"
          ]
        }
      ]
    },
    {
      "cell_type": "markdown",
      "source": [
        "### type()"
      ],
      "metadata": {
        "id": "6TyFNotmhdz1"
      }
    },
    {
      "cell_type": "code",
      "source": [
        "# 데이터 타입을 알아보는 함수 : type()\n",
        "# 정수형, 실수형, \n",
        "\n",
        "c = None\n",
        "type(c)"
      ],
      "metadata": {
        "colab": {
          "base_uri": "https://localhost:8080/"
        },
        "id": "v7ia3mtWeEHK",
        "outputId": "7f973eda-f11a-4441-8951-4ccb66a015b6"
      },
      "execution_count": 5,
      "outputs": [
        {
          "output_type": "execute_result",
          "data": {
            "text/plain": [
              "NoneType"
            ]
          },
          "metadata": {},
          "execution_count": 5
        }
      ]
    },
    {
      "cell_type": "markdown",
      "source": [
        "### 숫자형"
      ],
      "metadata": {
        "id": "bLIzkgeehgIx"
      }
    },
    {
      "cell_type": "code",
      "source": [
        "# 숫자형의 비교 연산자는 bool타입(T/F)로 출력됨\n",
        "a = 5\n",
        "b = 4\n",
        "\n",
        "print(a>b)\n",
        "print(a>=b)\n",
        "print(a==b)\n",
        "print(a!=b)\n",
        "\n",
        "# 숫자형의 기본 연산 (+ , - , * , / , % , ** --지수연산)\n",
        "print(a + b)\n",
        "print(a - b)\n",
        "print(a % b)\n",
        "print(a ** b)\n",
        "\n",
        "# 연산 순위는 기본적인 수학 연산자와 동일하고, 순서를 강제하고 싶으면 ()로 지정\n",
        "print(a+b*3)\n",
        "print((a+b)*3)"
      ],
      "metadata": {
        "colab": {
          "base_uri": "https://localhost:8080/"
        },
        "id": "1GW_fmcBeJJ1",
        "outputId": "29dcc66b-162b-409f-b69e-1b0cb4f0f2c1"
      },
      "execution_count": 9,
      "outputs": [
        {
          "output_type": "stream",
          "name": "stdout",
          "text": [
            "True\n",
            "True\n",
            "False\n",
            "True\n",
            "9\n",
            "1\n",
            "1\n",
            "625\n",
            "17\n",
            "27\n"
          ]
        }
      ]
    },
    {
      "cell_type": "markdown",
      "source": [
        "### 문자형"
      ],
      "metadata": {
        "id": "7JfG6KbIhh73"
      }
    },
    {
      "cell_type": "code",
      "source": [
        "# 문자형\n",
        "\n",
        "# \" \", ' '의 차이는 문자열 사이에 작은 따옴표 , 큰 따옴표 쓰고 싶은 경우에 구분지어서 사용하기.\n",
        "a = '\"Hello!\" World'\n",
        "b = \"Hello's World \\nHi\"\n",
        "\n",
        "print(a)\n",
        "print(b)\n",
        "\n",
        "# 여러 줄에 걸친 문자열 생성! 즉 줄바꿈 반영하고 싶다면 \"\"\" , '''으로 감싸라!\n",
        "\n",
        "c = \"\"\"\n",
        "Hello\n",
        "World\n",
        "\"\"\"\n",
        "d = '''Hello\n",
        "\n",
        "\n",
        "World'''\n",
        "\n",
        "print(c)\n",
        "print(d)"
      ],
      "metadata": {
        "colab": {
          "base_uri": "https://localhost:8080/"
        },
        "id": "VMg_zILgfK9Q",
        "outputId": "9774838d-fa52-4082-d2dd-2491d96c320c"
      },
      "execution_count": 20,
      "outputs": [
        {
          "output_type": "stream",
          "name": "stdout",
          "text": [
            "\"Hello!\" World\n",
            "Hello's World \n",
            "Hi\n",
            "\n",
            "Hello\n",
            "World\n",
            "\n",
            "Hello\n",
            "\n",
            "\n",
            "World\n"
          ]
        }
      ]
    },
    {
      "cell_type": "code",
      "source": [
        "# 인덱스 -- 0부터 시작, 띄어쓰기도 포함\n",
        "# 유효한 범위를 넘어서면 에러가 뜹니다. Index Error\n",
        "\n",
        "a = 'Hello World'\n",
        "print(a[10])\n",
        "print(a[-1]) # 마지막 문자 가져오기\n",
        "print(a[-11])"
      ],
      "metadata": {
        "colab": {
          "base_uri": "https://localhost:8080/"
        },
        "id": "TDZMIc-rg7Sy",
        "outputId": "91daf98e-b8d7-4d95-cbcd-09bfcb205122"
      },
      "execution_count": 24,
      "outputs": [
        {
          "output_type": "stream",
          "name": "stdout",
          "text": [
            "d\n",
            "d\n",
            "H\n"
          ]
        }
      ]
    },
    {
      "cell_type": "code",
      "source": [
        "# 슬라이싱\n",
        "print(a[0:4]) # -- 맨 끝 숫자는 포함하지 않아! 인덱스 0부터 3까지의 문자 가져오기\n",
        "print(a[:11])\n",
        "print(a[:5])\n",
        "print(a[3:])\n",
        "print(a[-1:])\n",
        "print(a[:-1])\n",
        "print(a[-3:-1])\n",
        "print(a[:])"
      ],
      "metadata": {
        "colab": {
          "base_uri": "https://localhost:8080/"
        },
        "id": "sCHsavyqhskV",
        "outputId": "75175aaa-cf77-4f13-b7ca-04842a540bb7"
      },
      "execution_count": 32,
      "outputs": [
        {
          "output_type": "stream",
          "name": "stdout",
          "text": [
            "Hell\n",
            "Hello World\n",
            "Hello\n",
            "lo World\n",
            "d\n",
            "Hello Worl\n",
            "rl\n",
            "Hello World\n"
          ]
        }
      ]
    },
    {
      "cell_type": "code",
      "source": [
        "# replace\n",
        "a = 'hello world'\n",
        "a.replace('h', 'j')"
      ],
      "metadata": {
        "colab": {
          "base_uri": "https://localhost:8080/",
          "height": 36
        },
        "id": "twgoRgsLiCWP",
        "outputId": "ff4658dc-1f0e-4588-b428-95dc987fdfeb"
      },
      "execution_count": 33,
      "outputs": [
        {
          "output_type": "execute_result",
          "data": {
            "text/plain": [
              "'jello world'"
            ],
            "application/vnd.google.colaboratory.intrinsic+json": {
              "type": "string"
            }
          },
          "metadata": {},
          "execution_count": 33
        }
      ]
    },
    {
      "cell_type": "code",
      "source": [
        "# format -- 동적 문자열 생성\n",
        "temp = 17\n",
        "prob = 80\n",
        "\n",
        "a = '오늘 기온{}도 이고, 비올 확률은 {}%입니다.'.format(temp, prob)\n",
        "print(a)"
      ],
      "metadata": {
        "colab": {
          "base_uri": "https://localhost:8080/"
        },
        "id": "0ASlyPGEi38Y",
        "outputId": "32f0452f-2408-4fc7-a4ac-92805a750135"
      },
      "execution_count": 35,
      "outputs": [
        {
          "output_type": "stream",
          "name": "stdout",
          "text": [
            "오늘 기온17도 이고, 비올 확률은 80%입니다.\n"
          ]
        }
      ]
    },
    {
      "cell_type": "code",
      "source": [
        "# split\n",
        "a = 'hello world what a nice weather'\n",
        "print(a.split()) # --기본값은 띄어쓰기로 문자열을 나눠줌\n",
        "print(a.split('w'))"
      ],
      "metadata": {
        "colab": {
          "base_uri": "https://localhost:8080/"
        },
        "id": "6rFF3zvkjEG8",
        "outputId": "c3bf3c33-0bd0-4e70-f688-bfbb0c96f73f"
      },
      "execution_count": 37,
      "outputs": [
        {
          "output_type": "stream",
          "name": "stdout",
          "text": [
            "['hello', 'world', 'what', 'a', 'nice', 'weather']\n",
            "['hello ', 'orld ', 'hat a nice ', 'eather']\n"
          ]
        }
      ]
    },
    {
      "cell_type": "markdown",
      "source": [
        "### List"
      ],
      "metadata": {
        "id": "EVW_fUXRhE72"
      }
    },
    {
      "cell_type": "markdown",
      "source": [
        "```List&Tuple```\n",
        "\n",
        "* 공통점 : 복수개의 값을 담을 수 있는 데이터 구조 \n",
        "* 차이점: \n",
        " * 리스트 - 데이터의 크기에 따라서 동적으로 바뀔 수 있음.\n",
        " * 튜플 - 한 번 생성하면 변경 불가능"
      ],
      "metadata": {
        "id": "liLYolOojmQr"
      }
    },
    {
      "cell_type": "code",
      "source": [
        "a = []\n",
        "print(a)\n",
        "type(a)"
      ],
      "metadata": {
        "colab": {
          "base_uri": "https://localhost:8080/"
        },
        "id": "hNHxHptDj-MD",
        "outputId": "ac9e570b-7e9e-4cce-ec7e-f6810210aef5"
      },
      "execution_count": 38,
      "outputs": [
        {
          "output_type": "stream",
          "name": "stdout",
          "text": [
            "[]\n"
          ]
        },
        {
          "output_type": "execute_result",
          "data": {
            "text/plain": [
              "list"
            ]
          },
          "metadata": {},
          "execution_count": 38
        }
      ]
    },
    {
      "cell_type": "code",
      "source": [
        "a = [1, 2, 3, 5, 10]\n",
        "print(a)\n",
        "\n",
        "a = ['korea', 'canada', 1, 23, [34, 56]] # --문자열, 리스트 안의 리스트 등 다 삽입 가능\n",
        "print(a)"
      ],
      "metadata": {
        "colab": {
          "base_uri": "https://localhost:8080/"
        },
        "id": "hliyc8yJkRMd",
        "outputId": "b62adb44-5b4b-4f96-894e-17d098f91775"
      },
      "execution_count": 41,
      "outputs": [
        {
          "output_type": "stream",
          "name": "stdout",
          "text": [
            "[1, 2, 3, 5, 10]\n",
            "['korea', 'canada', 1, 23, [34, 56]]\n"
          ]
        }
      ]
    },
    {
      "cell_type": "code",
      "source": [
        "a = 'hello world'\n",
        "b = list(a) # -- 자동으로 한 글자씩 끊어서 리스트로 저장\n",
        "print(b)"
      ],
      "metadata": {
        "colab": {
          "base_uri": "https://localhost:8080/"
        },
        "id": "HdaaIeRxkVAc",
        "outputId": "c3d536fc-d465-498f-f304-a851d8d3ff4c"
      },
      "execution_count": 42,
      "outputs": [
        {
          "output_type": "stream",
          "name": "stdout",
          "text": [
            "['h', 'e', 'l', 'l', 'o', ' ', 'w', 'o', 'r', 'l', 'd']\n"
          ]
        }
      ]
    },
    {
      "cell_type": "code",
      "source": [
        "a = 'hello world nice weather'\n",
        "b = a.split() # -- split함수로 인해 자동으로 띄어쓰기 기준으로 끊어서 리스트로 저장\n",
        "print(b)"
      ],
      "metadata": {
        "colab": {
          "base_uri": "https://localhost:8080/"
        },
        "id": "Q_4mYrDOknXy",
        "outputId": "d519bf56-5b51-40cd-ddda-d3ebf1a7a607"
      },
      "execution_count": 45,
      "outputs": [
        {
          "output_type": "stream",
          "name": "stdout",
          "text": [
            "['hello', 'world', 'nice', 'weather']\n"
          ]
        }
      ]
    },
    {
      "cell_type": "code",
      "source": [
        "# 인덱스\n",
        "a = [1, 2, 3, 4, 5, 6]\n",
        "print(a[2])\n",
        "print(a[5])"
      ],
      "metadata": {
        "colab": {
          "base_uri": "https://localhost:8080/"
        },
        "id": "A6LRhO92ktmN",
        "outputId": "ca64f91e-512e-4641-fa18-247aa98a81a3"
      },
      "execution_count": 46,
      "outputs": [
        {
          "output_type": "stream",
          "name": "stdout",
          "text": [
            "3\n",
            "6\n"
          ]
        }
      ]
    },
    {
      "cell_type": "code",
      "source": [
        "# 문자열 및 튜플은 불변(immutable) 객체, 리스트는 동적 타입. \n",
        "# 따라서 문자열, 튜플은 새로운 문자열로 대체 등의 방식을 사용해야 함.\n",
        "\n",
        "a = 'hello world'\n",
        "print(a[0])\n",
        "\n",
        "b = 'hello world'\n",
        "c = 'j' + a[1:]\n",
        "\n",
        "d = a.replace('h', 'j')\n",
        "\n",
        "print(a)\n",
        "print(b)\n",
        "print(c)\n",
        "print(d)"
      ],
      "metadata": {
        "colab": {
          "base_uri": "https://localhost:8080/"
        },
        "id": "2ee877Q5lAo4",
        "outputId": "ef0776de-ea5f-458f-8349-a6dada8c2c08"
      },
      "execution_count": 49,
      "outputs": [
        {
          "output_type": "stream",
          "name": "stdout",
          "text": [
            "h\n",
            "hello world\n",
            "hello world\n",
            "jello world\n",
            "jello world\n"
          ]
        }
      ]
    },
    {
      "cell_type": "code",
      "source": [
        "# list는 인덱스를 이용해서 업데이트도 가능\n",
        "a = [1, 2, 3, 4, 5]\n",
        "print(a)\n",
        "\n",
        "a[0] = 100\n",
        "a[-1] = 90\n",
        "print(a)"
      ],
      "metadata": {
        "colab": {
          "base_uri": "https://localhost:8080/"
        },
        "id": "d3JOOKfStviT",
        "outputId": "918396a2-4c66-4d3d-f5b7-ecf90ecf1063"
      },
      "execution_count": 50,
      "outputs": [
        {
          "output_type": "stream",
          "name": "stdout",
          "text": [
            "[1, 2, 3, 4, 5]\n",
            "[100, 2, 3, 4, 90]\n"
          ]
        }
      ]
    },
    {
      "cell_type": "code",
      "source": [
        "# 슬라이싱\n",
        "a = [1, 2, 3, 4, 5]\n",
        "\n",
        "# start : end : increment ( increment 의 디폴트 값은 1 )\n",
        "a[1:7:2]"
      ],
      "metadata": {
        "colab": {
          "base_uri": "https://localhost:8080/"
        },
        "id": "tKYg266-85yc",
        "outputId": "77f75585-f472-4c0a-c15f-b285889c281f"
      },
      "execution_count": 51,
      "outputs": [
        {
          "output_type": "execute_result",
          "data": {
            "text/plain": [
              "[2, 4]"
            ]
          },
          "metadata": {},
          "execution_count": 51
        }
      ]
    },
    {
      "cell_type": "code",
      "source": [
        "# 멤버함수\n",
        "# .append()\n",
        "a = [1, 2, 3, 4, 5]\n",
        "a.append(10)\n",
        "print(a)"
      ],
      "metadata": {
        "colab": {
          "base_uri": "https://localhost:8080/"
        },
        "id": "wtL28I_feOI0",
        "outputId": "56f339ef-385f-433d-ad6e-6ff309df9cb6"
      },
      "execution_count": 62,
      "outputs": [
        {
          "output_type": "stream",
          "name": "stdout",
          "text": [
            "[1, 2, 3, 4, 5, 10]\n"
          ]
        }
      ]
    },
    {
      "cell_type": "code",
      "source": [
        "# .extend()\n",
        "\n",
        "# append 를 이용하면 리스트 형식 그대로 원소가 추가되어 버림.\n",
        "a = [1, 2, 3, 4, 5]\n",
        "b = [6, 7, 8, 9, 10]\n",
        "a.append(b)\n",
        "print(a)"
      ],
      "metadata": {
        "colab": {
          "base_uri": "https://localhost:8080/"
        },
        "id": "oxUgdKX9ejpB",
        "outputId": "fed9c8e1-4976-4737-99e2-3338f8bd99b1"
      },
      "execution_count": 65,
      "outputs": [
        {
          "output_type": "stream",
          "name": "stdout",
          "text": [
            "[1, 2, 3, 4, 5, [6, 7, 8, 9, 10]]\n"
          ]
        }
      ]
    },
    {
      "cell_type": "code",
      "source": [
        "# 리스트에 각각 원소로 넣으려면 extend 이용.\n",
        "\n",
        "a = [1, 2, 3, 4, 5]\n",
        "b = [6, 7, 8, 9, 10]\n",
        "a.extend(b)\n",
        "print(a)"
      ],
      "metadata": {
        "colab": {
          "base_uri": "https://localhost:8080/"
        },
        "id": "NfIsBDHTfi5t",
        "outputId": "ff497cd3-006d-43f9-cb89-3f49611de552"
      },
      "execution_count": 66,
      "outputs": [
        {
          "output_type": "stream",
          "name": "stdout",
          "text": [
            "[1, 2, 3, 4, 5, 6, 7, 8, 9, 10]\n"
          ]
        }
      ]
    },
    {
      "cell_type": "code",
      "source": [
        "# extend는 += 와 같음.\n",
        "\n",
        "a = [1, 2, 3, 4, 5]\n",
        "b = [6, 7, 8, 9, 10]\n",
        "a += b\n",
        "print(a)"
      ],
      "metadata": {
        "colab": {
          "base_uri": "https://localhost:8080/"
        },
        "id": "atL-8AcBfklW",
        "outputId": "cbd4ed51-0884-492e-9149-cef1b7d6225a"
      },
      "execution_count": 67,
      "outputs": [
        {
          "output_type": "stream",
          "name": "stdout",
          "text": [
            "[1, 2, 3, 4, 5, 6, 7, 8, 9, 10]\n"
          ]
        }
      ]
    },
    {
      "cell_type": "code",
      "source": [
        "# 그냥 +로 연산해도 같은 결과.\n",
        "\n",
        "a = [1, 2, 3, 4, 5]\n",
        "b = [6, 7, 8, 9, 10]\n",
        "print(a + b)"
      ],
      "metadata": {
        "colab": {
          "base_uri": "https://localhost:8080/"
        },
        "id": "DKtnxnF6fr44",
        "outputId": "e1f86ee7-7e29-41c2-fd54-10611af12c26"
      },
      "execution_count": 68,
      "outputs": [
        {
          "output_type": "stream",
          "name": "stdout",
          "text": [
            "[1, 2, 3, 4, 5, 6, 7, 8, 9, 10]\n"
          ]
        }
      ]
    },
    {
      "cell_type": "code",
      "source": [
        "# insert(index, value) -- 특정 인덱스에 값 추가해주고 싶을 때\n",
        "\n",
        "a = [1, 3, 4, 5, 6]\n",
        "a.insert(1, 2)\n",
        "print(a)"
      ],
      "metadata": {
        "colab": {
          "base_uri": "https://localhost:8080/"
        },
        "id": "lqE4PVGUfvSb",
        "outputId": "8740b2ea-c51f-4f13-e067-04f4fba724e3"
      },
      "execution_count": 70,
      "outputs": [
        {
          "output_type": "stream",
          "name": "stdout",
          "text": [
            "[1, 2, 3, 4, 5, 6]\n"
          ]
        }
      ]
    },
    {
      "cell_type": "code",
      "source": [
        "# remove\n",
        "a = [1, 2, 3, 4, 5]\n",
        "a.remove(2)\n",
        "print(a)"
      ],
      "metadata": {
        "colab": {
          "base_uri": "https://localhost:8080/"
        },
        "id": "oUJmlJCbgZHA",
        "outputId": "01c2e1f5-3513-4dff-c789-a07101a42633"
      },
      "execution_count": 73,
      "outputs": [
        {
          "output_type": "stream",
          "name": "stdout",
          "text": [
            "[1, 3, 4, 5]\n"
          ]
        }
      ]
    },
    {
      "cell_type": "code",
      "source": [
        "a = [1, 2, 30, 30, 4, 5]\n",
        "a.remove(30) # 처음으로 나온 값을 제거 , 없는 값을 입력하면 ValueError 오류가 난다. \n",
        "print(a)"
      ],
      "metadata": {
        "colab": {
          "base_uri": "https://localhost:8080/"
        },
        "id": "V9_cwNz5gfev",
        "outputId": "2cc8b5c3-fc76-4d99-e42c-dbe02df3a8db"
      },
      "execution_count": 74,
      "outputs": [
        {
          "output_type": "stream",
          "name": "stdout",
          "text": [
            "[1, 2, 30, 4, 5]\n"
          ]
        }
      ]
    },
    {
      "cell_type": "code",
      "source": [
        "# pop -- 인덱스로 지우기, 디폴트 값은 맨 마지막 값 지움.\n",
        "\n",
        "a = [1, 2, 3, 4, 5]\n",
        "d = a.pop(2) \n",
        "\n",
        "print(a)\n",
        "print(d)"
      ],
      "metadata": {
        "colab": {
          "base_uri": "https://localhost:8080/"
        },
        "id": "MtfQIcd8gvU9",
        "outputId": "51866812-aaf9-4d27-e23c-5cc67b2b8c68"
      },
      "execution_count": 76,
      "outputs": [
        {
          "output_type": "stream",
          "name": "stdout",
          "text": [
            "[1, 2, 4, 5]\n",
            "3\n"
          ]
        }
      ]
    },
    {
      "cell_type": "code",
      "source": [
        "# index --  찾고 싶은 값의 인덱스 반환\n",
        "a = [1, 2, 3, 4, 5]\n",
        "a.index(2)"
      ],
      "metadata": {
        "colab": {
          "base_uri": "https://localhost:8080/"
        },
        "id": "44SEqVNRgymL",
        "outputId": "0b426846-0753-4073-9d5c-dae883e1c0df"
      },
      "execution_count": 77,
      "outputs": [
        {
          "output_type": "execute_result",
          "data": {
            "text/plain": [
              "1"
            ]
          },
          "metadata": {},
          "execution_count": 77
        }
      ]
    },
    {
      "cell_type": "code",
      "source": [
        "a = [1, 1, 1, 2, 3, 4, 5]\n",
        "a.count(1)"
      ],
      "metadata": {
        "colab": {
          "base_uri": "https://localhost:8080/"
        },
        "id": "wA5etrHThbCD",
        "outputId": "2034b54c-334f-4621-c92a-1fcc6eaec920"
      },
      "execution_count": 82,
      "outputs": [
        {
          "output_type": "execute_result",
          "data": {
            "text/plain": [
              "3"
            ]
          },
          "metadata": {},
          "execution_count": 82
        }
      ]
    },
    {
      "cell_type": "code",
      "source": [
        "a = [1, 2, 3, 4, 5]\n",
        "a.clear()\n",
        "a"
      ],
      "metadata": {
        "colab": {
          "base_uri": "https://localhost:8080/"
        },
        "id": "kFn6KEcLheEk",
        "outputId": "7c6c9322-b3cf-45bb-fc8a-72bcfebb725f"
      },
      "execution_count": 83,
      "outputs": [
        {
          "output_type": "execute_result",
          "data": {
            "text/plain": [
              "[]"
            ]
          },
          "metadata": {},
          "execution_count": 83
        }
      ]
    },
    {
      "cell_type": "code",
      "source": [
        "a = [1, 2, 3, 4, 5]\n",
        "a.reverse()\n",
        "a"
      ],
      "metadata": {
        "colab": {
          "base_uri": "https://localhost:8080/"
        },
        "id": "ez97gwQdhmZV",
        "outputId": "d6f2b321-e644-4e24-d294-1bb05d3be187"
      },
      "execution_count": 84,
      "outputs": [
        {
          "output_type": "execute_result",
          "data": {
            "text/plain": [
              "[5, 4, 3, 2, 1]"
            ]
          },
          "metadata": {},
          "execution_count": 84
        }
      ]
    },
    {
      "cell_type": "code",
      "source": [
        "a = [1, 40, 2, 3, 4, 5]\n",
        "#a.sort()\n",
        "a.sort(reverse = True)\n",
        "a"
      ],
      "metadata": {
        "colab": {
          "base_uri": "https://localhost:8080/"
        },
        "id": "3NlRgs0UhsDe",
        "outputId": "b1e279fa-ab50-464b-e0ec-0181ed5f84b6"
      },
      "execution_count": 92,
      "outputs": [
        {
          "output_type": "execute_result",
          "data": {
            "text/plain": [
              "[40, 5, 4, 3, 2, 1]"
            ]
          },
          "metadata": {},
          "execution_count": 92
        }
      ]
    },
    {
      "cell_type": "code",
      "source": [
        "a = [1, 2, 3, 4, 5, 10]\n",
        "b = sorted(a, reverse = True)\n",
        "b"
      ],
      "metadata": {
        "colab": {
          "base_uri": "https://localhost:8080/"
        },
        "id": "xmQ_G10XicgV",
        "outputId": "ad485259-446d-46cc-e67a-e112bf28b6f5"
      },
      "execution_count": 93,
      "outputs": [
        {
          "output_type": "execute_result",
          "data": {
            "text/plain": [
              "[10, 5, 4, 3, 2, 1]"
            ]
          },
          "metadata": {},
          "execution_count": 93
        }
      ]
    },
    {
      "cell_type": "code",
      "source": [
        "a = [1, 2, 3, 4, 5, 10]\n",
        "b = 7\n",
        "b in a"
      ],
      "metadata": {
        "colab": {
          "base_uri": "https://localhost:8080/"
        },
        "id": "gGfRKmbdhxUM",
        "outputId": "f48737c7-85dd-4e7c-8bc6-f270866a0152"
      },
      "execution_count": 87,
      "outputs": [
        {
          "output_type": "execute_result",
          "data": {
            "text/plain": [
              "False"
            ]
          },
          "metadata": {},
          "execution_count": 87
        }
      ]
    },
    {
      "cell_type": "code",
      "source": [
        "a = [1, 2, 3, 4, 5, 10]\n",
        "b = 10\n",
        "b in a"
      ],
      "metadata": {
        "colab": {
          "base_uri": "https://localhost:8080/"
        },
        "id": "y0p2FxmCh4ut",
        "outputId": "5b2bb478-67ff-49da-bc15-6b40e9048d6a"
      },
      "execution_count": 88,
      "outputs": [
        {
          "output_type": "execute_result",
          "data": {
            "text/plain": [
              "True"
            ]
          },
          "metadata": {},
          "execution_count": 88
        }
      ]
    },
    {
      "cell_type": "markdown",
      "source": [
        "### Tuple"
      ],
      "metadata": {
        "id": "zg2EkUAZh6qj"
      }
    },
    {
      "cell_type": "markdown",
      "source": [
        "튜플은 리스트와 달리 바로 값을 변경하는 것은 안되지만, 여러 쌍의 변수를 동시에 입력하고 싶을 때 편리함."
      ],
      "metadata": {
        "id": "5zgsLJVUisRP"
      }
    },
    {
      "cell_type": "code",
      "source": [
        "a, b, c, d = (1,2,3,4)\n",
        "a, b, c, d"
      ],
      "metadata": {
        "colab": {
          "base_uri": "https://localhost:8080/"
        },
        "id": "ihvyFmJyj28Y",
        "outputId": "bdd1a271-0147-40f3-cd8b-516388952abd"
      },
      "execution_count": 96,
      "outputs": [
        {
          "output_type": "execute_result",
          "data": {
            "text/plain": [
              "(1, 2, 3, 4)"
            ]
          },
          "metadata": {},
          "execution_count": 96
        }
      ]
    },
    {
      "cell_type": "code",
      "source": [
        "# 괄호 생략 가능\n",
        "\n",
        "a, b, c, d = 1,2,3,4 \n",
        "a, b, c, d"
      ],
      "metadata": {
        "colab": {
          "base_uri": "https://localhost:8080/"
        },
        "id": "RZnPZrQ4j5nF",
        "outputId": "cb089293-68d9-4e16-98ad-8502a3fea4a6"
      },
      "execution_count": 97,
      "outputs": [
        {
          "output_type": "execute_result",
          "data": {
            "text/plain": [
              "(1, 2, 3, 4)"
            ]
          },
          "metadata": {},
          "execution_count": 97
        }
      ]
    },
    {
      "cell_type": "code",
      "source": [
        "a, b = 5, 4\n",
        "print(a, b)\n",
        "\n",
        "# temp = a\n",
        "# a = b\n",
        "# b = temp\n",
        "a, b = b, a\n",
        "\n",
        "print(a ,b)"
      ],
      "metadata": {
        "colab": {
          "base_uri": "https://localhost:8080/"
        },
        "id": "j4S8lgZlkAOw",
        "outputId": "359249ca-b7f1-42f6-ed22-cac0feffd1ff"
      },
      "execution_count": 99,
      "outputs": [
        {
          "output_type": "stream",
          "name": "stdout",
          "text": [
            "5 4\n",
            "4 5\n"
          ]
        }
      ]
    },
    {
      "cell_type": "markdown",
      "source": [
        "### Dictionary"
      ],
      "metadata": {
        "id": "YTDmMul1kJzR"
      }
    },
    {
      "cell_type": "markdown",
      "source": [
        "Python에서 가장 많이 쓰는 데이터 유형. \n",
        "- ```키```와 ```값```을 갖는 데이터 구조\n",
        "- **순서를 따지지 않음. 인덱스가 없음**"
      ],
      "metadata": {
        "id": "0YYPPFrZkSHX"
      }
    },
    {
      "cell_type": "code",
      "source": [
        "a = [0, 1, 2, 3, 4, 10, 100, 200, 300]\n",
        "print(a[0])\n",
        "print(a[4])\n",
        "\n",
        "# 리스트의 길이가 얼마나 긴 지와 관계 없이 인덱스를 통해 접근하는 것은 시간이 거의 걸리지 않음.\n",
        "# 딕셔너리도 마찬가지로 키를 알면 그 딕셔너리의 길이와 관계 없이 금방 가져올 수 있음."
      ],
      "metadata": {
        "colab": {
          "base_uri": "https://localhost:8080/"
        },
        "id": "QsNEewcAkZ7L",
        "outputId": "168820e0-5f85-4772-f172-5988ff0f36fd"
      },
      "execution_count": 102,
      "outputs": [
        {
          "output_type": "stream",
          "name": "stdout",
          "text": [
            "0\n",
            "4\n"
          ]
        }
      ]
    },
    {
      "cell_type": "code",
      "source": [
        "a = {'Korea' : 'Seoul', \n",
        "     'Canada' : 'Ottawa',\n",
        "     'USA' : 'Washington D.C'}\n",
        "print(a) # -- 딕셔너리 얘는 인덱싱 불가\n",
        "print(type(a))\n",
        "print(a['Korea'])"
      ],
      "metadata": {
        "colab": {
          "base_uri": "https://localhost:8080/"
        },
        "id": "nWVJiRr6kk4X",
        "outputId": "24df6028-5bae-4c64-d3cf-afe86ae18298"
      },
      "execution_count": 105,
      "outputs": [
        {
          "output_type": "stream",
          "name": "stdout",
          "text": [
            "{'Korea': 'Seoul', 'Canada': 'Ottawa', 'USA': 'Washington D.C'}\n",
            "<class 'dict'>\n",
            "Seoul\n"
          ]
        }
      ]
    },
    {
      "cell_type": "code",
      "source": [
        "b = {0:1,\n",
        "     1:6,\n",
        "     7:9,\n",
        "     8:10}\n",
        "b[0] # -- 여기서 얘는 인덱스 숫자 0이 아니고 key에 있던 0이다."
      ],
      "metadata": {
        "colab": {
          "base_uri": "https://localhost:8080/"
        },
        "id": "gKBl20dcq8K5",
        "outputId": "5c3c40d0-2583-4e00-a046-208418d5d0ae"
      },
      "execution_count": 110,
      "outputs": [
        {
          "output_type": "execute_result",
          "data": {
            "text/plain": [
              "1"
            ]
          },
          "metadata": {},
          "execution_count": 110
        }
      ]
    },
    {
      "cell_type": "code",
      "source": [
        "a = {'Korea' : 'Seoul', \n",
        "     'Canada' : 'Ottawa',\n",
        "     'USA' : 'Washington D.C'}\n",
        "\n",
        "a['Japan'] = 'Tokyo'\n",
        "a['Japan'] = 'Kyoto' # 같은 key 값은 중복이 안됨. 그래서 업데이트 되었음\n",
        "a['Japan_2'] = 'Kyoto' # 값은 얼마든지 중복 가능.\n",
        "a['China'] = 'Beijing'\n",
        "\n",
        "print(a)"
      ],
      "metadata": {
        "colab": {
          "base_uri": "https://localhost:8080/"
        },
        "id": "HMhavmoXrOUG",
        "outputId": "9a384fed-289d-47a8-dc52-a1bde01d6a2a"
      },
      "execution_count": 109,
      "outputs": [
        {
          "output_type": "stream",
          "name": "stdout",
          "text": [
            "{'Korea': 'Seoul', 'Canada': 'Ottawa', 'USA': 'Washington D.C', 'Japan': 'Kyoto', 'Japan_2': 'Kyoto', 'China': 'Beijing'}\n"
          ]
        }
      ]
    },
    {
      "cell_type": "code",
      "source": [
        "# update\n",
        "\n",
        "a = {'a' : 1, 'b' : 2, 'c' :3}\n",
        "b = {'a' : 2, 'd' : 4, 'e' : 5}\n",
        "\n",
        "a.update(b) # 있는 key값은 업데이트 되고 없는 key값은 추가해줌.\n",
        "print(a)"
      ],
      "metadata": {
        "colab": {
          "base_uri": "https://localhost:8080/"
        },
        "id": "P2gMHHP_rjxV",
        "outputId": "6e5bc558-3455-4c93-f828-7d68d8dd7b67"
      },
      "execution_count": 111,
      "outputs": [
        {
          "output_type": "stream",
          "name": "stdout",
          "text": [
            "{'a': 2, 'b': 2, 'c': 3, 'd': 4, 'e': 5}\n"
          ]
        }
      ]
    },
    {
      "cell_type": "code",
      "source": [
        "# del, pop\n",
        "\n",
        "a = {'a' : 1, 'b' : 2, 'c' :3}\n",
        "a.pop('b')\n",
        "print(a)"
      ],
      "metadata": {
        "colab": {
          "base_uri": "https://localhost:8080/"
        },
        "id": "fsZIs_Uqr6tI",
        "outputId": "98e4d8c6-55db-4fe9-defe-d68a6771b3ee"
      },
      "execution_count": 112,
      "outputs": [
        {
          "output_type": "stream",
          "name": "stdout",
          "text": [
            "{'a': 1, 'c': 3}\n"
          ]
        }
      ]
    },
    {
      "cell_type": "code",
      "source": [
        "a = {'a' : 1, 'b' : 2, 'c' :3}\n",
        "\n",
        "del a['b'] # --del은 현재 시스템 노트상에서 아예 지워버리는 것.\n",
        "print(a)"
      ],
      "metadata": {
        "colab": {
          "base_uri": "https://localhost:8080/"
        },
        "id": "9ToIQnuluAb7",
        "outputId": "cc3857ff-9449-401d-a432-44bacf706d51"
      },
      "execution_count": 113,
      "outputs": [
        {
          "output_type": "stream",
          "name": "stdout",
          "text": [
            "{'a': 1, 'c': 3}\n"
          ]
        }
      ]
    },
    {
      "cell_type": "code",
      "source": [
        "print(a)\n",
        "a.clear()\n",
        "print(a)"
      ],
      "metadata": {
        "colab": {
          "base_uri": "https://localhost:8080/"
        },
        "id": "XsxpXMx5uFR5",
        "outputId": "58e17310-dc02-4432-8acf-4ca2447a96e0"
      },
      "execution_count": 114,
      "outputs": [
        {
          "output_type": "stream",
          "name": "stdout",
          "text": [
            "{'a': 1, 'c': 3}\n",
            "{}\n"
          ]
        }
      ]
    },
    {
      "cell_type": "code",
      "source": [
        "a = {'a' : 1, 'b' : 2, 'c' :3}\n",
        "b = [1, 2, 3, 4, 100]\n",
        "\n",
        "print('b' in a)\n",
        "print('d' in a) # 얘는 딕셔너리 키 값만 보는 것이라 성능저하 문제 없음. 값으로는 조회 불가.\n",
        "print(100 in b) # **반면** 얘는 성능 저하 초래됨. 왜냐면 값 하나하나 다 보면서 100 있는지 없는지 봐야되기 때문."
      ],
      "metadata": {
        "colab": {
          "base_uri": "https://localhost:8080/"
        },
        "id": "R2VeRtC7uZwS",
        "outputId": "f23d6950-94d6-475f-bee5-e81079723146"
      },
      "execution_count": 118,
      "outputs": [
        {
          "output_type": "stream",
          "name": "stdout",
          "text": [
            "True\n",
            "False\n",
            "True\n"
          ]
        }
      ]
    },
    {
      "cell_type": "code",
      "source": [
        "print(a['b'])\n",
        "print(a.get('d')) # 이렇게 하면 없는 키 값 입력해도 KeyError 안나고 그냥 None으로 표시"
      ],
      "metadata": {
        "colab": {
          "base_uri": "https://localhost:8080/"
        },
        "id": "PmR9kPfxuejR",
        "outputId": "c7f69d80-8596-4ffe-cb83-c80bf09ecac9"
      },
      "execution_count": 121,
      "outputs": [
        {
          "output_type": "stream",
          "name": "stdout",
          "text": [
            "2\n",
            "None\n"
          ]
        }
      ]
    },
    {
      "cell_type": "code",
      "source": [
        "print(a)\n",
        "\n",
        "print(a.keys())\n",
        "print(a.values())\n",
        "\n",
        "print(list(a.keys()))\n",
        "print(list(a.values()))\n",
        "\n",
        "list(a.items())"
      ],
      "metadata": {
        "colab": {
          "base_uri": "https://localhost:8080/"
        },
        "id": "2nsq_w22u4Oi",
        "outputId": "e4f62569-1ae0-4502-b1c4-3e1bd3612e34"
      },
      "execution_count": 127,
      "outputs": [
        {
          "output_type": "stream",
          "name": "stdout",
          "text": [
            "{'a': 1, 'b': 2, 'c': 3}\n",
            "dict_keys(['a', 'b', 'c'])\n",
            "dict_values([1, 2, 3])\n",
            "['a', 'b', 'c']\n",
            "[1, 2, 3]\n"
          ]
        },
        {
          "output_type": "execute_result",
          "data": {
            "text/plain": [
              "[('a', 1), ('b', 2), ('c', 3)]"
            ]
          },
          "metadata": {},
          "execution_count": 127
        }
      ]
    },
    {
      "cell_type": "markdown",
      "source": [
        "### Set\n",
        "\n",
        "- dictionary에서 key만 활용하는 데이터 구조\n",
        "- 수학의 집합과 같은 것"
      ],
      "metadata": {
        "id": "GNIvv_NJvmFE"
      }
    },
    {
      "cell_type": "code",
      "source": [
        "a = {1, 1, 2, 3, 3, 4, 1, 5}\n",
        "print(a) # 인덱싱 불가. 순서 없음."
      ],
      "metadata": {
        "colab": {
          "base_uri": "https://localhost:8080/"
        },
        "id": "oOv0NxEBvsY8",
        "outputId": "fafeb721-5611-4433-f7e3-3538ac4c3940"
      },
      "execution_count": 128,
      "outputs": [
        {
          "output_type": "stream",
          "name": "stdout",
          "text": [
            "{1, 2, 3, 4, 5}\n"
          ]
        }
      ]
    },
    {
      "cell_type": "code",
      "source": [
        "a = {} # -- 그냥 중괄호로 하면 딕셔너리로 인식함.\n",
        "b = set() # 빈 집합 만들려면 이렇게 해야 함.\n",
        "\n",
        "print(a)\n",
        "print(b)"
      ],
      "metadata": {
        "colab": {
          "base_uri": "https://localhost:8080/"
        },
        "id": "_d_m11-YwQwF",
        "outputId": "cc852811-0fd4-49cc-fb34-c2bb192f4ea4"
      },
      "execution_count": 129,
      "outputs": [
        {
          "output_type": "stream",
          "name": "stdout",
          "text": [
            "{}\n",
            "set()\n"
          ]
        }
      ]
    },
    {
      "cell_type": "code",
      "source": [
        "a = [1, 1, 2, 3, 3, 4, 1, 5]\n",
        "b = set(a) # 중복 없는 집합으로 만들어 줌. 왜냐면 순서 정보 없으니까.\n",
        "print(b)"
      ],
      "metadata": {
        "colab": {
          "base_uri": "https://localhost:8080/"
        },
        "id": "pvXKoe3bwX_7",
        "outputId": "d176f0f0-8182-48f5-d078-781a45859afc"
      },
      "execution_count": 130,
      "outputs": [
        {
          "output_type": "stream",
          "name": "stdout",
          "text": [
            "{1, 2, 3, 4, 5}\n"
          ]
        }
      ]
    },
    {
      "cell_type": "code",
      "source": [
        "# 합,차,교집합 다 가능\n",
        "\n",
        "a = {1, 2, 3}\n",
        "b = {2, 3, 4}\n",
        "\n",
        "print(a.union(b))\n",
        "print(a.intersection(b))\n",
        "print(a.difference(b))\n",
        "print(a.issubset(b)) # 부분집합인지 아닌지"
      ],
      "metadata": {
        "colab": {
          "base_uri": "https://localhost:8080/"
        },
        "id": "1iHg08JSwkQh",
        "outputId": "868e3d60-d086-45aa-ef13-a0a4309b5a09"
      },
      "execution_count": 131,
      "outputs": [
        {
          "output_type": "stream",
          "name": "stdout",
          "text": [
            "{1, 2, 3, 4}\n",
            "{2, 3}\n",
            "{1}\n",
            "False\n"
          ]
        }
      ]
    },
    {
      "cell_type": "code",
      "source": [
        ""
      ],
      "metadata": {
        "id": "aIt8XtBSw3J5"
      },
      "execution_count": null,
      "outputs": []
    }
  ]
}