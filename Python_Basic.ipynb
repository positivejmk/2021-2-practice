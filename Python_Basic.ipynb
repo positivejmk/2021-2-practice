{
  "nbformat": 4,
  "nbformat_minor": 0,
  "metadata": {
    "colab": {
      "name": "Python_Basic.ipynb",
      "provenance": [],
      "collapsed_sections": [],
      "toc_visible": true,
      "authorship_tag": "ABX9TyNizkMo8PoyYycchLvNGe/W",
      "include_colab_link": true
    },
    "kernelspec": {
      "name": "python3",
      "display_name": "Python 3"
    },
    "language_info": {
      "name": "python"
    }
  },
  "cells": [
    {
      "cell_type": "markdown",
      "metadata": {
        "id": "view-in-github",
        "colab_type": "text"
      },
      "source": [
        "<a href=\"https://colab.research.google.com/github/positivejmk/Etc/blob/master/Python_Basic.ipynb\" target=\"_parent\"><img src=\"https://colab.research.google.com/assets/colab-badge.svg\" alt=\"Open In Colab\"/></a>"
      ]
    },
    {
      "cell_type": "markdown",
      "source": [
        "## 데이터 타입과 컬렉션"
      ],
      "metadata": {
        "id": "Px68tN0GhUHQ"
      }
    },
    {
      "cell_type": "markdown",
      "source": [
        "### Print 함수"
      ],
      "metadata": {
        "id": "q0PZU0srhZLu"
      }
    },
    {
      "cell_type": "code",
      "execution_count": null,
      "metadata": {
        "colab": {
          "base_uri": "https://localhost:8080/"
        },
        "id": "pCJSwSvbcoZr",
        "outputId": "404f2d65-fe60-4775-a68c-8b4a6faa0cb7"
      },
      "outputs": [
        {
          "output_type": "stream",
          "name": "stdout",
          "text": [
            "10,100,11.4!!"
          ]
        }
      ],
      "source": [
        "# Print -- sep = ' ', end = \\n 이 디폴트 값이다. \n",
        "print(10, 100, 11.4, sep = ',', end ='!!')"
      ]
    },
    {
      "cell_type": "markdown",
      "source": [
        "### 변수명 설정"
      ],
      "metadata": {
        "id": "Ut_e6tqYhcIQ"
      }
    },
    {
      "cell_type": "code",
      "source": [
        "# 예약어 : 파이썬에서 미리 선점해서 사용중인 키워드 (for, while, if, elif, else, class, try, except, ...)\n",
        "# 예약어는 변수명으로 사용 불가, 숫자로 시작하는 변수명은 사용 불가. \n",
        "# 두 경우 모두 앞에 언더바 붙이면 사용 가능\n",
        "\n",
        "_class = 1\n",
        "print(_class)"
      ],
      "metadata": {
        "colab": {
          "base_uri": "https://localhost:8080/"
        },
        "id": "VKuYDq3FdNr4",
        "outputId": "12111c9a-9767-4890-c65a-19560ea35315"
      },
      "execution_count": null,
      "outputs": [
        {
          "output_type": "stream",
          "name": "stdout",
          "text": [
            "1\n"
          ]
        }
      ]
    },
    {
      "cell_type": "markdown",
      "source": [
        "### type()"
      ],
      "metadata": {
        "id": "6TyFNotmhdz1"
      }
    },
    {
      "cell_type": "code",
      "source": [
        "# 데이터 타입을 알아보는 함수 : type()\n",
        "# 정수형, 실수형, \n",
        "\n",
        "c = None\n",
        "type(c)"
      ],
      "metadata": {
        "colab": {
          "base_uri": "https://localhost:8080/"
        },
        "id": "v7ia3mtWeEHK",
        "outputId": "7f973eda-f11a-4441-8951-4ccb66a015b6"
      },
      "execution_count": null,
      "outputs": [
        {
          "output_type": "execute_result",
          "data": {
            "text/plain": [
              "NoneType"
            ]
          },
          "metadata": {},
          "execution_count": 5
        }
      ]
    },
    {
      "cell_type": "markdown",
      "source": [
        "### 숫자형"
      ],
      "metadata": {
        "id": "bLIzkgeehgIx"
      }
    },
    {
      "cell_type": "code",
      "source": [
        "# 숫자형의 비교 연산자는 bool타입(T/F)로 출력됨\n",
        "a = 5\n",
        "b = 4\n",
        "\n",
        "print(a>b)\n",
        "print(a>=b)\n",
        "print(a==b)\n",
        "print(a!=b)\n",
        "\n",
        "# 숫자형의 기본 연산 (+ , - , * , / , % , ** --지수연산)\n",
        "print(a + b)\n",
        "print(a - b)\n",
        "print(a % b)\n",
        "print(a ** b)\n",
        "\n",
        "# 연산 순위는 기본적인 수학 연산자와 동일하고, 순서를 강제하고 싶으면 ()로 지정\n",
        "print(a+b*3)\n",
        "print((a+b)*3)"
      ],
      "metadata": {
        "colab": {
          "base_uri": "https://localhost:8080/"
        },
        "id": "1GW_fmcBeJJ1",
        "outputId": "29dcc66b-162b-409f-b69e-1b0cb4f0f2c1"
      },
      "execution_count": null,
      "outputs": [
        {
          "output_type": "stream",
          "name": "stdout",
          "text": [
            "True\n",
            "True\n",
            "False\n",
            "True\n",
            "9\n",
            "1\n",
            "1\n",
            "625\n",
            "17\n",
            "27\n"
          ]
        }
      ]
    },
    {
      "cell_type": "markdown",
      "source": [
        "### 문자형"
      ],
      "metadata": {
        "id": "7JfG6KbIhh73"
      }
    },
    {
      "cell_type": "code",
      "source": [
        "# 문자형\n",
        "\n",
        "# \" \", ' '의 차이는 문자열 사이에 작은 따옴표 , 큰 따옴표 쓰고 싶은 경우에 구분지어서 사용하기.\n",
        "a = '\"Hello!\" World'\n",
        "b = \"Hello's World \\nHi\"\n",
        "\n",
        "print(a)\n",
        "print(b)\n",
        "\n",
        "# 여러 줄에 걸친 문자열 생성! 즉 줄바꿈 반영하고 싶다면 \"\"\" , '''으로 감싸라!\n",
        "\n",
        "c = \"\"\"\n",
        "Hello\n",
        "World\n",
        "\"\"\"\n",
        "d = '''Hello\n",
        "\n",
        "\n",
        "World'''\n",
        "\n",
        "print(c)\n",
        "print(d)"
      ],
      "metadata": {
        "colab": {
          "base_uri": "https://localhost:8080/"
        },
        "id": "VMg_zILgfK9Q",
        "outputId": "9774838d-fa52-4082-d2dd-2491d96c320c"
      },
      "execution_count": null,
      "outputs": [
        {
          "output_type": "stream",
          "name": "stdout",
          "text": [
            "\"Hello!\" World\n",
            "Hello's World \n",
            "Hi\n",
            "\n",
            "Hello\n",
            "World\n",
            "\n",
            "Hello\n",
            "\n",
            "\n",
            "World\n"
          ]
        }
      ]
    },
    {
      "cell_type": "code",
      "source": [
        "# 인덱스 -- 0부터 시작, 띄어쓰기도 포함\n",
        "# 유효한 범위를 넘어서면 에러가 뜹니다. Index Error\n",
        "\n",
        "a = 'Hello World'\n",
        "print(a[10])\n",
        "print(a[-1]) # 마지막 문자 가져오기\n",
        "print(a[-11])"
      ],
      "metadata": {
        "colab": {
          "base_uri": "https://localhost:8080/"
        },
        "id": "TDZMIc-rg7Sy",
        "outputId": "91daf98e-b8d7-4d95-cbcd-09bfcb205122"
      },
      "execution_count": null,
      "outputs": [
        {
          "output_type": "stream",
          "name": "stdout",
          "text": [
            "d\n",
            "d\n",
            "H\n"
          ]
        }
      ]
    },
    {
      "cell_type": "code",
      "source": [
        "# 슬라이싱\n",
        "print(a[0:4]) # -- 맨 끝 숫자는 포함하지 않아! 인덱스 0부터 3까지의 문자 가져오기\n",
        "print(a[:11])\n",
        "print(a[:5])\n",
        "print(a[3:])\n",
        "print(a[-1:])\n",
        "print(a[:-1])\n",
        "print(a[-3:-1])\n",
        "print(a[:])"
      ],
      "metadata": {
        "colab": {
          "base_uri": "https://localhost:8080/"
        },
        "id": "sCHsavyqhskV",
        "outputId": "75175aaa-cf77-4f13-b7ca-04842a540bb7"
      },
      "execution_count": null,
      "outputs": [
        {
          "output_type": "stream",
          "name": "stdout",
          "text": [
            "Hell\n",
            "Hello World\n",
            "Hello\n",
            "lo World\n",
            "d\n",
            "Hello Worl\n",
            "rl\n",
            "Hello World\n"
          ]
        }
      ]
    },
    {
      "cell_type": "code",
      "source": [
        "# replace\n",
        "a = 'hello world'\n",
        "a.replace('h', 'j')"
      ],
      "metadata": {
        "colab": {
          "base_uri": "https://localhost:8080/",
          "height": 36
        },
        "id": "twgoRgsLiCWP",
        "outputId": "ff4658dc-1f0e-4588-b428-95dc987fdfeb"
      },
      "execution_count": null,
      "outputs": [
        {
          "output_type": "execute_result",
          "data": {
            "text/plain": [
              "'jello world'"
            ],
            "application/vnd.google.colaboratory.intrinsic+json": {
              "type": "string"
            }
          },
          "metadata": {},
          "execution_count": 33
        }
      ]
    },
    {
      "cell_type": "code",
      "source": [
        "# format -- 동적 문자열 생성\n",
        "temp = 17\n",
        "prob = 80\n",
        "\n",
        "a = '오늘 기온{}도 이고, 비올 확률은 {}%입니다.'.format(temp, prob)\n",
        "print(a)"
      ],
      "metadata": {
        "colab": {
          "base_uri": "https://localhost:8080/"
        },
        "id": "0ASlyPGEi38Y",
        "outputId": "32f0452f-2408-4fc7-a4ac-92805a750135"
      },
      "execution_count": null,
      "outputs": [
        {
          "output_type": "stream",
          "name": "stdout",
          "text": [
            "오늘 기온17도 이고, 비올 확률은 80%입니다.\n"
          ]
        }
      ]
    },
    {
      "cell_type": "code",
      "source": [
        "# split\n",
        "a = 'hello world what a nice weather'\n",
        "print(a.split()) # --기본값은 띄어쓰기로 문자열을 나눠줌\n",
        "print(a.split('w'))"
      ],
      "metadata": {
        "colab": {
          "base_uri": "https://localhost:8080/"
        },
        "id": "6rFF3zvkjEG8",
        "outputId": "c3bf3c33-0bd0-4e70-f688-bfbb0c96f73f"
      },
      "execution_count": null,
      "outputs": [
        {
          "output_type": "stream",
          "name": "stdout",
          "text": [
            "['hello', 'world', 'what', 'a', 'nice', 'weather']\n",
            "['hello ', 'orld ', 'hat a nice ', 'eather']\n"
          ]
        }
      ]
    },
    {
      "cell_type": "markdown",
      "source": [
        "### List"
      ],
      "metadata": {
        "id": "EVW_fUXRhE72"
      }
    },
    {
      "cell_type": "markdown",
      "source": [
        "```List&Tuple```\n",
        "\n",
        "* 공통점 : 복수개의 값을 담을 수 있는 데이터 구조 \n",
        "* 차이점: \n",
        " * 리스트 - 데이터의 크기에 따라서 동적으로 바뀔 수 있음.\n",
        " * 튜플 - 한 번 생성하면 변경 불가능"
      ],
      "metadata": {
        "id": "liLYolOojmQr"
      }
    },
    {
      "cell_type": "code",
      "source": [
        "a = []\n",
        "print(a)\n",
        "type(a)"
      ],
      "metadata": {
        "colab": {
          "base_uri": "https://localhost:8080/"
        },
        "id": "hNHxHptDj-MD",
        "outputId": "ac9e570b-7e9e-4cce-ec7e-f6810210aef5"
      },
      "execution_count": null,
      "outputs": [
        {
          "output_type": "stream",
          "name": "stdout",
          "text": [
            "[]\n"
          ]
        },
        {
          "output_type": "execute_result",
          "data": {
            "text/plain": [
              "list"
            ]
          },
          "metadata": {},
          "execution_count": 38
        }
      ]
    },
    {
      "cell_type": "code",
      "source": [
        "a = [1, 2, 3, 5, 10]\n",
        "print(a)\n",
        "\n",
        "a = ['korea', 'canada', 1, 23, [34, 56]] # --문자열, 리스트 안의 리스트 등 다 삽입 가능\n",
        "print(a)"
      ],
      "metadata": {
        "colab": {
          "base_uri": "https://localhost:8080/"
        },
        "id": "hliyc8yJkRMd",
        "outputId": "b62adb44-5b4b-4f96-894e-17d098f91775"
      },
      "execution_count": null,
      "outputs": [
        {
          "output_type": "stream",
          "name": "stdout",
          "text": [
            "[1, 2, 3, 5, 10]\n",
            "['korea', 'canada', 1, 23, [34, 56]]\n"
          ]
        }
      ]
    },
    {
      "cell_type": "code",
      "source": [
        "a = 'hello world'\n",
        "b = list(a) # -- 자동으로 한 글자씩 끊어서 리스트로 저장\n",
        "print(b)"
      ],
      "metadata": {
        "colab": {
          "base_uri": "https://localhost:8080/"
        },
        "id": "HdaaIeRxkVAc",
        "outputId": "c3d536fc-d465-498f-f304-a851d8d3ff4c"
      },
      "execution_count": null,
      "outputs": [
        {
          "output_type": "stream",
          "name": "stdout",
          "text": [
            "['h', 'e', 'l', 'l', 'o', ' ', 'w', 'o', 'r', 'l', 'd']\n"
          ]
        }
      ]
    },
    {
      "cell_type": "code",
      "source": [
        "a = 'hello world nice weather'\n",
        "b = a.split() # -- split함수로 인해 자동으로 띄어쓰기 기준으로 끊어서 리스트로 저장\n",
        "print(b)"
      ],
      "metadata": {
        "colab": {
          "base_uri": "https://localhost:8080/"
        },
        "id": "Q_4mYrDOknXy",
        "outputId": "d519bf56-5b51-40cd-ddda-d3ebf1a7a607"
      },
      "execution_count": null,
      "outputs": [
        {
          "output_type": "stream",
          "name": "stdout",
          "text": [
            "['hello', 'world', 'nice', 'weather']\n"
          ]
        }
      ]
    },
    {
      "cell_type": "code",
      "source": [
        "# 인덱스\n",
        "a = [1, 2, 3, 4, 5, 6]\n",
        "print(a[2])\n",
        "print(a[5])"
      ],
      "metadata": {
        "colab": {
          "base_uri": "https://localhost:8080/"
        },
        "id": "A6LRhO92ktmN",
        "outputId": "ca64f91e-512e-4641-fa18-247aa98a81a3"
      },
      "execution_count": null,
      "outputs": [
        {
          "output_type": "stream",
          "name": "stdout",
          "text": [
            "3\n",
            "6\n"
          ]
        }
      ]
    },
    {
      "cell_type": "code",
      "source": [
        "# 문자열 및 튜플은 불변(immutable) 객체, 리스트는 동적 타입. \n",
        "# 따라서 문자열, 튜플은 새로운 문자열로 대체 등의 방식을 사용해야 함.\n",
        "\n",
        "a = 'hello world'\n",
        "print(a[0])\n",
        "\n",
        "b = 'hello world'\n",
        "c = 'j' + a[1:]\n",
        "\n",
        "d = a.replace('h', 'j')\n",
        "\n",
        "print(a)\n",
        "print(b)\n",
        "print(c)\n",
        "print(d)"
      ],
      "metadata": {
        "colab": {
          "base_uri": "https://localhost:8080/"
        },
        "id": "2ee877Q5lAo4",
        "outputId": "ef0776de-ea5f-458f-8349-a6dada8c2c08"
      },
      "execution_count": null,
      "outputs": [
        {
          "output_type": "stream",
          "name": "stdout",
          "text": [
            "h\n",
            "hello world\n",
            "hello world\n",
            "jello world\n",
            "jello world\n"
          ]
        }
      ]
    },
    {
      "cell_type": "code",
      "source": [
        "# list는 인덱스를 이용해서 업데이트도 가능\n",
        "a = [1, 2, 3, 4, 5]\n",
        "print(a)\n",
        "\n",
        "a[0] = 100\n",
        "a[-1] = 90\n",
        "print(a)"
      ],
      "metadata": {
        "colab": {
          "base_uri": "https://localhost:8080/"
        },
        "id": "d3JOOKfStviT",
        "outputId": "918396a2-4c66-4d3d-f5b7-ecf90ecf1063"
      },
      "execution_count": null,
      "outputs": [
        {
          "output_type": "stream",
          "name": "stdout",
          "text": [
            "[1, 2, 3, 4, 5]\n",
            "[100, 2, 3, 4, 90]\n"
          ]
        }
      ]
    },
    {
      "cell_type": "code",
      "source": [
        "# 슬라이싱\n",
        "a = [1, 2, 3, 4, 5]\n",
        "\n",
        "# start : end : increment ( increment 의 디폴트 값은 1 )\n",
        "a[1:7:2]"
      ],
      "metadata": {
        "colab": {
          "base_uri": "https://localhost:8080/"
        },
        "id": "tKYg266-85yc",
        "outputId": "77f75585-f472-4c0a-c15f-b285889c281f"
      },
      "execution_count": null,
      "outputs": [
        {
          "output_type": "execute_result",
          "data": {
            "text/plain": [
              "[2, 4]"
            ]
          },
          "metadata": {},
          "execution_count": 51
        }
      ]
    },
    {
      "cell_type": "code",
      "source": [
        "# 멤버함수\n",
        "# .append()\n",
        "a = [1, 2, 3, 4, 5]\n",
        "a.append(10)\n",
        "print(a)"
      ],
      "metadata": {
        "colab": {
          "base_uri": "https://localhost:8080/"
        },
        "id": "wtL28I_feOI0",
        "outputId": "56f339ef-385f-433d-ad6e-6ff309df9cb6"
      },
      "execution_count": null,
      "outputs": [
        {
          "output_type": "stream",
          "name": "stdout",
          "text": [
            "[1, 2, 3, 4, 5, 10]\n"
          ]
        }
      ]
    },
    {
      "cell_type": "code",
      "source": [
        "# .extend()\n",
        "\n",
        "# append 를 이용하면 리스트 형식 그대로 원소가 추가되어 버림.\n",
        "a = [1, 2, 3, 4, 5]\n",
        "b = [6, 7, 8, 9, 10]\n",
        "a.append(b)\n",
        "print(a)"
      ],
      "metadata": {
        "colab": {
          "base_uri": "https://localhost:8080/"
        },
        "id": "oxUgdKX9ejpB",
        "outputId": "fed9c8e1-4976-4737-99e2-3338f8bd99b1"
      },
      "execution_count": null,
      "outputs": [
        {
          "output_type": "stream",
          "name": "stdout",
          "text": [
            "[1, 2, 3, 4, 5, [6, 7, 8, 9, 10]]\n"
          ]
        }
      ]
    },
    {
      "cell_type": "code",
      "source": [
        "# 리스트에 각각 원소로 넣으려면 extend 이용.\n",
        "\n",
        "a = [1, 2, 3, 4, 5]\n",
        "b = [6, 7, 8, 9, 10]\n",
        "a.extend(b)\n",
        "print(a)"
      ],
      "metadata": {
        "colab": {
          "base_uri": "https://localhost:8080/"
        },
        "id": "NfIsBDHTfi5t",
        "outputId": "ff497cd3-006d-43f9-cb89-3f49611de552"
      },
      "execution_count": null,
      "outputs": [
        {
          "output_type": "stream",
          "name": "stdout",
          "text": [
            "[1, 2, 3, 4, 5, 6, 7, 8, 9, 10]\n"
          ]
        }
      ]
    },
    {
      "cell_type": "code",
      "source": [
        "# extend는 += 와 같음.\n",
        "\n",
        "a = [1, 2, 3, 4, 5]\n",
        "b = [6, 7, 8, 9, 10]\n",
        "a += b\n",
        "print(a)"
      ],
      "metadata": {
        "colab": {
          "base_uri": "https://localhost:8080/"
        },
        "id": "atL-8AcBfklW",
        "outputId": "cbd4ed51-0884-492e-9149-cef1b7d6225a"
      },
      "execution_count": null,
      "outputs": [
        {
          "output_type": "stream",
          "name": "stdout",
          "text": [
            "[1, 2, 3, 4, 5, 6, 7, 8, 9, 10]\n"
          ]
        }
      ]
    },
    {
      "cell_type": "code",
      "source": [
        "# 그냥 +로 연산해도 같은 결과.\n",
        "\n",
        "a = [1, 2, 3, 4, 5]\n",
        "b = [6, 7, 8, 9, 10]\n",
        "print(a + b)"
      ],
      "metadata": {
        "colab": {
          "base_uri": "https://localhost:8080/"
        },
        "id": "DKtnxnF6fr44",
        "outputId": "e1f86ee7-7e29-41c2-fd54-10611af12c26"
      },
      "execution_count": null,
      "outputs": [
        {
          "output_type": "stream",
          "name": "stdout",
          "text": [
            "[1, 2, 3, 4, 5, 6, 7, 8, 9, 10]\n"
          ]
        }
      ]
    },
    {
      "cell_type": "code",
      "source": [
        "# insert(index, value) -- 특정 인덱스에 값 추가해주고 싶을 때\n",
        "\n",
        "a = [1, 3, 4, 5, 6]\n",
        "a.insert(1, 2)\n",
        "print(a)"
      ],
      "metadata": {
        "colab": {
          "base_uri": "https://localhost:8080/"
        },
        "id": "lqE4PVGUfvSb",
        "outputId": "8740b2ea-c51f-4f13-e067-04f4fba724e3"
      },
      "execution_count": null,
      "outputs": [
        {
          "output_type": "stream",
          "name": "stdout",
          "text": [
            "[1, 2, 3, 4, 5, 6]\n"
          ]
        }
      ]
    },
    {
      "cell_type": "code",
      "source": [
        "# remove\n",
        "a = [1, 2, 3, 4, 5]\n",
        "a.remove(2)\n",
        "print(a)"
      ],
      "metadata": {
        "colab": {
          "base_uri": "https://localhost:8080/"
        },
        "id": "oUJmlJCbgZHA",
        "outputId": "01c2e1f5-3513-4dff-c789-a07101a42633"
      },
      "execution_count": null,
      "outputs": [
        {
          "output_type": "stream",
          "name": "stdout",
          "text": [
            "[1, 3, 4, 5]\n"
          ]
        }
      ]
    },
    {
      "cell_type": "code",
      "source": [
        "a = [1, 2, 30, 30, 4, 5]\n",
        "a.remove(30) # 처음으로 나온 값을 제거 , 없는 값을 입력하면 ValueError 오류가 난다. \n",
        "print(a)"
      ],
      "metadata": {
        "colab": {
          "base_uri": "https://localhost:8080/"
        },
        "id": "V9_cwNz5gfev",
        "outputId": "2cc8b5c3-fc76-4d99-e42c-dbe02df3a8db"
      },
      "execution_count": null,
      "outputs": [
        {
          "output_type": "stream",
          "name": "stdout",
          "text": [
            "[1, 2, 30, 4, 5]\n"
          ]
        }
      ]
    },
    {
      "cell_type": "code",
      "source": [
        "# pop -- 인덱스로 지우기, 디폴트 값은 맨 마지막 값 지움.\n",
        "\n",
        "a = [1, 2, 3, 4, 5]\n",
        "d = a.pop(2) \n",
        "\n",
        "print(a)\n",
        "print(d)"
      ],
      "metadata": {
        "colab": {
          "base_uri": "https://localhost:8080/"
        },
        "id": "MtfQIcd8gvU9",
        "outputId": "51866812-aaf9-4d27-e23c-5cc67b2b8c68"
      },
      "execution_count": null,
      "outputs": [
        {
          "output_type": "stream",
          "name": "stdout",
          "text": [
            "[1, 2, 4, 5]\n",
            "3\n"
          ]
        }
      ]
    },
    {
      "cell_type": "code",
      "source": [
        "# index --  찾고 싶은 값의 인덱스 반환\n",
        "a = [1, 2, 3, 4, 5]\n",
        "a.index(2)"
      ],
      "metadata": {
        "colab": {
          "base_uri": "https://localhost:8080/"
        },
        "id": "44SEqVNRgymL",
        "outputId": "0b426846-0753-4073-9d5c-dae883e1c0df"
      },
      "execution_count": null,
      "outputs": [
        {
          "output_type": "execute_result",
          "data": {
            "text/plain": [
              "1"
            ]
          },
          "metadata": {},
          "execution_count": 77
        }
      ]
    },
    {
      "cell_type": "code",
      "source": [
        "a = [1, 1, 1, 2, 3, 4, 5]\n",
        "a.count(1)"
      ],
      "metadata": {
        "colab": {
          "base_uri": "https://localhost:8080/"
        },
        "id": "wA5etrHThbCD",
        "outputId": "2034b54c-334f-4621-c92a-1fcc6eaec920"
      },
      "execution_count": null,
      "outputs": [
        {
          "output_type": "execute_result",
          "data": {
            "text/plain": [
              "3"
            ]
          },
          "metadata": {},
          "execution_count": 82
        }
      ]
    },
    {
      "cell_type": "code",
      "source": [
        "a = [1, 2, 3, 4, 5]\n",
        "a.clear()\n",
        "a"
      ],
      "metadata": {
        "colab": {
          "base_uri": "https://localhost:8080/"
        },
        "id": "kFn6KEcLheEk",
        "outputId": "7c6c9322-b3cf-45bb-fc8a-72bcfebb725f"
      },
      "execution_count": null,
      "outputs": [
        {
          "output_type": "execute_result",
          "data": {
            "text/plain": [
              "[]"
            ]
          },
          "metadata": {},
          "execution_count": 83
        }
      ]
    },
    {
      "cell_type": "code",
      "source": [
        "a = [1, 2, 3, 4, 5]\n",
        "a.reverse()\n",
        "a"
      ],
      "metadata": {
        "colab": {
          "base_uri": "https://localhost:8080/"
        },
        "id": "ez97gwQdhmZV",
        "outputId": "d6f2b321-e644-4e24-d294-1bb05d3be187"
      },
      "execution_count": null,
      "outputs": [
        {
          "output_type": "execute_result",
          "data": {
            "text/plain": [
              "[5, 4, 3, 2, 1]"
            ]
          },
          "metadata": {},
          "execution_count": 84
        }
      ]
    },
    {
      "cell_type": "code",
      "source": [
        "a = [1, 40, 2, 3, 4, 5]\n",
        "#a.sort()\n",
        "a.sort(reverse = True)\n",
        "a"
      ],
      "metadata": {
        "colab": {
          "base_uri": "https://localhost:8080/"
        },
        "id": "3NlRgs0UhsDe",
        "outputId": "b1e279fa-ab50-464b-e0ec-0181ed5f84b6"
      },
      "execution_count": null,
      "outputs": [
        {
          "output_type": "execute_result",
          "data": {
            "text/plain": [
              "[40, 5, 4, 3, 2, 1]"
            ]
          },
          "metadata": {},
          "execution_count": 92
        }
      ]
    },
    {
      "cell_type": "code",
      "source": [
        "a = [1, 2, 3, 4, 5, 10]\n",
        "b = sorted(a, reverse = True)\n",
        "b"
      ],
      "metadata": {
        "colab": {
          "base_uri": "https://localhost:8080/"
        },
        "id": "xmQ_G10XicgV",
        "outputId": "ad485259-446d-46cc-e67a-e112bf28b6f5"
      },
      "execution_count": null,
      "outputs": [
        {
          "output_type": "execute_result",
          "data": {
            "text/plain": [
              "[10, 5, 4, 3, 2, 1]"
            ]
          },
          "metadata": {},
          "execution_count": 93
        }
      ]
    },
    {
      "cell_type": "code",
      "source": [
        "a = [1, 2, 3, 4, 5, 10]\n",
        "b = 7\n",
        "b in a"
      ],
      "metadata": {
        "colab": {
          "base_uri": "https://localhost:8080/"
        },
        "id": "gGfRKmbdhxUM",
        "outputId": "f48737c7-85dd-4e7c-8bc6-f270866a0152"
      },
      "execution_count": null,
      "outputs": [
        {
          "output_type": "execute_result",
          "data": {
            "text/plain": [
              "False"
            ]
          },
          "metadata": {},
          "execution_count": 87
        }
      ]
    },
    {
      "cell_type": "code",
      "source": [
        "a = [1, 2, 3, 4, 5, 10]\n",
        "b = 10\n",
        "b in a"
      ],
      "metadata": {
        "colab": {
          "base_uri": "https://localhost:8080/"
        },
        "id": "y0p2FxmCh4ut",
        "outputId": "5b2bb478-67ff-49da-bc15-6b40e9048d6a"
      },
      "execution_count": null,
      "outputs": [
        {
          "output_type": "execute_result",
          "data": {
            "text/plain": [
              "True"
            ]
          },
          "metadata": {},
          "execution_count": 88
        }
      ]
    },
    {
      "cell_type": "markdown",
      "source": [
        "### Tuple"
      ],
      "metadata": {
        "id": "zg2EkUAZh6qj"
      }
    },
    {
      "cell_type": "markdown",
      "source": [
        "튜플은 리스트와 달리 바로 값을 변경하는 것은 안되지만, 여러 쌍의 변수를 동시에 입력하고 싶을 때 편리함."
      ],
      "metadata": {
        "id": "5zgsLJVUisRP"
      }
    },
    {
      "cell_type": "code",
      "source": [
        "a, b, c, d = (1,2,3,4)\n",
        "a, b, c, d"
      ],
      "metadata": {
        "colab": {
          "base_uri": "https://localhost:8080/"
        },
        "id": "ihvyFmJyj28Y",
        "outputId": "bdd1a271-0147-40f3-cd8b-516388952abd"
      },
      "execution_count": null,
      "outputs": [
        {
          "output_type": "execute_result",
          "data": {
            "text/plain": [
              "(1, 2, 3, 4)"
            ]
          },
          "metadata": {},
          "execution_count": 96
        }
      ]
    },
    {
      "cell_type": "code",
      "source": [
        "# 괄호 생략 가능\n",
        "\n",
        "a, b, c, d = 1,2,3,4 \n",
        "a, b, c, d"
      ],
      "metadata": {
        "colab": {
          "base_uri": "https://localhost:8080/"
        },
        "id": "RZnPZrQ4j5nF",
        "outputId": "cb089293-68d9-4e16-98ad-8502a3fea4a6"
      },
      "execution_count": null,
      "outputs": [
        {
          "output_type": "execute_result",
          "data": {
            "text/plain": [
              "(1, 2, 3, 4)"
            ]
          },
          "metadata": {},
          "execution_count": 97
        }
      ]
    },
    {
      "cell_type": "code",
      "source": [
        "a, b = 5, 4\n",
        "print(a, b)\n",
        "\n",
        "# temp = a\n",
        "# a = b\n",
        "# b = temp\n",
        "a, b = b, a\n",
        "\n",
        "print(a ,b)"
      ],
      "metadata": {
        "colab": {
          "base_uri": "https://localhost:8080/"
        },
        "id": "j4S8lgZlkAOw",
        "outputId": "359249ca-b7f1-42f6-ed22-cac0feffd1ff"
      },
      "execution_count": null,
      "outputs": [
        {
          "output_type": "stream",
          "name": "stdout",
          "text": [
            "5 4\n",
            "4 5\n"
          ]
        }
      ]
    },
    {
      "cell_type": "markdown",
      "source": [
        "### Dictionary"
      ],
      "metadata": {
        "id": "YTDmMul1kJzR"
      }
    },
    {
      "cell_type": "markdown",
      "source": [
        "Python에서 가장 많이 쓰는 데이터 유형. \n",
        "- ```키```와 ```값```을 갖는 데이터 구조\n",
        "- **순서를 따지지 않음. 인덱스가 없음**"
      ],
      "metadata": {
        "id": "0YYPPFrZkSHX"
      }
    },
    {
      "cell_type": "code",
      "source": [
        "a = [0, 1, 2, 3, 4, 10, 100, 200, 300]\n",
        "print(a[0])\n",
        "print(a[4])\n",
        "\n",
        "# 리스트의 길이가 얼마나 긴 지와 관계 없이 인덱스를 통해 접근하는 것은 시간이 거의 걸리지 않음.\n",
        "# 딕셔너리도 마찬가지로 키를 알면 그 딕셔너리의 길이와 관계 없이 금방 가져올 수 있음."
      ],
      "metadata": {
        "colab": {
          "base_uri": "https://localhost:8080/"
        },
        "id": "QsNEewcAkZ7L",
        "outputId": "168820e0-5f85-4772-f172-5988ff0f36fd"
      },
      "execution_count": null,
      "outputs": [
        {
          "output_type": "stream",
          "name": "stdout",
          "text": [
            "0\n",
            "4\n"
          ]
        }
      ]
    },
    {
      "cell_type": "code",
      "source": [
        "a = {'Korea' : 'Seoul', \n",
        "     'Canada' : 'Ottawa',\n",
        "     'USA' : 'Washington D.C'}\n",
        "print(a) # -- 딕셔너리 얘는 인덱싱 불가\n",
        "print(type(a))\n",
        "print(a['Korea'])"
      ],
      "metadata": {
        "colab": {
          "base_uri": "https://localhost:8080/"
        },
        "id": "nWVJiRr6kk4X",
        "outputId": "24df6028-5bae-4c64-d3cf-afe86ae18298"
      },
      "execution_count": null,
      "outputs": [
        {
          "output_type": "stream",
          "name": "stdout",
          "text": [
            "{'Korea': 'Seoul', 'Canada': 'Ottawa', 'USA': 'Washington D.C'}\n",
            "<class 'dict'>\n",
            "Seoul\n"
          ]
        }
      ]
    },
    {
      "cell_type": "code",
      "source": [
        "b = {0:1,\n",
        "     1:6,\n",
        "     7:9,\n",
        "     8:10}\n",
        "b[0] # -- 여기서 얘는 인덱스 숫자 0이 아니고 key에 있던 0이다."
      ],
      "metadata": {
        "colab": {
          "base_uri": "https://localhost:8080/"
        },
        "id": "gKBl20dcq8K5",
        "outputId": "5c3c40d0-2583-4e00-a046-208418d5d0ae"
      },
      "execution_count": null,
      "outputs": [
        {
          "output_type": "execute_result",
          "data": {
            "text/plain": [
              "1"
            ]
          },
          "metadata": {},
          "execution_count": 110
        }
      ]
    },
    {
      "cell_type": "code",
      "source": [
        "a = {'Korea' : 'Seoul', \n",
        "     'Canada' : 'Ottawa',\n",
        "     'USA' : 'Washington D.C'}\n",
        "\n",
        "a['Japan'] = 'Tokyo'\n",
        "a['Japan'] = 'Kyoto' # 같은 key 값은 중복이 안됨. 그래서 업데이트 되었음\n",
        "a['Japan_2'] = 'Kyoto' # 값은 얼마든지 중복 가능.\n",
        "a['China'] = 'Beijing'\n",
        "\n",
        "print(a)"
      ],
      "metadata": {
        "colab": {
          "base_uri": "https://localhost:8080/"
        },
        "id": "HMhavmoXrOUG",
        "outputId": "9a384fed-289d-47a8-dc52-a1bde01d6a2a"
      },
      "execution_count": null,
      "outputs": [
        {
          "output_type": "stream",
          "name": "stdout",
          "text": [
            "{'Korea': 'Seoul', 'Canada': 'Ottawa', 'USA': 'Washington D.C', 'Japan': 'Kyoto', 'Japan_2': 'Kyoto', 'China': 'Beijing'}\n"
          ]
        }
      ]
    },
    {
      "cell_type": "code",
      "source": [
        "# update\n",
        "\n",
        "a = {'a' : 1, 'b' : 2, 'c' :3}\n",
        "b = {'a' : 2, 'd' : 4, 'e' : 5}\n",
        "\n",
        "a.update(b) # 있는 key값은 업데이트 되고 없는 key값은 추가해줌.\n",
        "print(a)"
      ],
      "metadata": {
        "colab": {
          "base_uri": "https://localhost:8080/"
        },
        "id": "P2gMHHP_rjxV",
        "outputId": "6e5bc558-3455-4c93-f828-7d68d8dd7b67"
      },
      "execution_count": null,
      "outputs": [
        {
          "output_type": "stream",
          "name": "stdout",
          "text": [
            "{'a': 2, 'b': 2, 'c': 3, 'd': 4, 'e': 5}\n"
          ]
        }
      ]
    },
    {
      "cell_type": "code",
      "source": [
        "# del, pop\n",
        "\n",
        "a = {'a' : 1, 'b' : 2, 'c' :3}\n",
        "a.pop('b')\n",
        "print(a)"
      ],
      "metadata": {
        "colab": {
          "base_uri": "https://localhost:8080/"
        },
        "id": "fsZIs_Uqr6tI",
        "outputId": "98e4d8c6-55db-4fe9-defe-d68a6771b3ee"
      },
      "execution_count": null,
      "outputs": [
        {
          "output_type": "stream",
          "name": "stdout",
          "text": [
            "{'a': 1, 'c': 3}\n"
          ]
        }
      ]
    },
    {
      "cell_type": "code",
      "source": [
        "a = {'a' : 1, 'b' : 2, 'c' :3}\n",
        "\n",
        "del a['b'] # --del은 현재 시스템 노트상에서 아예 지워버리는 것.\n",
        "print(a)"
      ],
      "metadata": {
        "colab": {
          "base_uri": "https://localhost:8080/"
        },
        "id": "9ToIQnuluAb7",
        "outputId": "cc3857ff-9449-401d-a432-44bacf706d51"
      },
      "execution_count": null,
      "outputs": [
        {
          "output_type": "stream",
          "name": "stdout",
          "text": [
            "{'a': 1, 'c': 3}\n"
          ]
        }
      ]
    },
    {
      "cell_type": "code",
      "source": [
        "print(a)\n",
        "a.clear()\n",
        "print(a)"
      ],
      "metadata": {
        "colab": {
          "base_uri": "https://localhost:8080/"
        },
        "id": "XsxpXMx5uFR5",
        "outputId": "58e17310-dc02-4432-8acf-4ca2447a96e0"
      },
      "execution_count": null,
      "outputs": [
        {
          "output_type": "stream",
          "name": "stdout",
          "text": [
            "{'a': 1, 'c': 3}\n",
            "{}\n"
          ]
        }
      ]
    },
    {
      "cell_type": "code",
      "source": [
        "a = {'a' : 1, 'b' : 2, 'c' :3}\n",
        "b = [1, 2, 3, 4, 100]\n",
        "\n",
        "print('b' in a)\n",
        "print('d' in a) # 얘는 딕셔너리 키 값만 보는 것이라 성능저하 문제 없음. 값으로는 조회 불가.\n",
        "print(100 in b) # **반면** 얘는 성능 저하 초래됨. 왜냐면 값 하나하나 다 보면서 100 있는지 없는지 봐야되기 때문."
      ],
      "metadata": {
        "colab": {
          "base_uri": "https://localhost:8080/"
        },
        "id": "R2VeRtC7uZwS",
        "outputId": "f23d6950-94d6-475f-bee5-e81079723146"
      },
      "execution_count": null,
      "outputs": [
        {
          "output_type": "stream",
          "name": "stdout",
          "text": [
            "True\n",
            "False\n",
            "True\n"
          ]
        }
      ]
    },
    {
      "cell_type": "code",
      "source": [
        "print(a['b'])\n",
        "print(a.get('d')) # 이렇게 하면 없는 키 값 입력해도 KeyError 안나고 그냥 None으로 표시"
      ],
      "metadata": {
        "colab": {
          "base_uri": "https://localhost:8080/"
        },
        "id": "PmR9kPfxuejR",
        "outputId": "c7f69d80-8596-4ffe-cb83-c80bf09ecac9"
      },
      "execution_count": null,
      "outputs": [
        {
          "output_type": "stream",
          "name": "stdout",
          "text": [
            "2\n",
            "None\n"
          ]
        }
      ]
    },
    {
      "cell_type": "code",
      "source": [
        "print(a)\n",
        "\n",
        "print(a.keys())\n",
        "print(a.values())\n",
        "\n",
        "print(list(a.keys()))\n",
        "print(list(a.values()))\n",
        "\n",
        "list(a.items())"
      ],
      "metadata": {
        "colab": {
          "base_uri": "https://localhost:8080/"
        },
        "id": "2nsq_w22u4Oi",
        "outputId": "e4f62569-1ae0-4502-b1c4-3e1bd3612e34"
      },
      "execution_count": null,
      "outputs": [
        {
          "output_type": "stream",
          "name": "stdout",
          "text": [
            "{'a': 1, 'b': 2, 'c': 3}\n",
            "dict_keys(['a', 'b', 'c'])\n",
            "dict_values([1, 2, 3])\n",
            "['a', 'b', 'c']\n",
            "[1, 2, 3]\n"
          ]
        },
        {
          "output_type": "execute_result",
          "data": {
            "text/plain": [
              "[('a', 1), ('b', 2), ('c', 3)]"
            ]
          },
          "metadata": {},
          "execution_count": 127
        }
      ]
    },
    {
      "cell_type": "markdown",
      "source": [
        "### Set\n",
        "\n",
        "- dictionary에서 key만 활용하는 데이터 구조\n",
        "- 수학의 집합과 같은 것"
      ],
      "metadata": {
        "id": "GNIvv_NJvmFE"
      }
    },
    {
      "cell_type": "code",
      "source": [
        "a = {1, 1, 2, 3, 3, 4, 1, 5}\n",
        "print(a) # 인덱싱 불가. 순서 없음."
      ],
      "metadata": {
        "colab": {
          "base_uri": "https://localhost:8080/"
        },
        "id": "oOv0NxEBvsY8",
        "outputId": "fafeb721-5611-4433-f7e3-3538ac4c3940"
      },
      "execution_count": null,
      "outputs": [
        {
          "output_type": "stream",
          "name": "stdout",
          "text": [
            "{1, 2, 3, 4, 5}\n"
          ]
        }
      ]
    },
    {
      "cell_type": "code",
      "source": [
        "a = {} # -- 그냥 중괄호로 하면 딕셔너리로 인식함.\n",
        "b = set() # 빈 집합 만들려면 이렇게 해야 함.\n",
        "\n",
        "print(a)\n",
        "print(b)"
      ],
      "metadata": {
        "colab": {
          "base_uri": "https://localhost:8080/"
        },
        "id": "_d_m11-YwQwF",
        "outputId": "cc852811-0fd4-49cc-fb34-c2bb192f4ea4"
      },
      "execution_count": null,
      "outputs": [
        {
          "output_type": "stream",
          "name": "stdout",
          "text": [
            "{}\n",
            "set()\n"
          ]
        }
      ]
    },
    {
      "cell_type": "code",
      "source": [
        "a = [1, 1, 2, 3, 3, 4, 1, 5]\n",
        "b = set(a) # 중복 없는 집합으로 만들어 줌. 왜냐면 순서 정보 없으니까.\n",
        "print(b)"
      ],
      "metadata": {
        "colab": {
          "base_uri": "https://localhost:8080/"
        },
        "id": "pvXKoe3bwX_7",
        "outputId": "d176f0f0-8182-48f5-d078-781a45859afc"
      },
      "execution_count": null,
      "outputs": [
        {
          "output_type": "stream",
          "name": "stdout",
          "text": [
            "{1, 2, 3, 4, 5}\n"
          ]
        }
      ]
    },
    {
      "cell_type": "code",
      "source": [
        "# 합,차,교집합 다 가능\n",
        "\n",
        "a = {1, 2, 3}\n",
        "b = {2, 3, 4}\n",
        "\n",
        "print(a.union(b))\n",
        "print(a.intersection(b))\n",
        "print(a.difference(b))\n",
        "print(a.issubset(b)) # 부분집합인지 아닌지"
      ],
      "metadata": {
        "colab": {
          "base_uri": "https://localhost:8080/"
        },
        "id": "1iHg08JSwkQh",
        "outputId": "868e3d60-d086-45aa-ef13-a0a4309b5a09"
      },
      "execution_count": null,
      "outputs": [
        {
          "output_type": "stream",
          "name": "stdout",
          "text": [
            "{1, 2, 3, 4}\n",
            "{2, 3}\n",
            "{1}\n",
            "False\n"
          ]
        }
      ]
    },
    {
      "cell_type": "markdown",
      "source": [
        "## 조건문과 반복문"
      ],
      "metadata": {
        "id": "aIt8XtBSw3J5"
      }
    },
    {
      "cell_type": "markdown",
      "source": [
        "### 조건문(if, elif, else)"
      ],
      "metadata": {
        "id": "75D2tm7RYar9"
      }
    },
    {
      "cell_type": "markdown",
      "source": [
        "비교 연산자 우선 순위 : NOT > AND > OR"
      ],
      "metadata": {
        "id": "Qi958R0BYdvi"
      }
    },
    {
      "cell_type": "code",
      "source": [
        "a = 10\n",
        "b = 8\n",
        "c = 11\n",
        "\n",
        "if a == 10 or b == 9 and c == 12: # b == 9 and c == 12 : F , a == 10 : T\n",
        "  print('true')"
      ],
      "metadata": {
        "colab": {
          "base_uri": "https://localhost:8080/"
        },
        "id": "yFrNxYNji45g",
        "outputId": "521db45e-9c3f-40e8-8cda-f539a6494c41"
      },
      "execution_count": 1,
      "outputs": [
        {
          "output_type": "stream",
          "name": "stdout",
          "text": [
            "true\n"
          ]
        }
      ]
    },
    {
      "cell_type": "code",
      "source": [
        "# 우선순위 바꾸고 싶으면 괄호로 표현하자\n",
        "\n",
        "if (a == 10 or b == 9) and c == 12:\n",
        "  print('true')"
      ],
      "metadata": {
        "id": "8VhB5PoTi95r"
      },
      "execution_count": 2,
      "outputs": []
    },
    {
      "cell_type": "code",
      "source": [
        "if not a != 10:\n",
        "  print('a is ten')"
      ],
      "metadata": {
        "colab": {
          "base_uri": "https://localhost:8080/"
        },
        "id": "pnw_cmRjjPbP",
        "outputId": "e2a205d4-ea34-4508-cb2f-781e4f7387e4"
      },
      "execution_count": 4,
      "outputs": [
        {
          "output_type": "stream",
          "name": "stdout",
          "text": [
            "a is ten\n"
          ]
        }
      ]
    },
    {
      "cell_type": "markdown",
      "source": [
        "if 문의 조건식은 보통 boolean 이 옵니다. 그러나 정수, 실수, 문자열 리스트 등 기본 타입도 조건에 사용 가능! \n",
        "\n",
        "- False로 간주되는 값은 보통 각 타입의 기본값\n",
        "    - None\n",
        "    - 0 / 0.0\n",
        "    - ' '\n",
        "    - [] --> empty list\n",
        "    - () --> empty tuple\n",
        "    - {} --> empty dictionary\n",
        "    - set() --> empty set\n",
        "- 이 외의 값은 모두 True로 간주"
      ],
      "metadata": {
        "id": "Bpe6k2FXjWen"
      }
    },
    {
      "cell_type": "code",
      "source": [
        "a = 0\n",
        "if a : \n",
        "  print('print')"
      ],
      "metadata": {
        "id": "UVrOE7jsjc9C"
      },
      "execution_count": 5,
      "outputs": []
    },
    {
      "cell_type": "code",
      "source": [
        "a = 10\n",
        "if a : \n",
        "  print('print')"
      ],
      "metadata": {
        "colab": {
          "base_uri": "https://localhost:8080/"
        },
        "id": "24lbB3_BkHCR",
        "outputId": "4e98bad2-97fc-40b4-ca4d-deced3a9c2a6"
      },
      "execution_count": 6,
      "outputs": [
        {
          "output_type": "stream",
          "name": "stdout",
          "text": [
            "print\n"
          ]
        }
      ]
    },
    {
      "cell_type": "code",
      "source": [
        "a = []\n",
        "if a :\n",
        "  print('print')"
      ],
      "metadata": {
        "id": "JwUka0HBkJtX"
      },
      "execution_count": 7,
      "outputs": []
    },
    {
      "cell_type": "code",
      "source": [
        "a = [1,2]\n",
        "if a :\n",
        "  print('print')"
      ],
      "metadata": {
        "colab": {
          "base_uri": "https://localhost:8080/"
        },
        "id": "YlXbtY7QkMQ4",
        "outputId": "fab97b5c-f83d-42eb-fe67-3f1c13314e2f"
      },
      "execution_count": 9,
      "outputs": [
        {
          "output_type": "stream",
          "name": "stdout",
          "text": [
            "print\n"
          ]
        }
      ]
    },
    {
      "cell_type": "code",
      "source": [
        "# 짝수인 경우에는 2로 나눈 값\n",
        "# 홀수인 경우에는 1을 더한 값 출력하자\n",
        "\n",
        "a = 12\n",
        "\n",
        "if a % 2 == 0:\n",
        "  print(a/2)\n",
        "# if else 사이에은 어떤 것도 들어갈 수 없다 ! --> Syntax Error(문법오류) 뜰거야.\n",
        "else :\n",
        "  print(a+1)"
      ],
      "metadata": {
        "colab": {
          "base_uri": "https://localhost:8080/"
        },
        "id": "2P1Iq6IBkNuY",
        "outputId": "73137d5b-6647-4778-c70a-fd1b849d58db"
      },
      "execution_count": 10,
      "outputs": [
        {
          "output_type": "stream",
          "name": "stdout",
          "text": [
            "6.0\n"
          ]
        }
      ]
    },
    {
      "cell_type": "code",
      "source": [
        "# if, elif, else\n",
        "\n",
        "a = 19\n",
        "\n",
        "if a % 4 == 0 :\n",
        "  print('a is divisible by 4')\n",
        "elif a % 4 == 1 :\n",
        "  print('a % 4 is 1')\n",
        "elif a % 4 == 2 :\n",
        "  print('a % 4 is 2')\n",
        "else :\n",
        "  print('a % 4 is 3')"
      ],
      "metadata": {
        "colab": {
          "base_uri": "https://localhost:8080/"
        },
        "id": "bgfP6FZsk4rJ",
        "outputId": "0005bb7b-2424-4b42-ffbd-419fab445db6"
      },
      "execution_count": 12,
      "outputs": [
        {
          "output_type": "stream",
          "name": "stdout",
          "text": [
            "a % 4 is 3\n"
          ]
        }
      ]
    },
    {
      "cell_type": "markdown",
      "source": [
        "중첩 조건문"
      ],
      "metadata": {
        "id": "jFH6ucyWl4QJ"
      }
    },
    {
      "cell_type": "code",
      "source": [
        "a = 10\n",
        "b = 9\n",
        "c = 8\n",
        "\n",
        "if a == 10:\n",
        "  if c == 8:\n",
        "    if b == 8:\n",
        "     print('a is ten and b is 8')\n",
        "    else:\n",
        "      print('a is ten and b isnt 8')"
      ],
      "metadata": {
        "colab": {
          "base_uri": "https://localhost:8080/"
        },
        "id": "gC1iLMItl9xH",
        "outputId": "8d8ca243-2310-43d3-8bfc-0a9714203d2b"
      },
      "execution_count": 13,
      "outputs": [
        {
          "output_type": "stream",
          "name": "stdout",
          "text": [
            "a is ten and b isnt 8\n"
          ]
        }
      ]
    },
    {
      "cell_type": "markdown",
      "source": [
        "depth는 제한은 없지만 이해하기 쉬운 간결한 코드를 짜기 위해서는 최대한 줄이기!"
      ],
      "metadata": {
        "id": "Wxexidl1mMGo"
      }
    },
    {
      "cell_type": "markdown",
      "source": [
        "### 반복문"
      ],
      "metadata": {
        "id": "qirnXLX9mTC8"
      }
    },
    {
      "cell_type": "markdown",
      "source": [
        "While문은 if 문과 달리 조건이 참이면, while 코드 블록을 반복적으로 수행 가능. \n",
        "\n",
        "(**if문은 조건이 참이면, 코드 블록을 한 번만 수행.**)\n",
        "\n",
        "while문의 조건이 false가 되는 순간 코드 종료."
      ],
      "metadata": {
        "id": "P8oEYihVmUiV"
      }
    },
    {
      "cell_type": "code",
      "source": [
        "a = [1, 10, 9, 23, 560, 24, 45, 67, 89]\n",
        "i = 0\n",
        "\n",
        "if i < len(a):\n",
        "  print(a[i])\n",
        "\n",
        "# while i < len(a):\n",
        "#  print(a[i])\n",
        "# 이렇게 하면 조건이 계속 참이니까 루프가 끝나지 않음. 무한루프 발생 !!\n",
        "\n",
        "print('hahah')"
      ],
      "metadata": {
        "colab": {
          "base_uri": "https://localhost:8080/"
        },
        "id": "m2Js200JmqJO",
        "outputId": "16e37335-bac1-413a-a196-f1296e4c0847"
      },
      "execution_count": 15,
      "outputs": [
        {
          "output_type": "stream",
          "name": "stdout",
          "text": [
            "1\n",
            "hahah\n"
          ]
        }
      ]
    },
    {
      "cell_type": "code",
      "source": [
        "while i < len(a):\n",
        "  print(a[i])\n",
        "  i += 1\n",
        "\n",
        "print('hahah')"
      ],
      "metadata": {
        "colab": {
          "base_uri": "https://localhost:8080/"
        },
        "id": "t3yj6GXEm7AQ",
        "outputId": "19701e90-0301-491f-ff1f-cfd0fe4bf589"
      },
      "execution_count": 17,
      "outputs": [
        {
          "output_type": "stream",
          "name": "stdout",
          "text": [
            "10\n",
            "9\n",
            "23\n",
            "560\n",
            "24\n",
            "45\n",
            "67\n",
            "89\n",
            "hahah\n"
          ]
        }
      ]
    },
    {
      "cell_type": "code",
      "source": [
        "a = [1, 10, 9, 23, 560, 24, 45, 67, 89]\n",
        "i = 0 \n",
        "\n",
        "while i < len(a):\n",
        "  print('value {}, index {}'.format(a[i], i))\n",
        "  i += 1\n",
        "\n",
        "print('hahah')"
      ],
      "metadata": {
        "colab": {
          "base_uri": "https://localhost:8080/"
        },
        "id": "HoayLJMancQd",
        "outputId": "7174d1b1-c60d-4aef-b3a1-69a54f638907"
      },
      "execution_count": 22,
      "outputs": [
        {
          "output_type": "stream",
          "name": "stdout",
          "text": [
            "value 1, index 0\n",
            "value 10, index 1\n",
            "value 9, index 2\n",
            "value 23, index 3\n",
            "value 560, index 4\n",
            "value 24, index 5\n",
            "value 45, index 6\n",
            "value 67, index 7\n",
            "value 89, index 8\n",
            "hahah\n"
          ]
        }
      ]
    },
    {
      "cell_type": "code",
      "source": [
        "a = [1, 10, 9, 24, 25, 24]\n",
        "\n",
        "i = 0 # index\n",
        "\n",
        "while i < len(a):\n",
        "  if a[i] > 20: # 20보다 큰 경우만 출력\n",
        "    print(a[i])\n",
        "  i += 1"
      ],
      "metadata": {
        "colab": {
          "base_uri": "https://localhost:8080/"
        },
        "id": "mD39pUT_n-_q",
        "outputId": "f4d982ec-6400-4349-9950-45bb2f4b2153"
      },
      "execution_count": 25,
      "outputs": [
        {
          "output_type": "stream",
          "name": "stdout",
          "text": [
            "24\n",
            "25\n",
            "24\n"
          ]
        }
      ]
    },
    {
      "cell_type": "code",
      "source": [
        "a = [1, 10, 9, 24, 25, 24]\n",
        "i = 0 # index\n",
        "\n",
        "while i < len(a):\n",
        "  if a[i] % 2 != 0: # 홀수인 경우만 출력\n",
        "    print(a[i])\n",
        "  else:\n",
        "    print(a[i]/2) # 짝수인 경우는 나누기 2\n",
        "  i += 1"
      ],
      "metadata": {
        "colab": {
          "base_uri": "https://localhost:8080/"
        },
        "id": "Okh7gRdopuKK",
        "outputId": "0b7128fe-e4cf-4c77-8789-5dd1d442c412"
      },
      "execution_count": 27,
      "outputs": [
        {
          "output_type": "stream",
          "name": "stdout",
          "text": [
            "1\n",
            "5.0\n",
            "9\n",
            "12.0\n",
            "25\n",
            "12.0\n"
          ]
        }
      ]
    },
    {
      "cell_type": "code",
      "source": [
        "# break\n",
        "a = [1, 10, 9, 24, 25, 24]\n",
        "i = 0 # index\n",
        "\n",
        "while i < len(a):\n",
        "  if a[i] > 20:\n",
        "    break\n",
        "  print(a[i])\n",
        "  i += 1\n",
        "\n",
        "print('End')"
      ],
      "metadata": {
        "colab": {
          "base_uri": "https://localhost:8080/"
        },
        "id": "EcJH-1DqqP9D",
        "outputId": "3784a622-605b-4b73-a019-80a65d663468"
      },
      "execution_count": 28,
      "outputs": [
        {
          "output_type": "stream",
          "name": "stdout",
          "text": [
            "1\n",
            "10\n",
            "9\n",
            "End\n"
          ]
        }
      ]
    },
    {
      "cell_type": "code",
      "source": [
        "# 크롤링할 때, 데이터가 얼마나 있는지 모르면 break 문 사용 가능.\n",
        "\n",
        "# while True:\n",
        "#   data = crawl()\n",
        "#   if data == None:\n",
        "#     break\n",
        "#   print(data)"
      ],
      "metadata": {
        "id": "qQ_PFQfdrS_f"
      },
      "execution_count": 30,
      "outputs": []
    },
    {
      "cell_type": "code",
      "source": [
        "# continue --> while 조건으로 점프! 특정한 경우에는 코드를 수행하지 않고 건너뛰기.\n",
        "\n",
        "a = 7\n",
        "while a > 0:\n",
        "  a -= 1 # 순서 주의하자. if 문부터 시작하면 무한루프 되어버린다. \n",
        "  if a == 5:\n",
        "    continue\n",
        "  print(a)"
      ],
      "metadata": {
        "colab": {
          "base_uri": "https://localhost:8080/"
        },
        "id": "ip4xc3F3sFD3",
        "outputId": "5df390ed-546a-4e9d-d5ab-491f4cd0953d"
      },
      "execution_count": 34,
      "outputs": [
        {
          "output_type": "stream",
          "name": "stdout",
          "text": [
            "6\n",
            "4\n",
            "3\n",
            "2\n",
            "1\n",
            "0\n"
          ]
        }
      ]
    },
    {
      "cell_type": "code",
      "source": [
        "# 1부터 100까지 더하라\n",
        "\n",
        "a = 100\n",
        "ls = []\n",
        "\n",
        "while a > 0:\n",
        "  ls.append(a)\n",
        "  a -= 1\n",
        "\n",
        "print(sum(ls))"
      ],
      "metadata": {
        "colab": {
          "base_uri": "https://localhost:8080/"
        },
        "id": "98OfxvU2sP98",
        "outputId": "51594a4e-7cec-45a0-fde1-31a60e9f2ece"
      },
      "execution_count": 37,
      "outputs": [
        {
          "output_type": "stream",
          "name": "stdout",
          "text": [
            "5050\n"
          ]
        }
      ]
    },
    {
      "cell_type": "code",
      "source": [
        "num = 1\n",
        "_sum = 0\n",
        "\n",
        "while num <= 100:\n",
        "  _sum += num\n",
        "  num += 1\n",
        "\n",
        "print(_sum)\n",
        "\n",
        "# 조건이 안떠오르면 while True: 해놓고 조건을 늘려가면서 True자리에 뭐가 들어갈지 고민해봅시다."
      ],
      "metadata": {
        "colab": {
          "base_uri": "https://localhost:8080/"
        },
        "id": "qpd5g41ttW-J",
        "outputId": "93af3a77-8ff6-4962-a124-e2dc42830c52"
      },
      "execution_count": 40,
      "outputs": [
        {
          "output_type": "stream",
          "name": "stdout",
          "text": [
            "5050\n"
          ]
        }
      ]
    },
    {
      "cell_type": "markdown",
      "source": [
        "### for 문\n",
        "\n",
        "리스트,문자열 등 순회가 가능한 객체를 순회하면서 값을 처리!\n",
        "모든 아이템이 순회되면 for문은 종료된다.\n",
        "\n",
        "```\n",
        "a = [1,2,3,4,5]\n",
        "for i in a:\n",
        "  print(i,i*2) \n",
        "```"
      ],
      "metadata": {
        "id": "8OcwE2vMt51c"
      }
    },
    {
      "cell_type": "code",
      "source": [
        "# 문자열은 리스트와 유사하게 순회\n",
        "\n",
        "a = 'hello'\n",
        "for char in a:\n",
        "  print(char)"
      ],
      "metadata": {
        "colab": {
          "base_uri": "https://localhost:8080/"
        },
        "id": "KFOy5QKcuTHi",
        "outputId": "4edc2b44-1ee6-4870-8e16-f8be361dc0f5"
      },
      "execution_count": 41,
      "outputs": [
        {
          "output_type": "stream",
          "name": "stdout",
          "text": [
            "h\n",
            "e\n",
            "l\n",
            "l\n",
            "o\n"
          ]
        }
      ]
    },
    {
      "cell_type": "code",
      "source": [
        "# 정수형, 실수형 같은 경우는 순회 불가\n",
        "# for x in 10:\n",
        "#   print(x)"
      ],
      "metadata": {
        "id": "a4DMlZWewy6Q"
      },
      "execution_count": 42,
      "outputs": []
    },
    {
      "cell_type": "code",
      "source": [
        "a = {'Korea' : 'Seoul',\n",
        "     'Japan' : 'Tokyo',\n",
        "     'Canada' : 'Ottawa'}\n",
        "\n",
        "for all in a:\n",
        "  print(all, a[all]) \n",
        "\n",
        "print('*' * 10)\n",
        "\n",
        "for key in a:\n",
        "  print(key) # k만 출력하면 key만 가져옴.\n",
        "\n",
        "print('*' * 10)\n",
        "\n",
        "for val in a:\n",
        "  print(a[val]) "
      ],
      "metadata": {
        "colab": {
          "base_uri": "https://localhost:8080/"
        },
        "id": "l8V1mNqew-Q3",
        "outputId": "5d25a458-04b4-439f-9b35-e801c9f23334"
      },
      "execution_count": 47,
      "outputs": [
        {
          "output_type": "stream",
          "name": "stdout",
          "text": [
            "Korea Seoul\n",
            "Japan Tokyo\n",
            "Canada Ottawa\n",
            "**********\n",
            "Korea\n",
            "Japan\n",
            "Canada\n",
            "**********\n",
            "Seoul\n",
            "Tokyo\n",
            "Ottawa\n"
          ]
        }
      ]
    },
    {
      "cell_type": "code",
      "source": [
        "# items() 함수를 통해 튜플로 반환함.\n",
        "list(a.items())"
      ],
      "metadata": {
        "colab": {
          "base_uri": "https://localhost:8080/"
        },
        "id": "aUPj7z_SxS7X",
        "outputId": "9bade3b8-6598-4c9f-c19e-925799d45578"
      },
      "execution_count": 49,
      "outputs": [
        {
          "output_type": "execute_result",
          "data": {
            "text/plain": [
              "[('Korea', 'Seoul'), ('Japan', 'Tokyo'), ('Canada', 'Ottawa')]"
            ]
          },
          "metadata": {},
          "execution_count": 49
        }
      ]
    },
    {
      "cell_type": "code",
      "source": [
        "for key, value in a.items():\n",
        "  print(key, value)"
      ],
      "metadata": {
        "colab": {
          "base_uri": "https://localhost:8080/"
        },
        "id": "ieis_Vf9x0QN",
        "outputId": "cd5c4edc-4396-4e09-cb17-4f4d68374c96"
      },
      "execution_count": 50,
      "outputs": [
        {
          "output_type": "stream",
          "name": "stdout",
          "text": [
            "Korea Seoul\n",
            "Japan Tokyo\n",
            "Canada Ottawa\n"
          ]
        }
      ]
    },
    {
      "cell_type": "code",
      "source": [
        "# enumerate() --> index, value 모두 사용하고 싶을 때.\n",
        "\n",
        "a = [1, 2, 3, 4, 5]\n",
        "\n",
        "for index, num in enumerate(a):\n",
        "  print(index, num)"
      ],
      "metadata": {
        "colab": {
          "base_uri": "https://localhost:8080/"
        },
        "id": "LLDyUh3zx6Hr",
        "outputId": "622b50f8-2044-468d-e175-552f6ccc4a8e"
      },
      "execution_count": 56,
      "outputs": [
        {
          "output_type": "stream",
          "name": "stdout",
          "text": [
            "0 1\n",
            "1 2\n",
            "2 3\n",
            "3 4\n",
            "4 5\n"
          ]
        }
      ]
    },
    {
      "cell_type": "code",
      "source": [
        "for i, j in enumerate(a):\n",
        "  if i > 3:\n",
        "    print(i, j)"
      ],
      "metadata": {
        "colab": {
          "base_uri": "https://localhost:8080/"
        },
        "id": "nZhk-r-ByU_0",
        "outputId": "b04b6297-9a7b-465a-c650-076d76d3c397"
      },
      "execution_count": 55,
      "outputs": [
        {
          "output_type": "stream",
          "name": "stdout",
          "text": [
            "4 5\n"
          ]
        }
      ]
    },
    {
      "cell_type": "code",
      "source": [
        "# break --> 특정 조건 하에 멈추고 싶을 때 사용.\n",
        "\n",
        "a = [100, 90, 80, 70, 60, 50]\n",
        "\n",
        "for num in a:\n",
        "  if num < 80:\n",
        "    break\n",
        "  print(num)"
      ],
      "metadata": {
        "colab": {
          "base_uri": "https://localhost:8080/"
        },
        "id": "3U6gB7GGyd1f",
        "outputId": "c71de5e4-f382-4b40-8f3a-9fa60229e77d"
      },
      "execution_count": 57,
      "outputs": [
        {
          "output_type": "stream",
          "name": "stdout",
          "text": [
            "100\n",
            "90\n",
            "80\n"
          ]
        }
      ]
    },
    {
      "cell_type": "code",
      "source": [
        "# continue --> 특정 조건에 해당하는 아이템을 건너 뛰고 싶을 때 사용.\n",
        "\n",
        "a = [100, 90, 80, 70, 60, 50]\n",
        "\n",
        "for num in a:\n",
        "  if num >= 60 and num <=70:\n",
        "    continue\n",
        "  print(num)"
      ],
      "metadata": {
        "colab": {
          "base_uri": "https://localhost:8080/"
        },
        "id": "o3n4yLXYyt7b",
        "outputId": "694ef4d9-b6cc-4e24-dcd8-7779c64f200c"
      },
      "execution_count": 58,
      "outputs": [
        {
          "output_type": "stream",
          "name": "stdout",
          "text": [
            "100\n",
            "90\n",
            "80\n",
            "50\n"
          ]
        }
      ]
    },
    {
      "cell_type": "code",
      "source": [
        "# 중첩 for문\n",
        "\n",
        "a = [1, 2, 4]\n",
        "\n",
        "for i in a :\n",
        "  for j in a:\n",
        "    print(i*j)"
      ],
      "metadata": {
        "colab": {
          "base_uri": "https://localhost:8080/"
        },
        "id": "fbQ8-0nIzH1Z",
        "outputId": "400ce213-8036-44bd-ab92-33f41ad41b9f"
      },
      "execution_count": 59,
      "outputs": [
        {
          "output_type": "stream",
          "name": "stdout",
          "text": [
            "1\n",
            "2\n",
            "4\n",
            "2\n",
            "4\n",
            "8\n",
            "4\n",
            "8\n",
            "16\n"
          ]
        }
      ]
    },
    {
      "cell_type": "code",
      "source": [
        "# 구구단 만들기\n",
        "\n",
        "for i in range(2,10):\n",
        "  for j in range(1,10):\n",
        "    print(i, \"x\", j, \"=\", i*j)"
      ],
      "metadata": {
        "id": "aTv644ULzQO1"
      },
      "execution_count": null,
      "outputs": []
    },
    {
      "cell_type": "code",
      "source": [
        "a = 2\n",
        "b = 1\n",
        "while a <10:\n",
        "  for i in range(1,10):\n",
        "    print(a, i, a*i)\n",
        "  a += 1"
      ],
      "metadata": {
        "id": "k850e6e2zxQ2"
      },
      "execution_count": null,
      "outputs": []
    },
    {
      "cell_type": "code",
      "source": [
        "a = 2\n",
        "# b = 1\n",
        "\n",
        "while a <10:\n",
        "  b = 1 # while문 안에서 b 값을 초기화 시켜주는 것 주의하자 !!\n",
        "        # 초기화 안하면 2단에서 끝나버림. \n",
        "  while b < 10:\n",
        "    print(a, b, a*b)\n",
        "    b += 1\n",
        "  a +=1"
      ],
      "metadata": {
        "colab": {
          "base_uri": "https://localhost:8080/"
        },
        "id": "IEwNw3Q605oq",
        "outputId": "f85e2212-8a92-4e70-f863-aead270f34de"
      },
      "execution_count": 76,
      "outputs": [
        {
          "output_type": "stream",
          "name": "stdout",
          "text": [
            "2 1 2\n",
            "2 2 4\n",
            "2 3 6\n",
            "2 4 8\n",
            "2 5 10\n",
            "2 6 12\n",
            "2 7 14\n",
            "2 8 16\n",
            "2 9 18\n"
          ]
        }
      ]
    },
    {
      "cell_type": "markdown",
      "source": [
        "#### range\n",
        ": 리스트를 쉽게 생성할 수 있는 함수\n",
        "\n",
        "- range(10) : 0 ~ 9\n",
        "- range(2, 10) : 2 ~ 9\n",
        "- range(2, 10, 2) : 2, 4, 6, 8"
      ],
      "metadata": {
        "id": "Goyj0oVL2y-j"
      }
    },
    {
      "cell_type": "code",
      "source": [
        "list(range(2, 10, 2))"
      ],
      "metadata": {
        "colab": {
          "base_uri": "https://localhost:8080/"
        },
        "id": "uhSrtdP03Wjr",
        "outputId": "8a37b4e8-54db-4b44-ba5f-7a8de104c49a"
      },
      "execution_count": 78,
      "outputs": [
        {
          "output_type": "execute_result",
          "data": {
            "text/plain": [
              "[2, 4, 6, 8]"
            ]
          },
          "metadata": {},
          "execution_count": 78
        }
      ]
    },
    {
      "cell_type": "code",
      "source": [
        "# 1부터 100 사이의 5의 배수만 갖는 리스트 생성.\n",
        "list(range(5, 100, 5))"
      ],
      "metadata": {
        "colab": {
          "base_uri": "https://localhost:8080/"
        },
        "id": "Gp--qHNy3wqt",
        "outputId": "641adabc-6001-4449-83e6-b03d8650309c"
      },
      "execution_count": 83,
      "outputs": [
        {
          "output_type": "execute_result",
          "data": {
            "text/plain": [
              "[5, 10, 15, 20, 25, 30, 35, 40, 45, 50, 55, 60, 65, 70, 75, 80, 85, 90, 95]"
            ]
          },
          "metadata": {},
          "execution_count": 83
        }
      ]
    },
    {
      "cell_type": "markdown",
      "source": [
        "### Quiz"
      ],
      "metadata": {
        "id": "jbGHa7F2-0kq"
      }
    },
    {
      "cell_type": "code",
      "source": [
        "# 1 - 100 까지 정수 중 2의 배수 혹은 11의 배수를 모두 출력하시오.\n",
        "\n",
        "for i in range(1, 101):\n",
        "  if i % 2 == 0 or i % 11 == 0:\n",
        "    print(i)"
      ],
      "metadata": {
        "colab": {
          "base_uri": "https://localhost:8080/"
        },
        "id": "MsVHFWIa36ID",
        "outputId": "485c4aaa-2b15-403b-bb5b-20422915db02"
      },
      "execution_count": 84,
      "outputs": [
        {
          "output_type": "stream",
          "name": "stdout",
          "text": [
            "2\n",
            "4\n",
            "6\n",
            "8\n",
            "10\n",
            "11\n",
            "12\n",
            "14\n",
            "16\n",
            "18\n",
            "20\n",
            "22\n",
            "24\n",
            "26\n",
            "28\n",
            "30\n",
            "32\n",
            "33\n",
            "34\n",
            "36\n",
            "38\n",
            "40\n",
            "42\n",
            "44\n",
            "46\n",
            "48\n",
            "50\n",
            "52\n",
            "54\n",
            "55\n",
            "56\n",
            "58\n",
            "60\n",
            "62\n",
            "64\n",
            "66\n",
            "68\n",
            "70\n",
            "72\n",
            "74\n",
            "76\n",
            "77\n",
            "78\n",
            "80\n",
            "82\n",
            "84\n",
            "86\n",
            "88\n",
            "90\n",
            "92\n",
            "94\n",
            "96\n",
            "98\n",
            "99\n",
            "100\n"
          ]
        }
      ]
    },
    {
      "cell_type": "code",
      "source": [
        "# a = [22, 1, 3, 4, 7, 98, 55, 87, 99, 19, 20, 45]에서 최댓값과 최솟값을 찾으시오.\n",
        "# (sorted, sort 사용 금지)\n",
        "\n",
        "a = [22, 1, 3, 4, 7, 98, 55, 87, 99, 19, 20, 45]\n",
        "max = a[0] # 초기 값을 첫 번째 값으로 설정하면 쉽다는 아이디어를 생각해내지 못했다. 주의할 것 !\n",
        "min = a[0]\n",
        "\n",
        "for i in a: # 처음 값 비교하기 싫으면 for i in a[1:]: 로 사용 가능\n",
        "  if max < i:\n",
        "    max = i\n",
        "  if min > i:\n",
        "    min = i\n",
        "\n",
        "print('min: {}, max: {}'.format(min, max))"
      ],
      "metadata": {
        "colab": {
          "base_uri": "https://localhost:8080/"
        },
        "id": "PLRQt5sA77Xq",
        "outputId": "1cba2a57-61c8-44e3-9c17-4573fb0c5390"
      },
      "execution_count": 116,
      "outputs": [
        {
          "output_type": "stream",
          "name": "stdout",
          "text": [
            "min: 1, max: 99\n"
          ]
        }
      ]
    },
    {
      "cell_type": "code",
      "source": [
        "# a = [22, 1, 3, 4, 7, 98, 55, 87, 99, 19, 20, 45]에서 평균을 구하시오.\n",
        "\n",
        "a = [22, 1, 3, 4, 7, 98, 55, 87, 99, 19, 20, 45]\n",
        "sum = 0\n",
        "\n",
        "for i in a:\n",
        "  sum += int(i)\n",
        "\n",
        "print(sum/len(a))"
      ],
      "metadata": {
        "colab": {
          "base_uri": "https://localhost:8080/"
        },
        "id": "CI_6l9cS9hRK",
        "outputId": "9efd204f-9388-420c-bbf9-4cc8953a39be"
      },
      "execution_count": 117,
      "outputs": [
        {
          "output_type": "stream",
          "name": "stdout",
          "text": [
            "38.333333333333336\n"
          ]
        }
      ]
    },
    {
      "cell_type": "code",
      "source": [
        "a = [22, 1, 3, 4, 7, 98, 55, 87, 99, 19, 20, 45]\n",
        "i = 0\n",
        "sum = 0\n",
        "\n",
        "while i < len(a):\n",
        "  sum += a[i]\n",
        "  i += 1\n",
        "  \n",
        "print(sum/len(a))"
      ],
      "metadata": {
        "colab": {
          "base_uri": "https://localhost:8080/"
        },
        "id": "v4BbfgKN-iEa",
        "outputId": "14783466-d258-4ff2-c3c8-7c70f986e06f"
      },
      "execution_count": 129,
      "outputs": [
        {
          "output_type": "stream",
          "name": "stdout",
          "text": [
            "38.333333333333336\n"
          ]
        }
      ]
    },
    {
      "cell_type": "markdown",
      "source": [
        "## 함수의 이해 및 활용"
      ],
      "metadata": {
        "id": "k-0IUeyqDgdt"
      }
    },
    {
      "cell_type": "code",
      "source": [
        "# 'int' is not callable : 예약어를 변수로 사용했었을 경우, 이 Type Error가 많이 뜬다. \n",
        "# del()을 이용해서 예약어로 변수명을 썼던 그 변수 지워주고 다시 실행해주면 됨.\n",
        "# 여기서는 del(sum)\n",
        "\n",
        "a = [1,2,3,4]\n",
        "_summation = sum(a)\n",
        "print(_summation)"
      ],
      "metadata": {
        "colab": {
          "base_uri": "https://localhost:8080/"
        },
        "id": "AV42CsClEzxh",
        "outputId": "da362f64-493e-4615-c1f2-4f9a5f3361fb"
      },
      "execution_count": 134,
      "outputs": [
        {
          "output_type": "stream",
          "name": "stdout",
          "text": [
            "10\n"
          ]
        }
      ]
    },
    {
      "cell_type": "markdown",
      "source": [
        "- def 사용\n",
        "- argument정의 (함수에 입력으로 전달하는 값, argument or parameter)\n",
        "- : (콜론)\n",
        "- body (들여쓰기 된 부분까지)\n",
        "  - 함수를 호출한 코드 (caller) 로 함수가 해당 기능을 수행 완료하고 아웃풋을 return으로 사용.\n",
        "- 함수 네이밍은 직관적이게."
      ],
      "metadata": {
        "id": "5v5JvTHoHpRa"
      }
    },
    {
      "cell_type": "markdown",
      "source": [
        "### 기본 함수"
      ],
      "metadata": {
        "id": "OaJ2cT_5eqqS"
      }
    },
    {
      "cell_type": "code",
      "source": [
        "def add(x,y):\n",
        "  n = x+y\n",
        "  return n"
      ],
      "metadata": {
        "id": "YeiZhTjgJBpT"
      },
      "execution_count": 135,
      "outputs": []
    },
    {
      "cell_type": "code",
      "source": [
        "add(30,300)"
      ],
      "metadata": {
        "colab": {
          "base_uri": "https://localhost:8080/"
        },
        "id": "LBQdEbfDJFm1",
        "outputId": "9823299e-5d80-4122-f0bc-7c5fbfd55098"
      },
      "execution_count": 136,
      "outputs": [
        {
          "output_type": "execute_result",
          "data": {
            "text/plain": [
              "330"
            ]
          },
          "metadata": {},
          "execution_count": 136
        }
      ]
    },
    {
      "cell_type": "code",
      "source": [
        "result = add(30,300)\n",
        "print(result)"
      ],
      "metadata": {
        "colab": {
          "base_uri": "https://localhost:8080/"
        },
        "id": "CnC1_REHJG_q",
        "outputId": "ffd89ddc-06bf-47d9-9bc0-a75b9dd53cfa"
      },
      "execution_count": 137,
      "outputs": [
        {
          "output_type": "stream",
          "name": "stdout",
          "text": [
            "330\n"
          ]
        }
      ]
    },
    {
      "cell_type": "code",
      "source": [
        "# 파라미터 설정 안해도 되기는 된다.\n",
        "def test():\n",
        "  print('hey')\n",
        "  return 100\n",
        "\n",
        "test()"
      ],
      "metadata": {
        "colab": {
          "base_uri": "https://localhost:8080/"
        },
        "id": "C3y3y56jJLQb",
        "outputId": "642985bc-d7f1-4f74-e6d9-e1f0c8b22c5a"
      },
      "execution_count": 138,
      "outputs": [
        {
          "output_type": "stream",
          "name": "stdout",
          "text": [
            "hey\n"
          ]
        },
        {
          "output_type": "execute_result",
          "data": {
            "text/plain": [
              "100"
            ]
          },
          "metadata": {},
          "execution_count": 138
        }
      ]
    },
    {
      "cell_type": "code",
      "source": [
        "# 처음 함수를 설정할 때 파라미터 타입을 정하지 않기 때문에 주의할 것.\n",
        "def sub(x, y):\n",
        "  n = x - y\n",
        "  return n\n",
        "print(sub(30,4))\n",
        "# print(sub('you', 'me')) --> 일케 쓰면 TypeError 뜬다."
      ],
      "metadata": {
        "colab": {
          "base_uri": "https://localhost:8080/"
        },
        "id": "K8U8gM04SrSo",
        "outputId": "a173db0b-82da-4c47-c0b8-55d3c917604f"
      },
      "execution_count": 141,
      "outputs": [
        {
          "output_type": "stream",
          "name": "stdout",
          "text": [
            "26\n"
          ]
        }
      ]
    },
    {
      "cell_type": "code",
      "source": [
        "# 기본 인자 Default Parameter\n",
        "\n",
        "def add(x, y, z = 5):\n",
        "  a = x + y + z\n",
        "  return a\n",
        "\n",
        "print(add(10, 1)) # z 입력 안해도 디폴트값인 5로 넣어준다.\n",
        "print(add(10,1,1)) # z 까지 입력해주면, 당연히 입력한 z 값을 넣는다."
      ],
      "metadata": {
        "colab": {
          "base_uri": "https://localhost:8080/"
        },
        "id": "Fddz_AtETGC_",
        "outputId": "e3f8f7ee-c38e-490f-9c5e-b29e64e1fb43"
      },
      "execution_count": 147,
      "outputs": [
        {
          "output_type": "stream",
          "name": "stdout",
          "text": [
            "16\n",
            "12\n"
          ]
        }
      ]
    },
    {
      "cell_type": "code",
      "source": [
        "# 기본 파라미터는 뒤에서부터 정의되어야 한다. 중간에 정의될 수 없음.\n",
        "\n",
        "# def test(a, b=3, c):\n",
        "#   print(a,b,c)\n",
        "\n",
        "# test(10,20,1) \n",
        "\n",
        "# 이렇게하면\n",
        "# SyntaxError: non-default argument follows default argument 뜹니다."
      ],
      "metadata": {
        "id": "9yvouzqNTwMF"
      },
      "execution_count": 149,
      "outputs": []
    },
    {
      "cell_type": "code",
      "source": [
        "# 키워드 파라미터\n",
        "def test(x, y, z):\n",
        "  a = x + y + z\n",
        "  return a\n",
        "\n",
        "print(test(x = 10, y = 20, z = 3)) # 이렇게 파라미터의 키워드를 명시할 수 있음.\n",
        "print(test(x = 10, z = 3, y = 20)) # 순서 변경도 가능.\n",
        "\n",
        "# 좀 더 명확하고 직관적이게 쓰고 싶을 때 추천.\n",
        "# 키워드 파라미터 쓸거면 쭉 쓰고, 안 쓸거면 쭉 안 쓰고 --> 일관성 있게 코드 작성하기."
      ],
      "metadata": {
        "colab": {
          "base_uri": "https://localhost:8080/"
        },
        "id": "dPMy_8aeWhZS",
        "outputId": "f0edbe96-a48b-4299-e14e-dcd7af8a816a"
      },
      "execution_count": 152,
      "outputs": [
        {
          "output_type": "stream",
          "name": "stdout",
          "text": [
            "33\n",
            "33\n"
          ]
        }
      ]
    },
    {
      "cell_type": "code",
      "source": [
        "# return 뒤에 어떤 값이나 수식 없이 return만 달랑 존재하면 None 반환, \n",
        "# return 없으면 코드 블록 종료되면 종료로 간주. 이때도 None 반환.\n",
        "# return 을 만나는 순간 함수는 끝나버림. return 뒤에 뭐 써봤자 작동 안 됨. (함수 종료)\n",
        "\n",
        "def wrong_case(x, y):\n",
        "  if x > 10:\n",
        "    return\n",
        "  print(x+y)\n",
        "  return (x+2) * y\n",
        "\n",
        "print(wrong_case(12,5)) # --> 첫 번째 리턴에서 함수 종료. 리턴 뒤에 아무것도 없으니 None 반환.\n",
        "\n",
        "def wrong_case(x, y):\n",
        "  if x > 10:\n",
        "    return (x+2) * y\n",
        "\n",
        "print(wrong_case(2,5)) # --> if 문에 해당 안되니까 코드 블록 종료 뒤 None 반환. "
      ],
      "metadata": {
        "colab": {
          "base_uri": "https://localhost:8080/"
        },
        "id": "VzItR0j5Wv8F",
        "outputId": "7bb6f151-57bb-4b6e-f311-d2cfd89cfcf4"
      },
      "execution_count": 156,
      "outputs": [
        {
          "output_type": "stream",
          "name": "stdout",
          "text": [
            "None\n",
            "None\n"
          ]
        }
      ]
    },
    {
      "cell_type": "code",
      "source": [
        "# multiple return (복수 값 반환)\n",
        "\n",
        "def add_mul (x, y):\n",
        "  s = x + y\n",
        "  m = x * y\n",
        "\n",
        "  return s, m # tuple 반환\n",
        "\n",
        "c = add_mul(20,3)\n",
        "print(c)\n",
        "print(type(c))\n",
        "\n",
        "a,b = add_mul(20,3)\n",
        "print(a,b)"
      ],
      "metadata": {
        "colab": {
          "base_uri": "https://localhost:8080/"
        },
        "id": "qHcgeGMBX89M",
        "outputId": "41023978-0be2-4ace-8876-768e398eb9ff"
      },
      "execution_count": 159,
      "outputs": [
        {
          "output_type": "stream",
          "name": "stdout",
          "text": [
            "(23, 60)\n",
            "<class 'tuple'>\n",
            "23 60\n"
          ]
        }
      ]
    },
    {
      "cell_type": "code",
      "source": [
        "# 같은 이름의 지역변수와 전역변수가 있다면 ? 지역변수가 우선순위가 더 높다.\n",
        "\n",
        "num1 = 10\n",
        "num2 = 30\n",
        "\n",
        "def test(num1, num2):\n",
        "  print(num1, num2)\n",
        "  return num1 + num2\n",
        "\n",
        "test(20,40) # --> 지역변수가 우선순위가 더 높음. 함수 내에서만 존재하는 변수이므로 함수가 끝나는 순간 사라지게 됨.\n",
        "print(num1, num2) # --> global varible 에 업데이트 되지 않음을 확인."
      ],
      "metadata": {
        "colab": {
          "base_uri": "https://localhost:8080/"
        },
        "id": "zflZB1JYYpQW",
        "outputId": "da68c87e-991c-4e3c-c637-8921dbc3ee2a"
      },
      "execution_count": 30,
      "outputs": [
        {
          "output_type": "stream",
          "name": "stdout",
          "text": [
            "20 40\n",
            "10 30\n"
          ]
        }
      ]
    },
    {
      "cell_type": "markdown",
      "source": [
        "### 가변길이 함수"
      ],
      "metadata": {
        "id": "_hWWBv8EeuOK"
      }
    },
    {
      "cell_type": "code",
      "source": [
        "# 가변길이 인자\n",
        "# 전달되는 파라미터가 동적인 것. 정적으로 고정되지 않은 것. \n",
        "# 정해진 파라미터의 개수만 받는 것이 불가능한 경우.\n",
        "# ex ) print 함수\n",
        "# *를 앞에 붙여주자! 가변길이 파라미터는 \"args\" --arguments-- 로 표기한다!\n",
        "\n",
        "def test(*x):\n",
        "  print(type(x))\n",
        "\n",
        "test()\n",
        "test(10)\n",
        "test(10,20)\n",
        "\n",
        "\n",
        "def test(*x):\n",
        "  for item in x:\n",
        "    print(item)\n",
        "  \n",
        "test(10, 20, 30, 40, 50)"
      ],
      "metadata": {
        "colab": {
          "base_uri": "https://localhost:8080/"
        },
        "id": "QMpv-pEMTqO_",
        "outputId": "74c5d668-69ef-48a6-e427-2453968b21a9"
      },
      "execution_count": 5,
      "outputs": [
        {
          "output_type": "stream",
          "name": "stdout",
          "text": [
            "<class 'tuple'>\n",
            "<class 'tuple'>\n",
            "<class 'tuple'>\n",
            "10\n",
            "20\n",
            "30\n",
            "40\n",
            "50\n"
          ]
        }
      ]
    },
    {
      "cell_type": "code",
      "source": [
        "# 가변적이면서도 key 의 형식으로 파라미터를 설정하고 싶다면 ? 앞에 ** 붙이기.\n",
        "# dictionary 형태로 변수를 받는다.\n",
        "# 관례적으로 kwargs (key word arguments) 를 변수 명으로 적는다. \n",
        "\n",
        "def test2(**x):\n",
        "  for key, value in x.items():\n",
        "    print('key:', key, ', value:', value)\n",
        "\n",
        "test2(a = 1, b = 2, name = 'Bob', age = 90)\n",
        "print('*'*10)\n",
        "test2(a = 10)"
      ],
      "metadata": {
        "colab": {
          "base_uri": "https://localhost:8080/"
        },
        "id": "pWkCcA5YUrTo",
        "outputId": "84ecbc51-d4fd-41d3-a9b1-8fec5a9a3681"
      },
      "execution_count": 9,
      "outputs": [
        {
          "output_type": "stream",
          "name": "stdout",
          "text": [
            "key: a , value: 1\n",
            "key: b , value: 2\n",
            "key: name , value: Bob\n",
            "key: age , value: 90\n",
            "**********\n",
            "key: a , value: 10\n"
          ]
        }
      ]
    },
    {
      "cell_type": "code",
      "source": [
        "# 가변길이 함수의 대표적인 예는 문자열의 \"포맷\" 함수\n",
        "# {} placeholde를 문자열 내에 위치시키고 해당 위치에 포맷 함수로 값을 전달. \n",
        "\n",
        "a = '오늘 온도 : {}, 강수확률 : {}%, 내일 온도 :{}'.format(20, 40, 21)\n",
        "print(a)\n",
        "\n",
        "a = '오늘 온도 : {temp}, 강수확률 : {rain}%, 내일 온도 :{after_temp}'.format(temp = 20, rain = 40, after_temp = 21)\n",
        "print(a)"
      ],
      "metadata": {
        "colab": {
          "base_uri": "https://localhost:8080/"
        },
        "id": "hHDzaE03cvAy",
        "outputId": "6ca0af38-6f4b-4ea9-b242-51c1ffa70f82"
      },
      "execution_count": 13,
      "outputs": [
        {
          "output_type": "stream",
          "name": "stdout",
          "text": [
            "오늘 온도 : 20, 강수확률 : 40%, 내일 온도 :21\n",
            "오늘 온도 : 20, 강수확률 : 40%, 내일 온도 :21\n"
          ]
        }
      ]
    },
    {
      "cell_type": "markdown",
      "source": [
        "### Lamda 함수"
      ],
      "metadata": {
        "id": "wZc27YpXeMkC"
      }
    },
    {
      "cell_type": "markdown",
      "source": [
        "단일문으로 표현하는 익명 함수 (한줄로 표현, 함수의 이름없이 사용)\n",
        "\n",
        "일회성 함수일 때 사용.\n",
        "\n",
        "- lambda 입력값 : 출력값"
      ],
      "metadata": {
        "id": "ReyfDDQLe0pF"
      }
    },
    {
      "cell_type": "code",
      "source": [
        "square = lambda x : x**2\n",
        "type(square)"
      ],
      "metadata": {
        "colab": {
          "base_uri": "https://localhost:8080/"
        },
        "id": "RXrlN2IbemHw",
        "outputId": "429008da-deb7-4597-c622-e8dc6eed91d6"
      },
      "execution_count": 15,
      "outputs": [
        {
          "output_type": "execute_result",
          "data": {
            "text/plain": [
              "25"
            ]
          },
          "metadata": {},
          "execution_count": 15
        }
      ]
    },
    {
      "cell_type": "code",
      "source": [
        "square(5)"
      ],
      "metadata": {
        "colab": {
          "base_uri": "https://localhost:8080/"
        },
        "id": "oJ7sRXv0fFxS",
        "outputId": "f55a7eaa-c012-4d0c-9d0c-b80666496724"
      },
      "execution_count": 16,
      "outputs": [
        {
          "output_type": "execute_result",
          "data": {
            "text/plain": [
              "25"
            ]
          },
          "metadata": {},
          "execution_count": 16
        }
      ]
    },
    {
      "cell_type": "code",
      "source": [
        "def square2(x):\n",
        "  return x **2\n",
        "\n",
        "square2(5)"
      ],
      "metadata": {
        "colab": {
          "base_uri": "https://localhost:8080/"
        },
        "id": "zFyrMwRDfJzf",
        "outputId": "60074e05-026f-46ec-f49f-21eb4a37f5de"
      },
      "execution_count": 31,
      "outputs": [
        {
          "output_type": "execute_result",
          "data": {
            "text/plain": [
              "25"
            ]
          },
          "metadata": {},
          "execution_count": 31
        }
      ]
    },
    {
      "cell_type": "code",
      "source": [
        "strings = ['i', 'ate', 'bannana', 'and', 'apple']\n",
        "strings.sort()\n",
        "print(strings)\n",
        "\n",
        "# 문자열의 길이대로 정렬하고 싶음.\n",
        "strings.sort(key = lambda s : len(s)) # 따로 공간낭비 없이 심플하게 정리하고 싶을 때\n",
        "print(strings)"
      ],
      "metadata": {
        "colab": {
          "base_uri": "https://localhost:8080/"
        },
        "id": "NrAK6ajlfpM5",
        "outputId": "418b3e5a-bee5-4e01-967f-c40667682fde"
      },
      "execution_count": 40,
      "outputs": [
        {
          "output_type": "stream",
          "name": "stdout",
          "text": [
            "['and', 'apple', 'ate', 'bannana', 'i']\n",
            "['i', 'and', 'ate', 'apple', 'bannana']\n"
          ]
        }
      ]
    },
    {
      "cell_type": "markdown",
      "source": [
        "### filter, map, reduce"
      ],
      "metadata": {
        "id": "CaKB0Me6gqFT"
      }
    },
    {
      "cell_type": "code",
      "source": [
        "# filter --> list에서 filtering 하는 것.\n",
        "# filter(함수, 리스트) --> list 각각의 원소에 함수를 적용시켜 봄.\n",
        "\n",
        "nums = [1, 2, 3, 6, 8, 9]\n",
        "\n",
        "filter(함수, nums)"
      ],
      "metadata": {
        "id": "zULIQtOWhVeR"
      },
      "execution_count": null,
      "outputs": []
    }
  ]
}