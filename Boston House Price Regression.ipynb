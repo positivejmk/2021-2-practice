{
  "nbformat": 4,
  "nbformat_minor": 0,
  "metadata": {
    "colab": {
      "name": "과제_Regression_김정민.ipynb의 사본",
      "provenance": [],
      "collapsed_sections": [],
      "toc_visible": true,
      "include_colab_link": true
    },
    "kernelspec": {
      "name": "python3",
      "display_name": "Python 3"
    },
    "language_info": {
      "name": "python"
    }
  },
  "cells": [
    {
      "cell_type": "markdown",
      "metadata": {
        "id": "view-in-github",
        "colab_type": "text"
      },
      "source": [
        "<a href=\"https://colab.research.google.com/github/positivejmk/2021-2-practice/blob/master/Boston%20House%20Price%20Regression.ipynb\" target=\"_parent\"><img src=\"https://colab.research.google.com/assets/colab-badge.svg\" alt=\"Open In Colab\"/></a>"
      ]
    },
    {
      "cell_type": "markdown",
      "metadata": {
        "id": "hyKtSXqXysAK"
      },
      "source": [
        "# Explanatory Analysis"
      ]
    },
    {
      "cell_type": "code",
      "metadata": {
        "colab": {
          "base_uri": "https://localhost:8080/"
        },
        "id": "uavvMKb1Z77T",
        "outputId": "70b3f955-44c6-479c-b142-22c2f5b7b634"
      },
      "source": [
        "from google.colab import drive\n",
        "drive.mount('/content/drive')"
      ],
      "execution_count": null,
      "outputs": [
        {
          "output_type": "stream",
          "name": "stdout",
          "text": [
            "Mounted at /content/drive\n"
          ]
        }
      ]
    },
    {
      "cell_type": "code",
      "metadata": {
        "id": "kGA3lk3Xx-LG"
      },
      "source": [
        "import numpy as np\n",
        "import pandas as pd"
      ],
      "execution_count": null,
      "outputs": []
    },
    {
      "cell_type": "code",
      "metadata": {
        "colab": {
          "base_uri": "https://localhost:8080/",
          "height": 204
        },
        "id": "mb4ZFa0zSVkY",
        "outputId": "58fdafd5-3012-4187-fa78-de5d1b38a600"
      },
      "source": [
        "from sklearn.datasets import load_boston\n",
        "\n",
        "# 데이터 적재\n",
        "boston = load_boston()\n",
        "\n",
        "# 데이터 준비\n",
        "df_Boston = pd.DataFrame(boston.data, columns= boston.feature_names)\n",
        "df_Boston['PRICE'] = boston.target #예측하고자 하는 가격 변수를 price라는 이름으로 추가 \n",
        "display(df_Boston.head())"
      ],
      "execution_count": null,
      "outputs": [
        {
          "output_type": "display_data",
          "data": {
            "text/html": [
              "<div>\n",
              "<style scoped>\n",
              "    .dataframe tbody tr th:only-of-type {\n",
              "        vertical-align: middle;\n",
              "    }\n",
              "\n",
              "    .dataframe tbody tr th {\n",
              "        vertical-align: top;\n",
              "    }\n",
              "\n",
              "    .dataframe thead th {\n",
              "        text-align: right;\n",
              "    }\n",
              "</style>\n",
              "<table border=\"1\" class=\"dataframe\">\n",
              "  <thead>\n",
              "    <tr style=\"text-align: right;\">\n",
              "      <th></th>\n",
              "      <th>CRIM</th>\n",
              "      <th>ZN</th>\n",
              "      <th>INDUS</th>\n",
              "      <th>CHAS</th>\n",
              "      <th>NOX</th>\n",
              "      <th>RM</th>\n",
              "      <th>AGE</th>\n",
              "      <th>DIS</th>\n",
              "      <th>RAD</th>\n",
              "      <th>TAX</th>\n",
              "      <th>PTRATIO</th>\n",
              "      <th>B</th>\n",
              "      <th>LSTAT</th>\n",
              "      <th>PRICE</th>\n",
              "    </tr>\n",
              "  </thead>\n",
              "  <tbody>\n",
              "    <tr>\n",
              "      <th>0</th>\n",
              "      <td>0.00632</td>\n",
              "      <td>18.0</td>\n",
              "      <td>2.31</td>\n",
              "      <td>0.0</td>\n",
              "      <td>0.538</td>\n",
              "      <td>6.575</td>\n",
              "      <td>65.2</td>\n",
              "      <td>4.0900</td>\n",
              "      <td>1.0</td>\n",
              "      <td>296.0</td>\n",
              "      <td>15.3</td>\n",
              "      <td>396.90</td>\n",
              "      <td>4.98</td>\n",
              "      <td>24.0</td>\n",
              "    </tr>\n",
              "    <tr>\n",
              "      <th>1</th>\n",
              "      <td>0.02731</td>\n",
              "      <td>0.0</td>\n",
              "      <td>7.07</td>\n",
              "      <td>0.0</td>\n",
              "      <td>0.469</td>\n",
              "      <td>6.421</td>\n",
              "      <td>78.9</td>\n",
              "      <td>4.9671</td>\n",
              "      <td>2.0</td>\n",
              "      <td>242.0</td>\n",
              "      <td>17.8</td>\n",
              "      <td>396.90</td>\n",
              "      <td>9.14</td>\n",
              "      <td>21.6</td>\n",
              "    </tr>\n",
              "    <tr>\n",
              "      <th>2</th>\n",
              "      <td>0.02729</td>\n",
              "      <td>0.0</td>\n",
              "      <td>7.07</td>\n",
              "      <td>0.0</td>\n",
              "      <td>0.469</td>\n",
              "      <td>7.185</td>\n",
              "      <td>61.1</td>\n",
              "      <td>4.9671</td>\n",
              "      <td>2.0</td>\n",
              "      <td>242.0</td>\n",
              "      <td>17.8</td>\n",
              "      <td>392.83</td>\n",
              "      <td>4.03</td>\n",
              "      <td>34.7</td>\n",
              "    </tr>\n",
              "    <tr>\n",
              "      <th>3</th>\n",
              "      <td>0.03237</td>\n",
              "      <td>0.0</td>\n",
              "      <td>2.18</td>\n",
              "      <td>0.0</td>\n",
              "      <td>0.458</td>\n",
              "      <td>6.998</td>\n",
              "      <td>45.8</td>\n",
              "      <td>6.0622</td>\n",
              "      <td>3.0</td>\n",
              "      <td>222.0</td>\n",
              "      <td>18.7</td>\n",
              "      <td>394.63</td>\n",
              "      <td>2.94</td>\n",
              "      <td>33.4</td>\n",
              "    </tr>\n",
              "    <tr>\n",
              "      <th>4</th>\n",
              "      <td>0.06905</td>\n",
              "      <td>0.0</td>\n",
              "      <td>2.18</td>\n",
              "      <td>0.0</td>\n",
              "      <td>0.458</td>\n",
              "      <td>7.147</td>\n",
              "      <td>54.2</td>\n",
              "      <td>6.0622</td>\n",
              "      <td>3.0</td>\n",
              "      <td>222.0</td>\n",
              "      <td>18.7</td>\n",
              "      <td>396.90</td>\n",
              "      <td>5.33</td>\n",
              "      <td>36.2</td>\n",
              "    </tr>\n",
              "  </tbody>\n",
              "</table>\n",
              "</div>"
            ],
            "text/plain": [
              "      CRIM    ZN  INDUS  CHAS    NOX  ...    TAX  PTRATIO       B  LSTAT  PRICE\n",
              "0  0.00632  18.0   2.31   0.0  0.538  ...  296.0     15.3  396.90   4.98   24.0\n",
              "1  0.02731   0.0   7.07   0.0  0.469  ...  242.0     17.8  396.90   9.14   21.6\n",
              "2  0.02729   0.0   7.07   0.0  0.469  ...  242.0     17.8  392.83   4.03   34.7\n",
              "3  0.03237   0.0   2.18   0.0  0.458  ...  222.0     18.7  394.63   2.94   33.4\n",
              "4  0.06905   0.0   2.18   0.0  0.458  ...  222.0     18.7  396.90   5.33   36.2\n",
              "\n",
              "[5 rows x 14 columns]"
            ]
          },
          "metadata": {}
        }
      ]
    },
    {
      "cell_type": "code",
      "metadata": {
        "colab": {
          "base_uri": "https://localhost:8080/",
          "height": 317
        },
        "id": "vK2TWQR2yTcT",
        "outputId": "50946fb4-b5a1-4bf1-e8e7-ca1cd329d256"
      },
      "source": [
        "df_Boston.describe()  #변수 scale확인"
      ],
      "execution_count": null,
      "outputs": [
        {
          "output_type": "execute_result",
          "data": {
            "text/html": [
              "<div>\n",
              "<style scoped>\n",
              "    .dataframe tbody tr th:only-of-type {\n",
              "        vertical-align: middle;\n",
              "    }\n",
              "\n",
              "    .dataframe tbody tr th {\n",
              "        vertical-align: top;\n",
              "    }\n",
              "\n",
              "    .dataframe thead th {\n",
              "        text-align: right;\n",
              "    }\n",
              "</style>\n",
              "<table border=\"1\" class=\"dataframe\">\n",
              "  <thead>\n",
              "    <tr style=\"text-align: right;\">\n",
              "      <th></th>\n",
              "      <th>CRIM</th>\n",
              "      <th>ZN</th>\n",
              "      <th>INDUS</th>\n",
              "      <th>CHAS</th>\n",
              "      <th>NOX</th>\n",
              "      <th>RM</th>\n",
              "      <th>AGE</th>\n",
              "      <th>DIS</th>\n",
              "      <th>RAD</th>\n",
              "      <th>TAX</th>\n",
              "      <th>PTRATIO</th>\n",
              "      <th>B</th>\n",
              "      <th>LSTAT</th>\n",
              "      <th>PRICE</th>\n",
              "    </tr>\n",
              "  </thead>\n",
              "  <tbody>\n",
              "    <tr>\n",
              "      <th>count</th>\n",
              "      <td>506.000000</td>\n",
              "      <td>506.000000</td>\n",
              "      <td>506.000000</td>\n",
              "      <td>506.000000</td>\n",
              "      <td>506.000000</td>\n",
              "      <td>506.000000</td>\n",
              "      <td>506.000000</td>\n",
              "      <td>506.000000</td>\n",
              "      <td>506.000000</td>\n",
              "      <td>506.000000</td>\n",
              "      <td>506.000000</td>\n",
              "      <td>506.000000</td>\n",
              "      <td>506.000000</td>\n",
              "      <td>506.000000</td>\n",
              "    </tr>\n",
              "    <tr>\n",
              "      <th>mean</th>\n",
              "      <td>3.613524</td>\n",
              "      <td>11.363636</td>\n",
              "      <td>11.136779</td>\n",
              "      <td>0.069170</td>\n",
              "      <td>0.554695</td>\n",
              "      <td>6.284634</td>\n",
              "      <td>68.574901</td>\n",
              "      <td>3.795043</td>\n",
              "      <td>9.549407</td>\n",
              "      <td>408.237154</td>\n",
              "      <td>18.455534</td>\n",
              "      <td>356.674032</td>\n",
              "      <td>12.653063</td>\n",
              "      <td>22.532806</td>\n",
              "    </tr>\n",
              "    <tr>\n",
              "      <th>std</th>\n",
              "      <td>8.601545</td>\n",
              "      <td>23.322453</td>\n",
              "      <td>6.860353</td>\n",
              "      <td>0.253994</td>\n",
              "      <td>0.115878</td>\n",
              "      <td>0.702617</td>\n",
              "      <td>28.148861</td>\n",
              "      <td>2.105710</td>\n",
              "      <td>8.707259</td>\n",
              "      <td>168.537116</td>\n",
              "      <td>2.164946</td>\n",
              "      <td>91.294864</td>\n",
              "      <td>7.141062</td>\n",
              "      <td>9.197104</td>\n",
              "    </tr>\n",
              "    <tr>\n",
              "      <th>min</th>\n",
              "      <td>0.006320</td>\n",
              "      <td>0.000000</td>\n",
              "      <td>0.460000</td>\n",
              "      <td>0.000000</td>\n",
              "      <td>0.385000</td>\n",
              "      <td>3.561000</td>\n",
              "      <td>2.900000</td>\n",
              "      <td>1.129600</td>\n",
              "      <td>1.000000</td>\n",
              "      <td>187.000000</td>\n",
              "      <td>12.600000</td>\n",
              "      <td>0.320000</td>\n",
              "      <td>1.730000</td>\n",
              "      <td>5.000000</td>\n",
              "    </tr>\n",
              "    <tr>\n",
              "      <th>25%</th>\n",
              "      <td>0.082045</td>\n",
              "      <td>0.000000</td>\n",
              "      <td>5.190000</td>\n",
              "      <td>0.000000</td>\n",
              "      <td>0.449000</td>\n",
              "      <td>5.885500</td>\n",
              "      <td>45.025000</td>\n",
              "      <td>2.100175</td>\n",
              "      <td>4.000000</td>\n",
              "      <td>279.000000</td>\n",
              "      <td>17.400000</td>\n",
              "      <td>375.377500</td>\n",
              "      <td>6.950000</td>\n",
              "      <td>17.025000</td>\n",
              "    </tr>\n",
              "    <tr>\n",
              "      <th>50%</th>\n",
              "      <td>0.256510</td>\n",
              "      <td>0.000000</td>\n",
              "      <td>9.690000</td>\n",
              "      <td>0.000000</td>\n",
              "      <td>0.538000</td>\n",
              "      <td>6.208500</td>\n",
              "      <td>77.500000</td>\n",
              "      <td>3.207450</td>\n",
              "      <td>5.000000</td>\n",
              "      <td>330.000000</td>\n",
              "      <td>19.050000</td>\n",
              "      <td>391.440000</td>\n",
              "      <td>11.360000</td>\n",
              "      <td>21.200000</td>\n",
              "    </tr>\n",
              "    <tr>\n",
              "      <th>75%</th>\n",
              "      <td>3.677083</td>\n",
              "      <td>12.500000</td>\n",
              "      <td>18.100000</td>\n",
              "      <td>0.000000</td>\n",
              "      <td>0.624000</td>\n",
              "      <td>6.623500</td>\n",
              "      <td>94.075000</td>\n",
              "      <td>5.188425</td>\n",
              "      <td>24.000000</td>\n",
              "      <td>666.000000</td>\n",
              "      <td>20.200000</td>\n",
              "      <td>396.225000</td>\n",
              "      <td>16.955000</td>\n",
              "      <td>25.000000</td>\n",
              "    </tr>\n",
              "    <tr>\n",
              "      <th>max</th>\n",
              "      <td>88.976200</td>\n",
              "      <td>100.000000</td>\n",
              "      <td>27.740000</td>\n",
              "      <td>1.000000</td>\n",
              "      <td>0.871000</td>\n",
              "      <td>8.780000</td>\n",
              "      <td>100.000000</td>\n",
              "      <td>12.126500</td>\n",
              "      <td>24.000000</td>\n",
              "      <td>711.000000</td>\n",
              "      <td>22.000000</td>\n",
              "      <td>396.900000</td>\n",
              "      <td>37.970000</td>\n",
              "      <td>50.000000</td>\n",
              "    </tr>\n",
              "  </tbody>\n",
              "</table>\n",
              "</div>"
            ],
            "text/plain": [
              "             CRIM          ZN       INDUS  ...           B       LSTAT       PRICE\n",
              "count  506.000000  506.000000  506.000000  ...  506.000000  506.000000  506.000000\n",
              "mean     3.613524   11.363636   11.136779  ...  356.674032   12.653063   22.532806\n",
              "std      8.601545   23.322453    6.860353  ...   91.294864    7.141062    9.197104\n",
              "min      0.006320    0.000000    0.460000  ...    0.320000    1.730000    5.000000\n",
              "25%      0.082045    0.000000    5.190000  ...  375.377500    6.950000   17.025000\n",
              "50%      0.256510    0.000000    9.690000  ...  391.440000   11.360000   21.200000\n",
              "75%      3.677083   12.500000   18.100000  ...  396.225000   16.955000   25.000000\n",
              "max     88.976200  100.000000   27.740000  ...  396.900000   37.970000   50.000000\n",
              "\n",
              "[8 rows x 14 columns]"
            ]
          },
          "metadata": {},
          "execution_count": 4
        }
      ]
    },
    {
      "cell_type": "code",
      "metadata": {
        "colab": {
          "base_uri": "https://localhost:8080/"
        },
        "id": "UBL_gGamyfRW",
        "outputId": "8464c385-bfa4-461c-d124-58215d64611c"
      },
      "source": [
        "print(df_Boston.isnull().sum())  #결측치 확인"
      ],
      "execution_count": null,
      "outputs": [
        {
          "output_type": "stream",
          "name": "stdout",
          "text": [
            "CRIM       0\n",
            "ZN         0\n",
            "INDUS      0\n",
            "CHAS       0\n",
            "NOX        0\n",
            "RM         0\n",
            "AGE        0\n",
            "DIS        0\n",
            "RAD        0\n",
            "TAX        0\n",
            "PTRATIO    0\n",
            "B          0\n",
            "LSTAT      0\n",
            "PRICE      0\n",
            "dtype: int64\n"
          ]
        }
      ]
    },
    {
      "cell_type": "markdown",
      "metadata": {
        "id": "GZhj12h6SqHd"
      },
      "source": [
        "## 데이터 준비 \n",
        "* 종속변수: PRICE, 독립변수: 나머지 변수들"
      ]
    },
    {
      "cell_type": "code",
      "metadata": {
        "colab": {
          "base_uri": "https://localhost:8080/",
          "height": 204
        },
        "id": "qqxe2C-WRwu0",
        "outputId": "cccf2798-e759-4e63-9a7c-42b87ccc3eb2"
      },
      "source": [
        "y = df_Boston[\"PRICE\"]\n",
        "X = df_Boston.iloc[:,0:-1]\n",
        "display(X.head())"
      ],
      "execution_count": null,
      "outputs": [
        {
          "output_type": "display_data",
          "data": {
            "text/html": [
              "<div>\n",
              "<style scoped>\n",
              "    .dataframe tbody tr th:only-of-type {\n",
              "        vertical-align: middle;\n",
              "    }\n",
              "\n",
              "    .dataframe tbody tr th {\n",
              "        vertical-align: top;\n",
              "    }\n",
              "\n",
              "    .dataframe thead th {\n",
              "        text-align: right;\n",
              "    }\n",
              "</style>\n",
              "<table border=\"1\" class=\"dataframe\">\n",
              "  <thead>\n",
              "    <tr style=\"text-align: right;\">\n",
              "      <th></th>\n",
              "      <th>CRIM</th>\n",
              "      <th>ZN</th>\n",
              "      <th>INDUS</th>\n",
              "      <th>CHAS</th>\n",
              "      <th>NOX</th>\n",
              "      <th>RM</th>\n",
              "      <th>AGE</th>\n",
              "      <th>DIS</th>\n",
              "      <th>RAD</th>\n",
              "      <th>TAX</th>\n",
              "      <th>PTRATIO</th>\n",
              "      <th>B</th>\n",
              "      <th>LSTAT</th>\n",
              "    </tr>\n",
              "  </thead>\n",
              "  <tbody>\n",
              "    <tr>\n",
              "      <th>0</th>\n",
              "      <td>0.00632</td>\n",
              "      <td>18.0</td>\n",
              "      <td>2.31</td>\n",
              "      <td>0.0</td>\n",
              "      <td>0.538</td>\n",
              "      <td>6.575</td>\n",
              "      <td>65.2</td>\n",
              "      <td>4.0900</td>\n",
              "      <td>1.0</td>\n",
              "      <td>296.0</td>\n",
              "      <td>15.3</td>\n",
              "      <td>396.90</td>\n",
              "      <td>4.98</td>\n",
              "    </tr>\n",
              "    <tr>\n",
              "      <th>1</th>\n",
              "      <td>0.02731</td>\n",
              "      <td>0.0</td>\n",
              "      <td>7.07</td>\n",
              "      <td>0.0</td>\n",
              "      <td>0.469</td>\n",
              "      <td>6.421</td>\n",
              "      <td>78.9</td>\n",
              "      <td>4.9671</td>\n",
              "      <td>2.0</td>\n",
              "      <td>242.0</td>\n",
              "      <td>17.8</td>\n",
              "      <td>396.90</td>\n",
              "      <td>9.14</td>\n",
              "    </tr>\n",
              "    <tr>\n",
              "      <th>2</th>\n",
              "      <td>0.02729</td>\n",
              "      <td>0.0</td>\n",
              "      <td>7.07</td>\n",
              "      <td>0.0</td>\n",
              "      <td>0.469</td>\n",
              "      <td>7.185</td>\n",
              "      <td>61.1</td>\n",
              "      <td>4.9671</td>\n",
              "      <td>2.0</td>\n",
              "      <td>242.0</td>\n",
              "      <td>17.8</td>\n",
              "      <td>392.83</td>\n",
              "      <td>4.03</td>\n",
              "    </tr>\n",
              "    <tr>\n",
              "      <th>3</th>\n",
              "      <td>0.03237</td>\n",
              "      <td>0.0</td>\n",
              "      <td>2.18</td>\n",
              "      <td>0.0</td>\n",
              "      <td>0.458</td>\n",
              "      <td>6.998</td>\n",
              "      <td>45.8</td>\n",
              "      <td>6.0622</td>\n",
              "      <td>3.0</td>\n",
              "      <td>222.0</td>\n",
              "      <td>18.7</td>\n",
              "      <td>394.63</td>\n",
              "      <td>2.94</td>\n",
              "    </tr>\n",
              "    <tr>\n",
              "      <th>4</th>\n",
              "      <td>0.06905</td>\n",
              "      <td>0.0</td>\n",
              "      <td>2.18</td>\n",
              "      <td>0.0</td>\n",
              "      <td>0.458</td>\n",
              "      <td>7.147</td>\n",
              "      <td>54.2</td>\n",
              "      <td>6.0622</td>\n",
              "      <td>3.0</td>\n",
              "      <td>222.0</td>\n",
              "      <td>18.7</td>\n",
              "      <td>396.90</td>\n",
              "      <td>5.33</td>\n",
              "    </tr>\n",
              "  </tbody>\n",
              "</table>\n",
              "</div>"
            ],
            "text/plain": [
              "      CRIM    ZN  INDUS  CHAS    NOX  ...  RAD    TAX  PTRATIO       B  LSTAT\n",
              "0  0.00632  18.0   2.31   0.0  0.538  ...  1.0  296.0     15.3  396.90   4.98\n",
              "1  0.02731   0.0   7.07   0.0  0.469  ...  2.0  242.0     17.8  396.90   9.14\n",
              "2  0.02729   0.0   7.07   0.0  0.469  ...  2.0  242.0     17.8  392.83   4.03\n",
              "3  0.03237   0.0   2.18   0.0  0.458  ...  3.0  222.0     18.7  394.63   2.94\n",
              "4  0.06905   0.0   2.18   0.0  0.458  ...  3.0  222.0     18.7  396.90   5.33\n",
              "\n",
              "[5 rows x 13 columns]"
            ]
          },
          "metadata": {}
        }
      ]
    },
    {
      "cell_type": "markdown",
      "metadata": {
        "id": "mGp9SQY_6kv_"
      },
      "source": [
        "## 선형 회귀분석 (statsmodels 이용)"
      ]
    },
    {
      "cell_type": "code",
      "metadata": {
        "id": "TQldfiYItPhZ",
        "colab": {
          "base_uri": "https://localhost:8080/"
        },
        "outputId": "c662356c-5e27-4c1f-cbd9-b5ff1d276b76"
      },
      "source": [
        "import statsmodels.api as sm\n",
        "\n",
        "X = sm.add_constant(X)  # OLS 분석을 위해 상수항을 만들어 주어야 함 \n",
        "reg = sm.OLS(y, X)    ## OLS:선형회귀, Logit: 로지스틱회귀"
      ],
      "execution_count": null,
      "outputs": [
        {
          "output_type": "stream",
          "name": "stderr",
          "text": [
            "/usr/local/lib/python3.7/dist-packages/statsmodels/tools/_testing.py:19: FutureWarning: pandas.util.testing is deprecated. Use the functions in the public API at pandas.testing instead.\n",
            "  import pandas.util.testing as tm\n"
          ]
        }
      ]
    },
    {
      "cell_type": "code",
      "metadata": {
        "id": "nS-p9-aOuGMO",
        "colab": {
          "base_uri": "https://localhost:8080/"
        },
        "outputId": "a9276648-7df0-41e7-bd2a-b22b49dbca0f"
      },
      "source": [
        "reg_fit = reg.fit()\n",
        "print(reg_fit.summary())"
      ],
      "execution_count": null,
      "outputs": [
        {
          "output_type": "stream",
          "name": "stdout",
          "text": [
            "                            OLS Regression Results                            \n",
            "==============================================================================\n",
            "Dep. Variable:                  PRICE   R-squared:                       0.741\n",
            "Model:                            OLS   Adj. R-squared:                  0.734\n",
            "Method:                 Least Squares   F-statistic:                     108.1\n",
            "Date:                Sat, 16 Oct 2021   Prob (F-statistic):          6.72e-135\n",
            "Time:                        09:28:18   Log-Likelihood:                -1498.8\n",
            "No. Observations:                 506   AIC:                             3026.\n",
            "Df Residuals:                     492   BIC:                             3085.\n",
            "Df Model:                          13                                         \n",
            "Covariance Type:            nonrobust                                         \n",
            "==============================================================================\n",
            "                 coef    std err          t      P>|t|      [0.025      0.975]\n",
            "------------------------------------------------------------------------------\n",
            "const         36.4595      5.103      7.144      0.000      26.432      46.487\n",
            "CRIM          -0.1080      0.033     -3.287      0.001      -0.173      -0.043\n",
            "ZN             0.0464      0.014      3.382      0.001       0.019       0.073\n",
            "INDUS          0.0206      0.061      0.334      0.738      -0.100       0.141\n",
            "CHAS           2.6867      0.862      3.118      0.002       0.994       4.380\n",
            "NOX          -17.7666      3.820     -4.651      0.000     -25.272     -10.262\n",
            "RM             3.8099      0.418      9.116      0.000       2.989       4.631\n",
            "AGE            0.0007      0.013      0.052      0.958      -0.025       0.027\n",
            "DIS           -1.4756      0.199     -7.398      0.000      -1.867      -1.084\n",
            "RAD            0.3060      0.066      4.613      0.000       0.176       0.436\n",
            "TAX           -0.0123      0.004     -3.280      0.001      -0.020      -0.005\n",
            "PTRATIO       -0.9527      0.131     -7.283      0.000      -1.210      -0.696\n",
            "B              0.0093      0.003      3.467      0.001       0.004       0.015\n",
            "LSTAT         -0.5248      0.051    -10.347      0.000      -0.624      -0.425\n",
            "==============================================================================\n",
            "Omnibus:                      178.041   Durbin-Watson:                   1.078\n",
            "Prob(Omnibus):                  0.000   Jarque-Bera (JB):              783.126\n",
            "Skew:                           1.521   Prob(JB):                    8.84e-171\n",
            "Kurtosis:                       8.281   Cond. No.                     1.51e+04\n",
            "==============================================================================\n",
            "\n",
            "Warnings:\n",
            "[1] Standard Errors assume that the covariance matrix of the errors is correctly specified.\n",
            "[2] The condition number is large, 1.51e+04. This might indicate that there are\n",
            "strong multicollinearity or other numerical problems.\n"
          ]
        }
      ]
    },
    {
      "cell_type": "markdown",
      "metadata": {
        "id": "wLiwzZPkzFiD"
      },
      "source": [
        "# Predictive Analysis "
      ]
    },
    {
      "cell_type": "markdown",
      "metadata": {
        "id": "Pc-HfFgm61KR"
      },
      "source": [
        "## 데이터 전처리\n",
        "* 학습 / 테스트데이터 분할\n",
        "* 독립변수 표준화 수행"
      ]
    },
    {
      "cell_type": "code",
      "metadata": {
        "id": "qGWFdCydSx4O",
        "colab": {
          "base_uri": "https://localhost:8080/"
        },
        "outputId": "9e1b2641-433b-4980-ebdc-b771cccea0ee"
      },
      "source": [
        "# 학습 / 테스트데이터 분할\n",
        "from sklearn.model_selection import train_test_split\n",
        "\n",
        "X_new = df_Boston.drop([\"INDUS\", \"AGE\", \"PRICE\"], axis=1)  # 유의하지 않은 독립변수와 종속변수 제외 \n",
        "print(X_new.columns)\n",
        "X_train, X_test, y_train, y_test = train_test_split(X_new, y, test_size = 0.2, random_state = 42)"
      ],
      "execution_count": null,
      "outputs": [
        {
          "output_type": "stream",
          "name": "stdout",
          "text": [
            "Index(['CRIM', 'ZN', 'CHAS', 'NOX', 'RM', 'DIS', 'RAD', 'TAX', 'PTRATIO', 'B',\n",
            "       'LSTAT'],\n",
            "      dtype='object')\n"
          ]
        }
      ]
    },
    {
      "cell_type": "code",
      "metadata": {
        "colab": {
          "base_uri": "https://localhost:8080/"
        },
        "id": "luPwHAosS0xx",
        "outputId": "6374677b-29bc-4979-95e0-9b5742ce1858"
      },
      "source": [
        "# 독립변수 표준화 \n",
        "from sklearn.preprocessing import StandardScaler\n",
        "\n",
        "s_scaler = StandardScaler()\n",
        "s_scaler.fit_transform(X_train)\n",
        "s_scaler.transform(X_test)"
      ],
      "execution_count": null,
      "outputs": [
        {
          "output_type": "execute_result",
          "data": {
            "text/plain": [
              "array([[-0.39680933, -0.50032012, -0.27808871, ..., -0.77195078,\n",
              "         0.42887165, -0.48121032],\n",
              "       [-0.40079621,  1.2294987 ,  3.59597476, ..., -0.32270256,\n",
              "         0.44418004, -1.25709448],\n",
              "       [-0.39523443, -0.50032012, -0.27808871, ...,  0.80041799,\n",
              "         0.36993437,  0.79033849],\n",
              "       ...,\n",
              "       [ 1.1779666 , -0.50032012, -0.27808871, ...,  0.84534281,\n",
              "        -3.5124912 ,  1.23390203],\n",
              "       [-0.40131065, -0.50032012, -0.27808871, ...,  0.08162084,\n",
              "         0.43422959,  0.05669848],\n",
              "       [-0.39643252, -0.50032012, -0.27808871, ...,  0.17147048,\n",
              "         0.29470458, -0.49529171]])"
            ]
          },
          "metadata": {},
          "execution_count": 10
        }
      ]
    },
    {
      "cell_type": "markdown",
      "metadata": {
        "id": "9m0ZIm_d7k6i"
      },
      "source": [
        "## 선형 회귀분석 (sklearn 이용)"
      ]
    },
    {
      "cell_type": "code",
      "metadata": {
        "id": "AelpuMzKS3CR"
      },
      "source": [
        "from sklearn.linear_model import LinearRegression\n",
        "\n",
        "lr_model = LinearRegression()\n",
        "lr_model.fit(X_train, y_train)\n",
        "y_predict = lr_model.predict(X_test)"
      ],
      "execution_count": null,
      "outputs": []
    },
    {
      "cell_type": "code",
      "metadata": {
        "colab": {
          "base_uri": "https://localhost:8080/"
        },
        "id": "6LHsqLuU7s_Z",
        "outputId": "e7e2403e-c684-492d-bd3d-1cd171290eff"
      },
      "source": [
        "train_performance = lr_model.score(X_train, y_train)\n",
        "test_performance = lr_model.score(X_test, y_test)\n",
        "print(\"집값 예측결과: \\n\", y_predict[0:10])\n",
        "print(\"훈련 성능: {}   테스트 성능: {}\".format(train_performance, test_performance))\n",
        "print(X_train.columns)\n",
        "print(\"회귀식: {}  절편: {}\".format(lr_model.coef_, lr_model.intercept_))"
      ],
      "execution_count": null,
      "outputs": [
        {
          "output_type": "stream",
          "name": "stdout",
          "text": [
            "집값 예측결과: \n",
            " [29.29 35.89 14.68 24.63 18.77 23.23 17.75 14.1  22.99 20.78]\n",
            "훈련 성능: 0.7505460462064875   테스트 성능: 0.6715231799608918\n",
            "Index(['CRIM', 'ZN', 'CHAS', 'NOX', 'RM', 'DIS', 'RAD', 'TAX', 'PTRATIO', 'B',\n",
            "       'LSTAT'],\n",
            "      dtype='object')\n",
            "회귀식: [ -0.11   0.03   2.83 -16.95   4.36  -1.44   0.25  -0.01  -0.91   0.01\n",
            "  -0.51]  절편: 30.328797720050023\n"
          ]
        }
      ]
    },
    {
      "cell_type": "code",
      "metadata": {
        "colab": {
          "base_uri": "https://localhost:8080/"
        },
        "id": "UmLl4ZfS50Ex",
        "outputId": "3a34978c-fe2e-44af-dc7a-34cb166c10a3"
      },
      "source": [
        "from sklearn.metrics import mean_absolute_error\n",
        "from sklearn.metrics import mean_squared_error\n",
        "\n",
        "#mean_absolute_error(실제, 예측)\n",
        "print(\"MAE:\", mean_absolute_error(y_test, y_predict ))\n",
        "print(\"RMSE:\", mean_squared_error(y_test, y_predict))"
      ],
      "execution_count": null,
      "outputs": [
        {
          "output_type": "stream",
          "name": "stdout",
          "text": [
            "MAE: 3.1496942855296415\n",
            "RMSE: 24.088447893940383\n"
          ]
        }
      ]
    },
    {
      "cell_type": "markdown",
      "metadata": {
        "id": "RaucUv_TVPKP"
      },
      "source": [
        "## Feature Engineering\n",
        "* 변수를 제곱, 삼제곱, 곱 등을 통해서 다양한 조합으로 구성\n",
        "* => 변수의 수가 늘어나 다양한 곡선을 적합시킬 수 있으나 과대적합문제 나타날 수 있음\n",
        "\n"
      ]
    },
    {
      "cell_type": "code",
      "metadata": {
        "colab": {
          "base_uri": "https://localhost:8080/"
        },
        "id": "19LNYQtEUqjp",
        "outputId": "69f8c338-302b-41a8-d0a1-5f75efe3e3a0"
      },
      "source": [
        "from sklearn.preprocessing import PolynomialFeatures\n",
        "\n",
        "poly =PolynomialFeatures(degree = 2, include_bias = False)  #2제곱까지, include_bias = False 절편은 포함 안함. 회귀식에서 자동으로 포함하니 불필요\n",
        "poly.fit(X_train)\n",
        "train_poly = poly.transform(X_train)\n",
        "test_poly = poly.transform(X_test)\n",
        "\n",
        "print(train_poly.shape)\n",
        "print(test_poly.shape)\n",
        "#poly.get_feature_names()"
      ],
      "execution_count": null,
      "outputs": [
        {
          "output_type": "stream",
          "name": "stdout",
          "text": [
            "(404, 77)\n",
            "(102, 77)\n"
          ]
        }
      ]
    },
    {
      "cell_type": "code",
      "metadata": {
        "colab": {
          "base_uri": "https://localhost:8080/"
        },
        "id": "Opj7RryiWb2I",
        "outputId": "0381bb4c-42d8-4bae-e674-bfff7142eaf4"
      },
      "source": [
        "lr_model2 = LinearRegression()\n",
        "lr_model2.fit(train_poly, y_train)\n",
        "y_predict = lr_model2.predict(test_poly)\n",
        "train_performance2 = lr_model2.score(train_poly, y_train)\n",
        "test_performance2 = lr_model2.score(test_poly, y_test)\n",
        "print(\"훈련 성능: {}   테스트 성능: {}\".format(train_performance2, test_performance2))\n",
        "print(\"MAE:\", mean_absolute_error(y_test, y_predict ))\n",
        "print(\"RMSE:\", mean_squared_error(y_test, y_predict))"
      ],
      "execution_count": null,
      "outputs": [
        {
          "output_type": "stream",
          "name": "stdout",
          "text": [
            "훈련 성능: 0.9223522953298042   테스트 성능: 0.7909856018175728\n",
            "MAE: 2.471005093018464\n",
            "RMSE: 15.327816553695513\n"
          ]
        }
      ]
    },
    {
      "cell_type": "code",
      "metadata": {
        "colab": {
          "base_uri": "https://localhost:8080/"
        },
        "id": "lilC6loWX3gQ",
        "outputId": "bc710442-e82a-4aa0-895c-59ec1c7989db"
      },
      "source": [
        "# 구체적인 모형의 도출\n",
        "import numpy as np\n",
        "np.set_printoptions(suppress=True, precision =2) #넘파이 결과가 지수형태로 나와서 보기 안좋아서 지수 제한\n",
        "\n",
        "print(\"회귀계수: {}  절편:{}\".format(lr_model2.coef_, lr_model2.intercept_))"
      ],
      "execution_count": null,
      "outputs": [
        {
          "output_type": "stream",
          "name": "stdout",
          "text": [
            "회귀계수: [ -7.86  -0.06  27.24  -8.64   2.79  -7.73   4.05  -0.24   3.21   0.17\n",
            "  -0.98   0.     0.1    2.81  -2.41   0.18  -0.04  -0.52   0.03  -0.03\n",
            "  -0.     0.03   0.    -0.04  -0.34  -0.    -0.02  -0.01   0.     0.\n",
            "   0.    -0.    27.24 -35.59  -4.24  -0.75  -0.22   0.    -0.37   0.01\n",
            "  -0.36  27.58  -6.87  11.76  -1.29   0.14  -3.7   -0.03   0.45   1.47\n",
            "   0.25  -0.36   0.    -0.53  -0.01   0.02   0.36  -0.12   0.    -0.06\n",
            "  -0.01   0.06  -0.14   0.    -0.02   0.    -0.01   0.     0.01  -0.\n",
            "  -0.    -0.02   0.     0.02  -0.    -0.     0.02]  절편:0.5028380725762709\n"
          ]
        }
      ]
    },
    {
      "cell_type": "markdown",
      "metadata": {
        "id": "xQ498W3l8QNd"
      },
      "source": [
        "## Ridge & Lasso 회귀분석 "
      ]
    },
    {
      "cell_type": "code",
      "metadata": {
        "colab": {
          "base_uri": "https://localhost:8080/"
        },
        "id": "IgxLzxD0YvV2",
        "outputId": "7df21c08-e40a-4ba5-e879-7a1d2091f1cc"
      },
      "source": [
        "from sklearn.linear_model import Ridge  #Lasso는 Ridge를 Lasso로만 변경\n",
        "\n",
        "Ridge = Ridge(alpha = 0.3)\n",
        "Ridge.fit(train_poly, y_train)\n",
        "y_predict = Ridge.predict(test_poly)\n",
        "train_performance3 = Ridge.score(train_poly, y_train)\n",
        "test_performance3 = Ridge.score(test_poly, y_test)\n",
        "print(\"훈련 성능: {}   테스트 성능: {}\".format(train_performance3, test_performance3))\n",
        "print(\"MAE:\", mean_absolute_error(y_test, y_predict ))\n",
        "print(\"RMSE:\", mean_squared_error(y_test, y_predict))\n",
        "\n",
        "print(\"회귀계수: {}  절편:{}\".format(Ridge.coef_, Ridge.intercept_))"
      ],
      "execution_count": null,
      "outputs": [
        {
          "output_type": "stream",
          "name": "stdout",
          "text": [
            "훈련 성능: 0.9195137466625537   테스트 성능: 0.7978782060491209\n",
            "MAE: 2.4727133215965824\n",
            "RMSE: 14.822355809569236\n",
            "회귀계수: [-2.98 -0.25  2.57  0.09  1.91 -4.24  2.97 -0.19  0.64  0.2  -0.94  0.\n",
            " -0.05  3.07 -2.4   0.18 -0.03 -0.35  0.02 -0.16 -0.    0.02  0.   -0.04\n",
            " -0.21  0.   -0.02 -0.01  0.    0.01  0.   -0.    2.57 -3.54 -3.22  0.1\n",
            " -0.47 -0.01  0.94  0.03 -0.51  0.23 -3.44  5.83 -1.55  0.14 -2.29 -0.04\n",
            "  0.58  1.33  0.31 -0.34  0.   -0.46 -0.01  0.01  0.29 -0.11  0.   -0.02\n",
            " -0.01  0.07 -0.14  0.    0.03  0.   -0.01  0.    0.01 -0.   -0.    0.\n",
            "  0.    0.02 -0.   -0.    0.02]  절편:6.222713554288507\n"
          ]
        }
      ]
    },
    {
      "cell_type": "code",
      "metadata": {
        "colab": {
          "base_uri": "https://localhost:8080/"
        },
        "id": "QOawwo70h6Ft",
        "outputId": "bde00720-41fc-41e1-9b7c-321a6874d9a5"
      },
      "source": [
        "from sklearn.linear_model import Ridge  #Lasso는 Ridge를 Lasso로만 변경\n",
        "\n",
        "alphas = [10, 1, 0.6, 0.3, 0.1, 0.01]\n",
        "\n",
        "for alpha in alphas:\n",
        "    ridge = Ridge(alpha = alpha)\n",
        "    ridge.fit(train_poly, y_train)\n",
        "    ws.append(ridge.coef_)\n",
        "    ws.append(ridge.intercept_)\n",
        "\n",
        "    s1 = ridge.score(train_poly, y_train)\n",
        "    s2 = ridge.score(test_poly, y_test)\n",
        "    \n",
        "    print(\"alpha : {}\".format(alpha))\n",
        "    print(\"훈련 성능: {}   테스트 성능: {}\".format(s1, s2))\n",
        "    print(\"MAE:\", mean_absolute_error(y_test, y_predict ))\n",
        "    print(\"RMSE:\", mean_squared_error(y_test, y_predict))\n",
        "\n",
        "    print(\"회귀계수: {}  절편:{}\".format(ridge.coef_, ridge.intercept_))\n",
        "    print(\"==========\")"
      ],
      "execution_count": null,
      "outputs": [
        {
          "output_type": "stream",
          "name": "stdout",
          "text": [
            "alpha : 10\n",
            "훈련 성능: 0.9145292778335384   테스트 성능: 0.8036685407186149\n",
            "MAE: 2.471005093018464\n",
            "RMSE: 15.327816553695513\n",
            "회귀계수: [-0.19 -0.43  0.05  0.01  0.26 -0.26  0.34 -0.09 -0.25  0.2  -0.54 -0.\n",
            " -0.08  2.29 -1.23  0.17 -0.03 -0.27  0.02 -0.25 -0.    0.02  0.   -0.03\n",
            " -0.03  0.01 -0.01 -0.01  0.    0.01  0.   -0.    0.05 -0.16 -1.79 -0.21\n",
            " -0.17 -0.02  0.59  0.03 -0.35  0.02 -0.21  0.35 -0.67  0.03 -0.37 -0.04\n",
            "  0.29  1.24  0.37 -0.29 -0.   -0.35 -0.01 -0.    0.18 -0.08  0.   -0.01\n",
            " -0.01  0.07 -0.14  0.    0.12  0.   -0.01  0.    0.01 -0.   -0.   -0.02\n",
            "  0.    0.01 -0.   -0.    0.02]  절편:-2.1026426982219064\n",
            "==========\n",
            "alpha : 1\n",
            "훈련 성능: 0.918133712463048   테스트 성능: 0.7996100389490073\n",
            "MAE: 2.471005093018464\n",
            "RMSE: 15.327816553695513\n",
            "회귀계수: [-1.33 -0.38  0.82 -0.01  0.89 -1.9   1.87 -0.15 -0.14  0.21 -0.85  0.\n",
            " -0.09  3.02 -2.35  0.17 -0.03 -0.3   0.02 -0.21 -0.    0.02  0.   -0.04\n",
            " -0.1   0.   -0.01 -0.01  0.    0.01  0.   -0.    0.82 -1.17 -3.04  0.13\n",
            " -0.46 -0.02  0.98  0.03 -0.5  -0.02 -1.91  2.82 -1.14  0.1  -1.46 -0.04\n",
            "  0.51  1.32  0.35 -0.32 -0.   -0.42 -0.01  0.01  0.24 -0.1   0.   -0.02\n",
            " -0.01  0.07 -0.14  0.    0.07  0.   -0.01  0.    0.01 -0.   -0.    0.01\n",
            "  0.    0.02 -0.   -0.    0.02]  절편:5.436448643755057\n",
            "==========\n",
            "alpha : 0.6\n",
            "훈련 성능: 0.9187240018065296   테스트 성능: 0.7987700721617497\n",
            "MAE: 2.471005093018464\n",
            "RMSE: 15.327816553695513\n",
            "회귀계수: [-1.94 -0.33  1.35  0.01  1.24 -2.78  2.35 -0.17  0.11  0.2  -0.89  0.\n",
            " -0.07  3.06 -2.4   0.18 -0.03 -0.32  0.02 -0.19 -0.    0.02  0.   -0.04\n",
            " -0.14  0.   -0.01 -0.01  0.    0.01  0.   -0.    1.35 -1.88 -3.14  0.14\n",
            " -0.47 -0.02  0.98  0.03 -0.51  0.02 -2.56  4.   -1.31  0.11 -1.79 -0.04\n",
            "  0.54  1.33  0.33 -0.33  0.   -0.44 -0.01  0.01  0.26 -0.11  0.   -0.02\n",
            " -0.01  0.07 -0.14  0.    0.05  0.   -0.01  0.    0.01 -0.   -0.    0.01\n",
            "  0.    0.02 -0.   -0.    0.02]  절편:6.526962872203274\n",
            "==========\n",
            "alpha : 0.3\n",
            "훈련 성능: 0.9195137466625537   테스트 성능: 0.7978782060491209\n",
            "MAE: 2.471005093018464\n",
            "RMSE: 15.327816553695513\n",
            "회귀계수: [-2.98 -0.25  2.57  0.09  1.91 -4.24  2.97 -0.19  0.64  0.2  -0.94  0.\n",
            " -0.05  3.07 -2.4   0.18 -0.03 -0.35  0.02 -0.16 -0.    0.02  0.   -0.04\n",
            " -0.21  0.   -0.02 -0.01  0.    0.01  0.   -0.    2.57 -3.54 -3.22  0.1\n",
            " -0.47 -0.01  0.94  0.03 -0.51  0.23 -3.44  5.83 -1.55  0.14 -2.29 -0.04\n",
            "  0.58  1.33  0.31 -0.34  0.   -0.46 -0.01  0.01  0.29 -0.11  0.   -0.02\n",
            " -0.01  0.07 -0.14  0.    0.03  0.   -0.01  0.    0.01 -0.   -0.    0.\n",
            "  0.    0.02 -0.   -0.    0.02]  절편:6.222713554288507\n",
            "==========\n",
            "alpha : 0.1\n",
            "훈련 성능: 0.9206381686608733   테스트 성능: 0.7972654878716874\n",
            "MAE: 2.471005093018464\n",
            "RMSE: 15.327816553695513\n",
            "회귀계수: [-4.82 -0.13  6.43  0.54  3.13 -6.4   3.67 -0.22  1.69  0.19 -0.96  0.\n",
            "  0.    3.03 -2.34  0.18 -0.04 -0.4   0.03 -0.11 -0.    0.02  0.   -0.04\n",
            " -0.3   0.   -0.02 -0.01  0.    0.    0.   -0.    6.43 -8.69 -3.36 -0.07\n",
            " -0.43 -0.01  0.75  0.03 -0.48  1.44 -4.55  8.42 -1.82  0.16 -3.05 -0.04\n",
            "  0.62  1.33  0.3  -0.34  0.   -0.5  -0.01  0.01  0.34 -0.12  0.   -0.02\n",
            " -0.01  0.06 -0.14  0.    0.    0.   -0.01  0.    0.01 -0.   -0.   -0.\n",
            "  0.    0.02 -0.   -0.    0.02]  절편:2.0518607334965004\n",
            "==========\n",
            "alpha : 0.01\n",
            "훈련 성능: 0.9221606725993667   테스트 성능: 0.7940991048533677\n",
            "MAE: 2.471005093018464\n",
            "RMSE: 15.327816553695513\n",
            "회귀계수: [ -7.22  -0.04  20.49   3.58   3.36  -7.63   4.07  -0.24   3.04   0.17\n",
            "  -0.98   0.     0.07   2.88  -2.38   0.18  -0.04  -0.48   0.03  -0.04\n",
            "  -0.     0.03   0.    -0.04  -0.36  -0.    -0.02  -0.01   0.     0.\n",
            "   0.    -0.    20.49 -26.76  -3.94  -0.52  -0.28  -0.    -0.01   0.02\n",
            "  -0.39  11.45  -6.15  10.81  -1.64   0.17  -3.86  -0.03   0.55   1.41\n",
            "   0.27  -0.35   0.    -0.53  -0.01   0.02   0.36  -0.12   0.    -0.05\n",
            "  -0.01   0.06  -0.14   0.    -0.02   0.    -0.01   0.     0.01  -0.\n",
            "  -0.    -0.02   0.     0.02  -0.    -0.     0.02]  절편:-3.7889721932756792\n",
            "==========\n"
          ]
        }
      ]
    },
    {
      "cell_type": "code",
      "metadata": {
        "id": "1MHKGnBQlFZ6",
        "colab": {
          "base_uri": "https://localhost:8080/"
        },
        "outputId": "71d362d2-30e2-4d89-c7e8-4d359fa25272"
      },
      "source": [
        "from sklearn.linear_model import Lasso  #Lasso는 Ridge를 Lasso로만 변경\n",
        "\n",
        "alphas = [10, 1, 0.6, 0.3, 0.1, 0.01]\n",
        "\n",
        "for alpha in alphas:\n",
        "    lasso = Lasso(alpha = alpha)\n",
        "    lasso.fit(train_poly, y_train)\n",
        "    ws.append(lasso.coef_)\n",
        "    ws.append(lasso.intercept_)\n",
        "\n",
        "    s1 = lasso.score(train_poly, y_train)\n",
        "    s2 = lasso.score(test_poly, y_test)\n",
        "    \n",
        "    print(\"alpha : {}\".format(alpha))\n",
        "    print(\"훈련 성능: {}   테스트 성능: {}\".format(s1, s2))\n",
        "    print(\"MAE:\", mean_absolute_error(y_test, y_predict ))\n",
        "    print(\"RMSE:\", mean_squared_error(y_test, y_predict))\n",
        "\n",
        "    print(\"회귀계수: {}  절편:{}\".format(lasso.coef_, lasso.intercept_))\n",
        "    print(\"==========\")"
      ],
      "execution_count": null,
      "outputs": [
        {
          "output_type": "stream",
          "name": "stderr",
          "text": [
            "/usr/local/lib/python3.7/dist-packages/sklearn/linear_model/_coordinate_descent.py:476: ConvergenceWarning: Objective did not converge. You might want to increase the number of iterations. Duality gap: 2467.378005307876, tolerance: 3.509685514851485\n",
            "  positive)\n",
            "/usr/local/lib/python3.7/dist-packages/sklearn/linear_model/_coordinate_descent.py:476: ConvergenceWarning: Objective did not converge. You might want to increase the number of iterations. Duality gap: 2500.5449155274378, tolerance: 3.509685514851485\n",
            "  positive)\n",
            "/usr/local/lib/python3.7/dist-packages/sklearn/linear_model/_coordinate_descent.py:476: ConvergenceWarning: Objective did not converge. You might want to increase the number of iterations. Duality gap: 2347.660753101739, tolerance: 3.509685514851485\n",
            "  positive)\n",
            "/usr/local/lib/python3.7/dist-packages/sklearn/linear_model/_coordinate_descent.py:476: ConvergenceWarning: Objective did not converge. You might want to increase the number of iterations. Duality gap: 2160.2363742989155, tolerance: 3.509685514851485\n",
            "  positive)\n",
            "/usr/local/lib/python3.7/dist-packages/sklearn/linear_model/_coordinate_descent.py:476: ConvergenceWarning: Objective did not converge. You might want to increase the number of iterations. Duality gap: 1931.755462699006, tolerance: 3.509685514851485\n",
            "  positive)\n"
          ]
        },
        {
          "output_type": "stream",
          "name": "stdout",
          "text": [
            "alpha : 10\n",
            "훈련 성능: 0.8482902461702885   테스트 성능: 0.7836297826974779\n",
            "MAE: 2.471005093018464\n",
            "RMSE: 15.327816553695513\n",
            "회귀계수: [ 0.   -0.    0.   -0.    0.    0.    0.    0.   -0.    0.   -0.   -0.\n",
            " -0.    0.   -0.   -0.   -0.   -0.   -0.   -0.    0.    0.    0.    0.\n",
            " -0.    0.    0.   -0.    0.    0.   -0.   -0.    0.   -0.    0.    0.\n",
            "  0.    0.    0.    0.   -0.   -0.   -0.   -0.   -0.   -0.01 -0.   -0.\n",
            " -0.    0.    0.   -0.   -0.01 -0.    0.02 -0.    0.   -0.   -0.    0.\n",
            "  0.   -0.   -0.   -0.    0.    0.    0.    0.    0.   -0.   -0.   -0.\n",
            " -0.01 -0.   -0.   -0.    0.03]  절편:19.07813746200116\n",
            "==========\n",
            "alpha : 1\n",
            "훈련 성능: 0.8760767954692017   테스트 성능: 0.8101284948978392\n",
            "MAE: 2.471005093018464\n",
            "RMSE: 15.327816553695513\n",
            "회귀계수: [ 0.   -0.   -0.   -0.    0.   -0.    0.    0.01 -0.    0.01 -0.    0.\n",
            "  0.    0.   -0.    0.    0.   -0.02  0.    0.   -0.    0.    0.    0.\n",
            "  0.    0.02  0.   -0.01  0.    0.01 -0.   -0.   -0.   -0.   -0.   -0.\n",
            "  0.    0.01 -0.   -0.   -0.   -0.    0.   -0.   -0.   -0.02 -0.   -0.01\n",
            " -0.    0.22  0.   -0.16 -0.01 -0.    0.02 -0.03  0.05 -0.   -0.    0.\n",
            " -0.    0.   -0.07  0.    0.09  0.   -0.01  0.    0.   -0.   -0.   -0.02\n",
            " -0.    0.   -0.   -0.    0.03]  절편:15.455629176633845\n",
            "==========\n",
            "alpha : 0.6\n",
            "훈련 성능: 0.8864960264493306   테스트 성능: 0.8272976177307562\n",
            "MAE: 2.471005093018464\n",
            "RMSE: 15.327816553695513\n",
            "회귀계수: [ 0.   -0.   -0.    0.    0.   -0.   -0.    0.01 -0.    0.06 -0.    0.\n",
            "  0.    0.   -0.    0.04 -0.   -0.03  0.    0.   -0.    0.01  0.    0.01\n",
            " -0.    0.02 -0.   -0.01  0.    0.01 -0.   -0.   -0.   -0.   -0.   -0.\n",
            "  0.    0.01 -0.   -0.   -0.   -0.    0.   -0.   -0.   -0.02 -0.   -0.01\n",
            " -0.    0.54  0.   -0.22 -0.01 -0.    0.01 -0.04  0.12 -0.   -0.    0.\n",
            " -0.    0.02 -0.06  0.    0.11  0.   -0.02  0.    0.   -0.   -0.   -0.04\n",
            " -0.    0.   -0.   -0.    0.02]  절편:7.037051956631657\n",
            "==========\n",
            "alpha : 0.3\n",
            "훈련 성능: 0.8908580472721241   테스트 성능: 0.8267316836370538\n",
            "MAE: 2.471005093018464\n",
            "RMSE: 15.327816553695513\n",
            "회귀계수: [ 0.   -0.   -0.    0.    0.   -0.    0.    0.01 -0.    0.1  -0.    0.\n",
            "  0.    0.   -0.    0.08 -0.   -0.04  0.   -0.   -0.    0.01  0.    0.01\n",
            " -0.    0.02 -0.01 -0.01  0.    0.01 -0.   -0.   -0.   -0.   -0.   -0.\n",
            "  0.    0.01 -0.   -0.   -0.01 -0.    0.    0.   -0.   -0.02 -0.   -0.02\n",
            " -0.    0.79  0.   -0.26 -0.01 -0.04  0.   -0.04  0.2  -0.   -0.    0.01\n",
            " -0.01  0.04 -0.06  0.    0.12  0.   -0.03  0.    0.   -0.   -0.   -0.05\n",
            " -0.    0.   -0.   -0.    0.02]  절편:2.285387831507819\n",
            "==========\n",
            "alpha : 0.1\n",
            "훈련 성능: 0.901773922205896   테스트 성능: 0.8095536955994491\n",
            "MAE: 2.471005093018464\n",
            "RMSE: 15.327816553695513\n",
            "회귀계수: [-0.   -0.18 -0.    0.    0.   -0.   -0.   -0.01 -0.    0.11 -0.    0.\n",
            " -0.02  1.99 -0.    0.1  -0.06 -0.04  0.   -0.   -0.    0.01  0.   -0.\n",
            " -0.    0.01 -0.01 -0.01  0.    0.01 -0.   -0.01 -0.   -0.   -0.   -0.\n",
            "  0.   -0.02 -0.    0.02 -0.12  0.   -0.    0.   -0.   -0.02 -0.   -0.03\n",
            " -0.    1.13  0.19 -0.25 -0.   -0.26 -0.01 -0.02  0.2   0.03 -0.   -0.\n",
            " -0.01  0.05 -0.05  0.    0.11 -0.   -0.02  0.    0.   -0.   -0.   -0.02\n",
            "  0.   -0.01 -0.   -0.    0.02]  절편:4.860305991095501\n",
            "==========\n",
            "alpha : 0.01\n",
            "훈련 성능: 0.9084894629910792   테스트 성능: 0.7890598125656905\n",
            "MAE: 2.471005093018464\n",
            "RMSE: 15.327816553695513\n",
            "회귀계수: [-0.58 -0.26  0.   -0.    0.    0.   -0.   -0.01 -0.04  0.09 -0.69  0.\n",
            " -0.11  3.1  -0.63  0.14 -0.07 -0.02  0.    0.   -0.    0.02  0.    0.\n",
            "  0.    0.01 -0.01 -0.01  0.    0.02 -0.   -0.01  0.   -0.   -2.43 -0.\n",
            " -0.41 -0.02  0.76  0.04 -0.45  0.   -0.    0.   -0.53  0.04 -1.12 -0.03\n",
            "  0.08  1.44  0.3  -0.21 -0.01 -0.47 -0.01  0.04  0.2   0.05 -0.   -0.04\n",
            " -0.01  0.06 -0.04  0.    0.1   0.   -0.02  0.    0.   -0.   -0.    0.02\n",
            "  0.   -0.   -0.   -0.    0.02]  절편:14.84691504951169\n",
            "==========\n"
          ]
        },
        {
          "output_type": "stream",
          "name": "stderr",
          "text": [
            "/usr/local/lib/python3.7/dist-packages/sklearn/linear_model/_coordinate_descent.py:476: ConvergenceWarning: Objective did not converge. You might want to increase the number of iterations. Duality gap: 1665.5615774756893, tolerance: 3.509685514851485\n",
            "  positive)\n"
          ]
        }
      ]
    },
    {
      "cell_type": "markdown",
      "metadata": {
        "id": "Dqwpu7NUmf_N"
      },
      "source": [
        "# 결론"
      ]
    },
    {
      "cell_type": "markdown",
      "metadata": {
        "id": "Az39UgIEmhsJ"
      },
      "source": [
        "##1 Explanatory analysis : 보스턴 집값에 영향을 미치는 변수"
      ]
    },
    {
      "cell_type": "code",
      "metadata": {
        "colab": {
          "base_uri": "https://localhost:8080/"
        },
        "id": "3FByMCDwmmwi",
        "outputId": "e11d80df-1864-4bf4-bfe6-07ab363e5081"
      },
      "source": [
        "print(reg_fit.summary())"
      ],
      "execution_count": null,
      "outputs": [
        {
          "output_type": "stream",
          "name": "stdout",
          "text": [
            "                            OLS Regression Results                            \n",
            "==============================================================================\n",
            "Dep. Variable:                  PRICE   R-squared:                       0.741\n",
            "Model:                            OLS   Adj. R-squared:                  0.734\n",
            "Method:                 Least Squares   F-statistic:                     108.1\n",
            "Date:                Sat, 16 Oct 2021   Prob (F-statistic):          6.72e-135\n",
            "Time:                        10:16:43   Log-Likelihood:                -1498.8\n",
            "No. Observations:                 506   AIC:                             3026.\n",
            "Df Residuals:                     492   BIC:                             3085.\n",
            "Df Model:                          13                                         \n",
            "Covariance Type:            nonrobust                                         \n",
            "==============================================================================\n",
            "                 coef    std err          t      P>|t|      [0.025      0.975]\n",
            "------------------------------------------------------------------------------\n",
            "const         36.4595      5.103      7.144      0.000      26.432      46.487\n",
            "CRIM          -0.1080      0.033     -3.287      0.001      -0.173      -0.043\n",
            "ZN             0.0464      0.014      3.382      0.001       0.019       0.073\n",
            "INDUS          0.0206      0.061      0.334      0.738      -0.100       0.141\n",
            "CHAS           2.6867      0.862      3.118      0.002       0.994       4.380\n",
            "NOX          -17.7666      3.820     -4.651      0.000     -25.272     -10.262\n",
            "RM             3.8099      0.418      9.116      0.000       2.989       4.631\n",
            "AGE            0.0007      0.013      0.052      0.958      -0.025       0.027\n",
            "DIS           -1.4756      0.199     -7.398      0.000      -1.867      -1.084\n",
            "RAD            0.3060      0.066      4.613      0.000       0.176       0.436\n",
            "TAX           -0.0123      0.004     -3.280      0.001      -0.020      -0.005\n",
            "PTRATIO       -0.9527      0.131     -7.283      0.000      -1.210      -0.696\n",
            "B              0.0093      0.003      3.467      0.001       0.004       0.015\n",
            "LSTAT         -0.5248      0.051    -10.347      0.000      -0.624      -0.425\n",
            "==============================================================================\n",
            "Omnibus:                      178.041   Durbin-Watson:                   1.078\n",
            "Prob(Omnibus):                  0.000   Jarque-Bera (JB):              783.126\n",
            "Skew:                           1.521   Prob(JB):                    8.84e-171\n",
            "Kurtosis:                       8.281   Cond. No.                     1.51e+04\n",
            "==============================================================================\n",
            "\n",
            "Warnings:\n",
            "[1] Standard Errors assume that the covariance matrix of the errors is correctly specified.\n",
            "[2] The condition number is large, 1.51e+04. This might indicate that there are\n",
            "strong multicollinearity or other numerical problems.\n"
          ]
        }
      ]
    },
    {
      "cell_type": "markdown",
      "metadata": {
        "id": "5lu0ZkoPmpEv"
      },
      "source": [
        "-> P값이 0.05보다 낮은 \n",
        "const, CRIM, ZN, CHAS, NOX, RM, DIS, RAD, TAX, PTRATIO, B, LSTAT"
      ]
    },
    {
      "cell_type": "markdown",
      "metadata": {
        "id": "Ceqy5Hg4mxMV"
      },
      "source": [
        "##2 Predictive analysis: 보스턴 집 가격 예측에 가장 적합한 모델\n",
        "\n"
      ]
    },
    {
      "cell_type": "markdown",
      "metadata": {
        "id": "bkr5cQkfm-f5"
      },
      "source": [
        "트레인과 테스트 데이터를 8:2 로 나누고, \n",
        "변수를 제곱한 feature engineering을 통해\n",
        "Lasso 회귀식을 강도 0.6으로 설정한 모델"
      ]
    },
    {
      "cell_type": "code",
      "metadata": {
        "id": "zT-t5fvqquYF"
      },
      "source": [
        ""
      ],
      "execution_count": null,
      "outputs": []
    }
  ]
}