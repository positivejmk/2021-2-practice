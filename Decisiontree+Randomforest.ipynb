{
  "nbformat": 4,
  "nbformat_minor": 0,
  "metadata": {
    "colab": {
      "name": "week6_practice.ipynb",
      "provenance": [],
      "mount_file_id": "17YSgEHU6sT-gyMv39voULbPKTkiH_aNJ",
      "authorship_tag": "ABX9TyNwyaX5/UWeu007ziNLBL8G",
      "include_colab_link": true
    },
    "kernelspec": {
      "name": "python3",
      "display_name": "Python 3"
    },
    "language_info": {
      "name": "python"
    }
  },
  "cells": [
    {
      "cell_type": "markdown",
      "metadata": {
        "id": "view-in-github",
        "colab_type": "text"
      },
      "source": [
        "<a href=\"https://colab.research.google.com/github/positivejmk/2021-2-practice/blob/master/Decisiontree%2BRandomforest.ipynb\" target=\"_parent\"><img src=\"https://colab.research.google.com/assets/colab-badge.svg\" alt=\"Open In Colab\"/></a>"
      ]
    },
    {
      "cell_type": "code",
      "metadata": {
        "id": "h_CWMZVor4VQ"
      },
      "source": [
        "%matplotlib inline"
      ],
      "execution_count": 1,
      "outputs": []
    },
    {
      "cell_type": "code",
      "metadata": {
        "id": "QhvHvzOMkhPA"
      },
      "source": [
        "import matplotlib.pyplot as plt\n",
        "import pandas as pd"
      ],
      "execution_count": 2,
      "outputs": []
    },
    {
      "cell_type": "markdown",
      "metadata": {
        "id": "4_NRJYe0klmV"
      },
      "source": [
        "#1. Loading Data"
      ]
    },
    {
      "cell_type": "code",
      "metadata": {
        "id": "PgeahoMqkoeD"
      },
      "source": [
        "df = pd.read_csv('/content/drive/MyDrive/Colab Notebooks/BigMining/bank/bank-full.csv', sep = \";\")"
      ],
      "execution_count": 59,
      "outputs": []
    },
    {
      "cell_type": "code",
      "metadata": {
        "colab": {
          "base_uri": "https://localhost:8080/"
        },
        "id": "L0koFCe7k2cz",
        "outputId": "63b3fe41-3cbf-4613-fb47-a91dc87b5fb1"
      },
      "source": [
        "df.shape"
      ],
      "execution_count": 5,
      "outputs": [
        {
          "output_type": "execute_result",
          "data": {
            "text/plain": [
              "(45211, 17)"
            ]
          },
          "metadata": {},
          "execution_count": 5
        }
      ]
    },
    {
      "cell_type": "code",
      "metadata": {
        "colab": {
          "base_uri": "https://localhost:8080/",
          "height": 202
        },
        "id": "zs4BzROIk4hl",
        "outputId": "c6a9b306-df6e-4ae3-be6f-d96e88e31b01"
      },
      "source": [
        "df.head()"
      ],
      "execution_count": 6,
      "outputs": [
        {
          "output_type": "execute_result",
          "data": {
            "text/html": [
              "<div>\n",
              "<style scoped>\n",
              "    .dataframe tbody tr th:only-of-type {\n",
              "        vertical-align: middle;\n",
              "    }\n",
              "\n",
              "    .dataframe tbody tr th {\n",
              "        vertical-align: top;\n",
              "    }\n",
              "\n",
              "    .dataframe thead th {\n",
              "        text-align: right;\n",
              "    }\n",
              "</style>\n",
              "<table border=\"1\" class=\"dataframe\">\n",
              "  <thead>\n",
              "    <tr style=\"text-align: right;\">\n",
              "      <th></th>\n",
              "      <th>age</th>\n",
              "      <th>job</th>\n",
              "      <th>marital</th>\n",
              "      <th>education</th>\n",
              "      <th>default</th>\n",
              "      <th>balance</th>\n",
              "      <th>housing</th>\n",
              "      <th>loan</th>\n",
              "      <th>contact</th>\n",
              "      <th>day</th>\n",
              "      <th>month</th>\n",
              "      <th>duration</th>\n",
              "      <th>campaign</th>\n",
              "      <th>pdays</th>\n",
              "      <th>previous</th>\n",
              "      <th>poutcome</th>\n",
              "      <th>y</th>\n",
              "    </tr>\n",
              "  </thead>\n",
              "  <tbody>\n",
              "    <tr>\n",
              "      <th>0</th>\n",
              "      <td>58</td>\n",
              "      <td>management</td>\n",
              "      <td>married</td>\n",
              "      <td>tertiary</td>\n",
              "      <td>no</td>\n",
              "      <td>2143</td>\n",
              "      <td>yes</td>\n",
              "      <td>no</td>\n",
              "      <td>unknown</td>\n",
              "      <td>5</td>\n",
              "      <td>may</td>\n",
              "      <td>261</td>\n",
              "      <td>1</td>\n",
              "      <td>-1</td>\n",
              "      <td>0</td>\n",
              "      <td>unknown</td>\n",
              "      <td>no</td>\n",
              "    </tr>\n",
              "    <tr>\n",
              "      <th>1</th>\n",
              "      <td>44</td>\n",
              "      <td>technician</td>\n",
              "      <td>single</td>\n",
              "      <td>secondary</td>\n",
              "      <td>no</td>\n",
              "      <td>29</td>\n",
              "      <td>yes</td>\n",
              "      <td>no</td>\n",
              "      <td>unknown</td>\n",
              "      <td>5</td>\n",
              "      <td>may</td>\n",
              "      <td>151</td>\n",
              "      <td>1</td>\n",
              "      <td>-1</td>\n",
              "      <td>0</td>\n",
              "      <td>unknown</td>\n",
              "      <td>no</td>\n",
              "    </tr>\n",
              "    <tr>\n",
              "      <th>2</th>\n",
              "      <td>33</td>\n",
              "      <td>entrepreneur</td>\n",
              "      <td>married</td>\n",
              "      <td>secondary</td>\n",
              "      <td>no</td>\n",
              "      <td>2</td>\n",
              "      <td>yes</td>\n",
              "      <td>yes</td>\n",
              "      <td>unknown</td>\n",
              "      <td>5</td>\n",
              "      <td>may</td>\n",
              "      <td>76</td>\n",
              "      <td>1</td>\n",
              "      <td>-1</td>\n",
              "      <td>0</td>\n",
              "      <td>unknown</td>\n",
              "      <td>no</td>\n",
              "    </tr>\n",
              "    <tr>\n",
              "      <th>3</th>\n",
              "      <td>47</td>\n",
              "      <td>blue-collar</td>\n",
              "      <td>married</td>\n",
              "      <td>unknown</td>\n",
              "      <td>no</td>\n",
              "      <td>1506</td>\n",
              "      <td>yes</td>\n",
              "      <td>no</td>\n",
              "      <td>unknown</td>\n",
              "      <td>5</td>\n",
              "      <td>may</td>\n",
              "      <td>92</td>\n",
              "      <td>1</td>\n",
              "      <td>-1</td>\n",
              "      <td>0</td>\n",
              "      <td>unknown</td>\n",
              "      <td>no</td>\n",
              "    </tr>\n",
              "    <tr>\n",
              "      <th>4</th>\n",
              "      <td>33</td>\n",
              "      <td>unknown</td>\n",
              "      <td>single</td>\n",
              "      <td>unknown</td>\n",
              "      <td>no</td>\n",
              "      <td>1</td>\n",
              "      <td>no</td>\n",
              "      <td>no</td>\n",
              "      <td>unknown</td>\n",
              "      <td>5</td>\n",
              "      <td>may</td>\n",
              "      <td>198</td>\n",
              "      <td>1</td>\n",
              "      <td>-1</td>\n",
              "      <td>0</td>\n",
              "      <td>unknown</td>\n",
              "      <td>no</td>\n",
              "    </tr>\n",
              "  </tbody>\n",
              "</table>\n",
              "</div>"
            ],
            "text/plain": [
              "   age           job  marital  education  ... pdays  previous poutcome   y\n",
              "0   58    management  married   tertiary  ...    -1         0  unknown  no\n",
              "1   44    technician   single  secondary  ...    -1         0  unknown  no\n",
              "2   33  entrepreneur  married  secondary  ...    -1         0  unknown  no\n",
              "3   47   blue-collar  married    unknown  ...    -1         0  unknown  no\n",
              "4   33       unknown   single    unknown  ...    -1         0  unknown  no\n",
              "\n",
              "[5 rows x 17 columns]"
            ]
          },
          "metadata": {},
          "execution_count": 6
        }
      ]
    },
    {
      "cell_type": "code",
      "metadata": {
        "id": "ANt-4OY3k5Pl"
      },
      "source": [
        "df['conversion'] = df['y'].apply(lambda x: 0 if x == 'no' else 1)"
      ],
      "execution_count": 79,
      "outputs": []
    },
    {
      "cell_type": "code",
      "metadata": {
        "colab": {
          "base_uri": "https://localhost:8080/",
          "height": 222
        },
        "id": "wgnhGKyek_zZ",
        "outputId": "63e5a0cb-05c6-4546-956c-98b5b9f3f5a2"
      },
      "source": [
        "df.head()"
      ],
      "execution_count": 8,
      "outputs": [
        {
          "output_type": "execute_result",
          "data": {
            "text/html": [
              "<div>\n",
              "<style scoped>\n",
              "    .dataframe tbody tr th:only-of-type {\n",
              "        vertical-align: middle;\n",
              "    }\n",
              "\n",
              "    .dataframe tbody tr th {\n",
              "        vertical-align: top;\n",
              "    }\n",
              "\n",
              "    .dataframe thead th {\n",
              "        text-align: right;\n",
              "    }\n",
              "</style>\n",
              "<table border=\"1\" class=\"dataframe\">\n",
              "  <thead>\n",
              "    <tr style=\"text-align: right;\">\n",
              "      <th></th>\n",
              "      <th>age</th>\n",
              "      <th>job</th>\n",
              "      <th>marital</th>\n",
              "      <th>education</th>\n",
              "      <th>default</th>\n",
              "      <th>balance</th>\n",
              "      <th>housing</th>\n",
              "      <th>loan</th>\n",
              "      <th>contact</th>\n",
              "      <th>day</th>\n",
              "      <th>month</th>\n",
              "      <th>duration</th>\n",
              "      <th>campaign</th>\n",
              "      <th>pdays</th>\n",
              "      <th>previous</th>\n",
              "      <th>poutcome</th>\n",
              "      <th>y</th>\n",
              "      <th>conversion</th>\n",
              "    </tr>\n",
              "  </thead>\n",
              "  <tbody>\n",
              "    <tr>\n",
              "      <th>0</th>\n",
              "      <td>58</td>\n",
              "      <td>management</td>\n",
              "      <td>married</td>\n",
              "      <td>tertiary</td>\n",
              "      <td>no</td>\n",
              "      <td>2143</td>\n",
              "      <td>yes</td>\n",
              "      <td>no</td>\n",
              "      <td>unknown</td>\n",
              "      <td>5</td>\n",
              "      <td>may</td>\n",
              "      <td>261</td>\n",
              "      <td>1</td>\n",
              "      <td>-1</td>\n",
              "      <td>0</td>\n",
              "      <td>unknown</td>\n",
              "      <td>no</td>\n",
              "      <td>0</td>\n",
              "    </tr>\n",
              "    <tr>\n",
              "      <th>1</th>\n",
              "      <td>44</td>\n",
              "      <td>technician</td>\n",
              "      <td>single</td>\n",
              "      <td>secondary</td>\n",
              "      <td>no</td>\n",
              "      <td>29</td>\n",
              "      <td>yes</td>\n",
              "      <td>no</td>\n",
              "      <td>unknown</td>\n",
              "      <td>5</td>\n",
              "      <td>may</td>\n",
              "      <td>151</td>\n",
              "      <td>1</td>\n",
              "      <td>-1</td>\n",
              "      <td>0</td>\n",
              "      <td>unknown</td>\n",
              "      <td>no</td>\n",
              "      <td>0</td>\n",
              "    </tr>\n",
              "    <tr>\n",
              "      <th>2</th>\n",
              "      <td>33</td>\n",
              "      <td>entrepreneur</td>\n",
              "      <td>married</td>\n",
              "      <td>secondary</td>\n",
              "      <td>no</td>\n",
              "      <td>2</td>\n",
              "      <td>yes</td>\n",
              "      <td>yes</td>\n",
              "      <td>unknown</td>\n",
              "      <td>5</td>\n",
              "      <td>may</td>\n",
              "      <td>76</td>\n",
              "      <td>1</td>\n",
              "      <td>-1</td>\n",
              "      <td>0</td>\n",
              "      <td>unknown</td>\n",
              "      <td>no</td>\n",
              "      <td>0</td>\n",
              "    </tr>\n",
              "    <tr>\n",
              "      <th>3</th>\n",
              "      <td>47</td>\n",
              "      <td>blue-collar</td>\n",
              "      <td>married</td>\n",
              "      <td>unknown</td>\n",
              "      <td>no</td>\n",
              "      <td>1506</td>\n",
              "      <td>yes</td>\n",
              "      <td>no</td>\n",
              "      <td>unknown</td>\n",
              "      <td>5</td>\n",
              "      <td>may</td>\n",
              "      <td>92</td>\n",
              "      <td>1</td>\n",
              "      <td>-1</td>\n",
              "      <td>0</td>\n",
              "      <td>unknown</td>\n",
              "      <td>no</td>\n",
              "      <td>0</td>\n",
              "    </tr>\n",
              "    <tr>\n",
              "      <th>4</th>\n",
              "      <td>33</td>\n",
              "      <td>unknown</td>\n",
              "      <td>single</td>\n",
              "      <td>unknown</td>\n",
              "      <td>no</td>\n",
              "      <td>1</td>\n",
              "      <td>no</td>\n",
              "      <td>no</td>\n",
              "      <td>unknown</td>\n",
              "      <td>5</td>\n",
              "      <td>may</td>\n",
              "      <td>198</td>\n",
              "      <td>1</td>\n",
              "      <td>-1</td>\n",
              "      <td>0</td>\n",
              "      <td>unknown</td>\n",
              "      <td>no</td>\n",
              "      <td>0</td>\n",
              "    </tr>\n",
              "  </tbody>\n",
              "</table>\n",
              "</div>"
            ],
            "text/plain": [
              "   age           job  marital  education  ... previous  poutcome   y conversion\n",
              "0   58    management  married   tertiary  ...        0   unknown  no          0\n",
              "1   44    technician   single  secondary  ...        0   unknown  no          0\n",
              "2   33  entrepreneur  married  secondary  ...        0   unknown  no          0\n",
              "3   47   blue-collar  married    unknown  ...        0   unknown  no          0\n",
              "4   33       unknown   single    unknown  ...        0   unknown  no          0\n",
              "\n",
              "[5 rows x 18 columns]"
            ]
          },
          "metadata": {},
          "execution_count": 8
        }
      ]
    },
    {
      "cell_type": "markdown",
      "metadata": {
        "id": "l0bDY-f6lB0V"
      },
      "source": [
        "#2. Data Analysis"
      ]
    },
    {
      "cell_type": "code",
      "metadata": {
        "colab": {
          "base_uri": "https://localhost:8080/"
        },
        "id": "YXOow2IOlFRs",
        "outputId": "be68de4c-0ccb-45c2-97b5-eb923fd026c6"
      },
      "source": [
        "list(df.columns)"
      ],
      "execution_count": 10,
      "outputs": [
        {
          "output_type": "execute_result",
          "data": {
            "text/plain": [
              "['age',\n",
              " 'job',\n",
              " 'marital',\n",
              " 'education',\n",
              " 'default',\n",
              " 'balance',\n",
              " 'housing',\n",
              " 'loan',\n",
              " 'contact',\n",
              " 'day',\n",
              " 'month',\n",
              " 'duration',\n",
              " 'campaign',\n",
              " 'pdays',\n",
              " 'previous',\n",
              " 'poutcome',\n",
              " 'y',\n",
              " 'conversion']"
            ]
          },
          "metadata": {},
          "execution_count": 10
        }
      ]
    },
    {
      "cell_type": "markdown",
      "metadata": {
        "id": "Am-0bCPFlGaO"
      },
      "source": [
        "###-Conversion Rate"
      ]
    },
    {
      "cell_type": "code",
      "metadata": {
        "id": "_EsY1RBBlLdh"
      },
      "source": [
        "conversion_rate_df = pd.DataFrame(\n",
        "    df.groupby('conversion').count()['y'] / df.shape[0] *100.0\n",
        ")"
      ],
      "execution_count": 11,
      "outputs": []
    },
    {
      "cell_type": "code",
      "metadata": {
        "colab": {
          "base_uri": "https://localhost:8080/",
          "height": 141
        },
        "id": "nd07_ATQlTPX",
        "outputId": "b1d3e147-d2e1-4cde-d224-bf0c5d7d813a"
      },
      "source": [
        "conversion_rate_df"
      ],
      "execution_count": 12,
      "outputs": [
        {
          "output_type": "execute_result",
          "data": {
            "text/html": [
              "<div>\n",
              "<style scoped>\n",
              "    .dataframe tbody tr th:only-of-type {\n",
              "        vertical-align: middle;\n",
              "    }\n",
              "\n",
              "    .dataframe tbody tr th {\n",
              "        vertical-align: top;\n",
              "    }\n",
              "\n",
              "    .dataframe thead th {\n",
              "        text-align: right;\n",
              "    }\n",
              "</style>\n",
              "<table border=\"1\" class=\"dataframe\">\n",
              "  <thead>\n",
              "    <tr style=\"text-align: right;\">\n",
              "      <th></th>\n",
              "      <th>y</th>\n",
              "    </tr>\n",
              "    <tr>\n",
              "      <th>conversion</th>\n",
              "      <th></th>\n",
              "    </tr>\n",
              "  </thead>\n",
              "  <tbody>\n",
              "    <tr>\n",
              "      <th>0</th>\n",
              "      <td>88.30152</td>\n",
              "    </tr>\n",
              "    <tr>\n",
              "      <th>1</th>\n",
              "      <td>11.69848</td>\n",
              "    </tr>\n",
              "  </tbody>\n",
              "</table>\n",
              "</div>"
            ],
            "text/plain": [
              "                   y\n",
              "conversion          \n",
              "0           88.30152\n",
              "1           11.69848"
            ]
          },
          "metadata": {},
          "execution_count": 12
        }
      ]
    },
    {
      "cell_type": "code",
      "metadata": {
        "colab": {
          "base_uri": "https://localhost:8080/",
          "height": 78
        },
        "id": "OJFAHFpvlUEY",
        "outputId": "b88c4513-dd70-43bb-b8df-349ef38ddb39"
      },
      "source": [
        "conversion_rate_df.T"
      ],
      "execution_count": 13,
      "outputs": [
        {
          "output_type": "execute_result",
          "data": {
            "text/html": [
              "<div>\n",
              "<style scoped>\n",
              "    .dataframe tbody tr th:only-of-type {\n",
              "        vertical-align: middle;\n",
              "    }\n",
              "\n",
              "    .dataframe tbody tr th {\n",
              "        vertical-align: top;\n",
              "    }\n",
              "\n",
              "    .dataframe thead th {\n",
              "        text-align: right;\n",
              "    }\n",
              "</style>\n",
              "<table border=\"1\" class=\"dataframe\">\n",
              "  <thead>\n",
              "    <tr style=\"text-align: right;\">\n",
              "      <th>conversion</th>\n",
              "      <th>0</th>\n",
              "      <th>1</th>\n",
              "    </tr>\n",
              "  </thead>\n",
              "  <tbody>\n",
              "    <tr>\n",
              "      <th>y</th>\n",
              "      <td>88.30152</td>\n",
              "      <td>11.69848</td>\n",
              "    </tr>\n",
              "  </tbody>\n",
              "</table>\n",
              "</div>"
            ],
            "text/plain": [
              "conversion         0         1\n",
              "y           88.30152  11.69848"
            ]
          },
          "metadata": {},
          "execution_count": 13
        }
      ]
    },
    {
      "cell_type": "markdown",
      "metadata": {
        "id": "-6Tc4fwQlXcp"
      },
      "source": [
        "###-Conversion Rates by Marital Status"
      ]
    },
    {
      "cell_type": "code",
      "metadata": {
        "id": "0FXia7relb83"
      },
      "source": [
        "conversion_rate_df_marital = df.groupby(\n",
        "    by = 'marital'\n",
        ")['conversion'].sum() / df.groupby(\n",
        "    by = 'marital'\n",
        ")['conversion'].count() * 100"
      ],
      "execution_count": 14,
      "outputs": []
    },
    {
      "cell_type": "code",
      "metadata": {
        "colab": {
          "base_uri": "https://localhost:8080/"
        },
        "id": "Jnj9EY_Dlqa4",
        "outputId": "2c37860c-de60-4182-cc3c-638e574888c8"
      },
      "source": [
        "conversion_rate_df_marital"
      ],
      "execution_count": 15,
      "outputs": [
        {
          "output_type": "execute_result",
          "data": {
            "text/plain": [
              "marital\n",
              "divorced    11.945458\n",
              "married     10.123466\n",
              "single      14.949179\n",
              "Name: conversion, dtype: float64"
            ]
          },
          "metadata": {},
          "execution_count": 15
        }
      ]
    },
    {
      "cell_type": "code",
      "metadata": {
        "colab": {
          "base_uri": "https://localhost:8080/",
          "height": 491
        },
        "id": "yPwYYNo-lz57",
        "outputId": "60270572-40f7-4918-92fe-d623272bdb85"
      },
      "source": [
        "ax = conversion_rate_df_marital.plot(\n",
        "    kind = 'bar',\n",
        "    color = 'skyblue',\n",
        "    grid = True,\n",
        "    figsize = (10,7),\n",
        "    title = 'Conversion Rates by Marital Status'\n",
        ")\n",
        "\n",
        "ax.set_xlabel('Marital Status')\n",
        "ax.set_ylabel('conversion rate (%)')\n",
        "\n",
        "plt.show()"
      ],
      "execution_count": 16,
      "outputs": [
        {
          "output_type": "display_data",
          "data": {
            "image/png": "[encoded data removed]",
            "text/plain": [
              "<Figure size 720x504 with 1 Axes>"
            ]
          },
          "metadata": {
            "needs_background": "light"
          }
        }
      ]
    },
    {
      "cell_type": "markdown",
      "metadata": {
        "id": "XCQg-UgzmMw9"
      },
      "source": [
        "###-Conversion Rates by Job"
      ]
    },
    {
      "cell_type": "code",
      "metadata": {
        "id": "o9hZKRrDmVRg"
      },
      "source": [
        "conversion_rate_by_job = df.groupby(\n",
        "    by = 'job'\n",
        ")['conversion'].sum() / df.groupby(\n",
        "    by = 'job'\n",
        ")['conversion'].count() * 100.0"
      ],
      "execution_count": 17,
      "outputs": []
    },
    {
      "cell_type": "code",
      "metadata": {
        "colab": {
          "base_uri": "https://localhost:8080/"
        },
        "id": "ns-glUa0mfS2",
        "outputId": "25234412-9c07-43e7-a922-75b2d865fc91"
      },
      "source": [
        "conversion_rate_by_job"
      ],
      "execution_count": 18,
      "outputs": [
        {
          "output_type": "execute_result",
          "data": {
            "text/plain": [
              "job\n",
              "admin.           12.202669\n",
              "blue-collar       7.274969\n",
              "entrepreneur      8.271688\n",
              "housemaid         8.790323\n",
              "management       13.755551\n",
              "retired          22.791519\n",
              "self-employed    11.842939\n",
              "services          8.883004\n",
              "student          28.678038\n",
              "technician       11.056996\n",
              "unemployed       15.502686\n",
              "unknown          11.805556\n",
              "Name: conversion, dtype: float64"
            ]
          },
          "metadata": {},
          "execution_count": 18
        }
      ]
    },
    {
      "cell_type": "code",
      "metadata": {
        "colab": {
          "base_uri": "https://localhost:8080/",
          "height": 457
        },
        "id": "22XjiNXKmhHM",
        "outputId": "11eebd17-d52e-4c14-86a7-af1a19ce0559"
      },
      "source": [
        "ax = conversion_rate_by_job.plot(\n",
        "    kind = 'barh',\n",
        "    color = 'skyblue',\n",
        "    grid = True,\n",
        "    figsize = (10,7),\n",
        "    title = 'Conversion Rates by Job'\n",
        ")\n",
        "\n",
        "ax.set_xlabel('conversion rate(%)')\n",
        "ax.set_ylabel('Job')\n",
        "\n",
        "plt.show()"
      ],
      "execution_count": 19,
      "outputs": [
        {
          "output_type": "display_data",
          "data": {
            "image/png": "[encoded data removed]",
            "text/plain": [
              "<Figure size 720x504 with 1 Axes>"
            ]
          },
          "metadata": {
            "needs_background": "light"
          }
        }
      ]
    },
    {
      "cell_type": "markdown",
      "metadata": {
        "id": "JrGtwQDim0ps"
      },
      "source": [
        "###-Default Rates by Conversions"
      ]
    },
    {
      "cell_type": "code",
      "metadata": {
        "id": "I6Z8p9jUm51A"
      },
      "source": [
        "default_by_conversion_df = pd.pivot_table(\n",
        "    df,\n",
        "    values = 'y',\n",
        "    index = 'default',\n",
        "    columns = 'conversion',\n",
        "    aggfunc = len\n",
        ")"
      ],
      "execution_count": 24,
      "outputs": []
    },
    {
      "cell_type": "code",
      "metadata": {
        "colab": {
          "base_uri": "https://localhost:8080/",
          "height": 141
        },
        "id": "RnWNZeQxpmwr",
        "outputId": "1a926922-4be3-4f4c-d626-f1ef5cabffca"
      },
      "source": [
        "default_by_conversion_df"
      ],
      "execution_count": 21,
      "outputs": [
        {
          "output_type": "execute_result",
          "data": {
            "text/html": [
              "<div>\n",
              "<style scoped>\n",
              "    .dataframe tbody tr th:only-of-type {\n",
              "        vertical-align: middle;\n",
              "    }\n",
              "\n",
              "    .dataframe tbody tr th {\n",
              "        vertical-align: top;\n",
              "    }\n",
              "\n",
              "    .dataframe thead th {\n",
              "        text-align: right;\n",
              "    }\n",
              "</style>\n",
              "<table border=\"1\" class=\"dataframe\">\n",
              "  <thead>\n",
              "    <tr style=\"text-align: right;\">\n",
              "      <th>conversion</th>\n",
              "      <th>0</th>\n",
              "      <th>1</th>\n",
              "    </tr>\n",
              "    <tr>\n",
              "      <th>default</th>\n",
              "      <th></th>\n",
              "      <th></th>\n",
              "    </tr>\n",
              "  </thead>\n",
              "  <tbody>\n",
              "    <tr>\n",
              "      <th>no</th>\n",
              "      <td>39159</td>\n",
              "      <td>5237</td>\n",
              "    </tr>\n",
              "    <tr>\n",
              "      <th>yes</th>\n",
              "      <td>763</td>\n",
              "      <td>52</td>\n",
              "    </tr>\n",
              "  </tbody>\n",
              "</table>\n",
              "</div>"
            ],
            "text/plain": [
              "conversion      0     1\n",
              "default                \n",
              "no          39159  5237\n",
              "yes           763    52"
            ]
          },
          "metadata": {},
          "execution_count": 21
        }
      ]
    },
    {
      "cell_type": "code",
      "metadata": {
        "id": "cZb2WUyWpnub"
      },
      "source": [
        "default_by_conversion_df.columns = ['non_conversions', 'conversions']"
      ],
      "execution_count": 25,
      "outputs": []
    },
    {
      "cell_type": "code",
      "metadata": {
        "colab": {
          "base_uri": "https://localhost:8080/",
          "height": 141
        },
        "id": "i23FvLgWqAhY",
        "outputId": "8b610ecb-03dd-4a63-d2d0-121c8f7492f6"
      },
      "source": [
        "default_by_conversion_df"
      ],
      "execution_count": 26,
      "outputs": [
        {
          "output_type": "execute_result",
          "data": {
            "text/html": [
              "<div>\n",
              "<style scoped>\n",
              "    .dataframe tbody tr th:only-of-type {\n",
              "        vertical-align: middle;\n",
              "    }\n",
              "\n",
              "    .dataframe tbody tr th {\n",
              "        vertical-align: top;\n",
              "    }\n",
              "\n",
              "    .dataframe thead th {\n",
              "        text-align: right;\n",
              "    }\n",
              "</style>\n",
              "<table border=\"1\" class=\"dataframe\">\n",
              "  <thead>\n",
              "    <tr style=\"text-align: right;\">\n",
              "      <th></th>\n",
              "      <th>non_conversions</th>\n",
              "      <th>conversions</th>\n",
              "    </tr>\n",
              "    <tr>\n",
              "      <th>default</th>\n",
              "      <th></th>\n",
              "      <th></th>\n",
              "    </tr>\n",
              "  </thead>\n",
              "  <tbody>\n",
              "    <tr>\n",
              "      <th>no</th>\n",
              "      <td>39159</td>\n",
              "      <td>5237</td>\n",
              "    </tr>\n",
              "    <tr>\n",
              "      <th>yes</th>\n",
              "      <td>763</td>\n",
              "      <td>52</td>\n",
              "    </tr>\n",
              "  </tbody>\n",
              "</table>\n",
              "</div>"
            ],
            "text/plain": [
              "         non_conversions  conversions\n",
              "default                              \n",
              "no                 39159         5237\n",
              "yes                  763           52"
            ]
          },
          "metadata": {},
          "execution_count": 26
        }
      ]
    },
    {
      "cell_type": "code",
      "metadata": {
        "colab": {
          "base_uri": "https://localhost:8080/",
          "height": 464
        },
        "id": "h3aqOlSeqBSS",
        "outputId": "6511eff3-0354-4757-f503-0d896e1a7ec8"
      },
      "source": [
        "default_by_conversion_df.plot(\n",
        "    kind = 'pie',\n",
        "    figsize = (15,7),\n",
        "    startangle = 90,\n",
        "    subplots = True,\n",
        "    autopct = lambda x : '%0.1f' % x\n",
        ")"
      ],
      "execution_count": 27,
      "outputs": [
        {
          "output_type": "execute_result",
          "data": {
            "text/plain": [
              "array([<matplotlib.axes._subplots.AxesSubplot object at 0x7f35afed5490>,\n",
              "       <matplotlib.axes._subplots.AxesSubplot object at 0x7f35afed7490>],\n",
              "      dtype=object)"
            ]
          },
          "metadata": {},
          "execution_count": 27
        },
        {
          "output_type": "display_data",
          "data": {
            "image/png": "[encoded data removed]",
            "text/plain": [
              "<Figure size 1080x504 with 2 Axes>"
            ]
          },
          "metadata": {}
        }
      ]
    },
    {
      "cell_type": "markdown",
      "metadata": {
        "id": "wgiO_ht-qOYC"
      },
      "source": [
        "###-Bank Balance by Conversions"
      ]
    },
    {
      "cell_type": "code",
      "metadata": {
        "colab": {
          "base_uri": "https://localhost:8080/",
          "height": 700
        },
        "id": "5oHmg2tWtsBv",
        "outputId": "80509379-e16e-40e7-d026-52c062e9ff73"
      },
      "source": [
        "ax = df[['conversion', 'balance']].boxplot(\n",
        "    by = 'conversion',\n",
        "    showfliers = True,\n",
        "    figsize = (10,7)\n",
        ")\n",
        "\n",
        "ax.set_xlabel('Conversion')\n",
        "ax.set_ylabel('Average Bank Balance')\n",
        "ax.set_title('Average Bank Balance Distribution by Conversion')\n",
        "\n",
        "plt.suptitle(\"\")\n",
        "plot.show()"
      ],
      "execution_count": 29,
      "outputs": [
        {
          "output_type": "stream",
          "name": "stderr",
          "text": [
            "/usr/local/lib/python3.7/dist-packages/numpy/core/_asarray.py:83: VisibleDeprecationWarning: Creating an ndarray from ragged nested sequences (which is a list-or-tuple of lists-or-tuples-or ndarrays with different lengths or shapes) is deprecated. If you meant to do this, you must specify 'dtype=object' when creating the ndarray\n",
            "  return array(a, dtype, copy=False, order=order)\n"
          ]
        },
        {
          "output_type": "error",
          "ename": "NameError",
          "evalue": "ignored",
          "traceback": [
            "\u001b[0;31m---------------------------------------------------------------------------\u001b[0m",
            "\u001b[0;31mNameError\u001b[0m                                 Traceback (most recent call last)",
            "\u001b[0;32m<ipython-input-29-64012291ef84>\u001b[0m in \u001b[0;36m<module>\u001b[0;34m()\u001b[0m\n\u001b[1;32m     10\u001b[0m \u001b[0;34m\u001b[0m\u001b[0m\n\u001b[1;32m     11\u001b[0m \u001b[0mplt\u001b[0m\u001b[0;34m.\u001b[0m\u001b[0msuptitle\u001b[0m\u001b[0;34m(\u001b[0m\u001b[0;34m\"\"\u001b[0m\u001b[0;34m)\u001b[0m\u001b[0;34m\u001b[0m\u001b[0;34m\u001b[0m\u001b[0m\n\u001b[0;32m---> 12\u001b[0;31m \u001b[0mplot\u001b[0m\u001b[0;34m.\u001b[0m\u001b[0mshow\u001b[0m\u001b[0;34m(\u001b[0m\u001b[0;34m)\u001b[0m\u001b[0;34m\u001b[0m\u001b[0;34m\u001b[0m\u001b[0m\n\u001b[0m",
            "\u001b[0;31mNameError\u001b[0m: name 'plot' is not defined"
          ]
        },
        {
          "output_type": "display_data",
          "data": {
            "image/png": "[encoded data removed]",
            "text/plain": [
              "<Figure size 720x504 with 1 Axes>"
            ]
          },
          "metadata": {
            "needs_background": "light"
          }
        }
      ]
    },
    {
      "cell_type": "code",
      "metadata": {
        "colab": {
          "base_uri": "https://localhost:8080/",
          "height": 511
        },
        "id": "_GrpWnI5uD8b",
        "outputId": "2fde69f5-173e-4007-a177-635df39b28fb"
      },
      "source": [
        "ax = df[['conversion','balance']].boxplot(\n",
        "    by = 'conversion',\n",
        "    showfliers = False,\n",
        "    figsize = (10,7)\n",
        ")\n",
        "\n",
        "ax.set_xlabel('Conversion')\n",
        "ax.set_ylabel('Average Bank Balance')\n",
        "ax.set_title('Average Bank Balance Distributions by Conversion')\n",
        "\n",
        "plt.suptitle(\"\")\n",
        "plt.show()"
      ],
      "execution_count": 31,
      "outputs": [
        {
          "output_type": "stream",
          "name": "stderr",
          "text": [
            "/usr/local/lib/python3.7/dist-packages/numpy/core/_asarray.py:83: VisibleDeprecationWarning: Creating an ndarray from ragged nested sequences (which is a list-or-tuple of lists-or-tuples-or ndarrays with different lengths or shapes) is deprecated. If you meant to do this, you must specify 'dtype=object' when creating the ndarray\n",
            "  return array(a, dtype, copy=False, order=order)\n"
          ]
        },
        {
          "output_type": "display_data",
          "data": {
            "image/png": "[encoded data removed]",
            "text/plain": [
              "<Figure size 720x504 with 1 Axes>"
            ]
          },
          "metadata": {
            "needs_background": "light"
          }
        }
      ]
    },
    {
      "cell_type": "markdown",
      "metadata": {
        "id": "D5poCNHVuwAZ"
      },
      "source": [
        "###-Conversions by Number of Contacts"
      ]
    },
    {
      "cell_type": "code",
      "metadata": {
        "id": "WT_h8RwIu4_u"
      },
      "source": [
        "conversions_by_num_contacts = df.groupby(\n",
        "    by = 'campaign'\n",
        ")['conversion'].sum() / df.groupby(\n",
        "    by = 'campaign'\n",
        ")['conversion'].count()*100"
      ],
      "execution_count": 32,
      "outputs": []
    },
    {
      "cell_type": "code",
      "metadata": {
        "colab": {
          "base_uri": "https://localhost:8080/",
          "height": 1000
        },
        "id": "9LYC22ycvGP8",
        "outputId": "ddcba275-aa60-4030-c439-2847f128f450"
      },
      "source": [
        "pd.DataFrame(conversions_by_num_contacts)"
      ],
      "execution_count": 33,
      "outputs": [
        {
          "output_type": "execute_result",
          "data": {
            "text/html": [
              "<div>\n",
              "<style scoped>\n",
              "    .dataframe tbody tr th:only-of-type {\n",
              "        vertical-align: middle;\n",
              "    }\n",
              "\n",
              "    .dataframe tbody tr th {\n",
              "        vertical-align: top;\n",
              "    }\n",
              "\n",
              "    .dataframe thead th {\n",
              "        text-align: right;\n",
              "    }\n",
              "</style>\n",
              "<table border=\"1\" class=\"dataframe\">\n",
              "  <thead>\n",
              "    <tr style=\"text-align: right;\">\n",
              "      <th></th>\n",
              "      <th>conversion</th>\n",
              "    </tr>\n",
              "    <tr>\n",
              "      <th>campaign</th>\n",
              "      <th></th>\n",
              "    </tr>\n",
              "  </thead>\n",
              "  <tbody>\n",
              "    <tr>\n",
              "      <th>1</th>\n",
              "      <td>14.597583</td>\n",
              "    </tr>\n",
              "    <tr>\n",
              "      <th>2</th>\n",
              "      <td>11.203519</td>\n",
              "    </tr>\n",
              "    <tr>\n",
              "      <th>3</th>\n",
              "      <td>11.193624</td>\n",
              "    </tr>\n",
              "    <tr>\n",
              "      <th>4</th>\n",
              "      <td>9.000568</td>\n",
              "    </tr>\n",
              "    <tr>\n",
              "      <th>5</th>\n",
              "      <td>7.879819</td>\n",
              "    </tr>\n",
              "    <tr>\n",
              "      <th>6</th>\n",
              "      <td>7.126259</td>\n",
              "    </tr>\n",
              "    <tr>\n",
              "      <th>7</th>\n",
              "      <td>6.394558</td>\n",
              "    </tr>\n",
              "    <tr>\n",
              "      <th>8</th>\n",
              "      <td>5.925926</td>\n",
              "    </tr>\n",
              "    <tr>\n",
              "      <th>9</th>\n",
              "      <td>6.422018</td>\n",
              "    </tr>\n",
              "    <tr>\n",
              "      <th>10</th>\n",
              "      <td>5.263158</td>\n",
              "    </tr>\n",
              "    <tr>\n",
              "      <th>11</th>\n",
              "      <td>7.960199</td>\n",
              "    </tr>\n",
              "    <tr>\n",
              "      <th>12</th>\n",
              "      <td>2.580645</td>\n",
              "    </tr>\n",
              "    <tr>\n",
              "      <th>13</th>\n",
              "      <td>4.511278</td>\n",
              "    </tr>\n",
              "    <tr>\n",
              "      <th>14</th>\n",
              "      <td>4.301075</td>\n",
              "    </tr>\n",
              "    <tr>\n",
              "      <th>15</th>\n",
              "      <td>4.761905</td>\n",
              "    </tr>\n",
              "    <tr>\n",
              "      <th>16</th>\n",
              "      <td>2.531646</td>\n",
              "    </tr>\n",
              "    <tr>\n",
              "      <th>17</th>\n",
              "      <td>8.695652</td>\n",
              "    </tr>\n",
              "    <tr>\n",
              "      <th>18</th>\n",
              "      <td>0.000000</td>\n",
              "    </tr>\n",
              "    <tr>\n",
              "      <th>19</th>\n",
              "      <td>0.000000</td>\n",
              "    </tr>\n",
              "    <tr>\n",
              "      <th>20</th>\n",
              "      <td>2.325581</td>\n",
              "    </tr>\n",
              "    <tr>\n",
              "      <th>21</th>\n",
              "      <td>2.857143</td>\n",
              "    </tr>\n",
              "    <tr>\n",
              "      <th>22</th>\n",
              "      <td>0.000000</td>\n",
              "    </tr>\n",
              "    <tr>\n",
              "      <th>23</th>\n",
              "      <td>0.000000</td>\n",
              "    </tr>\n",
              "    <tr>\n",
              "      <th>24</th>\n",
              "      <td>5.000000</td>\n",
              "    </tr>\n",
              "    <tr>\n",
              "      <th>25</th>\n",
              "      <td>0.000000</td>\n",
              "    </tr>\n",
              "    <tr>\n",
              "      <th>26</th>\n",
              "      <td>0.000000</td>\n",
              "    </tr>\n",
              "    <tr>\n",
              "      <th>27</th>\n",
              "      <td>0.000000</td>\n",
              "    </tr>\n",
              "    <tr>\n",
              "      <th>28</th>\n",
              "      <td>0.000000</td>\n",
              "    </tr>\n",
              "    <tr>\n",
              "      <th>29</th>\n",
              "      <td>6.250000</td>\n",
              "    </tr>\n",
              "    <tr>\n",
              "      <th>30</th>\n",
              "      <td>0.000000</td>\n",
              "    </tr>\n",
              "    <tr>\n",
              "      <th>31</th>\n",
              "      <td>0.000000</td>\n",
              "    </tr>\n",
              "    <tr>\n",
              "      <th>32</th>\n",
              "      <td>11.111111</td>\n",
              "    </tr>\n",
              "    <tr>\n",
              "      <th>33</th>\n",
              "      <td>0.000000</td>\n",
              "    </tr>\n",
              "    <tr>\n",
              "      <th>34</th>\n",
              "      <td>0.000000</td>\n",
              "    </tr>\n",
              "    <tr>\n",
              "      <th>35</th>\n",
              "      <td>0.000000</td>\n",
              "    </tr>\n",
              "    <tr>\n",
              "      <th>36</th>\n",
              "      <td>0.000000</td>\n",
              "    </tr>\n",
              "    <tr>\n",
              "      <th>37</th>\n",
              "      <td>0.000000</td>\n",
              "    </tr>\n",
              "    <tr>\n",
              "      <th>38</th>\n",
              "      <td>0.000000</td>\n",
              "    </tr>\n",
              "    <tr>\n",
              "      <th>39</th>\n",
              "      <td>0.000000</td>\n",
              "    </tr>\n",
              "    <tr>\n",
              "      <th>41</th>\n",
              "      <td>0.000000</td>\n",
              "    </tr>\n",
              "    <tr>\n",
              "      <th>43</th>\n",
              "      <td>0.000000</td>\n",
              "    </tr>\n",
              "    <tr>\n",
              "      <th>44</th>\n",
              "      <td>0.000000</td>\n",
              "    </tr>\n",
              "    <tr>\n",
              "      <th>46</th>\n",
              "      <td>0.000000</td>\n",
              "    </tr>\n",
              "    <tr>\n",
              "      <th>50</th>\n",
              "      <td>0.000000</td>\n",
              "    </tr>\n",
              "    <tr>\n",
              "      <th>51</th>\n",
              "      <td>0.000000</td>\n",
              "    </tr>\n",
              "    <tr>\n",
              "      <th>55</th>\n",
              "      <td>0.000000</td>\n",
              "    </tr>\n",
              "    <tr>\n",
              "      <th>58</th>\n",
              "      <td>0.000000</td>\n",
              "    </tr>\n",
              "    <tr>\n",
              "      <th>63</th>\n",
              "      <td>0.000000</td>\n",
              "    </tr>\n",
              "  </tbody>\n",
              "</table>\n",
              "</div>"
            ],
            "text/plain": [
              "          conversion\n",
              "campaign            \n",
              "1          14.597583\n",
              "2          11.203519\n",
              "3          11.193624\n",
              "4           9.000568\n",
              "5           7.879819\n",
              "6           7.126259\n",
              "7           6.394558\n",
              "8           5.925926\n",
              "9           6.422018\n",
              "10          5.263158\n",
              "11          7.960199\n",
              "12          2.580645\n",
              "13          4.511278\n",
              "14          4.301075\n",
              "15          4.761905\n",
              "16          2.531646\n",
              "17          8.695652\n",
              "18          0.000000\n",
              "19          0.000000\n",
              "20          2.325581\n",
              "21          2.857143\n",
              "22          0.000000\n",
              "23          0.000000\n",
              "24          5.000000\n",
              "25          0.000000\n",
              "26          0.000000\n",
              "27          0.000000\n",
              "28          0.000000\n",
              "29          6.250000\n",
              "30          0.000000\n",
              "31          0.000000\n",
              "32         11.111111\n",
              "33          0.000000\n",
              "34          0.000000\n",
              "35          0.000000\n",
              "36          0.000000\n",
              "37          0.000000\n",
              "38          0.000000\n",
              "39          0.000000\n",
              "41          0.000000\n",
              "43          0.000000\n",
              "44          0.000000\n",
              "46          0.000000\n",
              "50          0.000000\n",
              "51          0.000000\n",
              "55          0.000000\n",
              "58          0.000000\n",
              "63          0.000000"
            ]
          },
          "metadata": {},
          "execution_count": 33
        }
      ]
    },
    {
      "cell_type": "code",
      "metadata": {
        "colab": {
          "base_uri": "https://localhost:8080/"
        },
        "id": "YFeoi6aKvIxC",
        "outputId": "2268b3d4-fd6b-4637-e17a-5ad622f6061d"
      },
      "source": [
        "df.groupby(\n",
        "    by = 'campaign'\n",
        ")['conversion'].sum()"
      ],
      "execution_count": 35,
      "outputs": [
        {
          "output_type": "execute_result",
          "data": {
            "text/plain": [
              "campaign\n",
              "1     2561\n",
              "2     1401\n",
              "3      618\n",
              "4      317\n",
              "5      139\n",
              "6       92\n",
              "7       47\n",
              "8       32\n",
              "9       21\n",
              "10      14\n",
              "11      16\n",
              "12       4\n",
              "13       6\n",
              "14       4\n",
              "15       4\n",
              "16       2\n",
              "17       6\n",
              "18       0\n",
              "19       0\n",
              "20       1\n",
              "21       1\n",
              "22       0\n",
              "23       0\n",
              "24       1\n",
              "25       0\n",
              "26       0\n",
              "27       0\n",
              "28       0\n",
              "29       1\n",
              "30       0\n",
              "31       0\n",
              "32       1\n",
              "33       0\n",
              "34       0\n",
              "35       0\n",
              "36       0\n",
              "37       0\n",
              "38       0\n",
              "39       0\n",
              "41       0\n",
              "43       0\n",
              "44       0\n",
              "46       0\n",
              "50       0\n",
              "51       0\n",
              "55       0\n",
              "58       0\n",
              "63       0\n",
              "Name: conversion, dtype: int64"
            ]
          },
          "metadata": {},
          "execution_count": 35
        }
      ]
    },
    {
      "cell_type": "code",
      "metadata": {
        "colab": {
          "base_uri": "https://localhost:8080/",
          "height": 461
        },
        "id": "bYTD27EgvR2a",
        "outputId": "9c78ba4d-86b3-4016-f28b-9088e40f42f3"
      },
      "source": [
        "ax = conversions_by_num_contacts.plot(\n",
        "    kind = 'bar',\n",
        "    figsize = (10,7),\n",
        "    title = 'Conversion Rates by Number of Contacts',\n",
        "    grid = True,\n",
        "    color = 'skyblue'\n",
        ")\n",
        "\n",
        "ax.set_xlabel('Number of Contacts')\n",
        "ax.set_ylabel('Conversion Rate (%)')\n",
        "\n",
        "plt.show()"
      ],
      "execution_count": 36,
      "outputs": [
        {
          "output_type": "display_data",
          "data": {
            "image/png": "[encoded data removed]",
            "text/plain": [
              "<Figure size 720x504 with 1 Axes>"
            ]
          },
          "metadata": {
            "needs_background": "light"
          }
        }
      ]
    },
    {
      "cell_type": "markdown",
      "metadata": {
        "id": "HiPj4ETHwFyK"
      },
      "source": [
        "#3. Encoding Categorical Variables"
      ]
    },
    {
      "cell_type": "code",
      "metadata": {
        "colab": {
          "base_uri": "https://localhost:8080/"
        },
        "id": "ZleXzoHNwLJL",
        "outputId": "b4ee89e3-9510-4da9-906d-bb560f5b0b53"
      },
      "source": [
        "list(df.columns)"
      ],
      "execution_count": 37,
      "outputs": [
        {
          "output_type": "execute_result",
          "data": {
            "text/plain": [
              "['age',\n",
              " 'job',\n",
              " 'marital',\n",
              " 'education',\n",
              " 'default',\n",
              " 'balance',\n",
              " 'housing',\n",
              " 'loan',\n",
              " 'contact',\n",
              " 'day',\n",
              " 'month',\n",
              " 'duration',\n",
              " 'campaign',\n",
              " 'pdays',\n",
              " 'previous',\n",
              " 'poutcome',\n",
              " 'y',\n",
              " 'conversion']"
            ]
          },
          "metadata": {},
          "execution_count": 37
        }
      ]
    },
    {
      "cell_type": "code",
      "metadata": {
        "colab": {
          "base_uri": "https://localhost:8080/",
          "height": 294
        },
        "id": "fCqnS9ZwwMhQ",
        "outputId": "d3930b7b-3cde-4252-d453-c489f5d42321"
      },
      "source": [
        "df.describe()"
      ],
      "execution_count": 39,
      "outputs": [
        {
          "output_type": "execute_result",
          "data": {
            "text/html": [
              "<div>\n",
              "<style scoped>\n",
              "    .dataframe tbody tr th:only-of-type {\n",
              "        vertical-align: middle;\n",
              "    }\n",
              "\n",
              "    .dataframe tbody tr th {\n",
              "        vertical-align: top;\n",
              "    }\n",
              "\n",
              "    .dataframe thead th {\n",
              "        text-align: right;\n",
              "    }\n",
              "</style>\n",
              "<table border=\"1\" class=\"dataframe\">\n",
              "  <thead>\n",
              "    <tr style=\"text-align: right;\">\n",
              "      <th></th>\n",
              "      <th>age</th>\n",
              "      <th>balance</th>\n",
              "      <th>day</th>\n",
              "      <th>duration</th>\n",
              "      <th>campaign</th>\n",
              "      <th>pdays</th>\n",
              "      <th>previous</th>\n",
              "      <th>conversion</th>\n",
              "    </tr>\n",
              "  </thead>\n",
              "  <tbody>\n",
              "    <tr>\n",
              "      <th>count</th>\n",
              "      <td>45211.000000</td>\n",
              "      <td>45211.000000</td>\n",
              "      <td>45211.000000</td>\n",
              "      <td>45211.000000</td>\n",
              "      <td>45211.000000</td>\n",
              "      <td>45211.000000</td>\n",
              "      <td>45211.000000</td>\n",
              "      <td>45211.000000</td>\n",
              "    </tr>\n",
              "    <tr>\n",
              "      <th>mean</th>\n",
              "      <td>40.936210</td>\n",
              "      <td>1362.272058</td>\n",
              "      <td>15.806419</td>\n",
              "      <td>258.163080</td>\n",
              "      <td>2.763841</td>\n",
              "      <td>40.197828</td>\n",
              "      <td>0.580323</td>\n",
              "      <td>0.116985</td>\n",
              "    </tr>\n",
              "    <tr>\n",
              "      <th>std</th>\n",
              "      <td>10.618762</td>\n",
              "      <td>3044.765829</td>\n",
              "      <td>8.322476</td>\n",
              "      <td>257.527812</td>\n",
              "      <td>3.098021</td>\n",
              "      <td>100.128746</td>\n",
              "      <td>2.303441</td>\n",
              "      <td>0.321406</td>\n",
              "    </tr>\n",
              "    <tr>\n",
              "      <th>min</th>\n",
              "      <td>18.000000</td>\n",
              "      <td>-8019.000000</td>\n",
              "      <td>1.000000</td>\n",
              "      <td>0.000000</td>\n",
              "      <td>1.000000</td>\n",
              "      <td>-1.000000</td>\n",
              "      <td>0.000000</td>\n",
              "      <td>0.000000</td>\n",
              "    </tr>\n",
              "    <tr>\n",
              "      <th>25%</th>\n",
              "      <td>33.000000</td>\n",
              "      <td>72.000000</td>\n",
              "      <td>8.000000</td>\n",
              "      <td>103.000000</td>\n",
              "      <td>1.000000</td>\n",
              "      <td>-1.000000</td>\n",
              "      <td>0.000000</td>\n",
              "      <td>0.000000</td>\n",
              "    </tr>\n",
              "    <tr>\n",
              "      <th>50%</th>\n",
              "      <td>39.000000</td>\n",
              "      <td>448.000000</td>\n",
              "      <td>16.000000</td>\n",
              "      <td>180.000000</td>\n",
              "      <td>2.000000</td>\n",
              "      <td>-1.000000</td>\n",
              "      <td>0.000000</td>\n",
              "      <td>0.000000</td>\n",
              "    </tr>\n",
              "    <tr>\n",
              "      <th>75%</th>\n",
              "      <td>48.000000</td>\n",
              "      <td>1428.000000</td>\n",
              "      <td>21.000000</td>\n",
              "      <td>319.000000</td>\n",
              "      <td>3.000000</td>\n",
              "      <td>-1.000000</td>\n",
              "      <td>0.000000</td>\n",
              "      <td>0.000000</td>\n",
              "    </tr>\n",
              "    <tr>\n",
              "      <th>max</th>\n",
              "      <td>95.000000</td>\n",
              "      <td>102127.000000</td>\n",
              "      <td>31.000000</td>\n",
              "      <td>4918.000000</td>\n",
              "      <td>63.000000</td>\n",
              "      <td>871.000000</td>\n",
              "      <td>275.000000</td>\n",
              "      <td>1.000000</td>\n",
              "    </tr>\n",
              "  </tbody>\n",
              "</table>\n",
              "</div>"
            ],
            "text/plain": [
              "                age        balance  ...      previous    conversion\n",
              "count  45211.000000   45211.000000  ...  45211.000000  45211.000000\n",
              "mean      40.936210    1362.272058  ...      0.580323      0.116985\n",
              "std       10.618762    3044.765829  ...      2.303441      0.321406\n",
              "min       18.000000   -8019.000000  ...      0.000000      0.000000\n",
              "25%       33.000000      72.000000  ...      0.000000      0.000000\n",
              "50%       39.000000     448.000000  ...      0.000000      0.000000\n",
              "75%       48.000000    1428.000000  ...      0.000000      0.000000\n",
              "max       95.000000  102127.000000  ...    275.000000      1.000000\n",
              "\n",
              "[8 rows x 8 columns]"
            ]
          },
          "metadata": {},
          "execution_count": 39
        }
      ]
    },
    {
      "cell_type": "code",
      "metadata": {
        "id": "akky0-auwONN"
      },
      "source": [
        "categorical_vars = [\n",
        "      'job',\n",
        "      'marital',\n",
        "      'education',\n",
        "      'default',\n",
        "      'housing',\n",
        "      'loan',\n",
        "      'contact',\n",
        "      'month'\n",
        "]"
      ],
      "execution_count": 60,
      "outputs": []
    },
    {
      "cell_type": "code",
      "metadata": {
        "colab": {
          "base_uri": "https://localhost:8080/"
        },
        "id": "m8Nys9jEwesq",
        "outputId": "e23415be-15be-4e25-f8ec-d54c0de3976f"
      },
      "source": [
        "df[categorical_vars].nunique()"
      ],
      "execution_count": 61,
      "outputs": [
        {
          "output_type": "execute_result",
          "data": {
            "text/plain": [
              "job          12\n",
              "marital       3\n",
              "education     4\n",
              "default       2\n",
              "housing       2\n",
              "loan          2\n",
              "contact       3\n",
              "month        12\n",
              "dtype: int64"
            ]
          },
          "metadata": {},
          "execution_count": 61
        }
      ]
    },
    {
      "cell_type": "markdown",
      "metadata": {
        "id": "pQajb0TUwgpM"
      },
      "source": [
        "###-encoding 'month'"
      ]
    },
    {
      "cell_type": "code",
      "metadata": {
        "colab": {
          "base_uri": "https://localhost:8080/"
        },
        "id": "eufy0BKhwkoJ",
        "outputId": "e9b93757-188f-40c6-efe7-b71c1d252179"
      },
      "source": [
        "df['month'].unique()"
      ],
      "execution_count": 62,
      "outputs": [
        {
          "output_type": "execute_result",
          "data": {
            "text/plain": [
              "array(['may', 'jun', 'jul', 'aug', 'oct', 'nov', 'dec', 'jan', 'feb',\n",
              "       'mar', 'apr', 'sep'], dtype=object)"
            ]
          },
          "metadata": {},
          "execution_count": 62
        }
      ]
    },
    {
      "cell_type": "code",
      "metadata": {
        "id": "8ayyxQSkwnJY"
      },
      "source": [
        "months = ['jan','feb','mar','apr','may','jun','jul','aug','sep','oct','nov','dec']\n",
        "\n",
        "df['month'] = df['month'].apply(\n",
        "    lambda x: months.index(x) +1\n",
        ")"
      ],
      "execution_count": 63,
      "outputs": []
    },
    {
      "cell_type": "code",
      "metadata": {
        "colab": {
          "base_uri": "https://localhost:8080/"
        },
        "id": "hgZctQRuw1zN",
        "outputId": "fc01b6a4-ab65-41b2-b837-0c1e16cdb0dd"
      },
      "source": [
        "df['month'].unique()"
      ],
      "execution_count": 64,
      "outputs": [
        {
          "output_type": "execute_result",
          "data": {
            "text/plain": [
              "array([ 5,  6,  7,  8, 10, 11, 12,  1,  2,  3,  4,  9])"
            ]
          },
          "metadata": {},
          "execution_count": 64
        }
      ]
    },
    {
      "cell_type": "markdown",
      "metadata": {
        "id": "xhW58sfMw3K_"
      },
      "source": [
        "###-encoding 'job'"
      ]
    },
    {
      "cell_type": "code",
      "metadata": {
        "colab": {
          "base_uri": "https://localhost:8080/"
        },
        "id": "kTXzZTb-zRvX",
        "outputId": "1233ce4e-f80b-474b-c47f-e97d484471bf"
      },
      "source": [
        "df['job'].unique()"
      ],
      "execution_count": 65,
      "outputs": [
        {
          "output_type": "execute_result",
          "data": {
            "text/plain": [
              "array(['management', 'technician', 'entrepreneur', 'blue-collar',\n",
              "       'unknown', 'retired', 'admin.', 'services', 'self-employed',\n",
              "       'unemployed', 'housemaid', 'student'], dtype=object)"
            ]
          },
          "metadata": {},
          "execution_count": 65
        }
      ]
    },
    {
      "cell_type": "code",
      "metadata": {
        "colab": {
          "base_uri": "https://localhost:8080/",
          "height": 238
        },
        "id": "jIbmi5BAzTvB",
        "outputId": "95450f36-b4de-4bb1-cfae-391e74b1be58"
      },
      "source": [
        "jobs_encoded_df = pd.get_dummies(df['job'])\n",
        "#더미 변수명 : 직업명 앞에 job_ 붙이기\n",
        "jobs_encoded_df.columns = ['job_%s' % x for x in jobs_encoded_df.columns]\n",
        "\n",
        "jobs_encoded_df.head()"
      ],
      "execution_count": 66,
      "outputs": [
        {
          "output_type": "execute_result",
          "data": {
            "text/html": [
              "<div>\n",
              "<style scoped>\n",
              "    .dataframe tbody tr th:only-of-type {\n",
              "        vertical-align: middle;\n",
              "    }\n",
              "\n",
              "    .dataframe tbody tr th {\n",
              "        vertical-align: top;\n",
              "    }\n",
              "\n",
              "    .dataframe thead th {\n",
              "        text-align: right;\n",
              "    }\n",
              "</style>\n",
              "<table border=\"1\" class=\"dataframe\">\n",
              "  <thead>\n",
              "    <tr style=\"text-align: right;\">\n",
              "      <th></th>\n",
              "      <th>job_admin.</th>\n",
              "      <th>job_blue-collar</th>\n",
              "      <th>job_entrepreneur</th>\n",
              "      <th>job_housemaid</th>\n",
              "      <th>job_management</th>\n",
              "      <th>job_retired</th>\n",
              "      <th>job_self-employed</th>\n",
              "      <th>job_services</th>\n",
              "      <th>job_student</th>\n",
              "      <th>job_technician</th>\n",
              "      <th>job_unemployed</th>\n",
              "      <th>job_unknown</th>\n",
              "    </tr>\n",
              "  </thead>\n",
              "  <tbody>\n",
              "    <tr>\n",
              "      <th>0</th>\n",
              "      <td>0</td>\n",
              "      <td>0</td>\n",
              "      <td>0</td>\n",
              "      <td>0</td>\n",
              "      <td>1</td>\n",
              "      <td>0</td>\n",
              "      <td>0</td>\n",
              "      <td>0</td>\n",
              "      <td>0</td>\n",
              "      <td>0</td>\n",
              "      <td>0</td>\n",
              "      <td>0</td>\n",
              "    </tr>\n",
              "    <tr>\n",
              "      <th>1</th>\n",
              "      <td>0</td>\n",
              "      <td>0</td>\n",
              "      <td>0</td>\n",
              "      <td>0</td>\n",
              "      <td>0</td>\n",
              "      <td>0</td>\n",
              "      <td>0</td>\n",
              "      <td>0</td>\n",
              "      <td>0</td>\n",
              "      <td>1</td>\n",
              "      <td>0</td>\n",
              "      <td>0</td>\n",
              "    </tr>\n",
              "    <tr>\n",
              "      <th>2</th>\n",
              "      <td>0</td>\n",
              "      <td>0</td>\n",
              "      <td>1</td>\n",
              "      <td>0</td>\n",
              "      <td>0</td>\n",
              "      <td>0</td>\n",
              "      <td>0</td>\n",
              "      <td>0</td>\n",
              "      <td>0</td>\n",
              "      <td>0</td>\n",
              "      <td>0</td>\n",
              "      <td>0</td>\n",
              "    </tr>\n",
              "    <tr>\n",
              "      <th>3</th>\n",
              "      <td>0</td>\n",
              "      <td>1</td>\n",
              "      <td>0</td>\n",
              "      <td>0</td>\n",
              "      <td>0</td>\n",
              "      <td>0</td>\n",
              "      <td>0</td>\n",
              "      <td>0</td>\n",
              "      <td>0</td>\n",
              "      <td>0</td>\n",
              "      <td>0</td>\n",
              "      <td>0</td>\n",
              "    </tr>\n",
              "    <tr>\n",
              "      <th>4</th>\n",
              "      <td>0</td>\n",
              "      <td>0</td>\n",
              "      <td>0</td>\n",
              "      <td>0</td>\n",
              "      <td>0</td>\n",
              "      <td>0</td>\n",
              "      <td>0</td>\n",
              "      <td>0</td>\n",
              "      <td>0</td>\n",
              "      <td>0</td>\n",
              "      <td>0</td>\n",
              "      <td>1</td>\n",
              "    </tr>\n",
              "  </tbody>\n",
              "</table>\n",
              "</div>"
            ],
            "text/plain": [
              "   job_admin.  job_blue-collar  ...  job_unemployed  job_unknown\n",
              "0           0                0  ...               0            0\n",
              "1           0                0  ...               0            0\n",
              "2           0                0  ...               0            0\n",
              "3           0                1  ...               0            0\n",
              "4           0                0  ...               0            1\n",
              "\n",
              "[5 rows x 12 columns]"
            ]
          },
          "metadata": {},
          "execution_count": 66
        }
      ]
    },
    {
      "cell_type": "code",
      "metadata": {
        "colab": {
          "base_uri": "https://localhost:8080/",
          "height": 238
        },
        "id": "MVWw-MGRzdyj",
        "outputId": "0bc9024a-6676-4cc8-cd2a-4f89ed862991"
      },
      "source": [
        "df = pd.concat([df, jobs_encoded_df], axis = 1)\n",
        "df.head()"
      ],
      "execution_count": 67,
      "outputs": [
        {
          "output_type": "execute_result",
          "data": {
            "text/html": [
              "<div>\n",
              "<style scoped>\n",
              "    .dataframe tbody tr th:only-of-type {\n",
              "        vertical-align: middle;\n",
              "    }\n",
              "\n",
              "    .dataframe tbody tr th {\n",
              "        vertical-align: top;\n",
              "    }\n",
              "\n",
              "    .dataframe thead th {\n",
              "        text-align: right;\n",
              "    }\n",
              "</style>\n",
              "<table border=\"1\" class=\"dataframe\">\n",
              "  <thead>\n",
              "    <tr style=\"text-align: right;\">\n",
              "      <th></th>\n",
              "      <th>age</th>\n",
              "      <th>job</th>\n",
              "      <th>marital</th>\n",
              "      <th>education</th>\n",
              "      <th>default</th>\n",
              "      <th>balance</th>\n",
              "      <th>housing</th>\n",
              "      <th>loan</th>\n",
              "      <th>contact</th>\n",
              "      <th>day</th>\n",
              "      <th>month</th>\n",
              "      <th>duration</th>\n",
              "      <th>campaign</th>\n",
              "      <th>pdays</th>\n",
              "      <th>previous</th>\n",
              "      <th>poutcome</th>\n",
              "      <th>y</th>\n",
              "      <th>job_admin.</th>\n",
              "      <th>job_blue-collar</th>\n",
              "      <th>job_entrepreneur</th>\n",
              "      <th>job_housemaid</th>\n",
              "      <th>job_management</th>\n",
              "      <th>job_retired</th>\n",
              "      <th>job_self-employed</th>\n",
              "      <th>job_services</th>\n",
              "      <th>job_student</th>\n",
              "      <th>job_technician</th>\n",
              "      <th>job_unemployed</th>\n",
              "      <th>job_unknown</th>\n",
              "    </tr>\n",
              "  </thead>\n",
              "  <tbody>\n",
              "    <tr>\n",
              "      <th>0</th>\n",
              "      <td>58</td>\n",
              "      <td>management</td>\n",
              "      <td>married</td>\n",
              "      <td>tertiary</td>\n",
              "      <td>no</td>\n",
              "      <td>2143</td>\n",
              "      <td>yes</td>\n",
              "      <td>no</td>\n",
              "      <td>unknown</td>\n",
              "      <td>5</td>\n",
              "      <td>5</td>\n",
              "      <td>261</td>\n",
              "      <td>1</td>\n",
              "      <td>-1</td>\n",
              "      <td>0</td>\n",
              "      <td>unknown</td>\n",
              "      <td>no</td>\n",
              "      <td>0</td>\n",
              "      <td>0</td>\n",
              "      <td>0</td>\n",
              "      <td>0</td>\n",
              "      <td>1</td>\n",
              "      <td>0</td>\n",
              "      <td>0</td>\n",
              "      <td>0</td>\n",
              "      <td>0</td>\n",
              "      <td>0</td>\n",
              "      <td>0</td>\n",
              "      <td>0</td>\n",
              "    </tr>\n",
              "    <tr>\n",
              "      <th>1</th>\n",
              "      <td>44</td>\n",
              "      <td>technician</td>\n",
              "      <td>single</td>\n",
              "      <td>secondary</td>\n",
              "      <td>no</td>\n",
              "      <td>29</td>\n",
              "      <td>yes</td>\n",
              "      <td>no</td>\n",
              "      <td>unknown</td>\n",
              "      <td>5</td>\n",
              "      <td>5</td>\n",
              "      <td>151</td>\n",
              "      <td>1</td>\n",
              "      <td>-1</td>\n",
              "      <td>0</td>\n",
              "      <td>unknown</td>\n",
              "      <td>no</td>\n",
              "      <td>0</td>\n",
              "      <td>0</td>\n",
              "      <td>0</td>\n",
              "      <td>0</td>\n",
              "      <td>0</td>\n",
              "      <td>0</td>\n",
              "      <td>0</td>\n",
              "      <td>0</td>\n",
              "      <td>0</td>\n",
              "      <td>1</td>\n",
              "      <td>0</td>\n",
              "      <td>0</td>\n",
              "    </tr>\n",
              "    <tr>\n",
              "      <th>2</th>\n",
              "      <td>33</td>\n",
              "      <td>entrepreneur</td>\n",
              "      <td>married</td>\n",
              "      <td>secondary</td>\n",
              "      <td>no</td>\n",
              "      <td>2</td>\n",
              "      <td>yes</td>\n",
              "      <td>yes</td>\n",
              "      <td>unknown</td>\n",
              "      <td>5</td>\n",
              "      <td>5</td>\n",
              "      <td>76</td>\n",
              "      <td>1</td>\n",
              "      <td>-1</td>\n",
              "      <td>0</td>\n",
              "      <td>unknown</td>\n",
              "      <td>no</td>\n",
              "      <td>0</td>\n",
              "      <td>0</td>\n",
              "      <td>1</td>\n",
              "      <td>0</td>\n",
              "      <td>0</td>\n",
              "      <td>0</td>\n",
              "      <td>0</td>\n",
              "      <td>0</td>\n",
              "      <td>0</td>\n",
              "      <td>0</td>\n",
              "      <td>0</td>\n",
              "      <td>0</td>\n",
              "    </tr>\n",
              "    <tr>\n",
              "      <th>3</th>\n",
              "      <td>47</td>\n",
              "      <td>blue-collar</td>\n",
              "      <td>married</td>\n",
              "      <td>unknown</td>\n",
              "      <td>no</td>\n",
              "      <td>1506</td>\n",
              "      <td>yes</td>\n",
              "      <td>no</td>\n",
              "      <td>unknown</td>\n",
              "      <td>5</td>\n",
              "      <td>5</td>\n",
              "      <td>92</td>\n",
              "      <td>1</td>\n",
              "      <td>-1</td>\n",
              "      <td>0</td>\n",
              "      <td>unknown</td>\n",
              "      <td>no</td>\n",
              "      <td>0</td>\n",
              "      <td>1</td>\n",
              "      <td>0</td>\n",
              "      <td>0</td>\n",
              "      <td>0</td>\n",
              "      <td>0</td>\n",
              "      <td>0</td>\n",
              "      <td>0</td>\n",
              "      <td>0</td>\n",
              "      <td>0</td>\n",
              "      <td>0</td>\n",
              "      <td>0</td>\n",
              "    </tr>\n",
              "    <tr>\n",
              "      <th>4</th>\n",
              "      <td>33</td>\n",
              "      <td>unknown</td>\n",
              "      <td>single</td>\n",
              "      <td>unknown</td>\n",
              "      <td>no</td>\n",
              "      <td>1</td>\n",
              "      <td>no</td>\n",
              "      <td>no</td>\n",
              "      <td>unknown</td>\n",
              "      <td>5</td>\n",
              "      <td>5</td>\n",
              "      <td>198</td>\n",
              "      <td>1</td>\n",
              "      <td>-1</td>\n",
              "      <td>0</td>\n",
              "      <td>unknown</td>\n",
              "      <td>no</td>\n",
              "      <td>0</td>\n",
              "      <td>0</td>\n",
              "      <td>0</td>\n",
              "      <td>0</td>\n",
              "      <td>0</td>\n",
              "      <td>0</td>\n",
              "      <td>0</td>\n",
              "      <td>0</td>\n",
              "      <td>0</td>\n",
              "      <td>0</td>\n",
              "      <td>0</td>\n",
              "      <td>1</td>\n",
              "    </tr>\n",
              "  </tbody>\n",
              "</table>\n",
              "</div>"
            ],
            "text/plain": [
              "   age           job  marital  ... job_technician job_unemployed  job_unknown\n",
              "0   58    management  married  ...              0              0            0\n",
              "1   44    technician   single  ...              1              0            0\n",
              "2   33  entrepreneur  married  ...              0              0            0\n",
              "3   47   blue-collar  married  ...              0              0            0\n",
              "4   33       unknown   single  ...              0              0            1\n",
              "\n",
              "[5 rows x 29 columns]"
            ]
          },
          "metadata": {},
          "execution_count": 67
        }
      ]
    },
    {
      "cell_type": "markdown",
      "metadata": {
        "id": "JnpIksmoz-ki"
      },
      "source": [
        "###-encoding 'marital'"
      ]
    },
    {
      "cell_type": "code",
      "metadata": {
        "colab": {
          "base_uri": "https://localhost:8080/",
          "height": 202
        },
        "id": "AUEB0pkO0EBy",
        "outputId": "7e718189-1c0b-4d44-bbb7-24c1bf69bf59"
      },
      "source": [
        "marital_encoded_df = pd.get_dummies(df['marital'])\n",
        "marital_encoded_df.columns = ['marital_%s' % x for x in marital_encoded_df.columns]\n",
        "\n",
        "marital_encoded_df.head()"
      ],
      "execution_count": 68,
      "outputs": [
        {
          "output_type": "execute_result",
          "data": {
            "text/html": [
              "<div>\n",
              "<style scoped>\n",
              "    .dataframe tbody tr th:only-of-type {\n",
              "        vertical-align: middle;\n",
              "    }\n",
              "\n",
              "    .dataframe tbody tr th {\n",
              "        vertical-align: top;\n",
              "    }\n",
              "\n",
              "    .dataframe thead th {\n",
              "        text-align: right;\n",
              "    }\n",
              "</style>\n",
              "<table border=\"1\" class=\"dataframe\">\n",
              "  <thead>\n",
              "    <tr style=\"text-align: right;\">\n",
              "      <th></th>\n",
              "      <th>marital_divorced</th>\n",
              "      <th>marital_married</th>\n",
              "      <th>marital_single</th>\n",
              "    </tr>\n",
              "  </thead>\n",
              "  <tbody>\n",
              "    <tr>\n",
              "      <th>0</th>\n",
              "      <td>0</td>\n",
              "      <td>1</td>\n",
              "      <td>0</td>\n",
              "    </tr>\n",
              "    <tr>\n",
              "      <th>1</th>\n",
              "      <td>0</td>\n",
              "      <td>0</td>\n",
              "      <td>1</td>\n",
              "    </tr>\n",
              "    <tr>\n",
              "      <th>2</th>\n",
              "      <td>0</td>\n",
              "      <td>1</td>\n",
              "      <td>0</td>\n",
              "    </tr>\n",
              "    <tr>\n",
              "      <th>3</th>\n",
              "      <td>0</td>\n",
              "      <td>1</td>\n",
              "      <td>0</td>\n",
              "    </tr>\n",
              "    <tr>\n",
              "      <th>4</th>\n",
              "      <td>0</td>\n",
              "      <td>0</td>\n",
              "      <td>1</td>\n",
              "    </tr>\n",
              "  </tbody>\n",
              "</table>\n",
              "</div>"
            ],
            "text/plain": [
              "   marital_divorced  marital_married  marital_single\n",
              "0                 0                1               0\n",
              "1                 0                0               1\n",
              "2                 0                1               0\n",
              "3                 0                1               0\n",
              "4                 0                0               1"
            ]
          },
          "metadata": {},
          "execution_count": 68
        }
      ]
    },
    {
      "cell_type": "code",
      "metadata": {
        "colab": {
          "base_uri": "https://localhost:8080/",
          "height": 238
        },
        "id": "hzGjyA_v0fnI",
        "outputId": "57df0c1a-f22d-4fe9-b00d-68b995eca4d4"
      },
      "source": [
        "df = pd.concat([df, marital_encoded_df], axis = 1)\n",
        "df.head()"
      ],
      "execution_count": 69,
      "outputs": [
        {
          "output_type": "execute_result",
          "data": {
            "text/html": [
              "<div>\n",
              "<style scoped>\n",
              "    .dataframe tbody tr th:only-of-type {\n",
              "        vertical-align: middle;\n",
              "    }\n",
              "\n",
              "    .dataframe tbody tr th {\n",
              "        vertical-align: top;\n",
              "    }\n",
              "\n",
              "    .dataframe thead th {\n",
              "        text-align: right;\n",
              "    }\n",
              "</style>\n",
              "<table border=\"1\" class=\"dataframe\">\n",
              "  <thead>\n",
              "    <tr style=\"text-align: right;\">\n",
              "      <th></th>\n",
              "      <th>age</th>\n",
              "      <th>job</th>\n",
              "      <th>marital</th>\n",
              "      <th>education</th>\n",
              "      <th>default</th>\n",
              "      <th>balance</th>\n",
              "      <th>housing</th>\n",
              "      <th>loan</th>\n",
              "      <th>contact</th>\n",
              "      <th>day</th>\n",
              "      <th>month</th>\n",
              "      <th>duration</th>\n",
              "      <th>campaign</th>\n",
              "      <th>pdays</th>\n",
              "      <th>previous</th>\n",
              "      <th>poutcome</th>\n",
              "      <th>y</th>\n",
              "      <th>job_admin.</th>\n",
              "      <th>job_blue-collar</th>\n",
              "      <th>job_entrepreneur</th>\n",
              "      <th>job_housemaid</th>\n",
              "      <th>job_management</th>\n",
              "      <th>job_retired</th>\n",
              "      <th>job_self-employed</th>\n",
              "      <th>job_services</th>\n",
              "      <th>job_student</th>\n",
              "      <th>job_technician</th>\n",
              "      <th>job_unemployed</th>\n",
              "      <th>job_unknown</th>\n",
              "      <th>marital_divorced</th>\n",
              "      <th>marital_married</th>\n",
              "      <th>marital_single</th>\n",
              "    </tr>\n",
              "  </thead>\n",
              "  <tbody>\n",
              "    <tr>\n",
              "      <th>0</th>\n",
              "      <td>58</td>\n",
              "      <td>management</td>\n",
              "      <td>married</td>\n",
              "      <td>tertiary</td>\n",
              "      <td>no</td>\n",
              "      <td>2143</td>\n",
              "      <td>yes</td>\n",
              "      <td>no</td>\n",
              "      <td>unknown</td>\n",
              "      <td>5</td>\n",
              "      <td>5</td>\n",
              "      <td>261</td>\n",
              "      <td>1</td>\n",
              "      <td>-1</td>\n",
              "      <td>0</td>\n",
              "      <td>unknown</td>\n",
              "      <td>no</td>\n",
              "      <td>0</td>\n",
              "      <td>0</td>\n",
              "      <td>0</td>\n",
              "      <td>0</td>\n",
              "      <td>1</td>\n",
              "      <td>0</td>\n",
              "      <td>0</td>\n",
              "      <td>0</td>\n",
              "      <td>0</td>\n",
              "      <td>0</td>\n",
              "      <td>0</td>\n",
              "      <td>0</td>\n",
              "      <td>0</td>\n",
              "      <td>1</td>\n",
              "      <td>0</td>\n",
              "    </tr>\n",
              "    <tr>\n",
              "      <th>1</th>\n",
              "      <td>44</td>\n",
              "      <td>technician</td>\n",
              "      <td>single</td>\n",
              "      <td>secondary</td>\n",
              "      <td>no</td>\n",
              "      <td>29</td>\n",
              "      <td>yes</td>\n",
              "      <td>no</td>\n",
              "      <td>unknown</td>\n",
              "      <td>5</td>\n",
              "      <td>5</td>\n",
              "      <td>151</td>\n",
              "      <td>1</td>\n",
              "      <td>-1</td>\n",
              "      <td>0</td>\n",
              "      <td>unknown</td>\n",
              "      <td>no</td>\n",
              "      <td>0</td>\n",
              "      <td>0</td>\n",
              "      <td>0</td>\n",
              "      <td>0</td>\n",
              "      <td>0</td>\n",
              "      <td>0</td>\n",
              "      <td>0</td>\n",
              "      <td>0</td>\n",
              "      <td>0</td>\n",
              "      <td>1</td>\n",
              "      <td>0</td>\n",
              "      <td>0</td>\n",
              "      <td>0</td>\n",
              "      <td>0</td>\n",
              "      <td>1</td>\n",
              "    </tr>\n",
              "    <tr>\n",
              "      <th>2</th>\n",
              "      <td>33</td>\n",
              "      <td>entrepreneur</td>\n",
              "      <td>married</td>\n",
              "      <td>secondary</td>\n",
              "      <td>no</td>\n",
              "      <td>2</td>\n",
              "      <td>yes</td>\n",
              "      <td>yes</td>\n",
              "      <td>unknown</td>\n",
              "      <td>5</td>\n",
              "      <td>5</td>\n",
              "      <td>76</td>\n",
              "      <td>1</td>\n",
              "      <td>-1</td>\n",
              "      <td>0</td>\n",
              "      <td>unknown</td>\n",
              "      <td>no</td>\n",
              "      <td>0</td>\n",
              "      <td>0</td>\n",
              "      <td>1</td>\n",
              "      <td>0</td>\n",
              "      <td>0</td>\n",
              "      <td>0</td>\n",
              "      <td>0</td>\n",
              "      <td>0</td>\n",
              "      <td>0</td>\n",
              "      <td>0</td>\n",
              "      <td>0</td>\n",
              "      <td>0</td>\n",
              "      <td>0</td>\n",
              "      <td>1</td>\n",
              "      <td>0</td>\n",
              "    </tr>\n",
              "    <tr>\n",
              "      <th>3</th>\n",
              "      <td>47</td>\n",
              "      <td>blue-collar</td>\n",
              "      <td>married</td>\n",
              "      <td>unknown</td>\n",
              "      <td>no</td>\n",
              "      <td>1506</td>\n",
              "      <td>yes</td>\n",
              "      <td>no</td>\n",
              "      <td>unknown</td>\n",
              "      <td>5</td>\n",
              "      <td>5</td>\n",
              "      <td>92</td>\n",
              "      <td>1</td>\n",
              "      <td>-1</td>\n",
              "      <td>0</td>\n",
              "      <td>unknown</td>\n",
              "      <td>no</td>\n",
              "      <td>0</td>\n",
              "      <td>1</td>\n",
              "      <td>0</td>\n",
              "      <td>0</td>\n",
              "      <td>0</td>\n",
              "      <td>0</td>\n",
              "      <td>0</td>\n",
              "      <td>0</td>\n",
              "      <td>0</td>\n",
              "      <td>0</td>\n",
              "      <td>0</td>\n",
              "      <td>0</td>\n",
              "      <td>0</td>\n",
              "      <td>1</td>\n",
              "      <td>0</td>\n",
              "    </tr>\n",
              "    <tr>\n",
              "      <th>4</th>\n",
              "      <td>33</td>\n",
              "      <td>unknown</td>\n",
              "      <td>single</td>\n",
              "      <td>unknown</td>\n",
              "      <td>no</td>\n",
              "      <td>1</td>\n",
              "      <td>no</td>\n",
              "      <td>no</td>\n",
              "      <td>unknown</td>\n",
              "      <td>5</td>\n",
              "      <td>5</td>\n",
              "      <td>198</td>\n",
              "      <td>1</td>\n",
              "      <td>-1</td>\n",
              "      <td>0</td>\n",
              "      <td>unknown</td>\n",
              "      <td>no</td>\n",
              "      <td>0</td>\n",
              "      <td>0</td>\n",
              "      <td>0</td>\n",
              "      <td>0</td>\n",
              "      <td>0</td>\n",
              "      <td>0</td>\n",
              "      <td>0</td>\n",
              "      <td>0</td>\n",
              "      <td>0</td>\n",
              "      <td>0</td>\n",
              "      <td>0</td>\n",
              "      <td>1</td>\n",
              "      <td>0</td>\n",
              "      <td>0</td>\n",
              "      <td>1</td>\n",
              "    </tr>\n",
              "  </tbody>\n",
              "</table>\n",
              "</div>"
            ],
            "text/plain": [
              "   age           job  ... marital_married marital_single\n",
              "0   58    management  ...               1              0\n",
              "1   44    technician  ...               0              1\n",
              "2   33  entrepreneur  ...               1              0\n",
              "3   47   blue-collar  ...               1              0\n",
              "4   33       unknown  ...               0              1\n",
              "\n",
              "[5 rows x 32 columns]"
            ]
          },
          "metadata": {},
          "execution_count": 69
        }
      ]
    },
    {
      "cell_type": "markdown",
      "metadata": {
        "id": "n-LsuoNX0lQ8"
      },
      "source": [
        "###-encoding 'housing'"
      ]
    },
    {
      "cell_type": "code",
      "metadata": {
        "colab": {
          "base_uri": "https://localhost:8080/"
        },
        "id": "y0Umeiwe06Av",
        "outputId": "578c3760-de44-4ae7-8263-7b2d0bbd448c"
      },
      "source": [
        "df['housing'].unique()"
      ],
      "execution_count": 70,
      "outputs": [
        {
          "output_type": "execute_result",
          "data": {
            "text/plain": [
              "array(['yes', 'no'], dtype=object)"
            ]
          },
          "metadata": {},
          "execution_count": 70
        }
      ]
    },
    {
      "cell_type": "code",
      "metadata": {
        "id": "wuEZED4k090J"
      },
      "source": [
        "df['housing'] = df['housing'].apply(lambda x : 1 if x == 'yes' else 0)"
      ],
      "execution_count": 71,
      "outputs": []
    },
    {
      "cell_type": "markdown",
      "metadata": {
        "id": "19z39NaJ1E-j"
      },
      "source": [
        "###-encoding 'loan'"
      ]
    },
    {
      "cell_type": "code",
      "metadata": {
        "colab": {
          "base_uri": "https://localhost:8080/"
        },
        "id": "V9j01VJc1JXK",
        "outputId": "0cbd8d8d-4674-4525-d87e-a427e0481778"
      },
      "source": [
        "df['loan'].unique()"
      ],
      "execution_count": 72,
      "outputs": [
        {
          "output_type": "execute_result",
          "data": {
            "text/plain": [
              "array(['no', 'yes'], dtype=object)"
            ]
          },
          "metadata": {},
          "execution_count": 72
        }
      ]
    },
    {
      "cell_type": "code",
      "metadata": {
        "id": "FzSm1n0P1LTh"
      },
      "source": [
        "df['loan'] = df['loan'].apply(lambda x : 1 if x == 'yes' else 0)"
      ],
      "execution_count": 73,
      "outputs": []
    },
    {
      "cell_type": "markdown",
      "metadata": {
        "id": "k7Q1OCHF1QYJ"
      },
      "source": [
        "#4. Fitting Decision Trees"
      ]
    },
    {
      "cell_type": "code",
      "metadata": {
        "id": "zyqs2nIj1bn8"
      },
      "source": [
        "features = [\n",
        "            'age',\n",
        "            'balance',\n",
        "            'campaign',\n",
        "            'previous',\n",
        "            'housing'\n",
        "] + list(jobs_encoded_df.columns) + list(marital_encoded_df.columns)\n",
        "\n",
        "response_var = 'conversion'"
      ],
      "execution_count": 80,
      "outputs": []
    },
    {
      "cell_type": "code",
      "metadata": {
        "colab": {
          "base_uri": "https://localhost:8080/"
        },
        "id": "GV_oOQXC1nuu",
        "outputId": "a36bb475-592f-480d-fb14-3e7e824f236d"
      },
      "source": [
        "features"
      ],
      "execution_count": 81,
      "outputs": [
        {
          "output_type": "execute_result",
          "data": {
            "text/plain": [
              "['age',\n",
              " 'balance',\n",
              " 'campaign',\n",
              " 'previous',\n",
              " 'housing',\n",
              " 'job_admin.',\n",
              " 'job_blue-collar',\n",
              " 'job_entrepreneur',\n",
              " 'job_housemaid',\n",
              " 'job_management',\n",
              " 'job_retired',\n",
              " 'job_self-employed',\n",
              " 'job_services',\n",
              " 'job_student',\n",
              " 'job_technician',\n",
              " 'job_unemployed',\n",
              " 'job_unknown',\n",
              " 'marital_divorced',\n",
              " 'marital_married',\n",
              " 'marital_single']"
            ]
          },
          "metadata": {},
          "execution_count": 81
        }
      ]
    },
    {
      "cell_type": "code",
      "metadata": {
        "id": "i6mPFaa61pJb"
      },
      "source": [
        "from sklearn import tree"
      ],
      "execution_count": 76,
      "outputs": []
    },
    {
      "cell_type": "code",
      "metadata": {
        "id": "EjstAuUK2f9x"
      },
      "source": [
        "dt_model = tree.DecisionTreeClassifier(\n",
        "    max_depth = 4\n",
        ")"
      ],
      "execution_count": 82,
      "outputs": []
    },
    {
      "cell_type": "code",
      "metadata": {
        "colab": {
          "base_uri": "https://localhost:8080/"
        },
        "id": "gi9cWqf52o9i",
        "outputId": "3ca7d9a2-c6de-41af-b3d2-d5bc346c7444"
      },
      "source": [
        "dt_model.fit(df[features], df[response_var])"
      ],
      "execution_count": 83,
      "outputs": [
        {
          "output_type": "execute_result",
          "data": {
            "text/plain": [
              "DecisionTreeClassifier(ccp_alpha=0.0, class_weight=None, criterion='gini',\n",
              "                       max_depth=4, max_features=None, max_leaf_nodes=None,\n",
              "                       min_impurity_decrease=0.0, min_impurity_split=None,\n",
              "                       min_samples_leaf=1, min_samples_split=2,\n",
              "                       min_weight_fraction_leaf=0.0, presort='deprecated',\n",
              "                       random_state=None, splitter='best')"
            ]
          },
          "metadata": {},
          "execution_count": 83
        }
      ]
    },
    {
      "cell_type": "code",
      "metadata": {
        "colab": {
          "base_uri": "https://localhost:8080/"
        },
        "id": "T_caXnLy2s6M",
        "outputId": "c419fcda-465c-46d7-a9c4-a0aa9b6af6b8"
      },
      "source": [
        "dt_model.classes_"
      ],
      "execution_count": 84,
      "outputs": [
        {
          "output_type": "execute_result",
          "data": {
            "text/plain": [
              "array([0, 1])"
            ]
          },
          "metadata": {},
          "execution_count": 84
        }
      ]
    },
    {
      "cell_type": "code",
      "metadata": {
        "colab": {
          "base_uri": "https://localhost:8080/"
        },
        "id": "kZelwGiW3BTn",
        "outputId": "5250adac-6d2d-4627-b29c-dec4f1d4272b"
      },
      "source": [
        "import numpy as np\n",
        "result = dt_model.feature_importances_\n",
        "print(result)"
      ],
      "execution_count": 85,
      "outputs": [
        {
          "output_type": "stream",
          "name": "stdout",
          "text": [
            "[0.22958146 0.03357839 0.01104479 0.30370049 0.39439427 0.\n",
            " 0.00785975 0.         0.         0.         0.         0.00235943\n",
            " 0.         0.         0.         0.         0.         0.0061807\n",
            " 0.01130072 0.        ]\n"
          ]
        }
      ]
    },
    {
      "cell_type": "code",
      "metadata": {
        "colab": {
          "base_uri": "https://localhost:8080/",
          "height": 662
        },
        "id": "zpRHz9XT3GoL",
        "outputId": "5aa19a38-d7e9-4751-d44a-4a73740c5088"
      },
      "source": [
        "res = pd.DataFrame(result)\n",
        "res['variable name'] = features\n",
        "display(res.sort_values(by = 0, ascending =False))"
      ],
      "execution_count": 86,
      "outputs": [
        {
          "output_type": "display_data",
          "data": {
            "text/html": [
              "<div>\n",
              "<style scoped>\n",
              "    .dataframe tbody tr th:only-of-type {\n",
              "        vertical-align: middle;\n",
              "    }\n",
              "\n",
              "    .dataframe tbody tr th {\n",
              "        vertical-align: top;\n",
              "    }\n",
              "\n",
              "    .dataframe thead th {\n",
              "        text-align: right;\n",
              "    }\n",
              "</style>\n",
              "<table border=\"1\" class=\"dataframe\">\n",
              "  <thead>\n",
              "    <tr style=\"text-align: right;\">\n",
              "      <th></th>\n",
              "      <th>0</th>\n",
              "      <th>variable name</th>\n",
              "    </tr>\n",
              "  </thead>\n",
              "  <tbody>\n",
              "    <tr>\n",
              "      <th>4</th>\n",
              "      <td>0.394394</td>\n",
              "      <td>housing</td>\n",
              "    </tr>\n",
              "    <tr>\n",
              "      <th>3</th>\n",
              "      <td>0.303700</td>\n",
              "      <td>previous</td>\n",
              "    </tr>\n",
              "    <tr>\n",
              "      <th>0</th>\n",
              "      <td>0.229581</td>\n",
              "      <td>age</td>\n",
              "    </tr>\n",
              "    <tr>\n",
              "      <th>1</th>\n",
              "      <td>0.033578</td>\n",
              "      <td>balance</td>\n",
              "    </tr>\n",
              "    <tr>\n",
              "      <th>18</th>\n",
              "      <td>0.011301</td>\n",
              "      <td>marital_married</td>\n",
              "    </tr>\n",
              "    <tr>\n",
              "      <th>2</th>\n",
              "      <td>0.011045</td>\n",
              "      <td>campaign</td>\n",
              "    </tr>\n",
              "    <tr>\n",
              "      <th>6</th>\n",
              "      <td>0.007860</td>\n",
              "      <td>job_blue-collar</td>\n",
              "    </tr>\n",
              "    <tr>\n",
              "      <th>17</th>\n",
              "      <td>0.006181</td>\n",
              "      <td>marital_divorced</td>\n",
              "    </tr>\n",
              "    <tr>\n",
              "      <th>11</th>\n",
              "      <td>0.002359</td>\n",
              "      <td>job_self-employed</td>\n",
              "    </tr>\n",
              "    <tr>\n",
              "      <th>13</th>\n",
              "      <td>0.000000</td>\n",
              "      <td>job_student</td>\n",
              "    </tr>\n",
              "    <tr>\n",
              "      <th>16</th>\n",
              "      <td>0.000000</td>\n",
              "      <td>job_unknown</td>\n",
              "    </tr>\n",
              "    <tr>\n",
              "      <th>15</th>\n",
              "      <td>0.000000</td>\n",
              "      <td>job_unemployed</td>\n",
              "    </tr>\n",
              "    <tr>\n",
              "      <th>14</th>\n",
              "      <td>0.000000</td>\n",
              "      <td>job_technician</td>\n",
              "    </tr>\n",
              "    <tr>\n",
              "      <th>10</th>\n",
              "      <td>0.000000</td>\n",
              "      <td>job_retired</td>\n",
              "    </tr>\n",
              "    <tr>\n",
              "      <th>12</th>\n",
              "      <td>0.000000</td>\n",
              "      <td>job_services</td>\n",
              "    </tr>\n",
              "    <tr>\n",
              "      <th>9</th>\n",
              "      <td>0.000000</td>\n",
              "      <td>job_management</td>\n",
              "    </tr>\n",
              "    <tr>\n",
              "      <th>8</th>\n",
              "      <td>0.000000</td>\n",
              "      <td>job_housemaid</td>\n",
              "    </tr>\n",
              "    <tr>\n",
              "      <th>7</th>\n",
              "      <td>0.000000</td>\n",
              "      <td>job_entrepreneur</td>\n",
              "    </tr>\n",
              "    <tr>\n",
              "      <th>5</th>\n",
              "      <td>0.000000</td>\n",
              "      <td>job_admin.</td>\n",
              "    </tr>\n",
              "    <tr>\n",
              "      <th>19</th>\n",
              "      <td>0.000000</td>\n",
              "      <td>marital_single</td>\n",
              "    </tr>\n",
              "  </tbody>\n",
              "</table>\n",
              "</div>"
            ],
            "text/plain": [
              "           0      variable name\n",
              "4   0.394394            housing\n",
              "3   0.303700           previous\n",
              "0   0.229581                age\n",
              "1   0.033578            balance\n",
              "18  0.011301    marital_married\n",
              "2   0.011045           campaign\n",
              "6   0.007860    job_blue-collar\n",
              "17  0.006181   marital_divorced\n",
              "11  0.002359  job_self-employed\n",
              "13  0.000000        job_student\n",
              "16  0.000000        job_unknown\n",
              "15  0.000000     job_unemployed\n",
              "14  0.000000     job_technician\n",
              "10  0.000000        job_retired\n",
              "12  0.000000       job_services\n",
              "9   0.000000     job_management\n",
              "8   0.000000      job_housemaid\n",
              "7   0.000000   job_entrepreneur\n",
              "5   0.000000         job_admin.\n",
              "19  0.000000     marital_single"
            ]
          },
          "metadata": {}
        }
      ]
    },
    {
      "cell_type": "markdown",
      "metadata": {
        "id": "fJtgZT0t3R4X"
      },
      "source": [
        "#5. Interpreting Decision Tree Model"
      ]
    },
    {
      "cell_type": "code",
      "metadata": {
        "id": "8gL3fmFL3ZdV"
      },
      "source": [
        "import graphviz"
      ],
      "execution_count": 87,
      "outputs": []
    },
    {
      "cell_type": "code",
      "metadata": {
        "id": "xJkiRS8z3bVq"
      },
      "source": [
        "dot_data = tree.export_graphviz(\n",
        "    dt_model,\n",
        "    out_file = None,\n",
        "    feature_names = features,\n",
        "    class_names = ['0', '1'],\n",
        "    filled = True,\n",
        "    rounded = True,\n",
        "    special_characters = True\n",
        ")"
      ],
      "execution_count": 89,
      "outputs": []
    },
    {
      "cell_type": "code",
      "metadata": {
        "id": "OLJSQsGM7P1U"
      },
      "source": [
        "graph = graphviz.Source(dot_data)"
      ],
      "execution_count": 90,
      "outputs": []
    },
    {
      "cell_type": "code",
      "metadata": {
        "colab": {
          "base_uri": "https://localhost:8080/",
          "height": 776
        },
        "id": "ZVzWEitx7VMR",
        "outputId": "23b26d38-e551-4111-b80e-e83ba0200262"
      },
      "source": [
        "from IPython.core.display import display, HTML\n",
        "display(HTML(\"<style>text {font-size: 10px;}</style>\"))\n",
        "graph"
      ],
      "execution_count": 91,
      "outputs": [
        {
          "output_type": "display_data",
          "data": {
            "text/html": [
              "<style>text {font-size: 10px;}</style>"
            ],
            "text/plain": [
              "<IPython.core.display.HTML object>"
            ]
          },
          "metadata": {}
        },
        {
          "output_type": "execute_result",
          "data": {
            "text/plain": [
              "<graphviz.files.Source at 0x7f359cf15690>"
            ],
            "image/svg+xml": "<?xml version=\"1.0\" encoding=\"UTF-8\" standalone=\"no\"?>\n<!DOCTYPE svg PUBLIC \"-//W3C//DTD SVG 1.1//EN\"\n \"http://www.w3.org/Graphics/SVG/1.1/DTD/svg11.dtd\">\n<!-- Generated by graphviz version 2.40.1 (20161225.0304)\n -->\n<!-- Title: Tree Pages: 1 -->\n<svg width=\"2312pt\" height=\"552pt\"\n viewBox=\"0.00 0.00 2311.50 552.00\" xmlns=\"http://www.w3.org/2000/svg\" xmlns:xlink=\"http://www.w3.org/1999/xlink\">\n<g id=\"graph0\" class=\"graph\" transform=\"scale(1 1) rotate(0) translate(4 548)\">\n<title>Tree</title>\n<polygon fill=\"#ffffff\" stroke=\"transparent\" points=\"-4,4 -4,-548 2307.5,-548 2307.5,4 -4,4\"/>\n<!-- 0 -->\n<g id=\"node1\" class=\"node\">\n<title>0</title>\n<path fill=\"#e89253\" stroke=\"#000000\" d=\"M1249.5,-544C1249.5,-544 1116.5,-544 1116.5,-544 1110.5,-544 1104.5,-538 1104.5,-532 1104.5,-532 1104.5,-473 1104.5,-473 1104.5,-467 1110.5,-461 1116.5,-461 1116.5,-461 1249.5,-461 1249.5,-461 1255.5,-461 1261.5,-467 1261.5,-473 1261.5,-473 1261.5,-532 1261.5,-532 1261.5,-538 1255.5,-544 1249.5,-544\"/>\n<text text-anchor=\"start\" x=\"1137.5\" y=\"-528.8\" font-family=\"Helvetica,sans-Serif\" font-size=\"14.00\" fill=\"#000000\">previous ≤ 0.5</text>\n<text text-anchor=\"start\" x=\"1145\" y=\"-513.8\" font-family=\"Helvetica,sans-Serif\" font-size=\"14.00\" fill=\"#000000\">gini = 0.207</text>\n<text text-anchor=\"start\" x=\"1127\" y=\"-498.8\" font-family=\"Helvetica,sans-Serif\" font-size=\"14.00\" fill=\"#000000\">samples = 45211</text>\n<text text-anchor=\"start\" x=\"1112.5\" y=\"-483.8\" font-family=\"Helvetica,sans-Serif\" font-size=\"14.00\" fill=\"#000000\">value = [39922, 5289]</text>\n<text text-anchor=\"start\" x=\"1154\" y=\"-468.8\" font-family=\"Helvetica,sans-Serif\" font-size=\"14.00\" fill=\"#000000\">class = 0</text>\n</g>\n<!-- 1 -->\n<g id=\"node2\" class=\"node\">\n<title>1</title>\n<path fill=\"#e88e4d\" stroke=\"#000000\" d=\"M988.5,-425C988.5,-425 855.5,-425 855.5,-425 849.5,-425 843.5,-419 843.5,-413 843.5,-413 843.5,-354 843.5,-354 843.5,-348 849.5,-342 855.5,-342 855.5,-342 988.5,-342 988.5,-342 994.5,-342 1000.5,-348 1000.5,-354 1000.5,-354 1000.5,-413 1000.5,-413 1000.5,-419 994.5,-425 988.5,-425\"/>\n<text text-anchor=\"start\" x=\"887.5\" y=\"-409.8\" font-family=\"Helvetica,sans-Serif\" font-size=\"14.00\" fill=\"#000000\">age ≤ 60.5</text>\n<text text-anchor=\"start\" x=\"884\" y=\"-394.8\" font-family=\"Helvetica,sans-Serif\" font-size=\"14.00\" fill=\"#000000\">gini = 0.166</text>\n<text text-anchor=\"start\" x=\"866\" y=\"-379.8\" font-family=\"Helvetica,sans-Serif\" font-size=\"14.00\" fill=\"#000000\">samples = 36954</text>\n<text text-anchor=\"start\" x=\"851.5\" y=\"-364.8\" font-family=\"Helvetica,sans-Serif\" font-size=\"14.00\" fill=\"#000000\">value = [33570, 3384]</text>\n<text text-anchor=\"start\" x=\"893\" y=\"-349.8\" font-family=\"Helvetica,sans-Serif\" font-size=\"14.00\" fill=\"#000000\">class = 0</text>\n</g>\n<!-- 0&#45;&gt;1 -->\n<g id=\"edge1\" class=\"edge\">\n<title>0&#45;&gt;1</title>\n<path fill=\"none\" stroke=\"#000000\" d=\"M1104.3375,-466.6347C1074.5479,-453.0525 1040.4552,-437.5083 1009.8716,-423.5641\"/>\n<polygon fill=\"#000000\" stroke=\"#000000\" points=\"1011.0523,-420.2558 1000.5014,-419.2918 1008.1483,-426.625 1011.0523,-420.2558\"/>\n<text text-anchor=\"middle\" x=\"1009.2525\" y=\"-439.0102\" font-family=\"Helvetica,sans-Serif\" font-size=\"14.00\" fill=\"#000000\">True</text>\n</g>\n<!-- 16 -->\n<g id=\"node17\" class=\"node\">\n<title>16</title>\n<path fill=\"#eda774\" stroke=\"#000000\" d=\"M1513.5,-425C1513.5,-425 1388.5,-425 1388.5,-425 1382.5,-425 1376.5,-419 1376.5,-413 1376.5,-413 1376.5,-354 1376.5,-354 1376.5,-348 1382.5,-342 1388.5,-342 1388.5,-342 1513.5,-342 1513.5,-342 1519.5,-342 1525.5,-348 1525.5,-354 1525.5,-354 1525.5,-413 1525.5,-413 1525.5,-419 1519.5,-425 1513.5,-425\"/>\n<text text-anchor=\"start\" x=\"1407\" y=\"-409.8\" font-family=\"Helvetica,sans-Serif\" font-size=\"14.00\" fill=\"#000000\">housing ≤ 0.5</text>\n<text text-anchor=\"start\" x=\"1413\" y=\"-394.8\" font-family=\"Helvetica,sans-Serif\" font-size=\"14.00\" fill=\"#000000\">gini = 0.355</text>\n<text text-anchor=\"start\" x=\"1399\" y=\"-379.8\" font-family=\"Helvetica,sans-Serif\" font-size=\"14.00\" fill=\"#000000\">samples = 8257</text>\n<text text-anchor=\"start\" x=\"1384.5\" y=\"-364.8\" font-family=\"Helvetica,sans-Serif\" font-size=\"14.00\" fill=\"#000000\">value = [6352, 1905]</text>\n<text text-anchor=\"start\" x=\"1422\" y=\"-349.8\" font-family=\"Helvetica,sans-Serif\" font-size=\"14.00\" fill=\"#000000\">class = 0</text>\n</g>\n<!-- 0&#45;&gt;16 -->\n<g id=\"edge16\" class=\"edge\">\n<title>0&#45;&gt;16</title>\n<path fill=\"none\" stroke=\"#000000\" d=\"M1261.598,-467.6001C1294.6337,-452.9313 1333.1221,-435.8413 1366.7419,-420.9131\"/>\n<polygon fill=\"#000000\" stroke=\"#000000\" points=\"1368.3677,-424.0208 1376.0868,-416.7637 1365.5269,-417.6231 1368.3677,-424.0208\"/>\n<text text-anchor=\"middle\" x=\"1367.1042\" y=\"-436.3942\" font-family=\"Helvetica,sans-Serif\" font-size=\"14.00\" fill=\"#000000\">False</text>\n</g>\n<!-- 2 -->\n<g id=\"node3\" class=\"node\">\n<title>2</title>\n<path fill=\"#e78d4c\" stroke=\"#000000\" d=\"M556.5,-306C556.5,-306 423.5,-306 423.5,-306 417.5,-306 411.5,-300 411.5,-294 411.5,-294 411.5,-235 411.5,-235 411.5,-229 417.5,-223 423.5,-223 423.5,-223 556.5,-223 556.5,-223 562.5,-223 568.5,-229 568.5,-235 568.5,-235 568.5,-294 568.5,-294 568.5,-300 562.5,-306 556.5,-306\"/>\n<text text-anchor=\"start\" x=\"446\" y=\"-290.8\" font-family=\"Helvetica,sans-Serif\" font-size=\"14.00\" fill=\"#000000\">housing ≤ 0.5</text>\n<text text-anchor=\"start\" x=\"452\" y=\"-275.8\" font-family=\"Helvetica,sans-Serif\" font-size=\"14.00\" fill=\"#000000\">gini = 0.157</text>\n<text text-anchor=\"start\" x=\"434\" y=\"-260.8\" font-family=\"Helvetica,sans-Serif\" font-size=\"14.00\" fill=\"#000000\">samples = 36202</text>\n<text text-anchor=\"start\" x=\"419.5\" y=\"-245.8\" font-family=\"Helvetica,sans-Serif\" font-size=\"14.00\" fill=\"#000000\">value = [33102, 3100]</text>\n<text text-anchor=\"start\" x=\"461\" y=\"-230.8\" font-family=\"Helvetica,sans-Serif\" font-size=\"14.00\" fill=\"#000000\">class = 0</text>\n</g>\n<!-- 1&#45;&gt;2 -->\n<g id=\"edge2\" class=\"edge\">\n<title>1&#45;&gt;2</title>\n<path fill=\"none\" stroke=\"#000000\" d=\"M843.2669,-361.8119C768.4671,-341.2074 656.1682,-310.2732 578.3467,-288.8362\"/>\n<polygon fill=\"#000000\" stroke=\"#000000\" points=\"579.1268,-285.4208 568.5563,-286.1394 577.2677,-292.1695 579.1268,-285.4208\"/>\n</g>\n<!-- 9 -->\n<g id=\"node10\" class=\"node\">\n<title>9</title>\n<path fill=\"#f5cdb1\" stroke=\"#000000\" d=\"M989,-306C989,-306 855,-306 855,-306 849,-306 843,-300 843,-294 843,-294 843,-235 843,-235 843,-229 849,-223 855,-223 855,-223 989,-223 989,-223 995,-223 1001,-229 1001,-235 1001,-235 1001,-294 1001,-294 1001,-300 995,-306 989,-306\"/>\n<text text-anchor=\"start\" x=\"851\" y=\"-290.8\" font-family=\"Helvetica,sans-Serif\" font-size=\"14.00\" fill=\"#000000\">marital_divorced ≤ 0.5</text>\n<text text-anchor=\"start\" x=\"888.5\" y=\"-275.8\" font-family=\"Helvetica,sans-Serif\" font-size=\"14.00\" fill=\"#000000\">gini = 0.47</text>\n<text text-anchor=\"start\" x=\"874\" y=\"-260.8\" font-family=\"Helvetica,sans-Serif\" font-size=\"14.00\" fill=\"#000000\">samples = 752</text>\n<text text-anchor=\"start\" x=\"864\" y=\"-245.8\" font-family=\"Helvetica,sans-Serif\" font-size=\"14.00\" fill=\"#000000\">value = [468, 284]</text>\n<text text-anchor=\"start\" x=\"893\" y=\"-230.8\" font-family=\"Helvetica,sans-Serif\" font-size=\"14.00\" fill=\"#000000\">class = 0</text>\n</g>\n<!-- 1&#45;&gt;9 -->\n<g id=\"edge9\" class=\"edge\">\n<title>1&#45;&gt;9</title>\n<path fill=\"none\" stroke=\"#000000\" d=\"M922,-341.8796C922,-333.6838 922,-324.9891 922,-316.5013\"/>\n<polygon fill=\"#000000\" stroke=\"#000000\" points=\"925.5001,-316.298 922,-306.2981 918.5001,-316.2981 925.5001,-316.298\"/>\n</g>\n<!-- 3 -->\n<g id=\"node4\" class=\"node\">\n<title>3</title>\n<path fill=\"#e89152\" stroke=\"#000000\" d=\"M303.5,-187C303.5,-187 170.5,-187 170.5,-187 164.5,-187 158.5,-181 158.5,-175 158.5,-175 158.5,-116 158.5,-116 158.5,-110 164.5,-104 170.5,-104 170.5,-104 303.5,-104 303.5,-104 309.5,-104 315.5,-110 315.5,-116 315.5,-116 315.5,-175 315.5,-175 315.5,-181 309.5,-187 303.5,-187\"/>\n<text text-anchor=\"start\" x=\"202.5\" y=\"-171.8\" font-family=\"Helvetica,sans-Serif\" font-size=\"14.00\" fill=\"#000000\">age ≤ 29.5</text>\n<text text-anchor=\"start\" x=\"207.5\" y=\"-156.8\" font-family=\"Helvetica,sans-Serif\" font-size=\"14.00\" fill=\"#000000\">gini = 0.2</text>\n<text text-anchor=\"start\" x=\"181\" y=\"-141.8\" font-family=\"Helvetica,sans-Serif\" font-size=\"14.00\" fill=\"#000000\">samples = 16263</text>\n<text text-anchor=\"start\" x=\"166.5\" y=\"-126.8\" font-family=\"Helvetica,sans-Serif\" font-size=\"14.00\" fill=\"#000000\">value = [14427, 1836]</text>\n<text text-anchor=\"start\" x=\"208\" y=\"-111.8\" font-family=\"Helvetica,sans-Serif\" font-size=\"14.00\" fill=\"#000000\">class = 0</text>\n</g>\n<!-- 2&#45;&gt;3 -->\n<g id=\"edge3\" class=\"edge\">\n<title>2&#45;&gt;3</title>\n<path fill=\"none\" stroke=\"#000000\" d=\"M411.3361,-227.5C383.9681,-214.6273 353.0968,-200.1068 325.0206,-186.901\"/>\n<polygon fill=\"#000000\" stroke=\"#000000\" points=\"326.154,-183.5663 315.6153,-182.4772 323.1746,-189.9006 326.154,-183.5663\"/>\n</g>\n<!-- 6 -->\n<g id=\"node7\" class=\"node\">\n<title>6</title>\n<path fill=\"#e78a46\" stroke=\"#000000\" d=\"M556.5,-187C556.5,-187 423.5,-187 423.5,-187 417.5,-187 411.5,-181 411.5,-175 411.5,-175 411.5,-116 411.5,-116 411.5,-110 417.5,-104 423.5,-104 423.5,-104 556.5,-104 556.5,-104 562.5,-104 568.5,-110 568.5,-116 568.5,-116 568.5,-175 568.5,-175 568.5,-181 562.5,-187 556.5,-187\"/>\n<text text-anchor=\"start\" x=\"422\" y=\"-171.8\" font-family=\"Helvetica,sans-Serif\" font-size=\"14.00\" fill=\"#000000\">marital_married ≤ 0.5</text>\n<text text-anchor=\"start\" x=\"452\" y=\"-156.8\" font-family=\"Helvetica,sans-Serif\" font-size=\"14.00\" fill=\"#000000\">gini = 0.119</text>\n<text text-anchor=\"start\" x=\"434\" y=\"-141.8\" font-family=\"Helvetica,sans-Serif\" font-size=\"14.00\" fill=\"#000000\">samples = 19939</text>\n<text text-anchor=\"start\" x=\"419.5\" y=\"-126.8\" font-family=\"Helvetica,sans-Serif\" font-size=\"14.00\" fill=\"#000000\">value = [18675, 1264]</text>\n<text text-anchor=\"start\" x=\"461\" y=\"-111.8\" font-family=\"Helvetica,sans-Serif\" font-size=\"14.00\" fill=\"#000000\">class = 0</text>\n</g>\n<!-- 2&#45;&gt;6 -->\n<g id=\"edge6\" class=\"edge\">\n<title>2&#45;&gt;6</title>\n<path fill=\"none\" stroke=\"#000000\" d=\"M490,-222.8796C490,-214.6838 490,-205.9891 490,-197.5013\"/>\n<polygon fill=\"#000000\" stroke=\"#000000\" points=\"493.5001,-197.298 490,-187.2981 486.5001,-197.2981 493.5001,-197.298\"/>\n</g>\n<!-- 4 -->\n<g id=\"node5\" class=\"node\">\n<title>4</title>\n<path fill=\"#eda775\" stroke=\"#000000\" d=\"M128,-68C128,-68 12,-68 12,-68 6,-68 0,-62 0,-56 0,-56 0,-12 0,-12 0,-6 6,0 12,0 12,0 128,0 128,0 134,0 140,-6 140,-12 140,-12 140,-56 140,-56 140,-62 134,-68 128,-68\"/>\n<text text-anchor=\"start\" x=\"32\" y=\"-52.8\" font-family=\"Helvetica,sans-Serif\" font-size=\"14.00\" fill=\"#000000\">gini = 0.357</text>\n<text text-anchor=\"start\" x=\"18\" y=\"-37.8\" font-family=\"Helvetica,sans-Serif\" font-size=\"14.00\" fill=\"#000000\">samples = 1751</text>\n<text text-anchor=\"start\" x=\"8\" y=\"-22.8\" font-family=\"Helvetica,sans-Serif\" font-size=\"14.00\" fill=\"#000000\">value = [1343, 408]</text>\n<text text-anchor=\"start\" x=\"41\" y=\"-7.8\" font-family=\"Helvetica,sans-Serif\" font-size=\"14.00\" fill=\"#000000\">class = 0</text>\n</g>\n<!-- 3&#45;&gt;4 -->\n<g id=\"edge4\" class=\"edge\">\n<title>3&#45;&gt;4</title>\n<path fill=\"none\" stroke=\"#000000\" d=\"M174.8154,-103.9815C160.0089,-94.0957 144.2441,-83.5701 129.5585,-73.7651\"/>\n<polygon fill=\"#000000\" stroke=\"#000000\" points=\"131.3122,-70.7276 121.052,-68.0856 127.4252,-76.5493 131.3122,-70.7276\"/>\n</g>\n<!-- 5 -->\n<g id=\"node6\" class=\"node\">\n<title>5</title>\n<path fill=\"#e88f4f\" stroke=\"#000000\" d=\"M303.5,-68C303.5,-68 170.5,-68 170.5,-68 164.5,-68 158.5,-62 158.5,-56 158.5,-56 158.5,-12 158.5,-12 158.5,-6 164.5,0 170.5,0 170.5,0 303.5,0 303.5,0 309.5,0 315.5,-6 315.5,-12 315.5,-12 315.5,-56 315.5,-56 315.5,-62 309.5,-68 303.5,-68\"/>\n<text text-anchor=\"start\" x=\"199\" y=\"-52.8\" font-family=\"Helvetica,sans-Serif\" font-size=\"14.00\" fill=\"#000000\">gini = 0.177</text>\n<text text-anchor=\"start\" x=\"181\" y=\"-37.8\" font-family=\"Helvetica,sans-Serif\" font-size=\"14.00\" fill=\"#000000\">samples = 14512</text>\n<text text-anchor=\"start\" x=\"166.5\" y=\"-22.8\" font-family=\"Helvetica,sans-Serif\" font-size=\"14.00\" fill=\"#000000\">value = [13084, 1428]</text>\n<text text-anchor=\"start\" x=\"208\" y=\"-7.8\" font-family=\"Helvetica,sans-Serif\" font-size=\"14.00\" fill=\"#000000\">class = 0</text>\n</g>\n<!-- 3&#45;&gt;5 -->\n<g id=\"edge5\" class=\"edge\">\n<title>3&#45;&gt;5</title>\n<path fill=\"none\" stroke=\"#000000\" d=\"M237,-103.9815C237,-95.618 237,-86.7965 237,-78.3409\"/>\n<polygon fill=\"#000000\" stroke=\"#000000\" points=\"240.5001,-78.2636 237,-68.2637 233.5001,-78.2637 240.5001,-78.2636\"/>\n</g>\n<!-- 7 -->\n<g id=\"node8\" class=\"node\">\n<title>7</title>\n<path fill=\"#e78c4a\" stroke=\"#000000\" d=\"M462,-68C462,-68 346,-68 346,-68 340,-68 334,-62 334,-56 334,-56 334,-12 334,-12 334,-6 340,0 346,0 346,0 462,0 462,0 468,0 474,-6 474,-12 474,-12 474,-56 474,-56 474,-62 468,-68 462,-68\"/>\n<text text-anchor=\"start\" x=\"366\" y=\"-52.8\" font-family=\"Helvetica,sans-Serif\" font-size=\"14.00\" fill=\"#000000\">gini = 0.149</text>\n<text text-anchor=\"start\" x=\"352\" y=\"-37.8\" font-family=\"Helvetica,sans-Serif\" font-size=\"14.00\" fill=\"#000000\">samples = 7665</text>\n<text text-anchor=\"start\" x=\"342\" y=\"-22.8\" font-family=\"Helvetica,sans-Serif\" font-size=\"14.00\" fill=\"#000000\">value = [7043, 622]</text>\n<text text-anchor=\"start\" x=\"375\" y=\"-7.8\" font-family=\"Helvetica,sans-Serif\" font-size=\"14.00\" fill=\"#000000\">class = 0</text>\n</g>\n<!-- 6&#45;&gt;7 -->\n<g id=\"edge7\" class=\"edge\">\n<title>6&#45;&gt;7</title>\n<path fill=\"none\" stroke=\"#000000\" d=\"M457.9768,-103.9815C451.0298,-94.9747 443.6731,-85.4367 436.7004,-76.3965\"/>\n<polygon fill=\"#000000\" stroke=\"#000000\" points=\"439.3064,-74.0444 430.4276,-68.2637 433.7636,-78.3196 439.3064,-74.0444\"/>\n</g>\n<!-- 8 -->\n<g id=\"node9\" class=\"node\">\n<title>8</title>\n<path fill=\"#e68844\" stroke=\"#000000\" d=\"M629.5,-68C629.5,-68 504.5,-68 504.5,-68 498.5,-68 492.5,-62 492.5,-56 492.5,-56 492.5,-12 492.5,-12 492.5,-6 498.5,0 504.5,0 504.5,0 629.5,0 629.5,0 635.5,0 641.5,-6 641.5,-12 641.5,-12 641.5,-56 641.5,-56 641.5,-62 635.5,-68 629.5,-68\"/>\n<text text-anchor=\"start\" x=\"529\" y=\"-52.8\" font-family=\"Helvetica,sans-Serif\" font-size=\"14.00\" fill=\"#000000\">gini = 0.099</text>\n<text text-anchor=\"start\" x=\"511\" y=\"-37.8\" font-family=\"Helvetica,sans-Serif\" font-size=\"14.00\" fill=\"#000000\">samples = 12274</text>\n<text text-anchor=\"start\" x=\"500.5\" y=\"-22.8\" font-family=\"Helvetica,sans-Serif\" font-size=\"14.00\" fill=\"#000000\">value = [11632, 642]</text>\n<text text-anchor=\"start\" x=\"538\" y=\"-7.8\" font-family=\"Helvetica,sans-Serif\" font-size=\"14.00\" fill=\"#000000\">class = 0</text>\n</g>\n<!-- 6&#45;&gt;8 -->\n<g id=\"edge8\" class=\"edge\">\n<title>6&#45;&gt;8</title>\n<path fill=\"none\" stroke=\"#000000\" d=\"M518.672,-103.9815C524.8285,-95.0666 531.3443,-85.6313 537.5305,-76.6734\"/>\n<polygon fill=\"#000000\" stroke=\"#000000\" points=\"540.5355,-78.4811 543.3381,-68.2637 534.7755,-74.5034 540.5355,-78.4811\"/>\n</g>\n<!-- 10 -->\n<g id=\"node11\" class=\"node\">\n<title>10</title>\n<path fill=\"#f3c5a3\" stroke=\"#000000\" d=\"M897,-187C897,-187 769,-187 769,-187 763,-187 757,-181 757,-175 757,-175 757,-116 757,-116 757,-110 763,-104 769,-104 769,-104 897,-104 897,-104 903,-104 909,-110 909,-116 909,-116 909,-175 909,-175 909,-181 903,-187 897,-187\"/>\n<text text-anchor=\"start\" x=\"765\" y=\"-171.8\" font-family=\"Helvetica,sans-Serif\" font-size=\"14.00\" fill=\"#000000\">marital_married ≤ 0.5</text>\n<text text-anchor=\"start\" x=\"795\" y=\"-156.8\" font-family=\"Helvetica,sans-Serif\" font-size=\"14.00\" fill=\"#000000\">gini = 0.455</text>\n<text text-anchor=\"start\" x=\"785\" y=\"-141.8\" font-family=\"Helvetica,sans-Serif\" font-size=\"14.00\" fill=\"#000000\">samples = 615</text>\n<text text-anchor=\"start\" x=\"775\" y=\"-126.8\" font-family=\"Helvetica,sans-Serif\" font-size=\"14.00\" fill=\"#000000\">value = [400, 215]</text>\n<text text-anchor=\"start\" x=\"804\" y=\"-111.8\" font-family=\"Helvetica,sans-Serif\" font-size=\"14.00\" fill=\"#000000\">class = 0</text>\n</g>\n<!-- 9&#45;&gt;10 -->\n<g id=\"edge10\" class=\"edge\">\n<title>9&#45;&gt;10</title>\n<path fill=\"none\" stroke=\"#000000\" d=\"M890.8721,-222.8796C884.271,-214.0534 877.2371,-204.6485 870.4298,-195.5466\"/>\n<polygon fill=\"#000000\" stroke=\"#000000\" points=\"873.0528,-193.2099 864.2607,-187.2981 867.4472,-197.4024 873.0528,-193.2099\"/>\n</g>\n<!-- 13 -->\n<g id=\"node14\" class=\"node\">\n<title>13</title>\n<path fill=\"#fcfeff\" stroke=\"#000000\" d=\"M1085,-187C1085,-187 939,-187 939,-187 933,-187 927,-181 927,-175 927,-175 927,-116 927,-116 927,-110 933,-104 939,-104 939,-104 1085,-104 1085,-104 1091,-104 1097,-110 1097,-116 1097,-116 1097,-175 1097,-175 1097,-181 1091,-187 1085,-187\"/>\n<text text-anchor=\"start\" x=\"935\" y=\"-171.8\" font-family=\"Helvetica,sans-Serif\" font-size=\"14.00\" fill=\"#000000\">job_self&#45;employed ≤ 0.5</text>\n<text text-anchor=\"start\" x=\"982.5\" y=\"-156.8\" font-family=\"Helvetica,sans-Serif\" font-size=\"14.00\" fill=\"#000000\">gini = 0.5</text>\n<text text-anchor=\"start\" x=\"964\" y=\"-141.8\" font-family=\"Helvetica,sans-Serif\" font-size=\"14.00\" fill=\"#000000\">samples = 137</text>\n<text text-anchor=\"start\" x=\"962\" y=\"-126.8\" font-family=\"Helvetica,sans-Serif\" font-size=\"14.00\" fill=\"#000000\">value = [68, 69]</text>\n<text text-anchor=\"start\" x=\"983\" y=\"-111.8\" font-family=\"Helvetica,sans-Serif\" font-size=\"14.00\" fill=\"#000000\">class = 1</text>\n</g>\n<!-- 9&#45;&gt;13 -->\n<g id=\"edge13\" class=\"edge\">\n<title>9&#45;&gt;13</title>\n<path fill=\"none\" stroke=\"#000000\" d=\"M953.4776,-222.8796C960.1529,-214.0534 967.2658,-204.6485 974.1496,-195.5466\"/>\n<polygon fill=\"#000000\" stroke=\"#000000\" points=\"977.1474,-197.3852 980.388,-187.2981 971.5643,-193.1626 977.1474,-197.3852\"/>\n</g>\n<!-- 11 -->\n<g id=\"node12\" class=\"node\">\n<title>11</title>\n<path fill=\"#ea995f\" stroke=\"#000000\" d=\"M754.5,-68C754.5,-68 671.5,-68 671.5,-68 665.5,-68 659.5,-62 659.5,-56 659.5,-56 659.5,-12 659.5,-12 659.5,-6 665.5,0 671.5,0 671.5,0 754.5,0 754.5,0 760.5,0 766.5,-6 766.5,-12 766.5,-12 766.5,-56 766.5,-56 766.5,-62 760.5,-68 754.5,-68\"/>\n<text text-anchor=\"start\" x=\"675\" y=\"-52.8\" font-family=\"Helvetica,sans-Serif\" font-size=\"14.00\" fill=\"#000000\">gini = 0.269</text>\n<text text-anchor=\"start\" x=\"669\" y=\"-37.8\" font-family=\"Helvetica,sans-Serif\" font-size=\"14.00\" fill=\"#000000\">samples = 25</text>\n<text text-anchor=\"start\" x=\"667.5\" y=\"-22.8\" font-family=\"Helvetica,sans-Serif\" font-size=\"14.00\" fill=\"#000000\">value = [21, 4]</text>\n<text text-anchor=\"start\" x=\"684\" y=\"-7.8\" font-family=\"Helvetica,sans-Serif\" font-size=\"14.00\" fill=\"#000000\">class = 0</text>\n</g>\n<!-- 10&#45;&gt;11 -->\n<g id=\"edge11\" class=\"edge\">\n<title>10&#45;&gt;11</title>\n<path fill=\"none\" stroke=\"#000000\" d=\"M788.3164,-103.9815C778.2273,-94.607 767.519,-84.6572 757.4399,-75.2921\"/>\n<polygon fill=\"#000000\" stroke=\"#000000\" points=\"759.5839,-72.5065 749.8757,-68.2637 754.8191,-77.6346 759.5839,-72.5065\"/>\n</g>\n<!-- 12 -->\n<g id=\"node13\" class=\"node\">\n<title>12</title>\n<path fill=\"#f3c7a7\" stroke=\"#000000\" d=\"M905,-68C905,-68 797,-68 797,-68 791,-68 785,-62 785,-56 785,-56 785,-12 785,-12 785,-6 791,0 797,0 797,0 905,0 905,0 911,0 917,-6 917,-12 917,-12 917,-56 917,-56 917,-62 911,-68 905,-68\"/>\n<text text-anchor=\"start\" x=\"813\" y=\"-52.8\" font-family=\"Helvetica,sans-Serif\" font-size=\"14.00\" fill=\"#000000\">gini = 0.459</text>\n<text text-anchor=\"start\" x=\"803\" y=\"-37.8\" font-family=\"Helvetica,sans-Serif\" font-size=\"14.00\" fill=\"#000000\">samples = 590</text>\n<text text-anchor=\"start\" x=\"793\" y=\"-22.8\" font-family=\"Helvetica,sans-Serif\" font-size=\"14.00\" fill=\"#000000\">value = [379, 211]</text>\n<text text-anchor=\"start\" x=\"822\" y=\"-7.8\" font-family=\"Helvetica,sans-Serif\" font-size=\"14.00\" fill=\"#000000\">class = 0</text>\n</g>\n<!-- 10&#45;&gt;12 -->\n<g id=\"edge12\" class=\"edge\">\n<title>10&#45;&gt;12</title>\n<path fill=\"none\" stroke=\"#000000\" d=\"M839.7025,-103.9815C841.0527,-95.618 842.4768,-86.7965 843.8418,-78.3409\"/>\n<polygon fill=\"#000000\" stroke=\"#000000\" points=\"847.3301,-78.6937 845.4686,-68.2637 840.4196,-77.578 847.3301,-78.6937\"/>\n</g>\n<!-- 14 -->\n<g id=\"node15\" class=\"node\">\n<title>14</title>\n<path fill=\"#fef9f6\" stroke=\"#000000\" d=\"M1039,-68C1039,-68 947,-68 947,-68 941,-68 935,-62 935,-56 935,-56 935,-12 935,-12 935,-6 941,0 947,0 947,0 1039,0 1039,0 1045,0 1051,-6 1051,-12 1051,-12 1051,-56 1051,-56 1051,-62 1045,-68 1039,-68\"/>\n<text text-anchor=\"start\" x=\"963.5\" y=\"-52.8\" font-family=\"Helvetica,sans-Serif\" font-size=\"14.00\" fill=\"#000000\">gini = 0.5</text>\n<text text-anchor=\"start\" x=\"945\" y=\"-37.8\" font-family=\"Helvetica,sans-Serif\" font-size=\"14.00\" fill=\"#000000\">samples = 133</text>\n<text text-anchor=\"start\" x=\"943\" y=\"-22.8\" font-family=\"Helvetica,sans-Serif\" font-size=\"14.00\" fill=\"#000000\">value = [68, 65]</text>\n<text text-anchor=\"start\" x=\"964\" y=\"-7.8\" font-family=\"Helvetica,sans-Serif\" font-size=\"14.00\" fill=\"#000000\">class = 0</text>\n</g>\n<!-- 13&#45;&gt;14 -->\n<g id=\"edge14\" class=\"edge\">\n<title>13&#45;&gt;14</title>\n<path fill=\"none\" stroke=\"#000000\" d=\"M1004.9251,-103.9815C1003.4999,-95.618 1001.9967,-86.7965 1000.5558,-78.3409\"/>\n<polygon fill=\"#000000\" stroke=\"#000000\" points=\"1003.9688,-77.5336 998.8387,-68.2637 997.0683,-78.7095 1003.9688,-77.5336\"/>\n</g>\n<!-- 15 -->\n<g id=\"node16\" class=\"node\">\n<title>15</title>\n<path fill=\"#399de5\" stroke=\"#000000\" d=\"M1156.5,-68C1156.5,-68 1081.5,-68 1081.5,-68 1075.5,-68 1069.5,-62 1069.5,-56 1069.5,-56 1069.5,-12 1069.5,-12 1069.5,-6 1075.5,0 1081.5,0 1081.5,0 1156.5,0 1156.5,0 1162.5,0 1168.5,-6 1168.5,-12 1168.5,-12 1168.5,-56 1168.5,-56 1168.5,-62 1162.5,-68 1156.5,-68\"/>\n<text text-anchor=\"start\" x=\"1089.5\" y=\"-52.8\" font-family=\"Helvetica,sans-Serif\" font-size=\"14.00\" fill=\"#000000\">gini = 0.0</text>\n<text text-anchor=\"start\" x=\"1079.5\" y=\"-37.8\" font-family=\"Helvetica,sans-Serif\" font-size=\"14.00\" fill=\"#000000\">samples = 4</text>\n<text text-anchor=\"start\" x=\"1077.5\" y=\"-22.8\" font-family=\"Helvetica,sans-Serif\" font-size=\"14.00\" fill=\"#000000\">value = [0, 4]</text>\n<text text-anchor=\"start\" x=\"1090\" y=\"-7.8\" font-family=\"Helvetica,sans-Serif\" font-size=\"14.00\" fill=\"#000000\">class = 1</text>\n</g>\n<!-- 13&#45;&gt;15 -->\n<g id=\"edge15\" class=\"edge\">\n<title>13&#45;&gt;15</title>\n<path fill=\"none\" stroke=\"#000000\" d=\"M1051.8429,-103.9815C1060.7508,-94.6989 1070.2001,-84.8522 1079.1099,-75.5677\"/>\n<polygon fill=\"#000000\" stroke=\"#000000\" points=\"1081.7205,-77.9023 1086.1192,-68.2637 1076.6698,-73.0555 1081.7205,-77.9023\"/>\n</g>\n<!-- 17 -->\n<g id=\"node18\" class=\"node\">\n<title>17</title>\n<path fill=\"#f7d6be\" stroke=\"#000000\" d=\"M1513.5,-306C1513.5,-306 1388.5,-306 1388.5,-306 1382.5,-306 1376.5,-300 1376.5,-294 1376.5,-294 1376.5,-235 1376.5,-235 1376.5,-229 1382.5,-223 1388.5,-223 1388.5,-223 1513.5,-223 1513.5,-223 1519.5,-223 1525.5,-229 1525.5,-235 1525.5,-235 1525.5,-294 1525.5,-294 1525.5,-300 1519.5,-306 1513.5,-306\"/>\n<text text-anchor=\"start\" x=\"1403\" y=\"-290.8\" font-family=\"Helvetica,sans-Serif\" font-size=\"14.00\" fill=\"#000000\">balance ≤ 68.0</text>\n<text text-anchor=\"start\" x=\"1413\" y=\"-275.8\" font-family=\"Helvetica,sans-Serif\" font-size=\"14.00\" fill=\"#000000\">gini = 0.481</text>\n<text text-anchor=\"start\" x=\"1399\" y=\"-260.8\" font-family=\"Helvetica,sans-Serif\" font-size=\"14.00\" fill=\"#000000\">samples = 3115</text>\n<text text-anchor=\"start\" x=\"1384.5\" y=\"-245.8\" font-family=\"Helvetica,sans-Serif\" font-size=\"14.00\" fill=\"#000000\">value = [1861, 1254]</text>\n<text text-anchor=\"start\" x=\"1422\" y=\"-230.8\" font-family=\"Helvetica,sans-Serif\" font-size=\"14.00\" fill=\"#000000\">class = 0</text>\n</g>\n<!-- 16&#45;&gt;17 -->\n<g id=\"edge17\" class=\"edge\">\n<title>16&#45;&gt;17</title>\n<path fill=\"none\" stroke=\"#000000\" d=\"M1451,-341.8796C1451,-333.6838 1451,-324.9891 1451,-316.5013\"/>\n<polygon fill=\"#000000\" stroke=\"#000000\" points=\"1454.5001,-316.298 1451,-306.2981 1447.5001,-316.2981 1454.5001,-316.298\"/>\n</g>\n<!-- 24 -->\n<g id=\"node25\" class=\"node\">\n<title>24</title>\n<path fill=\"#e99356\" stroke=\"#000000\" d=\"M1963,-306C1963,-306 1847,-306 1847,-306 1841,-306 1835,-300 1835,-294 1835,-294 1835,-235 1835,-235 1835,-229 1841,-223 1847,-223 1847,-223 1963,-223 1963,-223 1969,-223 1975,-229 1975,-235 1975,-235 1975,-294 1975,-294 1975,-300 1969,-306 1963,-306\"/>\n<text text-anchor=\"start\" x=\"1870.5\" y=\"-290.8\" font-family=\"Helvetica,sans-Serif\" font-size=\"14.00\" fill=\"#000000\">age ≤ 60.5</text>\n<text text-anchor=\"start\" x=\"1867\" y=\"-275.8\" font-family=\"Helvetica,sans-Serif\" font-size=\"14.00\" fill=\"#000000\">gini = 0.221</text>\n<text text-anchor=\"start\" x=\"1853\" y=\"-260.8\" font-family=\"Helvetica,sans-Serif\" font-size=\"14.00\" fill=\"#000000\">samples = 5142</text>\n<text text-anchor=\"start\" x=\"1843\" y=\"-245.8\" font-family=\"Helvetica,sans-Serif\" font-size=\"14.00\" fill=\"#000000\">value = [4491, 651]</text>\n<text text-anchor=\"start\" x=\"1876\" y=\"-230.8\" font-family=\"Helvetica,sans-Serif\" font-size=\"14.00\" fill=\"#000000\">class = 0</text>\n</g>\n<!-- 16&#45;&gt;24 -->\n<g id=\"edge24\" class=\"edge\">\n<title>16&#45;&gt;24</title>\n<path fill=\"none\" stroke=\"#000000\" d=\"M1525.7145,-363.9162C1608.1565,-342.307 1740.3353,-307.661 1824.8789,-285.5009\"/>\n<polygon fill=\"#000000\" stroke=\"#000000\" points=\"1825.9052,-288.8502 1834.691,-282.929 1824.1304,-282.0789 1825.9052,-288.8502\"/>\n</g>\n<!-- 18 -->\n<g id=\"node19\" class=\"node\">\n<title>18</title>\n<path fill=\"#eead7e\" stroke=\"#000000\" d=\"M1424,-187C1424,-187 1324,-187 1324,-187 1318,-187 1312,-181 1312,-175 1312,-175 1312,-116 1312,-116 1312,-110 1318,-104 1324,-104 1324,-104 1424,-104 1424,-104 1430,-104 1436,-110 1436,-116 1436,-116 1436,-175 1436,-175 1436,-181 1430,-187 1424,-187\"/>\n<text text-anchor=\"start\" x=\"1328\" y=\"-171.8\" font-family=\"Helvetica,sans-Serif\" font-size=\"14.00\" fill=\"#000000\">balance ≤ &#45;1.5</text>\n<text text-anchor=\"start\" x=\"1336\" y=\"-156.8\" font-family=\"Helvetica,sans-Serif\" font-size=\"14.00\" fill=\"#000000\">gini = 0.383</text>\n<text text-anchor=\"start\" x=\"1326\" y=\"-141.8\" font-family=\"Helvetica,sans-Serif\" font-size=\"14.00\" fill=\"#000000\">samples = 383</text>\n<text text-anchor=\"start\" x=\"1320\" y=\"-126.8\" font-family=\"Helvetica,sans-Serif\" font-size=\"14.00\" fill=\"#000000\">value = [284, 99]</text>\n<text text-anchor=\"start\" x=\"1345\" y=\"-111.8\" font-family=\"Helvetica,sans-Serif\" font-size=\"14.00\" fill=\"#000000\">class = 0</text>\n</g>\n<!-- 17&#45;&gt;18 -->\n<g id=\"edge18\" class=\"edge\">\n<title>17&#45;&gt;18</title>\n<path fill=\"none\" stroke=\"#000000\" d=\"M1424.0691,-222.8796C1418.4163,-214.1434 1412.3967,-204.8404 1406.5634,-195.8253\"/>\n<polygon fill=\"#000000\" stroke=\"#000000\" points=\"1409.4169,-193.7924 1401.0458,-187.2981 1403.5399,-197.5952 1409.4169,-193.7924\"/>\n</g>\n<!-- 21 -->\n<g id=\"node22\" class=\"node\">\n<title>21</title>\n<path fill=\"#f8ddca\" stroke=\"#000000\" d=\"M1591.5,-187C1591.5,-187 1466.5,-187 1466.5,-187 1460.5,-187 1454.5,-181 1454.5,-175 1454.5,-175 1454.5,-116 1454.5,-116 1454.5,-110 1460.5,-104 1466.5,-104 1466.5,-104 1591.5,-104 1591.5,-104 1597.5,-104 1603.5,-110 1603.5,-116 1603.5,-116 1603.5,-175 1603.5,-175 1603.5,-181 1597.5,-187 1591.5,-187\"/>\n<text text-anchor=\"start\" x=\"1479\" y=\"-171.8\" font-family=\"Helvetica,sans-Serif\" font-size=\"14.00\" fill=\"#000000\">campaign ≤ 4.5</text>\n<text text-anchor=\"start\" x=\"1491\" y=\"-156.8\" font-family=\"Helvetica,sans-Serif\" font-size=\"14.00\" fill=\"#000000\">gini = 0.488</text>\n<text text-anchor=\"start\" x=\"1477\" y=\"-141.8\" font-family=\"Helvetica,sans-Serif\" font-size=\"14.00\" fill=\"#000000\">samples = 2732</text>\n<text text-anchor=\"start\" x=\"1462.5\" y=\"-126.8\" font-family=\"Helvetica,sans-Serif\" font-size=\"14.00\" fill=\"#000000\">value = [1577, 1155]</text>\n<text text-anchor=\"start\" x=\"1500\" y=\"-111.8\" font-family=\"Helvetica,sans-Serif\" font-size=\"14.00\" fill=\"#000000\">class = 0</text>\n</g>\n<!-- 17&#45;&gt;21 -->\n<g id=\"edge21\" class=\"edge\">\n<title>17&#45;&gt;21</title>\n<path fill=\"none\" stroke=\"#000000\" d=\"M1478.2806,-222.8796C1484.0068,-214.1434 1490.1046,-204.8404 1496.0137,-195.8253\"/>\n<polygon fill=\"#000000\" stroke=\"#000000\" points=\"1499.0482,-197.5803 1501.6029,-187.2981 1493.1937,-193.7429 1499.0482,-197.5803\"/>\n</g>\n<!-- 19 -->\n<g id=\"node20\" class=\"node\">\n<title>19</title>\n<path fill=\"#e68742\" stroke=\"#000000\" d=\"M1281.5,-68C1281.5,-68 1198.5,-68 1198.5,-68 1192.5,-68 1186.5,-62 1186.5,-56 1186.5,-56 1186.5,-12 1186.5,-12 1186.5,-6 1192.5,0 1198.5,0 1198.5,0 1281.5,0 1281.5,0 1287.5,0 1293.5,-6 1293.5,-12 1293.5,-12 1293.5,-56 1293.5,-56 1293.5,-62 1287.5,-68 1281.5,-68\"/>\n<text text-anchor=\"start\" x=\"1202\" y=\"-52.8\" font-family=\"Helvetica,sans-Serif\" font-size=\"14.00\" fill=\"#000000\">gini = 0.086</text>\n<text text-anchor=\"start\" x=\"1196\" y=\"-37.8\" font-family=\"Helvetica,sans-Serif\" font-size=\"14.00\" fill=\"#000000\">samples = 67</text>\n<text text-anchor=\"start\" x=\"1194.5\" y=\"-22.8\" font-family=\"Helvetica,sans-Serif\" font-size=\"14.00\" fill=\"#000000\">value = [64, 3]</text>\n<text text-anchor=\"start\" x=\"1211\" y=\"-7.8\" font-family=\"Helvetica,sans-Serif\" font-size=\"14.00\" fill=\"#000000\">class = 0</text>\n</g>\n<!-- 18&#45;&gt;19 -->\n<g id=\"edge19\" class=\"edge\">\n<title>18&#45;&gt;19</title>\n<path fill=\"none\" stroke=\"#000000\" d=\"M1324.1033,-103.9815C1312.6162,-94.4232 1300.4103,-84.2668 1288.9633,-74.7419\"/>\n<polygon fill=\"#000000\" stroke=\"#000000\" points=\"1291.1035,-71.9695 1281.1779,-68.2637 1286.6261,-77.3503 1291.1035,-71.9695\"/>\n</g>\n<!-- 20 -->\n<g id=\"node21\" class=\"node\">\n<title>20</title>\n<path fill=\"#f0b88f\" stroke=\"#000000\" d=\"M1424,-68C1424,-68 1324,-68 1324,-68 1318,-68 1312,-62 1312,-56 1312,-56 1312,-12 1312,-12 1312,-6 1318,0 1324,0 1324,0 1424,0 1424,0 1430,0 1436,-6 1436,-12 1436,-12 1436,-56 1436,-56 1436,-62 1430,-68 1424,-68\"/>\n<text text-anchor=\"start\" x=\"1336\" y=\"-52.8\" font-family=\"Helvetica,sans-Serif\" font-size=\"14.00\" fill=\"#000000\">gini = 0.423</text>\n<text text-anchor=\"start\" x=\"1326\" y=\"-37.8\" font-family=\"Helvetica,sans-Serif\" font-size=\"14.00\" fill=\"#000000\">samples = 316</text>\n<text text-anchor=\"start\" x=\"1320\" y=\"-22.8\" font-family=\"Helvetica,sans-Serif\" font-size=\"14.00\" fill=\"#000000\">value = [220, 96]</text>\n<text text-anchor=\"start\" x=\"1345\" y=\"-7.8\" font-family=\"Helvetica,sans-Serif\" font-size=\"14.00\" fill=\"#000000\">class = 0</text>\n</g>\n<!-- 18&#45;&gt;20 -->\n<g id=\"edge20\" class=\"edge\">\n<title>18&#45;&gt;20</title>\n<path fill=\"none\" stroke=\"#000000\" d=\"M1374,-103.9815C1374,-95.618 1374,-86.7965 1374,-78.3409\"/>\n<polygon fill=\"#000000\" stroke=\"#000000\" points=\"1377.5001,-78.2636 1374,-68.2637 1370.5001,-78.2637 1377.5001,-78.2636\"/>\n</g>\n<!-- 22 -->\n<g id=\"node23\" class=\"node\">\n<title>22</title>\n<path fill=\"#f9e1d0\" stroke=\"#000000\" d=\"M1591.5,-68C1591.5,-68 1466.5,-68 1466.5,-68 1460.5,-68 1454.5,-62 1454.5,-56 1454.5,-56 1454.5,-12 1454.5,-12 1454.5,-6 1460.5,0 1466.5,0 1466.5,0 1591.5,0 1591.5,0 1597.5,0 1603.5,-6 1603.5,-12 1603.5,-12 1603.5,-56 1603.5,-56 1603.5,-62 1597.5,-68 1591.5,-68\"/>\n<text text-anchor=\"start\" x=\"1491\" y=\"-52.8\" font-family=\"Helvetica,sans-Serif\" font-size=\"14.00\" fill=\"#000000\">gini = 0.491</text>\n<text text-anchor=\"start\" x=\"1477\" y=\"-37.8\" font-family=\"Helvetica,sans-Serif\" font-size=\"14.00\" fill=\"#000000\">samples = 2563</text>\n<text text-anchor=\"start\" x=\"1462.5\" y=\"-22.8\" font-family=\"Helvetica,sans-Serif\" font-size=\"14.00\" fill=\"#000000\">value = [1452, 1111]</text>\n<text text-anchor=\"start\" x=\"1500\" y=\"-7.8\" font-family=\"Helvetica,sans-Serif\" font-size=\"14.00\" fill=\"#000000\">class = 0</text>\n</g>\n<!-- 21&#45;&gt;22 -->\n<g id=\"edge22\" class=\"edge\">\n<title>21&#45;&gt;22</title>\n<path fill=\"none\" stroke=\"#000000\" d=\"M1529,-103.9815C1529,-95.618 1529,-86.7965 1529,-78.3409\"/>\n<polygon fill=\"#000000\" stroke=\"#000000\" points=\"1532.5001,-78.2636 1529,-68.2637 1525.5001,-78.2637 1532.5001,-78.2636\"/>\n</g>\n<!-- 23 -->\n<g id=\"node24\" class=\"node\">\n<title>23</title>\n<path fill=\"#eead7f\" stroke=\"#000000\" d=\"M1733,-68C1733,-68 1633,-68 1633,-68 1627,-68 1621,-62 1621,-56 1621,-56 1621,-12 1621,-12 1621,-6 1627,0 1633,0 1633,0 1733,0 1733,0 1739,0 1745,-6 1745,-12 1745,-12 1745,-56 1745,-56 1745,-62 1739,-68 1733,-68\"/>\n<text text-anchor=\"start\" x=\"1645\" y=\"-52.8\" font-family=\"Helvetica,sans-Serif\" font-size=\"14.00\" fill=\"#000000\">gini = 0.385</text>\n<text text-anchor=\"start\" x=\"1635\" y=\"-37.8\" font-family=\"Helvetica,sans-Serif\" font-size=\"14.00\" fill=\"#000000\">samples = 169</text>\n<text text-anchor=\"start\" x=\"1629\" y=\"-22.8\" font-family=\"Helvetica,sans-Serif\" font-size=\"14.00\" fill=\"#000000\">value = [125, 44]</text>\n<text text-anchor=\"start\" x=\"1654\" y=\"-7.8\" font-family=\"Helvetica,sans-Serif\" font-size=\"14.00\" fill=\"#000000\">class = 0</text>\n</g>\n<!-- 21&#45;&gt;23 -->\n<g id=\"edge23\" class=\"edge\">\n<title>21&#45;&gt;23</title>\n<path fill=\"none\" stroke=\"#000000\" d=\"M1586.3439,-103.9815C1599.7994,-94.2394 1614.1131,-83.8759 1627.4867,-74.193\"/>\n<polygon fill=\"#000000\" stroke=\"#000000\" points=\"1629.6289,-76.9632 1635.6762,-68.2637 1625.5237,-71.2933 1629.6289,-76.9632\"/>\n</g>\n<!-- 25 -->\n<g id=\"node26\" class=\"node\">\n<title>25</title>\n<path fill=\"#e99355\" stroke=\"#000000\" d=\"M1966,-187C1966,-187 1844,-187 1844,-187 1838,-187 1832,-181 1832,-175 1832,-175 1832,-116 1832,-116 1832,-110 1838,-104 1844,-104 1844,-104 1966,-104 1966,-104 1972,-104 1978,-110 1978,-116 1978,-116 1978,-175 1978,-175 1978,-181 1972,-187 1966,-187\"/>\n<text text-anchor=\"start\" x=\"1840\" y=\"-171.8\" font-family=\"Helvetica,sans-Serif\" font-size=\"14.00\" fill=\"#000000\">job_blue&#45;collar ≤ 0.5</text>\n<text text-anchor=\"start\" x=\"1867\" y=\"-156.8\" font-family=\"Helvetica,sans-Serif\" font-size=\"14.00\" fill=\"#000000\">gini = 0.217</text>\n<text text-anchor=\"start\" x=\"1853\" y=\"-141.8\" font-family=\"Helvetica,sans-Serif\" font-size=\"14.00\" fill=\"#000000\">samples = 5109</text>\n<text text-anchor=\"start\" x=\"1843\" y=\"-126.8\" font-family=\"Helvetica,sans-Serif\" font-size=\"14.00\" fill=\"#000000\">value = [4478, 631]</text>\n<text text-anchor=\"start\" x=\"1876\" y=\"-111.8\" font-family=\"Helvetica,sans-Serif\" font-size=\"14.00\" fill=\"#000000\">class = 0</text>\n</g>\n<!-- 24&#45;&gt;25 -->\n<g id=\"edge25\" class=\"edge\">\n<title>24&#45;&gt;25</title>\n<path fill=\"none\" stroke=\"#000000\" d=\"M1905,-222.8796C1905,-214.6838 1905,-205.9891 1905,-197.5013\"/>\n<polygon fill=\"#000000\" stroke=\"#000000\" points=\"1908.5001,-197.298 1905,-187.2981 1901.5001,-197.2981 1908.5001,-197.298\"/>\n</g>\n<!-- 28 -->\n<g id=\"node29\" class=\"node\">\n<title>28</title>\n<path fill=\"#baddf6\" stroke=\"#000000\" d=\"M2185,-187C2185,-187 2081,-187 2081,-187 2075,-187 2069,-181 2069,-175 2069,-175 2069,-116 2069,-116 2069,-110 2075,-104 2081,-104 2081,-104 2185,-104 2185,-104 2191,-104 2197,-110 2197,-116 2197,-116 2197,-175 2197,-175 2197,-181 2191,-187 2185,-187\"/>\n<text text-anchor=\"start\" x=\"2077\" y=\"-171.8\" font-family=\"Helvetica,sans-Serif\" font-size=\"14.00\" fill=\"#000000\">balance ≤ 4660.5</text>\n<text text-anchor=\"start\" x=\"2095\" y=\"-156.8\" font-family=\"Helvetica,sans-Serif\" font-size=\"14.00\" fill=\"#000000\">gini = 0.478</text>\n<text text-anchor=\"start\" x=\"2089\" y=\"-141.8\" font-family=\"Helvetica,sans-Serif\" font-size=\"14.00\" fill=\"#000000\">samples = 33</text>\n<text text-anchor=\"start\" x=\"2083\" y=\"-126.8\" font-family=\"Helvetica,sans-Serif\" font-size=\"14.00\" fill=\"#000000\">value = [13, 20]</text>\n<text text-anchor=\"start\" x=\"2104\" y=\"-111.8\" font-family=\"Helvetica,sans-Serif\" font-size=\"14.00\" fill=\"#000000\">class = 1</text>\n</g>\n<!-- 24&#45;&gt;28 -->\n<g id=\"edge28\" class=\"edge\">\n<title>24&#45;&gt;28</title>\n<path fill=\"none\" stroke=\"#000000\" d=\"M1975.2679,-227.8251C2002.0704,-213.8361 2032.6742,-197.863 2059.7474,-183.7327\"/>\n<polygon fill=\"#000000\" stroke=\"#000000\" points=\"2061.5371,-186.7467 2068.7828,-179.0168 2058.2982,-180.5411 2061.5371,-186.7467\"/>\n</g>\n<!-- 26 -->\n<g id=\"node27\" class=\"node\">\n<title>26</title>\n<path fill=\"#e99559\" stroke=\"#000000\" d=\"M1891,-68C1891,-68 1775,-68 1775,-68 1769,-68 1763,-62 1763,-56 1763,-56 1763,-12 1763,-12 1763,-6 1769,0 1775,0 1775,0 1891,0 1891,0 1897,0 1903,-6 1903,-12 1903,-12 1903,-56 1903,-56 1903,-62 1897,-68 1891,-68\"/>\n<text text-anchor=\"start\" x=\"1795\" y=\"-52.8\" font-family=\"Helvetica,sans-Serif\" font-size=\"14.00\" fill=\"#000000\">gini = 0.239</text>\n<text text-anchor=\"start\" x=\"1781\" y=\"-37.8\" font-family=\"Helvetica,sans-Serif\" font-size=\"14.00\" fill=\"#000000\">samples = 3757</text>\n<text text-anchor=\"start\" x=\"1771\" y=\"-22.8\" font-family=\"Helvetica,sans-Serif\" font-size=\"14.00\" fill=\"#000000\">value = [3235, 522]</text>\n<text text-anchor=\"start\" x=\"1804\" y=\"-7.8\" font-family=\"Helvetica,sans-Serif\" font-size=\"14.00\" fill=\"#000000\">class = 0</text>\n</g>\n<!-- 25&#45;&gt;26 -->\n<g id=\"edge26\" class=\"edge\">\n<title>25&#45;&gt;26</title>\n<path fill=\"none\" stroke=\"#000000\" d=\"M1878.1899,-103.9815C1872.4331,-95.0666 1866.3404,-85.6313 1860.5559,-76.6734\"/>\n<polygon fill=\"#000000\" stroke=\"#000000\" points=\"1863.4904,-74.7658 1855.1254,-68.2637 1857.6099,-78.5631 1863.4904,-74.7658\"/>\n</g>\n<!-- 27 -->\n<g id=\"node28\" class=\"node\">\n<title>27</title>\n<path fill=\"#e78c4a\" stroke=\"#000000\" d=\"M2049,-68C2049,-68 1933,-68 1933,-68 1927,-68 1921,-62 1921,-56 1921,-56 1921,-12 1921,-12 1921,-6 1927,0 1933,0 1933,0 2049,0 2049,0 2055,0 2061,-6 2061,-12 2061,-12 2061,-56 2061,-56 2061,-62 2055,-68 2049,-68\"/>\n<text text-anchor=\"start\" x=\"1953\" y=\"-52.8\" font-family=\"Helvetica,sans-Serif\" font-size=\"14.00\" fill=\"#000000\">gini = 0.148</text>\n<text text-anchor=\"start\" x=\"1939\" y=\"-37.8\" font-family=\"Helvetica,sans-Serif\" font-size=\"14.00\" fill=\"#000000\">samples = 1352</text>\n<text text-anchor=\"start\" x=\"1929\" y=\"-22.8\" font-family=\"Helvetica,sans-Serif\" font-size=\"14.00\" fill=\"#000000\">value = [1243, 109]</text>\n<text text-anchor=\"start\" x=\"1962\" y=\"-7.8\" font-family=\"Helvetica,sans-Serif\" font-size=\"14.00\" fill=\"#000000\">class = 0</text>\n</g>\n<!-- 25&#45;&gt;27 -->\n<g id=\"edge27\" class=\"edge\">\n<title>25&#45;&gt;27</title>\n<path fill=\"none\" stroke=\"#000000\" d=\"M1937.0232,-103.9815C1943.9702,-94.9747 1951.3269,-85.4367 1958.2996,-76.3965\"/>\n<polygon fill=\"#000000\" stroke=\"#000000\" points=\"1961.2364,-78.3196 1964.5724,-68.2637 1955.6936,-74.0444 1961.2364,-78.3196\"/>\n</g>\n<!-- 29 -->\n<g id=\"node30\" class=\"node\">\n<title>29</title>\n<path fill=\"#92c9f1\" stroke=\"#000000\" d=\"M2174.5,-68C2174.5,-68 2091.5,-68 2091.5,-68 2085.5,-68 2079.5,-62 2079.5,-56 2079.5,-56 2079.5,-12 2079.5,-12 2079.5,-6 2085.5,0 2091.5,0 2091.5,0 2174.5,0 2174.5,0 2180.5,0 2186.5,-6 2186.5,-12 2186.5,-12 2186.5,-56 2186.5,-56 2186.5,-62 2180.5,-68 2174.5,-68\"/>\n<text text-anchor=\"start\" x=\"2095\" y=\"-52.8\" font-family=\"Helvetica,sans-Serif\" font-size=\"14.00\" fill=\"#000000\">gini = 0.428</text>\n<text text-anchor=\"start\" x=\"2089\" y=\"-37.8\" font-family=\"Helvetica,sans-Serif\" font-size=\"14.00\" fill=\"#000000\">samples = 29</text>\n<text text-anchor=\"start\" x=\"2087.5\" y=\"-22.8\" font-family=\"Helvetica,sans-Serif\" font-size=\"14.00\" fill=\"#000000\">value = [9, 20]</text>\n<text text-anchor=\"start\" x=\"2104\" y=\"-7.8\" font-family=\"Helvetica,sans-Serif\" font-size=\"14.00\" fill=\"#000000\">class = 1</text>\n</g>\n<!-- 28&#45;&gt;29 -->\n<g id=\"edge29\" class=\"edge\">\n<title>28&#45;&gt;29</title>\n<path fill=\"none\" stroke=\"#000000\" d=\"M2133,-103.9815C2133,-95.618 2133,-86.7965 2133,-78.3409\"/>\n<polygon fill=\"#000000\" stroke=\"#000000\" points=\"2136.5001,-78.2636 2133,-68.2637 2129.5001,-78.2637 2136.5001,-78.2636\"/>\n</g>\n<!-- 30 -->\n<g id=\"node31\" class=\"node\">\n<title>30</title>\n<path fill=\"#e58139\" stroke=\"#000000\" d=\"M2291.5,-68C2291.5,-68 2216.5,-68 2216.5,-68 2210.5,-68 2204.5,-62 2204.5,-56 2204.5,-56 2204.5,-12 2204.5,-12 2204.5,-6 2210.5,0 2216.5,0 2216.5,0 2291.5,0 2291.5,0 2297.5,0 2303.5,-6 2303.5,-12 2303.5,-12 2303.5,-56 2303.5,-56 2303.5,-62 2297.5,-68 2291.5,-68\"/>\n<text text-anchor=\"start\" x=\"2224.5\" y=\"-52.8\" font-family=\"Helvetica,sans-Serif\" font-size=\"14.00\" fill=\"#000000\">gini = 0.0</text>\n<text text-anchor=\"start\" x=\"2214.5\" y=\"-37.8\" font-family=\"Helvetica,sans-Serif\" font-size=\"14.00\" fill=\"#000000\">samples = 4</text>\n<text text-anchor=\"start\" x=\"2212.5\" y=\"-22.8\" font-family=\"Helvetica,sans-Serif\" font-size=\"14.00\" fill=\"#000000\">value = [4, 0]</text>\n<text text-anchor=\"start\" x=\"2225\" y=\"-7.8\" font-family=\"Helvetica,sans-Serif\" font-size=\"14.00\" fill=\"#000000\">class = 0</text>\n</g>\n<!-- 28&#45;&gt;30 -->\n<g id=\"edge30\" class=\"edge\">\n<title>28&#45;&gt;30</title>\n<path fill=\"none\" stroke=\"#000000\" d=\"M2178.0559,-103.9815C2188.2291,-94.607 2199.0267,-84.6572 2209.1898,-75.2921\"/>\n<polygon fill=\"#000000\" stroke=\"#000000\" points=\"2211.8349,-77.6141 2216.817,-68.2637 2207.0913,-72.4663 2211.8349,-77.6141\"/>\n</g>\n</g>\n</svg>\n"
          },
          "metadata": {},
          "execution_count": 91
        }
      ]
    },
    {
      "cell_type": "markdown",
      "metadata": {
        "id": "vFwOlQKi7ins"
      },
      "source": [
        "#Vs. Decision Tree for Predictio (Ch 8)"
      ]
    },
    {
      "cell_type": "code",
      "metadata": {
        "colab": {
          "base_uri": "https://localhost:8080/"
        },
        "id": "sGH_HZoR8Lu0",
        "outputId": "d345fff6-37d4-44bc-87e9-5a6c6ae18d0e"
      },
      "source": [
        "from sklearn.model_selection import train_test_split\n",
        "x_train, x_test, y_train, y_test = train_test_split(df[features], df[response_var], test_size = 0.2)\n",
        "\n",
        "from sklearn import tree\n",
        "dt_model = tree.DecisionTreeClassifier(\n",
        "    class_weight = \"balanced\",\n",
        "    max_depth = 4\n",
        ")\n",
        "\n",
        "dt_model.fit(x_train, y_train)"
      ],
      "execution_count": 92,
      "outputs": [
        {
          "output_type": "execute_result",
          "data": {
            "text/plain": [
              "DecisionTreeClassifier(ccp_alpha=0.0, class_weight='balanced', criterion='gini',\n",
              "                       max_depth=4, max_features=None, max_leaf_nodes=None,\n",
              "                       min_impurity_decrease=0.0, min_impurity_split=None,\n",
              "                       min_samples_leaf=1, min_samples_split=2,\n",
              "                       min_weight_fraction_leaf=0.0, presort='deprecated',\n",
              "                       random_state=None, splitter='best')"
            ]
          },
          "metadata": {},
          "execution_count": 92
        }
      ]
    },
    {
      "cell_type": "code",
      "metadata": {
        "colab": {
          "base_uri": "https://localhost:8080/"
        },
        "id": "3HDGTTZQ8kYZ",
        "outputId": "24ba9939-982a-4500-fdea-fce98163a074"
      },
      "source": [
        "from sklearn.metrics import classification_report, accuracy_score, precision_score, recall_score\n",
        "\n",
        "train_preds = dt_model.predict(x_train)\n",
        "test_preds = dt_model.predict(x_test)\n",
        "\n",
        "print(classification_report(y_test, test_preds))"
      ],
      "execution_count": 94,
      "outputs": [
        {
          "output_type": "stream",
          "name": "stdout",
          "text": [
            "              precision    recall  f1-score   support\n",
            "\n",
            "           0       0.92      0.85      0.88      7964\n",
            "           1       0.28      0.44      0.34      1079\n",
            "\n",
            "    accuracy                           0.80      9043\n",
            "   macro avg       0.60      0.64      0.61      9043\n",
            "weighted avg       0.84      0.80      0.82      9043\n",
            "\n"
          ]
        }
      ]
    },
    {
      "cell_type": "code",
      "metadata": {
        "colab": {
          "base_uri": "https://localhost:8080/"
        },
        "id": "QWDexBaH80A9",
        "outputId": "70cd911f-f385-4c41-d0ed-260e9583aeb4"
      },
      "source": [
        "from sklearn.ensemble import RandomForestClassifier\n",
        "rf_model = RandomForestClassifier(\n",
        "    class_weight = \"balanced\",\n",
        "    n_estimators = 200,\n",
        "    max_depth = 5\n",
        ")\n",
        "\n",
        "rf_model.fit(x_train, y_train)"
      ],
      "execution_count": 96,
      "outputs": [
        {
          "output_type": "execute_result",
          "data": {
            "text/plain": [
              "RandomForestClassifier(bootstrap=True, ccp_alpha=0.0, class_weight='balanced',\n",
              "                       criterion='gini', max_depth=5, max_features='auto',\n",
              "                       max_leaf_nodes=None, max_samples=None,\n",
              "                       min_impurity_decrease=0.0, min_impurity_split=None,\n",
              "                       min_samples_leaf=1, min_samples_split=2,\n",
              "                       min_weight_fraction_leaf=0.0, n_estimators=200,\n",
              "                       n_jobs=None, oob_score=False, random_state=None,\n",
              "                       verbose=0, warm_start=False)"
            ]
          },
          "metadata": {},
          "execution_count": 96
        }
      ]
    },
    {
      "cell_type": "code",
      "metadata": {
        "colab": {
          "base_uri": "https://localhost:8080/"
        },
        "id": "YDA3tZLe9Fyr",
        "outputId": "41801dcd-fced-4b38-c482-c0effdfd4e77"
      },
      "source": [
        "from sklearn.metrics import accuracy_score, precision_score, recall_score\n",
        "train_preds = rf_model.predict(x_train)\n",
        "test_preds = rf_model.predict(x_test)\n",
        "\n",
        "print('[Train] Accuracy: %0.4f' % accuracy_score(y_train, train_preds))\n",
        "print('[Test] Accuracy: %0.4f' % accuracy_score(y_test, test_preds))\n",
        "\n",
        "print('[Train] Precision: %0.4f' % precision_score(y_train, train_preds))\n",
        "print('[Test] Precision: %0.4f' % precision_score(y_test, test_preds))\n",
        "\n",
        "print('[Train] Recall: %0.4f' % recall_score(y_train, train_preds))\n",
        "print('[Test] Recall: %0.4f' % recall_score(y_test, test_preds))"
      ],
      "execution_count": 97,
      "outputs": [
        {
          "output_type": "stream",
          "name": "stdout",
          "text": [
            "[Train] Accuracy: 0.7353\n",
            "[Test] Accuracy: 0.7376\n",
            "[Train] Precision: 0.2406\n",
            "[Test] Precision: 0.2463\n",
            "[Train] Recall: 0.5910\n",
            "[Test] Recall: 0.5820\n"
          ]
        }
      ]
    },
    {
      "cell_type": "code",
      "metadata": {
        "id": "-GEcfRqW9XYe"
      },
      "source": [
        ""
      ],
      "execution_count": null,
      "outputs": []
    }
  ]
}