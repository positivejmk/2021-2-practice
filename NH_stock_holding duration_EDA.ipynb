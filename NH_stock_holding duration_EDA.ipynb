{
  "nbformat": 4,
  "nbformat_minor": 0,
  "metadata": {
    "colab": {
      "name": "EDA_team.ipynb",
      "provenance": [],
      "collapsed_sections": [],
      "include_colab_link": true
    },
    "kernelspec": {
      "name": "python3",
      "display_name": "Python 3"
    },
    "language_info": {
      "name": "python"
    }
  },
  "cells": [
    {
      "cell_type": "markdown",
      "metadata": {
        "id": "view-in-github",
        "colab_type": "text"
      },
      "source": [
        "<a href=\"https://colab.research.google.com/github/positivejmk/2021-2-practice/blob/master/NH_stock_holding%20duration_EDA.ipynb\" target=\"_parent\"><img src=\"https://colab.research.google.com/assets/colab-badge.svg\" alt=\"Open In Colab\"/></a>"
      ]
    },
    {
      "cell_type": "code",
      "metadata": {
        "colab": {
          "base_uri": "https://localhost:8080/"
        },
        "id": "_cJ3hVMp-r2g",
        "outputId": "c1bb9403-7314-492e-c561-0b153c88d412"
      },
      "source": [
        "from google.colab import drive\n",
        "drive.mount('/content/drive')"
      ],
      "execution_count": null,
      "outputs": [
        {
          "output_type": "stream",
          "name": "stdout",
          "text": [
            "Drive already mounted at /content/drive; to attempt to forcibly remount, call drive.mount(\"/content/drive\", force_remount=True).\n"
          ]
        }
      ]
    },
    {
      "cell_type": "code",
      "metadata": {
        "id": "3aC-DZ84Qvu4"
      },
      "source": [
        "%matplotlib inline\n",
        "import pandas as pd\n",
        "pd.set_option(\"display.max_row\", 100)\n",
        "pd.set_option(\"display.max_column\", 100)\n",
        "import numpy as np\n",
        "import os\n",
        "import matplotlib as mpl\n",
        "import matplotlib.pyplot as plt\n",
        "import matplotlib.font_manager as fm\n",
        "plt.rcParams['figure.figsize'] = [10, 5]\n",
        "\n",
        "from sklearn.preprocessing import LabelEncoder\n",
        "from sklearn.metrics import mean_squared_error as mse\n",
        "from sklearn.model_selection import train_test_split, StratifiedKFold, KFold\n",
        "from lightgbm import LGBMRegressor"
      ],
      "execution_count": null,
      "outputs": []
    },
    {
      "cell_type": "code",
      "metadata": {
        "id": "9RB2PANLLkKi"
      },
      "source": [
        "#한글 폰트 적용\n",
        "!apt-get update -qq\n",
        "!apt-get install fonts-nanum* -qq"
      ],
      "execution_count": null,
      "outputs": []
    },
    {
      "cell_type": "code",
      "metadata": {
        "colab": {
          "base_uri": "https://localhost:8080/"
        },
        "id": "QxJkDZj9Lqnn",
        "outputId": "15592083-1c65-4a52-bdd1-6d73df90f09e"
      },
      "source": [
        "sys_font = fm.findSystemFonts()\n",
        "print(f\"sys_font number: {len(sys_font)}\")"
      ],
      "execution_count": null,
      "outputs": [
        {
          "output_type": "stream",
          "name": "stdout",
          "text": [
            "sys_font number: 48\n"
          ]
        }
      ]
    },
    {
      "cell_type": "code",
      "metadata": {
        "id": "IjwFQGchLtE_"
      },
      "source": [
        "nanum_font = [f for f in sys_font if 'Nanum' in f]"
      ],
      "execution_count": null,
      "outputs": []
    },
    {
      "cell_type": "code",
      "metadata": {
        "id": "WVmBqahgLyqs"
      },
      "source": [
        "%matplotlib inline\n",
        "import matplotlib as mpl\n",
        "import matplotlib.pyplot as plt\n",
        "import matplotlib.font_manager as fm"
      ],
      "execution_count": null,
      "outputs": []
    },
    {
      "cell_type": "code",
      "metadata": {
        "id": "8hxBK55dL0qh"
      },
      "source": [
        "mpl.rcParams['axes.unicode_minus'] = False"
      ],
      "execution_count": null,
      "outputs": []
    },
    {
      "cell_type": "code",
      "metadata": {
        "id": "9gMpiPTnL1Ex"
      },
      "source": [
        "path = '/usr/share/fonts/truetype/nanum/NanumGothicEco.ttf'"
      ],
      "execution_count": null,
      "outputs": []
    },
    {
      "cell_type": "code",
      "metadata": {
        "colab": {
          "base_uri": "https://localhost:8080/"
        },
        "id": "Fzf9HiUcL4U-",
        "outputId": "9095c3f3-3081-49b4-f3ed-fc1324920dfc"
      },
      "source": [
        "font_name = fm.FontProperties(fname=path, size=10).get_name()\n",
        "print(font_name)"
      ],
      "execution_count": null,
      "outputs": [
        {
          "output_type": "stream",
          "name": "stdout",
          "text": [
            "NanumGothic Eco\n"
          ]
        }
      ]
    },
    {
      "cell_type": "code",
      "metadata": {
        "id": "w6rzovcYL4x_"
      },
      "source": [
        "plt.rc('font', family = font_name)"
      ],
      "execution_count": null,
      "outputs": []
    },
    {
      "cell_type": "code",
      "metadata": {
        "id": "JN_6XtghL6rk"
      },
      "source": [
        "fm._rebuild()"
      ],
      "execution_count": null,
      "outputs": []
    },
    {
      "cell_type": "code",
      "metadata": {
        "id": "izW2vsiDQ4n_"
      },
      "source": [
        "cus = pd.read_csv(\"/content/drive/MyDrive/Colab Notebooks/2021년(제2회) NH투자증권 빅데이터 경진대회/cus_info.csv\")\n",
        "iem = pd.read_csv(\"/content/drive/MyDrive/Colab Notebooks/2021년(제2회) NH투자증권 빅데이터 경진대회/iem_info_20210902.csv\")\n",
        "hist = pd.read_csv(\"/content/drive/MyDrive/Colab Notebooks/2021년(제2회) NH투자증권 빅데이터 경진대회/stk_bnc_hist.csv\")\n",
        "train = pd.read_csv('/content/drive/MyDrive/Colab Notebooks/2021년(제2회) NH투자증권 빅데이터 경진대회/stk_hld_train.csv')"
      ],
      "execution_count": null,
      "outputs": []
    },
    {
      "cell_type": "code",
      "metadata": {
        "id": "kTRX7JQXQ7gV"
      },
      "source": [
        "train_data = pd.merge(train, cus, how = \"left\", on = [\"act_id\"])\n",
        "train_data = pd.merge(train_data, iem, how = \"left\", on = [\"iem_cd\"])"
      ],
      "execution_count": null,
      "outputs": []
    },
    {
      "cell_type": "code",
      "metadata": {
        "colab": {
          "base_uri": "https://localhost:8080/",
          "height": 162
        },
        "id": "aLFQ77s9RD9v",
        "outputId": "afa0e1c6-3c8d-440b-9c55-6c3a692d21a0"
      },
      "source": [
        "train_data.head(3)"
      ],
      "execution_count": null,
      "outputs": [
        {
          "output_type": "execute_result",
          "data": {
            "text/html": [
              "<div>\n",
              "<style scoped>\n",
              "    .dataframe tbody tr th:only-of-type {\n",
              "        vertical-align: middle;\n",
              "    }\n",
              "\n",
              "    .dataframe tbody tr th {\n",
              "        vertical-align: top;\n",
              "    }\n",
              "\n",
              "    .dataframe thead th {\n",
              "        text-align: right;\n",
              "    }\n",
              "</style>\n",
              "<table border=\"1\" class=\"dataframe\">\n",
              "  <thead>\n",
              "    <tr style=\"text-align: right;\">\n",
              "      <th></th>\n",
              "      <th>act_id</th>\n",
              "      <th>iem_cd</th>\n",
              "      <th>byn_dt</th>\n",
              "      <th>hold_d</th>\n",
              "      <th>sex_dit_cd</th>\n",
              "      <th>cus_age_stn_cd</th>\n",
              "      <th>ivs_icn_cd</th>\n",
              "      <th>cus_aet_stn_cd</th>\n",
              "      <th>mrz_pdt_tp_sgm_cd</th>\n",
              "      <th>lsg_sgm_cd</th>\n",
              "      <th>tco_cus_grd_cd</th>\n",
              "      <th>tot_ivs_te_sgm_cd</th>\n",
              "      <th>mrz_btp_dit_cd</th>\n",
              "      <th>iem_krl_nm</th>\n",
              "      <th>btp_cfc_cd</th>\n",
              "      <th>mkt_pr_tal_scl_tp_cd</th>\n",
              "      <th>stk_dit_cd</th>\n",
              "    </tr>\n",
              "  </thead>\n",
              "  <tbody>\n",
              "    <tr>\n",
              "      <th>0</th>\n",
              "      <td>0ad104dbed99be0cd858aa772765ddedade554601a981b...</td>\n",
              "      <td>A006360</td>\n",
              "      <td>20180726</td>\n",
              "      <td>11</td>\n",
              "      <td>1</td>\n",
              "      <td>9</td>\n",
              "      <td>3</td>\n",
              "      <td>2</td>\n",
              "      <td>2</td>\n",
              "      <td>9</td>\n",
              "      <td>5</td>\n",
              "      <td>5</td>\n",
              "      <td>8</td>\n",
              "      <td>GS건설</td>\n",
              "      <td>1</td>\n",
              "      <td>1</td>\n",
              "      <td>1</td>\n",
              "    </tr>\n",
              "    <tr>\n",
              "      <th>1</th>\n",
              "      <td>0ad104dbed99be0cd858aa772765ddedade554601a981b...</td>\n",
              "      <td>A005930</td>\n",
              "      <td>20180131</td>\n",
              "      <td>80</td>\n",
              "      <td>1</td>\n",
              "      <td>9</td>\n",
              "      <td>3</td>\n",
              "      <td>2</td>\n",
              "      <td>2</td>\n",
              "      <td>9</td>\n",
              "      <td>5</td>\n",
              "      <td>5</td>\n",
              "      <td>8</td>\n",
              "      <td>삼성전자</td>\n",
              "      <td>9</td>\n",
              "      <td>1</td>\n",
              "      <td>1</td>\n",
              "    </tr>\n",
              "    <tr>\n",
              "      <th>2</th>\n",
              "      <td>0ad104dbed99be0cd858aa772765ddedade554601a981b...</td>\n",
              "      <td>A005070</td>\n",
              "      <td>20180517</td>\n",
              "      <td>5</td>\n",
              "      <td>1</td>\n",
              "      <td>9</td>\n",
              "      <td>3</td>\n",
              "      <td>2</td>\n",
              "      <td>2</td>\n",
              "      <td>9</td>\n",
              "      <td>5</td>\n",
              "      <td>5</td>\n",
              "      <td>8</td>\n",
              "      <td>코스모신소재</td>\n",
              "      <td>12</td>\n",
              "      <td>2</td>\n",
              "      <td>99</td>\n",
              "    </tr>\n",
              "  </tbody>\n",
              "</table>\n",
              "</div>"
            ],
            "text/plain": [
              "                                              act_id   iem_cd    byn_dt  \\\n",
              "0  0ad104dbed99be0cd858aa772765ddedade554601a981b...  A006360  20180726   \n",
              "1  0ad104dbed99be0cd858aa772765ddedade554601a981b...  A005930  20180131   \n",
              "2  0ad104dbed99be0cd858aa772765ddedade554601a981b...  A005070  20180517   \n",
              "\n",
              "   hold_d  sex_dit_cd  cus_age_stn_cd  ivs_icn_cd  cus_aet_stn_cd  \\\n",
              "0      11           1               9           3               2   \n",
              "1      80           1               9           3               2   \n",
              "2       5           1               9           3               2   \n",
              "\n",
              "   mrz_pdt_tp_sgm_cd  lsg_sgm_cd  tco_cus_grd_cd  tot_ivs_te_sgm_cd  \\\n",
              "0                  2           9               5                  5   \n",
              "1                  2           9               5                  5   \n",
              "2                  2           9               5                  5   \n",
              "\n",
              "   mrz_btp_dit_cd iem_krl_nm  btp_cfc_cd  mkt_pr_tal_scl_tp_cd  stk_dit_cd  \n",
              "0               8       GS건설           1                     1           1  \n",
              "1               8       삼성전자           9                     1           1  \n",
              "2               8     코스모신소재          12                     2          99  "
            ]
          },
          "metadata": {},
          "execution_count": 14
        }
      ]
    },
    {
      "cell_type": "code",
      "metadata": {
        "id": "Uv84tMxgRHRT"
      },
      "source": [
        "df = train_data"
      ],
      "execution_count": null,
      "outputs": []
    },
    {
      "cell_type": "code",
      "metadata": {
        "colab": {
          "base_uri": "https://localhost:8080/"
        },
        "id": "WNSFNZbYckZu",
        "outputId": "fca2423f-d042-48c0-ce21-652e4fbc9917"
      },
      "source": [
        "multiple1 = df.groupby(['sex_dit_cd','cus_age_stn_cd'])['hold_d'].mean()\n",
        "#multiple1['M':'F']\n",
        "multiple1\n",
        "#2-5 (40-45세미만 여성이 보유기간 약 25로 가장 높았으며, 60-65세미만 남성과 20-25세미만 남성이 약 13일 정도로 가장 낮았다. )"
      ],
      "execution_count": null,
      "outputs": [
        {
          "output_type": "execute_result",
          "data": {
            "text/plain": [
              "sex_dit_cd  cus_age_stn_cd\n",
              "1           1                 13.880440\n",
              "            2                 14.915067\n",
              "            3                 18.601468\n",
              "            4                 18.879307\n",
              "            5                 22.595936\n",
              "            6                 22.671031\n",
              "            7                 15.904799\n",
              "            8                 17.522163\n",
              "            9                 13.003823\n",
              "2           1                 18.425155\n",
              "            2                 21.509849\n",
              "            3                 24.971715\n",
              "            4                 23.266956\n",
              "            5                 24.072159\n",
              "            6                 20.412800\n",
              "            7                 18.198908\n",
              "            8                 18.962125\n",
              "            9                 20.469325\n",
              "Name: hold_d, dtype: float64"
            ]
          },
          "metadata": {},
          "execution_count": 16
        }
      ]
    },
    {
      "cell_type": "code",
      "metadata": {
        "id": "n0HEQ9PVESr-"
      },
      "source": [
        "#고객 및 주거래계좌 정보와 보유기간 "
      ],
      "execution_count": null,
      "outputs": []
    },
    {
      "cell_type": "code",
      "metadata": {
        "id": "wauH5IPTRuNA"
      },
      "source": [
        "#성별\n",
        "grouped1 = df['hold_d'].groupby(df['sex_dit_cd'])"
      ],
      "execution_count": null,
      "outputs": []
    },
    {
      "cell_type": "code",
      "metadata": {
        "colab": {
          "base_uri": "https://localhost:8080/"
        },
        "id": "eD09SAPfUNFr",
        "outputId": "8710939c-638f-4008-cc93-7db22fa39522"
      },
      "source": [
        "g1 = grouped1.mean()\n",
        "g1\n",
        "# 1 남성 2 여성\n",
        "#여성이 남성보다 보유기간이 길었다."
      ],
      "execution_count": null,
      "outputs": [
        {
          "output_type": "execute_result",
          "data": {
            "text/plain": [
              "sex_dit_cd\n",
              "1    18.677614\n",
              "2    21.354381\n",
              "Name: hold_d, dtype: float64"
            ]
          },
          "metadata": {},
          "execution_count": 19
        }
      ]
    },
    {
      "cell_type": "code",
      "metadata": {
        "colab": {
          "base_uri": "https://localhost:8080/",
          "height": 295
        },
        "id": "sz_Gmv1qaljY",
        "outputId": "9eaf86fb-20f7-45ad-c743-0a741c983b55"
      },
      "source": [
        "plt.bar(['남','여'],g1)\n",
        "plt.title('성별에 따른 주식 보유기간 평균', fontsize=13)\n",
        "plt.xlabel('성별', fontsize=12)\n",
        "plt.ylabel('주식보유기간', fontsize=12)\n",
        "plt.show()"
      ],
      "execution_count": null,
      "outputs": [
        {
          "output_type": "display_data",
          "data": {
            "image/png": "[encoded data removed]",
            "text/plain": [
              "<Figure size 432x288 with 1 Axes>"
            ]
          },
          "metadata": {
            "needs_background": "light"
          }
        }
      ]
    },
    {
      "cell_type": "code",
      "metadata": {
        "id": "-arHxP_lUYqx"
      },
      "source": [
        "#연령구간\n",
        "grouped2 = df['hold_d'].groupby(df['cus_age_stn_cd'])"
      ],
      "execution_count": null,
      "outputs": []
    },
    {
      "cell_type": "code",
      "metadata": {
        "colab": {
          "base_uri": "https://localhost:8080/"
        },
        "id": "SEL9TQXRUzBy",
        "outputId": "bc7c8f18-ab7d-44e3-dcf4-120e839fe213"
      },
      "source": [
        "g2 = grouped2.mean()\n",
        "g2\n",
        "# 01: 20세~25세미만\n",
        "# 02: 25세~30세미만\n",
        "# 03: 30세~35세미만\n",
        "# 04: 35세~40세미만\n",
        "# 05: 40세~45세미만\n",
        "# 06: 45세~50세미만\n",
        "# 07: 50세~55세미만\n",
        "# 08: 55세~60세미만\n",
        "# 09: 60세~65세미만\n",
        "\n",
        "# 40세~45세 미만 연령 구간이 가장 길게 보유했으며, 60세~65세 미만 연령 구간이 가장 짧게 보유했다."
      ],
      "execution_count": null,
      "outputs": [
        {
          "output_type": "execute_result",
          "data": {
            "text/plain": [
              "cus_age_stn_cd\n",
              "1    15.285900\n",
              "2    17.148652\n",
              "3    20.588914\n",
              "4    20.279309\n",
              "5    23.083953\n",
              "6    21.952967\n",
              "7    16.902997\n",
              "8    18.099228\n",
              "9    14.993685\n",
              "Name: hold_d, dtype: float64"
            ]
          },
          "metadata": {},
          "execution_count": 22
        }
      ]
    },
    {
      "cell_type": "code",
      "metadata": {
        "colab": {
          "base_uri": "https://localhost:8080/",
          "height": 326
        },
        "id": "ESvjiMSRaTmA",
        "outputId": "7fdefa62-50d3-46fc-c1ba-9f18007855ec"
      },
      "source": [
        "plt.bar(['20-25미만','25-30','30-35','35-40','40-45','45-50','50-55','55-60','60-65'],g2)\n",
        "plt.title('연령대별 주식 보유기간 평균', fontsize=13)\n",
        "plt.xlabel('연령대', fontsize=12)\n",
        "plt.ylabel('주식보유기간', fontsize=12)\n",
        "plt.xticks(rotation=45)\n",
        "plt.show()"
      ],
      "execution_count": null,
      "outputs": [
        {
          "output_type": "display_data",
          "data": {
            "image/png": "[encoded data removed]",
            "text/plain": [
              "<Figure size 432x288 with 1 Axes>"
            ]
          },
          "metadata": {
            "needs_background": "light"
          }
        }
      ]
    },
    {
      "cell_type": "code",
      "metadata": {
        "id": "fRKlEhmLU198"
      },
      "source": [
        "#투자성향\n",
        "grouped3 = df['hold_d'].groupby(df['ivs_icn_cd'])"
      ],
      "execution_count": null,
      "outputs": []
    },
    {
      "cell_type": "code",
      "metadata": {
        "colab": {
          "base_uri": "https://localhost:8080/"
        },
        "id": "WBUh2xRCVJxi",
        "outputId": "2975b81b-55c4-4f64-bd29-046c99227a1f"
      },
      "source": [
        "g3 = grouped3.mean()\n",
        "g3\n",
        "# 01: 안정형\n",
        "# 02: 안정추구형\n",
        "# 03: 위험중립형\n",
        "# 04: 적극투자형\n",
        "# 05: 공격투자형\n",
        "# 09: 전문투자가형\n",
        "# 00: 정보제공미동의\n",
        "# 99: 미정의\n",
        "\n",
        "#0-정보제공미동의/99-미동의 제외\n",
        "#전문투자가형이 가장 오래 보유했으며, 안정형이 가장 짧게 보유했다."
      ],
      "execution_count": null,
      "outputs": [
        {
          "output_type": "execute_result",
          "data": {
            "text/plain": [
              "ivs_icn_cd\n",
              "0     22.516752\n",
              "1     12.944112\n",
              "2     16.454892\n",
              "3     17.103244\n",
              "4     19.741460\n",
              "5     22.818877\n",
              "9     29.513699\n",
              "99    22.361541\n",
              "Name: hold_d, dtype: float64"
            ]
          },
          "metadata": {},
          "execution_count": 25
        }
      ]
    },
    {
      "cell_type": "code",
      "metadata": {
        "colab": {
          "base_uri": "https://localhost:8080/",
          "height": 320
        },
        "id": "Vw34yibAZxV0",
        "outputId": "fe7850e4-dd43-4032-cdce-e9634e467086"
      },
      "source": [
        "plt.bar(['안정','안정추구','위험중립','적극투자','공격투자','전문투자'],g3[1:-1])\n",
        "plt.title('투자성형별 주식 보유기간 평균', fontsize=13)\n",
        "plt.xlabel('투자성향', fontsize=12)\n",
        "plt.ylabel('주식보유기간', fontsize=12)\n",
        "plt.xticks(rotation=45)\n",
        "plt.show()"
      ],
      "execution_count": null,
      "outputs": [
        {
          "output_type": "display_data",
          "data": {
            "image/png": "[encoded data removed]",
            "text/plain": [
              "<Figure size 432x288 with 1 Axes>"
            ]
          },
          "metadata": {
            "needs_background": "light"
          }
        }
      ]
    },
    {
      "cell_type": "code",
      "metadata": {
        "id": "NvN_RuXXVMxZ"
      },
      "source": [
        "#고객자산구간\n",
        "grouped4 = df['hold_d'].groupby(df['cus_aet_stn_cd'])"
      ],
      "execution_count": null,
      "outputs": []
    },
    {
      "cell_type": "code",
      "metadata": {
        "colab": {
          "base_uri": "https://localhost:8080/"
        },
        "id": "t9JasNanVdjh",
        "outputId": "5e5ee1bc-f284-469e-ff2b-e7e0160127ca"
      },
      "source": [
        "g4 = grouped4.mean()\n",
        "g4\n",
        "# 01: 0원이상-1천만원미만\n",
        "# 02: 1천만원이상-3천만원미만\n",
        "# 03: 3천만원이상-5천만원미만\n",
        "# 04: 5천만원이상-1억원미만\n",
        "# 05: 1억원이상-3억원미만\n",
        "# 06: 3억원이상\n",
        "\n",
        "#고객 총자산 구간이 높을수록 보유기간이 길었다."
      ],
      "execution_count": null,
      "outputs": [
        {
          "output_type": "execute_result",
          "data": {
            "text/plain": [
              "cus_aet_stn_cd\n",
              "1    16.443982\n",
              "2    18.715247\n",
              "3    17.975862\n",
              "4    19.885230\n",
              "5    25.948949\n",
              "6    25.704958\n",
              "Name: hold_d, dtype: float64"
            ]
          },
          "metadata": {},
          "execution_count": 28
        }
      ]
    },
    {
      "cell_type": "code",
      "metadata": {
        "colab": {
          "base_uri": "https://localhost:8080/",
          "height": 344
        },
        "id": "Tgc2GexHZLA0",
        "outputId": "0ac66d7e-694f-4ffe-ba3f-daed83054a4d"
      },
      "source": [
        "plt.bar(['0-1천만원미만','1천만원-3천만원','3천만원-5천만원','5천만원-1억','1억-3억','3억이상'],g4)\n",
        "plt.title('고객총자산 구간별 주식 보유기간 평균', fontsize=13)\n",
        "plt.xlabel('고객총자산 구간', fontsize=12)\n",
        "plt.ylabel('주식보유기간', fontsize=12)\n",
        "plt.xticks(rotation=45)\n",
        "plt.show()"
      ],
      "execution_count": null,
      "outputs": [
        {
          "output_type": "display_data",
          "data": {
            "image/png": "[encoded data removed]",
            "text/plain": [
              "<Figure size 432x288 with 1 Axes>"
            ]
          },
          "metadata": {
            "needs_background": "light"
          }
        }
      ]
    },
    {
      "cell_type": "code",
      "metadata": {
        "id": "szxcZzeMVfdK"
      },
      "source": [
        "#주거래 상품군\n",
        "grouped5 = df['hold_d'].groupby(df['mrz_pdt_tp_sgm_cd'])"
      ],
      "execution_count": null,
      "outputs": []
    },
    {
      "cell_type": "code",
      "metadata": {
        "colab": {
          "base_uri": "https://localhost:8080/"
        },
        "id": "PF_zzVMleDMx",
        "outputId": "b5001379-0a9d-4c6b-f902-788782ca1b1c"
      },
      "source": [
        "df['mrz_pdt_tp_sgm_cd'].unique()"
      ],
      "execution_count": null,
      "outputs": [
        {
          "output_type": "execute_result",
          "data": {
            "text/plain": [
              "array([ 2,  8, 15, 11,  3,  6, 12,  1,  9, 10,  5])"
            ]
          },
          "metadata": {},
          "execution_count": 32
        }
      ]
    },
    {
      "cell_type": "code",
      "metadata": {
        "colab": {
          "base_uri": "https://localhost:8080/"
        },
        "id": "0-Ft7-VpVvW2",
        "outputId": "29c32fc4-4016-4348-d0f1-ba00beba15c3"
      },
      "source": [
        "g5 = grouped5.mean()\n",
        "g5\n",
        "# 01: Only CMA\n",
        "# 02: 국내주식\n",
        "# 03: 해외주식\n",
        "# 04: 선물옵션\n",
        "# 05: 금속\n",
        "# 06: 국내채권\n",
        "# 07: 해외채권\n",
        "# 08: 펀드\n",
        "# 09: ELS/DLS\n",
        "# 10: 신탁_퇴직연금\n",
        "# 11: RP\n",
        "# 12: 발행어음\n",
        "# 14: WRAP\n",
        "# 15: 신용대출\n",
        "# 99: 미정의\n",
        "\n",
        "#4 : 선물옵션, 7 : 해외채권, 14 : WRAP, 99 : 미정의 는 관측된 결과가 아예 없음.\n",
        "#국내채권이 독보적으로 거래기간이 길었으며, 신용대출과 CMA가 독보적으로 거래기간이 짧았다."
      ],
      "execution_count": null,
      "outputs": [
        {
          "output_type": "execute_result",
          "data": {
            "text/plain": [
              "mrz_pdt_tp_sgm_cd\n",
              "1      6.951282\n",
              "2     19.608072\n",
              "3     21.946749\n",
              "5     26.215909\n",
              "6     90.538462\n",
              "8     40.977528\n",
              "9     16.164021\n",
              "10    34.745946\n",
              "11    41.869565\n",
              "12    64.538462\n",
              "15     5.734026\n",
              "Name: hold_d, dtype: float64"
            ]
          },
          "metadata": {},
          "execution_count": 33
        }
      ]
    },
    {
      "cell_type": "code",
      "metadata": {
        "colab": {
          "base_uri": "https://localhost:8080/",
          "height": 337
        },
        "id": "CsIFg5akXSSQ",
        "outputId": "645aa114-2aab-43a8-bb44-ed778523e3e3"
      },
      "source": [
        "plt.bar(['cma만','국내주식','해외주식','금속','국내채권','펀드','ELS/DLS','신탁_퇴직연금','RP','발행어음','신용대출'], \n",
        "       g5)\n",
        "plt.title('주거래 상품군별 주식 보유기간 평균', fontsize=13)\n",
        "plt.xlabel('상품군', fontsize=12)\n",
        "plt.ylabel('주식보유기간', fontsize=12)\n",
        "plt.xticks(rotation=45)\n",
        "plt.show()"
      ],
      "execution_count": null,
      "outputs": [
        {
          "output_type": "display_data",
          "data": {
            "image/png": "[encoded data removed]",
            "text/plain": [
              "<Figure size 432x288 with 1 Axes>"
            ]
          },
          "metadata": {
            "needs_background": "light"
          }
        }
      ]
    },
    {
      "cell_type": "code",
      "metadata": {
        "id": "WT7A1TRpVymg"
      },
      "source": [
        "#Life stage\n",
        "grouped6 = df['hold_d'].groupby(df['lsg_sgm_cd'])"
      ],
      "execution_count": null,
      "outputs": []
    },
    {
      "cell_type": "code",
      "metadata": {
        "colab": {
          "base_uri": "https://localhost:8080/"
        },
        "id": "WDjifD0lXDF6",
        "outputId": "55b8dacb-e488-4881-e297-eb3ee32757b5"
      },
      "source": [
        "g6 = grouped6.mean()\n",
        "g6\n",
        "# 02: 사회초년생 (20-29세)\n",
        "# 03: 가족형성기_남자 (30-39세 & 남자)\n",
        "# 04: 가족형성기_여자 (30-39세 & 여자)\n",
        "# 05: 가족성숙기_직장인 (40-59세 & 직장인 & 남자)\n",
        "# 06: 가족성숙기_주부 (40-59세 & 주부 & 여자 )\n",
        "# 07: 가족성숙기_남자 (40-59세 & 기타 & 남자 )\n",
        "# 08: 가족성숙기_여자 (40-59세 & 기타 & 여자)\n",
        "# 09: 은퇴기 (60-69세)\n",
        "\n",
        "#가족형성기_여자의 클래스가 가장 보유 기간이 길었으며, 사회초년생이 보유 기간이 가장 짧음."
      ],
      "execution_count": null,
      "outputs": [
        {
          "output_type": "execute_result",
          "data": {
            "text/plain": [
              "lsg_sgm_cd\n",
              "2    16.782481\n",
              "3    18.757898\n",
              "4    24.000614\n",
              "5    20.917437\n",
              "6    19.536418\n",
              "7    19.848741\n",
              "8    18.276048\n",
              "9    14.987741\n",
              "Name: hold_d, dtype: float64"
            ]
          },
          "metadata": {},
          "execution_count": 36
        }
      ]
    },
    {
      "cell_type": "code",
      "metadata": {
        "colab": {
          "base_uri": "https://localhost:8080/",
          "height": 416
        },
        "id": "DMPAK5IYWf0g",
        "outputId": "cfc7c4fc-c537-4673-c27c-c6f1c058197b"
      },
      "source": [
        "plt.bar(['사회초년생:20-29','가족형성기:30-39남자','가족형성기:30-39여자','가족성숙기_직장인:40-59남자','가족성숙기_주부:40-59여자',\n",
        "         '가족성숙기_기타:40-59남자','가족성숙기_기타:40-59여자','은퇴기:60-69'], g6)\n",
        "plt.title('생이주기별 주식 보유기간 평균', fontsize=13)\n",
        "plt.xlabel('라이프스테이지', fontsize=12)\n",
        "plt.ylabel('주식보유기간', fontsize=12)\n",
        "plt.xticks(rotation=90)\n",
        "plt.show()"
      ],
      "execution_count": null,
      "outputs": [
        {
          "output_type": "display_data",
          "data": {
            "image/png": "[encoded data removed]",
            "text/plain": [
              "<Figure size 432x288 with 1 Axes>"
            ]
          },
          "metadata": {
            "needs_background": "light"
          }
        }
      ]
    },
    {
      "cell_type": "code",
      "metadata": {
        "id": "YeFvjTPWGNA8"
      },
      "source": [
        "#고객등급\n",
        "grouped7 = df['hold_d'].groupby(df['tco_cus_grd_cd'])"
      ],
      "execution_count": null,
      "outputs": []
    },
    {
      "cell_type": "code",
      "metadata": {
        "colab": {
          "base_uri": "https://localhost:8080/"
        },
        "id": "kHjvocS4GNzA",
        "outputId": "545fa126-f090-4c45-f7f4-2676e8f7b581"
      },
      "source": [
        "g7 = grouped7.mean()\n",
        "g7\n",
        "\n",
        "# 자산 및 수익 기준 고객의 등급을 부여\n",
        "# 01: 탑클래스 (자산1)10억이상 or 수익기여도2) 5백만원 이상)\n",
        "# 02: 골드 (자산3억이상 or 수익기여도 3백만원 이상)\n",
        "# 03: 로얄 (자산1억이상 or 수익기여도 1백만원 이상)\n",
        "# 04: 그린 (자산3천이상 or 수익기여도 5십만원 이상)\n",
        "# 05: 블루 (자산1천이상 or 수익기여도 1십만원 이상)\n",
        "# 09: 등급 미정의\n",
        "# 99: 미정의 (결측치)\n",
        "\n",
        "#\"고객자산구간\"과 달리 수익정보가 포함되어 있음. \n",
        "#결측치와 미정의를 제외하고 골드 클래스가 가장 보유기간이 길었고, 블루 클래스가 가장 짧았다.\n"
      ],
      "execution_count": null,
      "outputs": [
        {
          "output_type": "execute_result",
          "data": {
            "text/plain": [
              "tco_cus_grd_cd\n",
              "1     21.298104\n",
              "2     25.237621\n",
              "3     22.141544\n",
              "4     19.228788\n",
              "5     17.702088\n",
              "9     18.814454\n",
              "99     6.010101\n",
              "Name: hold_d, dtype: float64"
            ]
          },
          "metadata": {},
          "execution_count": 39
        }
      ]
    },
    {
      "cell_type": "code",
      "metadata": {
        "colab": {
          "base_uri": "https://localhost:8080/",
          "height": 296
        },
        "id": "9PXbefKCWMy7",
        "outputId": "d60e005b-72be-4f1c-c4a1-c0176b82c060"
      },
      "source": [
        "plt.bar(['탑클래스','골드','로얄','그린','블루'], g7[:-2])\n",
        "plt.title('등급별 주식 보유기간 평균', fontsize=13)\n",
        "plt.xlabel('고객등급', fontsize=12)\n",
        "plt.ylabel('주식보유기간', fontsize=12)\n",
        "#plt.xticks(rotation=45)\n",
        "plt.show()"
      ],
      "execution_count": null,
      "outputs": [
        {
          "output_type": "display_data",
          "data": {
            "image/png": "[encoded data removed]",
            "text/plain": [
              "<Figure size 432x288 with 1 Axes>"
            ]
          },
          "metadata": {
            "needs_background": "light"
          }
        }
      ]
    },
    {
      "cell_type": "code",
      "metadata": {
        "id": "F20lQTvzGzTc"
      },
      "source": [
        "#총투자기간\n",
        "grouped8 = df['hold_d'].groupby(df['tot_ivs_te_sgm_cd'])"
      ],
      "execution_count": null,
      "outputs": []
    },
    {
      "cell_type": "code",
      "metadata": {
        "colab": {
          "base_uri": "https://localhost:8080/"
        },
        "id": "VAVjtrYRGzMc",
        "outputId": "d743ca58-55b9-496f-d3dc-8cd83cd4022c"
      },
      "source": [
        "g8 = grouped8.mean()\n",
        "g8\n",
        "# 계좌를 개설한 이래 고객이 100만원 이상 보유한 개월 수 \n",
        "# 01: 6개월 미만\n",
        "# 02: 6개월-1년 미만\n",
        "# 03: 1년-3년 미만\n",
        "# 04: 3년-5년 미만\n",
        "# 05: 5년-10년 미만\n",
        "# 06: 10년 이상\n",
        "\n",
        "#3-5년일때 가장 보유기간이 길었고, 1년 미만이 가장 짧았다."
      ],
      "execution_count": null,
      "outputs": [
        {
          "output_type": "execute_result",
          "data": {
            "text/plain": [
              "tot_ivs_te_sgm_cd\n",
              "1    12.310893\n",
              "2    12.556034\n",
              "3    20.111816\n",
              "4    26.488120\n",
              "5    23.119426\n",
              "6    21.441604\n",
              "Name: hold_d, dtype: float64"
            ]
          },
          "metadata": {},
          "execution_count": 42
        }
      ]
    },
    {
      "cell_type": "code",
      "metadata": {
        "colab": {
          "base_uri": "https://localhost:8080/",
          "height": 338
        },
        "id": "V_36YdzUVpEn",
        "outputId": "34390171-49d0-43b8-926e-7f5102068d58"
      },
      "source": [
        "plt.bar(['6개월미만','6개월-1년미만','1년-3년미만','3년-5년미만','5년-10년미만','10년이상'], g8)\n",
        "plt.title('보유개월수별 주식 보유기간 평균', fontsize=13)\n",
        "plt.xlabel('보유개월', fontsize=12)\n",
        "plt.ylabel('주식보유기간', fontsize=12)\n",
        "plt.xticks(rotation=45)\n",
        "plt.show()"
      ],
      "execution_count": null,
      "outputs": [
        {
          "output_type": "display_data",
          "data": {
            "image/png": "[encoded data removed]",
            "text/plain": [
              "<Figure size 432x288 with 1 Axes>"
            ]
          },
          "metadata": {
            "needs_background": "light"
          }
        }
      ]
    },
    {
      "cell_type": "code",
      "metadata": {
        "id": "x52l03S6XEpG"
      },
      "source": [
        "grouped9 = df['hold_d'].groupby(df['mrz_btp_dit_cd'])"
      ],
      "execution_count": null,
      "outputs": []
    },
    {
      "cell_type": "code",
      "metadata": {
        "id": "XEiqdh57XaI2",
        "colab": {
          "base_uri": "https://localhost:8080/"
        },
        "outputId": "5754a38c-70a7-4bc4-f9e0-226bd0991f85"
      },
      "source": [
        "g9 = grouped9.mean()\n",
        "g9\n",
        "# 해당월 거래 금액이 가장 큰 업종 구분 \n",
        "# 01: 건설업\n",
        "# 02: 금융업\n",
        "# 03: 기계\n",
        "# 04: 방송/통신\n",
        "# 05: 서비스/오락/문화\n",
        "# 06: 운송/운수\n",
        "# 07: 유통\n",
        "# 08: 의료/의약\n",
        "# 09: 전기/전자\n",
        "# 10: 제조\n",
        "# 11: 철강\n",
        "# 12: 화학\n",
        "# 13: IT\n",
        "# 14: 기타\n",
        "# 15: 혼합\n",
        "# 16: 비매매\n",
        "# 제조업이 가장 보유 기간이 짧았으며, 비매매를 제외하고 철강산업이 가장 보유기간이 길었다.\n",
        "\n"
      ],
      "execution_count": null,
      "outputs": [
        {
          "output_type": "execute_result",
          "data": {
            "text/plain": [
              "mrz_btp_dit_cd\n",
              "1     24.758744\n",
              "2     22.087984\n",
              "3     20.663376\n",
              "4     19.087474\n",
              "5     20.685079\n",
              "6     20.333439\n",
              "7     21.868174\n",
              "8     19.437650\n",
              "9     23.432756\n",
              "10    14.818892\n",
              "11    25.680756\n",
              "12    20.994593\n",
              "13    20.362778\n",
              "14    23.239887\n",
              "15    18.620184\n",
              "16    38.934054\n",
              "Name: hold_d, dtype: float64"
            ]
          },
          "metadata": {},
          "execution_count": 45
        }
      ]
    },
    {
      "cell_type": "code",
      "metadata": {
        "colab": {
          "base_uri": "https://localhost:8080/",
          "height": 359
        },
        "id": "q7EF0gzyRlR7",
        "outputId": "1e9f2ff9-9550-4474-988c-f5e14f169c85"
      },
      "source": [
        "#비매매 제외\n",
        "plt.bar(['건설','금융','기계', '방송/통신', '서비스/오락/문화', '운송/운수', '유통', '의료/의약', '전기/전자', '제조', '철강', '화학', 'IT', '기타', '혼합'], \n",
        "        g9.iloc[0:-1])\n",
        "plt.title('주거래업종별 주식 보유기간 평균', fontsize=13)\n",
        "plt.xlabel('주거래업종', fontsize=12)\n",
        "plt.ylabel('주식보유기간', fontsize=12)\n",
        "plt.xticks(rotation=90)\n",
        "plt.show()"
      ],
      "execution_count": null,
      "outputs": [
        {
          "output_type": "display_data",
          "data": {
            "image/png": "[encoded data removed]",
            "text/plain": [
              "<Figure size 432x288 with 1 Axes>"
            ]
          },
          "metadata": {
            "needs_background": "light"
          }
        }
      ]
    },
    {
      "cell_type": "code",
      "metadata": {
        "id": "NSP3C-l5Xd4V"
      },
      "source": [
        "#종목정보와 보유기간"
      ],
      "execution_count": null,
      "outputs": []
    },
    {
      "cell_type": "code",
      "metadata": {
        "id": "Kr3nlHuu_3fH"
      },
      "source": [
        "#종목업종\n",
        "grouped10 = df['hold_d'].groupby(df['btp_cfc_cd'])"
      ],
      "execution_count": null,
      "outputs": []
    },
    {
      "cell_type": "code",
      "metadata": {
        "colab": {
          "base_uri": "https://localhost:8080/"
        },
        "id": "AytbhlfaEQCK",
        "outputId": "b29182fe-9aaf-4355-d90c-18748dd83fb9"
      },
      "source": [
        "g10 = grouped10.mean()\n",
        "g10\n",
        "# 01: 건설\n",
        "# 02: 금융\n",
        "# 03: 기계\n",
        "# 04: 통신\n",
        "# 05: 서비스\n",
        "# 06: 운송\n",
        "# 07: 유통\n",
        "# 08: 의료\n",
        "# 09: 전기\n",
        "# 10: 제조\n",
        "# 11: 철강\n",
        "# 12: 화학\n",
        "# 13: IT\n",
        "# 14: 기타 \n",
        "\n",
        "#금융업이 보유 기간이 가장 길었고, 제조업이 보유 기간이 가장 짧았다. (주거래종목과 종목업종 모두 제조업이 보유 기간이 가장 짧았다.)"
      ],
      "execution_count": null,
      "outputs": [
        {
          "output_type": "execute_result",
          "data": {
            "text/plain": [
              "btp_cfc_cd\n",
              "1     23.279391\n",
              "2     24.073829\n",
              "3     18.775071\n",
              "4     22.886292\n",
              "5     19.234180\n",
              "6     21.188254\n",
              "7     19.983106\n",
              "8     17.620062\n",
              "9     25.139455\n",
              "10    16.920504\n",
              "11    20.070686\n",
              "12    21.796607\n",
              "13    17.978619\n",
              "14    23.022491\n",
              "Name: hold_d, dtype: float64"
            ]
          },
          "metadata": {},
          "execution_count": 49
        }
      ]
    },
    {
      "cell_type": "code",
      "metadata": {
        "colab": {
          "base_uri": "https://localhost:8080/",
          "height": 313
        },
        "id": "1VoZmqqVOYXm",
        "outputId": "b1e77b54-db71-4078-d962-bc3f1824e815"
      },
      "source": [
        "plt.bar(['건설','금융','기계', '통신', '서비스', '운송', '유통', '의료', '전기', '제조', '철강', '화학', 'IT', '기타'], g10)\n",
        "plt.title('종목업종별 주식 보유기간 평균', fontsize=13)\n",
        "plt.xlabel('종목업종', fontsize=12)\n",
        "plt.ylabel('주식보유기간', fontsize=12)\n",
        "plt.xticks(rotation=45)\n",
        "plt.show()"
      ],
      "execution_count": null,
      "outputs": [
        {
          "output_type": "display_data",
          "data": {
            "image/png": "[encoded data removed]",
            "text/plain": [
              "<Figure size 432x288 with 1 Axes>"
            ]
          },
          "metadata": {
            "needs_background": "light"
          }
        }
      ]
    },
    {
      "cell_type": "code",
      "metadata": {
        "id": "Qx1pYIilEb3c"
      },
      "source": [
        "#시가총액규모유형\n",
        "grouped11 = df['hold_d'].groupby(df['mkt_pr_tal_scl_tp_cd'])"
      ],
      "execution_count": null,
      "outputs": []
    },
    {
      "cell_type": "code",
      "metadata": {
        "colab": {
          "base_uri": "https://localhost:8080/"
        },
        "id": "jaRAMnQfFB_V",
        "outputId": "bf3ebb21-bb37-460e-f52e-3a797add8de8"
      },
      "source": [
        "g11 = grouped11.mean()\n",
        "g11\n",
        "\n",
        "# 01: 대형주\n",
        "# 02: 중형주\n",
        "# 03: 소형주\n",
        "# 99: 기타\n",
        "\n",
        "# 기타를 제외하고 대형주 - 소형주 - 중형주 순으로 보유기간이 길었다."
      ],
      "execution_count": null,
      "outputs": [
        {
          "output_type": "execute_result",
          "data": {
            "text/plain": [
              "mkt_pr_tal_scl_tp_cd\n",
              "1     21.806781\n",
              "2     17.723997\n",
              "3     18.832883\n",
              "99    24.489067\n",
              "Name: hold_d, dtype: float64"
            ]
          },
          "metadata": {},
          "execution_count": 52
        }
      ]
    },
    {
      "cell_type": "code",
      "metadata": {
        "colab": {
          "base_uri": "https://localhost:8080/",
          "height": 296
        },
        "id": "wMTErrLPNVYk",
        "outputId": "140d7e84-0efc-4d7e-bab1-508879775cdb"
      },
      "source": [
        "plt.bar(['대형주','중형주','소형주'], g11[:-1])\n",
        "plt.title('시가총액규모별 주식 보유기간 평균', fontsize=13)\n",
        "plt.xlabel('시가총액규모', fontsize=12)\n",
        "plt.ylabel('주식보유기간', fontsize=12)\n",
        "plt.show()"
      ],
      "execution_count": null,
      "outputs": [
        {
          "output_type": "display_data",
          "data": {
            "image/png": "[encoded data removed]",
            "text/plain": [
              "<Figure size 432x288 with 1 Axes>"
            ]
          },
          "metadata": {
            "needs_background": "light"
          }
        }
      ]
    },
    {
      "cell_type": "code",
      "metadata": {
        "id": "aJ2rZxm7FWht"
      },
      "source": [
        "#시장구분\n",
        "grouped12 = df['hold_d'].groupby(df['stk_dit_cd'])"
      ],
      "execution_count": null,
      "outputs": []
    },
    {
      "cell_type": "code",
      "metadata": {
        "colab": {
          "base_uri": "https://localhost:8080/"
        },
        "id": "VaL22inbHZVA",
        "outputId": "9e8e8274-30d6-4eb5-d3ec-d25b3e3b32c3"
      },
      "source": [
        "g12 = grouped12.mean()\n",
        "g12\n",
        "\n",
        "# 01: 코스피200\n",
        "# 02: 코스닥150\n",
        "# 99: 기타\n",
        "\n",
        "#코스닥보단 코스피가 보유기간이 더 길었다."
      ],
      "execution_count": null,
      "outputs": [
        {
          "output_type": "execute_result",
          "data": {
            "text/plain": [
              "stk_dit_cd\n",
              "1     23.651185\n",
              "2     17.527725\n",
              "99    18.633837\n",
              "Name: hold_d, dtype: float64"
            ]
          },
          "metadata": {},
          "execution_count": 55
        }
      ]
    },
    {
      "cell_type": "code",
      "metadata": {
        "colab": {
          "base_uri": "https://localhost:8080/",
          "height": 296
        },
        "id": "Yh7xtSfRHeKU",
        "outputId": "743d8bb9-314a-4d95-93c3-8f43f8a2dd29"
      },
      "source": [
        "plt.bar(['코스피','코스닥','기타'], g12)\n",
        "plt.title('시장구분별 주식 보유기간 평균', fontsize=13)\n",
        "plt.xlabel('시장구분', fontsize=12)\n",
        "plt.ylabel('주식보유기간', fontsize=12)\n",
        "plt.show()"
      ],
      "execution_count": null,
      "outputs": [
        {
          "output_type": "display_data",
          "data": {
            "image/png": "[encoded data removed]",
            "text/plain": [
              "<Figure size 432x288 with 1 Axes>"
            ]
          },
          "metadata": {
            "needs_background": "light"
          }
        }
      ]
    },
    {
      "cell_type": "code",
      "metadata": {
        "id": "ktOFV1w5GJX6"
      },
      "source": [
        ""
      ],
      "execution_count": null,
      "outputs": []
    }
  ]
}